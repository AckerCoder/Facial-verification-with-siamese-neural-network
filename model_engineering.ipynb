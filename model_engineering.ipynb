{
  "nbformat": 4,
  "nbformat_minor": 0,
  "metadata": {
    "colab": {
      "provenance": [],
      "gpuType": "T4"
    },
    "kernelspec": {
      "name": "python3",
      "display_name": "Python 3"
    },
    "language_info": {
      "name": "python"
    },
    "accelerator": "GPU"
  },
  "cells": [
    {
      "cell_type": "markdown",
      "source": [
        "# Importing Libraries"
      ],
      "metadata": {
        "id": "scxn9c6HcBiw"
      }
    },
    {
      "cell_type": "code",
      "execution_count": null,
      "metadata": {
        "id": "caoZtJJ_be3Y"
      },
      "outputs": [],
      "source": [
        "import cv2\n",
        "import os\n",
        "import random\n",
        "import numpy as np\n",
        "from matplotlib import pyplot as plt\n",
        "\n",
        "import tensorflow as tf\n",
        "\n",
        "\n",
        "# from tensorflow.keras.models import Model\n",
        "Model = tf.keras.models.Model\n",
        "Layer = tf.keras.layers.Layer\n",
        "Conv2D = tf.keras.layers.Conv2D\n",
        "Dense = tf.keras.layers.Dense\n",
        "MaxPooling2D = tf.keras.layers.MaxPooling2D\n",
        "Input = tf.keras.layers.Input\n",
        "Flatten = tf.keras.layers.Flatten"
      ]
    },
    {
      "cell_type": "markdown",
      "source": [
        "#Connect my Drive"
      ],
      "metadata": {
        "id": "vy5Ae58-Ynvg"
      }
    },
    {
      "cell_type": "code",
      "source": [
        "from google.colab import drive\n",
        "drive.mount('/content/drive/')"
      ],
      "metadata": {
        "colab": {
          "base_uri": "https://localhost:8080/"
        },
        "id": "YfYdDk_NYmtC",
        "outputId": "61880d4b-9f50-4061-aec1-fca5f85b4ded"
      },
      "execution_count": null,
      "outputs": [
        {
          "output_type": "stream",
          "name": "stdout",
          "text": [
            "Mounted at /content/drive/\n"
          ]
        }
      ]
    },
    {
      "cell_type": "markdown",
      "source": [
        "# Samples Configuration"
      ],
      "metadata": {
        "id": "oHb8Xbe-aK4G"
      }
    },
    {
      "cell_type": "code",
      "source": [
        "POS_PATH = os.path.join('drive', 'MyDrive', 'face_x','data', 'positive')\n",
        "NEG_PATH = os.path.join('drive', 'MyDrive', 'face_x','data', 'negative')\n",
        "ANC_PATH = os.path.join('drive', 'MyDrive', 'face_x','data', 'anchor')\n",
        "\n",
        "lfw_PATH = os.path.join('drive', 'MyDrive', 'face_x', 'lfw')\n",
        "\n",
        "print(POS_PATH)\n",
        "print(NEG_PATH)\n",
        "print(ANC_PATH)\n",
        "print(lfw_PATH)"
      ],
      "metadata": {
        "colab": {
          "base_uri": "https://localhost:8080/"
        },
        "id": "4WFZ8EvMZjwd",
        "outputId": "d4e064b5-d95f-43fb-92e1-7b69a5ddaff6"
      },
      "execution_count": null,
      "outputs": [
        {
          "output_type": "stream",
          "name": "stdout",
          "text": [
            "drive/MyDrive/face_x/data/positive\n",
            "drive/MyDrive/face_x/data/negative\n",
            "drive/MyDrive/face_x/data/anchor\n",
            "drive/MyDrive/face_x/lfw\n"
          ]
        }
      ]
    },
    {
      "cell_type": "code",
      "source": [
        "# for path in [POS_PATH, NEG_PATH, ANC_PATH]:\n",
        "#     os.makedirs(path, exist_ok=True)\n",
        "\n",
        "# # Process files\n",
        "# for directory in os.listdir(lfw_PATH):\n",
        "#     dir_path = os.path.join(lfw_PATH, directory)\n",
        "#     if os.path.isdir(dir_path):  # Check if it is a directory\n",
        "#         for file in os.listdir(dir_path):\n",
        "#             EX_PATH = os.path.join(dir_path, file)\n",
        "#             NEG_FILE_PATH = os.path.join(NEG_PATH, file)\n",
        "#             os.replace(EX_PATH, NEG_FILE_PATH)"
      ],
      "metadata": {
        "id": "ivY79IshcOTV"
      },
      "execution_count": null,
      "outputs": []
    },
    {
      "cell_type": "code",
      "source": [
        "# # Import standard dependencies\n",
        "# import cv2\n",
        "# import os\n",
        "# import random\n",
        "# import numpy as np\n",
        "# from matplotlib import pyplot as plt\n",
        "# import uuid\n",
        "\n",
        "\n",
        "# POS_PATH = os.path.join('data', 'positive')\n",
        "# NEG_PATH = os.path.join('data', 'negative')\n",
        "# ANC_PATH = os.path.join('data', 'anchor')\n",
        "\n",
        "\n",
        "# import uuid\n",
        "# os.path.join(ANC_PATH, '{}.jpg'.format(uuid.uuid1()))\n",
        "\n",
        "# # Establish a connection to the webcam\n",
        "# cap = cv2.VideoCapture(0)\n",
        "# while cap.isOpened():\n",
        "#     ret, frame = cap.read()\n",
        "\n",
        "#     # Cut down frame to 250x250px\n",
        "#     frame = frame[120:120+250,200:200+250, :]\n",
        "\n",
        "#     # Collect anchors\n",
        "#     if cv2.waitKey(1) & 0XFF == ord('a'):\n",
        "#         # Create the unique file path\n",
        "#         imgname = os.path.join(ANC_PATH, '{}.jpg'.format(uuid.uuid1()))\n",
        "#         # Write out anchor image\n",
        "#         cv2.imwrite(imgname, frame)\n",
        "\n",
        "#     # Collect positives\n",
        "#     if cv2.waitKey(1) & 0XFF == ord('p'):\n",
        "#         # Create the unique file path\n",
        "#         imgname = os.path.join(POS_PATH, '{}.jpg'.format(uuid.uuid1()))\n",
        "#         # Write out positive image\n",
        "#         cv2.imwrite(imgname, frame)\n",
        "\n",
        "#     # Show image back to screen\n",
        "#     cv2.imshow('Image Collection', frame)\n",
        "\n",
        "#     # Breaking gracefully\n",
        "#     if cv2.waitKey(1) & 0XFF == ord('q'):\n",
        "#         break\n",
        "\n",
        "# # Release the webcam\n",
        "# cap.release()\n",
        "# # Close the image show frame\n",
        "# cv2.destroyAllWindows()\n"
      ],
      "metadata": {
        "id": "Z71ZMDLDsZl2"
      },
      "execution_count": null,
      "outputs": []
    },
    {
      "cell_type": "markdown",
      "source": [
        "#Set GPU Growth"
      ],
      "metadata": {
        "id": "9y_kt1_XcFrJ"
      }
    },
    {
      "cell_type": "code",
      "source": [
        "gpus = tf.config.experimental.list_physical_devices('GPU')\n",
        "for gpu in gpus:\n",
        "    tf.config.experimental.set_memory_growth(gpu, True)\n",
        "gpus"
      ],
      "metadata": {
        "colab": {
          "base_uri": "https://localhost:8080/"
        },
        "id": "w53Eg1AEcHr_",
        "outputId": "b0b80ee7-56d0-484e-8eee-d2b0cfcd2c70"
      },
      "execution_count": null,
      "outputs": [
        {
          "output_type": "execute_result",
          "data": {
            "text/plain": [
              "[]"
            ]
          },
          "metadata": {},
          "execution_count": 23
        }
      ]
    },
    {
      "cell_type": "markdown",
      "source": [
        "#Ingesting data\n",
        "Aca recolectamos 300 imagenes de cada grupo:\n",
        "- Anchor.- Imagen que queremos analizar.\n",
        "- Positive.- Ejemplo del mismo tipo al anchor.\n",
        "- Negative.- Ejemplo de un tipo diferente al anchor.\n",
        "\n",
        "Las fotos de anchor y positive seran reprensentadas por mi belleza y los negativos son fotos de un dataset de figuras publicas."
      ],
      "metadata": {
        "id": "ayBG2MqUedyI"
      }
    },
    {
      "cell_type": "code",
      "source": [
        "anchor = tf.data.Dataset.list_files(ANC_PATH+'/*.jpg').take(300)\n",
        "positive = tf.data.Dataset.list_files(POS_PATH+'/*.jpg').take(300)\n",
        "negative = tf.data.Dataset.list_files(NEG_PATH+'/*.jpg').take(300)"
      ],
      "metadata": {
        "id": "n1pYKdaTecIj"
      },
      "execution_count": null,
      "outputs": []
    },
    {
      "cell_type": "code",
      "source": [
        "dir_test = anchor.as_numpy_iterator()\n",
        "print(dir_test.next())"
      ],
      "metadata": {
        "colab": {
          "base_uri": "https://localhost:8080/"
        },
        "id": "Tj4rQqUKe_Da",
        "outputId": "00046255-2034-47a1-b5d9-3e211e5bc313"
      },
      "execution_count": null,
      "outputs": [
        {
          "output_type": "stream",
          "name": "stdout",
          "text": [
            "b'drive/MyDrive/face_x/data/anchor/29a4e3f4-a839-11ef-9425-d8bbc14f9174.jpg'\n"
          ]
        }
      ]
    },
    {
      "cell_type": "markdown",
      "source": [
        "#Preprocessing - Scale and Resize\n",
        "Aca hacemos un escalamiento y modificacion del tamaño de las imagenes de input."
      ],
      "metadata": {
        "id": "9GVIt7HtfTDT"
      }
    },
    {
      "cell_type": "code",
      "source": [
        "def preprocess(file_path):\n",
        "\n",
        "    # Read in image from file path\n",
        "    byte_img = tf.io.read_file(file_path)\n",
        "    # Load in the image\n",
        "    img = tf.io.decode_jpeg(byte_img)\n",
        "\n",
        "    # Preprocessing steps - resizing the image to be 100x100x3\n",
        "    img = tf.image.resize(img, (100,100))\n",
        "    # Scale image to be between 0 and 1\n",
        "    img = img / 255.0\n",
        "\n",
        "    # Return image\n",
        "    return img"
      ],
      "metadata": {
        "id": "JvoVLoyPfRzm"
      },
      "execution_count": null,
      "outputs": []
    },
    {
      "cell_type": "code",
      "source": [
        "img = preprocess('drive/MyDrive/face_x/data/anchor/2abd8929-a839-11ef-be25-d8bbc14f9174.jpg')\n",
        "print(img.numpy().max())\n",
        "plt.imshow(img)\n"
      ],
      "metadata": {
        "id": "OgG03Q4MfaU4"
      },
      "execution_count": null,
      "outputs": []
    },
    {
      "cell_type": "markdown",
      "source": [],
      "metadata": {
        "id": "mCPrnxCUfegC"
      }
    },
    {
      "cell_type": "markdown",
      "source": [
        "#Labelling Dataset"
      ],
      "metadata": {
        "id": "n3G7BGcNgXwQ"
      }
    },
    {
      "cell_type": "markdown",
      "source": [
        "Aca lo que hacemos es empezar a etiquetar nuestros datasets, los positivos con 1s y los negativos con 0s. Estos ahora los concatenamos."
      ],
      "metadata": {
        "id": "QFJCsTPDkJfs"
      }
    },
    {
      "cell_type": "code",
      "source": [
        "positives = tf.data.Dataset.zip((anchor, positive, tf.data.Dataset.from_tensor_slices(tf.ones(len(anchor)))))\n",
        "negatives = tf.data.Dataset.zip((anchor, negative, tf.data.Dataset.from_tensor_slices(tf.zeros(len(anchor)))))\n",
        "data = positives.concatenate(negatives)"
      ],
      "metadata": {
        "id": "59CRv7w2gakH"
      },
      "execution_count": null,
      "outputs": []
    },
    {
      "cell_type": "code",
      "source": [
        "samples = data.as_numpy_iterator()\n",
        "exampple = samples.next()\n",
        "print(exampple)\n",
        "#print(*exampple)"
      ],
      "metadata": {
        "colab": {
          "base_uri": "https://localhost:8080/"
        },
        "id": "UcW5OA3DgnXi",
        "outputId": "1e2b9a11-1331-47b5-fcb4-4631ba8a4790"
      },
      "execution_count": null,
      "outputs": [
        {
          "output_type": "stream",
          "name": "stdout",
          "text": [
            "(b'drive/MyDrive/face_x/data/anchor/1a84bcfa-a839-11ef-8588-d8bbc14f9174.jpg', b'drive/MyDrive/face_x/data/positive/ffdc6fd6-a838-11ef-b78e-d8bbc14f9174.jpg', 1.0)\n"
          ]
        }
      ]
    },
    {
      "cell_type": "markdown",
      "source": [
        "#Build Train and Test Partition"
      ],
      "metadata": {
        "id": "B-vGmxOIg2vI"
      }
    },
    {
      "cell_type": "code",
      "source": [
        "def preprocess_twin(input_img, validation_img, label):\n",
        "    return(preprocess(input_img), preprocess(validation_img), label)"
      ],
      "metadata": {
        "id": "qwtakM4Xg5T1"
      },
      "execution_count": null,
      "outputs": []
    },
    {
      "cell_type": "code",
      "source": [
        "res = preprocess_twin(*exampple)\n",
        "plt.imshow(res[1])\n",
        "print((res[2]))"
      ],
      "metadata": {
        "id": "qaYIAHXlg7bA"
      },
      "execution_count": null,
      "outputs": []
    },
    {
      "cell_type": "markdown",
      "source": [
        "- Ya teniendo nuestra data como un par: [(( imagenes anchor, imagenes positivas,  1), (imagenes positivas, imagenes negativas, 0))]\n",
        "\n",
        "- Seguidamente procederemos a que cada para cada par se procese la funcion `preprocess_twin`\n",
        "\n",
        "- Ya teniendo estos valores preprocesados hacemos el shuffle para evitar patrones en nuestro entrenamiento.\n",
        "\n"
      ],
      "metadata": {
        "id": "-4fVt9dilEfp"
      }
    },
    {
      "cell_type": "code",
      "source": [
        "# Build dataloader pipeline\n",
        "data = data.map(preprocess_twin)\n",
        "data = data.cache()\n",
        "data = data.shuffle(buffer_size=1024)"
      ],
      "metadata": {
        "id": "QnAe38p0hUfz"
      },
      "execution_count": null,
      "outputs": []
    },
    {
      "cell_type": "markdown",
      "source": [
        "- Tomamos el 70% de los datos.\n",
        "- Agrupamos los datos en lotes de 16 elementos. Paralelo.\n",
        "- Prepara 8 lotes en memoria, mientras entrenamos el lote actual.(minimiza la espera)"
      ],
      "metadata": {
        "id": "Xb5wOUZdtBS7"
      }
    },
    {
      "cell_type": "code",
      "source": [
        "# Training partition\n",
        "train_data = data.take(round(len(data)*.7))\n",
        "train_data = train_data.batch(16)\n",
        "train_data = train_data.prefetch(8)"
      ],
      "metadata": {
        "id": "rb7B7jRHsuZw"
      },
      "execution_count": null,
      "outputs": []
    },
    {
      "cell_type": "markdown",
      "source": [
        "- Omitimos el 70% de los primeros datos.... dado esto, ahora tenemos el 30% que no procesamos anteriormente.\n",
        "- Reafirmamos que solo tomaremos el 30% de los datos... esto es redundante.\n",
        "- Agrupamos los datos en lotes de 16.\n"
      ],
      "metadata": {
        "id": "Pv6bShcHthZ8"
      }
    },
    {
      "cell_type": "code",
      "source": [
        "# Testing partition\n",
        "test_data = data.skip(round(len(data)*.7))\n",
        "test_data = test_data.take(round(len(data)*.3))\n",
        "test_data = test_data.batch(16)\n",
        "test_data = test_data.prefetch(8)"
      ],
      "metadata": {
        "id": "Y83OuqXxsrjO"
      },
      "execution_count": null,
      "outputs": []
    },
    {
      "cell_type": "markdown",
      "source": [
        "#Model Engineering"
      ],
      "metadata": {
        "id": "59dqPOSAiO62"
      }
    },
    {
      "cell_type": "code",
      "source": [
        "inp = Input(shape=(100,100,3), name='input_image')"
      ],
      "metadata": {
        "id": "J23g5dMRiSuI"
      },
      "execution_count": null,
      "outputs": []
    },
    {
      "cell_type": "code",
      "source": [
        "c1 = Conv2D(64, (10,10), activation='relu')(inp)"
      ],
      "metadata": {
        "id": "COrFTgRqiatB"
      },
      "execution_count": null,
      "outputs": []
    },
    {
      "cell_type": "code",
      "source": [
        "m1 = MaxPooling2D(64, (2,2), padding='same')(c1)\n"
      ],
      "metadata": {
        "id": "XEpRPX25iemK"
      },
      "execution_count": null,
      "outputs": []
    },
    {
      "cell_type": "code",
      "source": [
        "c2 = Conv2D(128, (7,7), activation='relu')(m1)\n",
        "m2 = MaxPooling2D(64, (2,2), padding='same')(c2)"
      ],
      "metadata": {
        "id": "InrCL4Ntihhy"
      },
      "execution_count": null,
      "outputs": []
    },
    {
      "cell_type": "code",
      "source": [
        "c3 = Conv2D(128, (4,4), activation='relu')(m2)\n",
        "m3 = MaxPooling2D(64, (2,2), padding='same')(c3)"
      ],
      "metadata": {
        "id": "TMR0EPTzij4Q"
      },
      "execution_count": null,
      "outputs": []
    },
    {
      "cell_type": "code",
      "source": [
        "c4 = Conv2D(256, (4,4), activation='relu')(m3)\n",
        "f1 = Flatten()(c4)\n",
        "d1 = Dense(4096, activation='sigmoid')(f1)"
      ],
      "metadata": {
        "id": "tT9OP7B3ila0"
      },
      "execution_count": null,
      "outputs": []
    },
    {
      "cell_type": "code",
      "source": [
        "mod = Model(inputs=[inp], outputs=[d1], name='embedding')"
      ],
      "metadata": {
        "id": "bgN9o5mviopc"
      },
      "execution_count": null,
      "outputs": []
    },
    {
      "cell_type": "code",
      "source": [
        "mod.summary()\n"
      ],
      "metadata": {
        "colab": {
          "base_uri": "https://localhost:8080/",
          "height": 459
        },
        "id": "vAvcxS8ciqhQ",
        "outputId": "d8d066ef-0bb5-4df4-8920-d32d0faf6295"
      },
      "execution_count": null,
      "outputs": [
        {
          "output_type": "display_data",
          "data": {
            "text/plain": [
              "\u001b[1mModel: \"embedding\"\u001b[0m\n"
            ],
            "text/html": [
              "<pre style=\"white-space:pre;overflow-x:auto;line-height:normal;font-family:Menlo,'DejaVu Sans Mono',consolas,'Courier New',monospace\"><span style=\"font-weight: bold\">Model: \"embedding\"</span>\n",
              "</pre>\n"
            ]
          },
          "metadata": {}
        },
        {
          "output_type": "display_data",
          "data": {
            "text/plain": [
              "┏━━━━━━━━━━━━━━━━━━━━━━━━━━━━━━━━━━━━━━┳━━━━━━━━━━━━━━━━━━━━━━━━━━━━━┳━━━━━━━━━━━━━━━━━┓\n",
              "┃\u001b[1m \u001b[0m\u001b[1mLayer (type)                        \u001b[0m\u001b[1m \u001b[0m┃\u001b[1m \u001b[0m\u001b[1mOutput Shape               \u001b[0m\u001b[1m \u001b[0m┃\u001b[1m \u001b[0m\u001b[1m        Param #\u001b[0m\u001b[1m \u001b[0m┃\n",
              "┡━━━━━━━━━━━━━━━━━━━━━━━━━━━━━━━━━━━━━━╇━━━━━━━━━━━━━━━━━━━━━━━━━━━━━╇━━━━━━━━━━━━━━━━━┩\n",
              "│ input_image (\u001b[38;5;33mInputLayer\u001b[0m)             │ (\u001b[38;5;45mNone\u001b[0m, \u001b[38;5;34m100\u001b[0m, \u001b[38;5;34m100\u001b[0m, \u001b[38;5;34m3\u001b[0m)         │               \u001b[38;5;34m0\u001b[0m │\n",
              "├──────────────────────────────────────┼─────────────────────────────┼─────────────────┤\n",
              "│ conv2d (\u001b[38;5;33mConv2D\u001b[0m)                      │ (\u001b[38;5;45mNone\u001b[0m, \u001b[38;5;34m91\u001b[0m, \u001b[38;5;34m91\u001b[0m, \u001b[38;5;34m64\u001b[0m)          │          \u001b[38;5;34m19,264\u001b[0m │\n",
              "├──────────────────────────────────────┼─────────────────────────────┼─────────────────┤\n",
              "│ max_pooling2d (\u001b[38;5;33mMaxPooling2D\u001b[0m)         │ (\u001b[38;5;45mNone\u001b[0m, \u001b[38;5;34m46\u001b[0m, \u001b[38;5;34m46\u001b[0m, \u001b[38;5;34m64\u001b[0m)          │               \u001b[38;5;34m0\u001b[0m │\n",
              "├──────────────────────────────────────┼─────────────────────────────┼─────────────────┤\n",
              "│ conv2d_1 (\u001b[38;5;33mConv2D\u001b[0m)                    │ (\u001b[38;5;45mNone\u001b[0m, \u001b[38;5;34m40\u001b[0m, \u001b[38;5;34m40\u001b[0m, \u001b[38;5;34m128\u001b[0m)         │         \u001b[38;5;34m401,536\u001b[0m │\n",
              "├──────────────────────────────────────┼─────────────────────────────┼─────────────────┤\n",
              "│ max_pooling2d_1 (\u001b[38;5;33mMaxPooling2D\u001b[0m)       │ (\u001b[38;5;45mNone\u001b[0m, \u001b[38;5;34m20\u001b[0m, \u001b[38;5;34m20\u001b[0m, \u001b[38;5;34m128\u001b[0m)         │               \u001b[38;5;34m0\u001b[0m │\n",
              "├──────────────────────────────────────┼─────────────────────────────┼─────────────────┤\n",
              "│ conv2d_2 (\u001b[38;5;33mConv2D\u001b[0m)                    │ (\u001b[38;5;45mNone\u001b[0m, \u001b[38;5;34m17\u001b[0m, \u001b[38;5;34m17\u001b[0m, \u001b[38;5;34m128\u001b[0m)         │         \u001b[38;5;34m262,272\u001b[0m │\n",
              "├──────────────────────────────────────┼─────────────────────────────┼─────────────────┤\n",
              "│ max_pooling2d_2 (\u001b[38;5;33mMaxPooling2D\u001b[0m)       │ (\u001b[38;5;45mNone\u001b[0m, \u001b[38;5;34m9\u001b[0m, \u001b[38;5;34m9\u001b[0m, \u001b[38;5;34m128\u001b[0m)           │               \u001b[38;5;34m0\u001b[0m │\n",
              "├──────────────────────────────────────┼─────────────────────────────┼─────────────────┤\n",
              "│ conv2d_3 (\u001b[38;5;33mConv2D\u001b[0m)                    │ (\u001b[38;5;45mNone\u001b[0m, \u001b[38;5;34m6\u001b[0m, \u001b[38;5;34m6\u001b[0m, \u001b[38;5;34m256\u001b[0m)           │         \u001b[38;5;34m524,544\u001b[0m │\n",
              "├──────────────────────────────────────┼─────────────────────────────┼─────────────────┤\n",
              "│ flatten (\u001b[38;5;33mFlatten\u001b[0m)                    │ (\u001b[38;5;45mNone\u001b[0m, \u001b[38;5;34m9216\u001b[0m)                │               \u001b[38;5;34m0\u001b[0m │\n",
              "├──────────────────────────────────────┼─────────────────────────────┼─────────────────┤\n",
              "│ dense (\u001b[38;5;33mDense\u001b[0m)                        │ (\u001b[38;5;45mNone\u001b[0m, \u001b[38;5;34m4096\u001b[0m)                │      \u001b[38;5;34m37,752,832\u001b[0m │\n",
              "└──────────────────────────────────────┴─────────────────────────────┴─────────────────┘\n"
            ],
            "text/html": [
              "<pre style=\"white-space:pre;overflow-x:auto;line-height:normal;font-family:Menlo,'DejaVu Sans Mono',consolas,'Courier New',monospace\">┏━━━━━━━━━━━━━━━━━━━━━━━━━━━━━━━━━━━━━━┳━━━━━━━━━━━━━━━━━━━━━━━━━━━━━┳━━━━━━━━━━━━━━━━━┓\n",
              "┃<span style=\"font-weight: bold\"> Layer (type)                         </span>┃<span style=\"font-weight: bold\"> Output Shape                </span>┃<span style=\"font-weight: bold\">         Param # </span>┃\n",
              "┡━━━━━━━━━━━━━━━━━━━━━━━━━━━━━━━━━━━━━━╇━━━━━━━━━━━━━━━━━━━━━━━━━━━━━╇━━━━━━━━━━━━━━━━━┩\n",
              "│ input_image (<span style=\"color: #0087ff; text-decoration-color: #0087ff\">InputLayer</span>)             │ (<span style=\"color: #00d7ff; text-decoration-color: #00d7ff\">None</span>, <span style=\"color: #00af00; text-decoration-color: #00af00\">100</span>, <span style=\"color: #00af00; text-decoration-color: #00af00\">100</span>, <span style=\"color: #00af00; text-decoration-color: #00af00\">3</span>)         │               <span style=\"color: #00af00; text-decoration-color: #00af00\">0</span> │\n",
              "├──────────────────────────────────────┼─────────────────────────────┼─────────────────┤\n",
              "│ conv2d (<span style=\"color: #0087ff; text-decoration-color: #0087ff\">Conv2D</span>)                      │ (<span style=\"color: #00d7ff; text-decoration-color: #00d7ff\">None</span>, <span style=\"color: #00af00; text-decoration-color: #00af00\">91</span>, <span style=\"color: #00af00; text-decoration-color: #00af00\">91</span>, <span style=\"color: #00af00; text-decoration-color: #00af00\">64</span>)          │          <span style=\"color: #00af00; text-decoration-color: #00af00\">19,264</span> │\n",
              "├──────────────────────────────────────┼─────────────────────────────┼─────────────────┤\n",
              "│ max_pooling2d (<span style=\"color: #0087ff; text-decoration-color: #0087ff\">MaxPooling2D</span>)         │ (<span style=\"color: #00d7ff; text-decoration-color: #00d7ff\">None</span>, <span style=\"color: #00af00; text-decoration-color: #00af00\">46</span>, <span style=\"color: #00af00; text-decoration-color: #00af00\">46</span>, <span style=\"color: #00af00; text-decoration-color: #00af00\">64</span>)          │               <span style=\"color: #00af00; text-decoration-color: #00af00\">0</span> │\n",
              "├──────────────────────────────────────┼─────────────────────────────┼─────────────────┤\n",
              "│ conv2d_1 (<span style=\"color: #0087ff; text-decoration-color: #0087ff\">Conv2D</span>)                    │ (<span style=\"color: #00d7ff; text-decoration-color: #00d7ff\">None</span>, <span style=\"color: #00af00; text-decoration-color: #00af00\">40</span>, <span style=\"color: #00af00; text-decoration-color: #00af00\">40</span>, <span style=\"color: #00af00; text-decoration-color: #00af00\">128</span>)         │         <span style=\"color: #00af00; text-decoration-color: #00af00\">401,536</span> │\n",
              "├──────────────────────────────────────┼─────────────────────────────┼─────────────────┤\n",
              "│ max_pooling2d_1 (<span style=\"color: #0087ff; text-decoration-color: #0087ff\">MaxPooling2D</span>)       │ (<span style=\"color: #00d7ff; text-decoration-color: #00d7ff\">None</span>, <span style=\"color: #00af00; text-decoration-color: #00af00\">20</span>, <span style=\"color: #00af00; text-decoration-color: #00af00\">20</span>, <span style=\"color: #00af00; text-decoration-color: #00af00\">128</span>)         │               <span style=\"color: #00af00; text-decoration-color: #00af00\">0</span> │\n",
              "├──────────────────────────────────────┼─────────────────────────────┼─────────────────┤\n",
              "│ conv2d_2 (<span style=\"color: #0087ff; text-decoration-color: #0087ff\">Conv2D</span>)                    │ (<span style=\"color: #00d7ff; text-decoration-color: #00d7ff\">None</span>, <span style=\"color: #00af00; text-decoration-color: #00af00\">17</span>, <span style=\"color: #00af00; text-decoration-color: #00af00\">17</span>, <span style=\"color: #00af00; text-decoration-color: #00af00\">128</span>)         │         <span style=\"color: #00af00; text-decoration-color: #00af00\">262,272</span> │\n",
              "├──────────────────────────────────────┼─────────────────────────────┼─────────────────┤\n",
              "│ max_pooling2d_2 (<span style=\"color: #0087ff; text-decoration-color: #0087ff\">MaxPooling2D</span>)       │ (<span style=\"color: #00d7ff; text-decoration-color: #00d7ff\">None</span>, <span style=\"color: #00af00; text-decoration-color: #00af00\">9</span>, <span style=\"color: #00af00; text-decoration-color: #00af00\">9</span>, <span style=\"color: #00af00; text-decoration-color: #00af00\">128</span>)           │               <span style=\"color: #00af00; text-decoration-color: #00af00\">0</span> │\n",
              "├──────────────────────────────────────┼─────────────────────────────┼─────────────────┤\n",
              "│ conv2d_3 (<span style=\"color: #0087ff; text-decoration-color: #0087ff\">Conv2D</span>)                    │ (<span style=\"color: #00d7ff; text-decoration-color: #00d7ff\">None</span>, <span style=\"color: #00af00; text-decoration-color: #00af00\">6</span>, <span style=\"color: #00af00; text-decoration-color: #00af00\">6</span>, <span style=\"color: #00af00; text-decoration-color: #00af00\">256</span>)           │         <span style=\"color: #00af00; text-decoration-color: #00af00\">524,544</span> │\n",
              "├──────────────────────────────────────┼─────────────────────────────┼─────────────────┤\n",
              "│ flatten (<span style=\"color: #0087ff; text-decoration-color: #0087ff\">Flatten</span>)                    │ (<span style=\"color: #00d7ff; text-decoration-color: #00d7ff\">None</span>, <span style=\"color: #00af00; text-decoration-color: #00af00\">9216</span>)                │               <span style=\"color: #00af00; text-decoration-color: #00af00\">0</span> │\n",
              "├──────────────────────────────────────┼─────────────────────────────┼─────────────────┤\n",
              "│ dense (<span style=\"color: #0087ff; text-decoration-color: #0087ff\">Dense</span>)                        │ (<span style=\"color: #00d7ff; text-decoration-color: #00d7ff\">None</span>, <span style=\"color: #00af00; text-decoration-color: #00af00\">4096</span>)                │      <span style=\"color: #00af00; text-decoration-color: #00af00\">37,752,832</span> │\n",
              "└──────────────────────────────────────┴─────────────────────────────┴─────────────────┘\n",
              "</pre>\n"
            ]
          },
          "metadata": {}
        },
        {
          "output_type": "display_data",
          "data": {
            "text/plain": [
              "\u001b[1m Total params: \u001b[0m\u001b[38;5;34m38,960,448\u001b[0m (148.62 MB)\n"
            ],
            "text/html": [
              "<pre style=\"white-space:pre;overflow-x:auto;line-height:normal;font-family:Menlo,'DejaVu Sans Mono',consolas,'Courier New',monospace\"><span style=\"font-weight: bold\"> Total params: </span><span style=\"color: #00af00; text-decoration-color: #00af00\">38,960,448</span> (148.62 MB)\n",
              "</pre>\n"
            ]
          },
          "metadata": {}
        },
        {
          "output_type": "display_data",
          "data": {
            "text/plain": [
              "\u001b[1m Trainable params: \u001b[0m\u001b[38;5;34m38,960,448\u001b[0m (148.62 MB)\n"
            ],
            "text/html": [
              "<pre style=\"white-space:pre;overflow-x:auto;line-height:normal;font-family:Menlo,'DejaVu Sans Mono',consolas,'Courier New',monospace\"><span style=\"font-weight: bold\"> Trainable params: </span><span style=\"color: #00af00; text-decoration-color: #00af00\">38,960,448</span> (148.62 MB)\n",
              "</pre>\n"
            ]
          },
          "metadata": {}
        },
        {
          "output_type": "display_data",
          "data": {
            "text/plain": [
              "\u001b[1m Non-trainable params: \u001b[0m\u001b[38;5;34m0\u001b[0m (0.00 B)\n"
            ],
            "text/html": [
              "<pre style=\"white-space:pre;overflow-x:auto;line-height:normal;font-family:Menlo,'DejaVu Sans Mono',consolas,'Courier New',monospace\"><span style=\"font-weight: bold\"> Non-trainable params: </span><span style=\"color: #00af00; text-decoration-color: #00af00\">0</span> (0.00 B)\n",
              "</pre>\n"
            ]
          },
          "metadata": {}
        }
      ]
    },
    {
      "cell_type": "markdown",
      "source": [
        "#Ahora replicaremos la arquitectura de la red neuronal\n",
        "![Screenshot 2024-11-22 at 11.33.23 AM.png](data:image/png;base64,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)"
      ],
      "metadata": {
        "id": "N_gDgvhjuY6y"
      }
    },
    {
      "cell_type": "code",
      "source": [
        "def make_embedding():\n",
        "    # 100x100x in 3 channels\n",
        "    inp = Input(shape=(100,100,3), name='input_image')\n",
        "\n",
        "    # First block\n",
        "    c1 = Conv2D(64, (10,10), activation='relu')(inp) # 64 filters size 10x10\n",
        "    m1 = MaxPooling2D(64, (2,2), padding='same')(c1) # Reduces dimensions groupping 2x2\n",
        "\n",
        "    # Second block\n",
        "    c2 = Conv2D(128, (7,7), activation='relu')(m1)\n",
        "    m2 = MaxPooling2D(64, (2,2), padding='same')(c2)\n",
        "\n",
        "    # Third block\n",
        "    c3 = Conv2D(128, (4,4), activation='relu')(m2)\n",
        "    m3 = MaxPooling2D(64, (2,2), padding='same')(c3)\n",
        "\n",
        "    # Final embedding block\n",
        "    c4 = Conv2D(256, (4,4), activation='relu')(m3)\n",
        "    f1 = Flatten()(c4)\n",
        "    d1 = Dense(4096, activation='sigmoid')(f1) # Reduces vector in 4096 dimensions\n",
        "\n",
        "\n",
        "    return Model(inputs=[inp], outputs=[d1], name='embedding') # Vector of 4096 dimensions, embedding"
      ],
      "metadata": {
        "id": "sp8sDiw2mml7"
      },
      "execution_count": null,
      "outputs": []
    },
    {
      "cell_type": "code",
      "source": [
        "embedding = make_embedding()\n",
        "embedding.summary()\n"
      ],
      "metadata": {
        "colab": {
          "base_uri": "https://localhost:8080/",
          "height": 459
        },
        "id": "9S7_X34bmpu2",
        "outputId": "1e8d8bd3-4651-4880-8fe7-ead06b5e2136"
      },
      "execution_count": null,
      "outputs": [
        {
          "output_type": "display_data",
          "data": {
            "text/plain": [
              "\u001b[1mModel: \"embedding\"\u001b[0m\n"
            ],
            "text/html": [
              "<pre style=\"white-space:pre;overflow-x:auto;line-height:normal;font-family:Menlo,'DejaVu Sans Mono',consolas,'Courier New',monospace\"><span style=\"font-weight: bold\">Model: \"embedding\"</span>\n",
              "</pre>\n"
            ]
          },
          "metadata": {}
        },
        {
          "output_type": "display_data",
          "data": {
            "text/plain": [
              "┏━━━━━━━━━━━━━━━━━━━━━━━━━━━━━━━━━━━━━━┳━━━━━━━━━━━━━━━━━━━━━━━━━━━━━┳━━━━━━━━━━━━━━━━━┓\n",
              "┃\u001b[1m \u001b[0m\u001b[1mLayer (type)                        \u001b[0m\u001b[1m \u001b[0m┃\u001b[1m \u001b[0m\u001b[1mOutput Shape               \u001b[0m\u001b[1m \u001b[0m┃\u001b[1m \u001b[0m\u001b[1m        Param #\u001b[0m\u001b[1m \u001b[0m┃\n",
              "┡━━━━━━━━━━━━━━━━━━━━━━━━━━━━━━━━━━━━━━╇━━━━━━━━━━━━━━━━━━━━━━━━━━━━━╇━━━━━━━━━━━━━━━━━┩\n",
              "│ input_image (\u001b[38;5;33mInputLayer\u001b[0m)             │ (\u001b[38;5;45mNone\u001b[0m, \u001b[38;5;34m100\u001b[0m, \u001b[38;5;34m100\u001b[0m, \u001b[38;5;34m3\u001b[0m)         │               \u001b[38;5;34m0\u001b[0m │\n",
              "├──────────────────────────────────────┼─────────────────────────────┼─────────────────┤\n",
              "│ conv2d (\u001b[38;5;33mConv2D\u001b[0m)                      │ (\u001b[38;5;45mNone\u001b[0m, \u001b[38;5;34m91\u001b[0m, \u001b[38;5;34m91\u001b[0m, \u001b[38;5;34m64\u001b[0m)          │          \u001b[38;5;34m19,264\u001b[0m │\n",
              "├──────────────────────────────────────┼─────────────────────────────┼─────────────────┤\n",
              "│ max_pooling2d (\u001b[38;5;33mMaxPooling2D\u001b[0m)         │ (\u001b[38;5;45mNone\u001b[0m, \u001b[38;5;34m46\u001b[0m, \u001b[38;5;34m46\u001b[0m, \u001b[38;5;34m64\u001b[0m)          │               \u001b[38;5;34m0\u001b[0m │\n",
              "├──────────────────────────────────────┼─────────────────────────────┼─────────────────┤\n",
              "│ conv2d_1 (\u001b[38;5;33mConv2D\u001b[0m)                    │ (\u001b[38;5;45mNone\u001b[0m, \u001b[38;5;34m40\u001b[0m, \u001b[38;5;34m40\u001b[0m, \u001b[38;5;34m128\u001b[0m)         │         \u001b[38;5;34m401,536\u001b[0m │\n",
              "├──────────────────────────────────────┼─────────────────────────────┼─────────────────┤\n",
              "│ max_pooling2d_1 (\u001b[38;5;33mMaxPooling2D\u001b[0m)       │ (\u001b[38;5;45mNone\u001b[0m, \u001b[38;5;34m20\u001b[0m, \u001b[38;5;34m20\u001b[0m, \u001b[38;5;34m128\u001b[0m)         │               \u001b[38;5;34m0\u001b[0m │\n",
              "├──────────────────────────────────────┼─────────────────────────────┼─────────────────┤\n",
              "│ conv2d_2 (\u001b[38;5;33mConv2D\u001b[0m)                    │ (\u001b[38;5;45mNone\u001b[0m, \u001b[38;5;34m17\u001b[0m, \u001b[38;5;34m17\u001b[0m, \u001b[38;5;34m128\u001b[0m)         │         \u001b[38;5;34m262,272\u001b[0m │\n",
              "├──────────────────────────────────────┼─────────────────────────────┼─────────────────┤\n",
              "│ max_pooling2d_2 (\u001b[38;5;33mMaxPooling2D\u001b[0m)       │ (\u001b[38;5;45mNone\u001b[0m, \u001b[38;5;34m9\u001b[0m, \u001b[38;5;34m9\u001b[0m, \u001b[38;5;34m128\u001b[0m)           │               \u001b[38;5;34m0\u001b[0m │\n",
              "├──────────────────────────────────────┼─────────────────────────────┼─────────────────┤\n",
              "│ conv2d_3 (\u001b[38;5;33mConv2D\u001b[0m)                    │ (\u001b[38;5;45mNone\u001b[0m, \u001b[38;5;34m6\u001b[0m, \u001b[38;5;34m6\u001b[0m, \u001b[38;5;34m256\u001b[0m)           │         \u001b[38;5;34m524,544\u001b[0m │\n",
              "├──────────────────────────────────────┼─────────────────────────────┼─────────────────┤\n",
              "│ flatten (\u001b[38;5;33mFlatten\u001b[0m)                    │ (\u001b[38;5;45mNone\u001b[0m, \u001b[38;5;34m9216\u001b[0m)                │               \u001b[38;5;34m0\u001b[0m │\n",
              "├──────────────────────────────────────┼─────────────────────────────┼─────────────────┤\n",
              "│ dense (\u001b[38;5;33mDense\u001b[0m)                        │ (\u001b[38;5;45mNone\u001b[0m, \u001b[38;5;34m4096\u001b[0m)                │      \u001b[38;5;34m37,752,832\u001b[0m │\n",
              "└──────────────────────────────────────┴─────────────────────────────┴─────────────────┘\n"
            ],
            "text/html": [
              "<pre style=\"white-space:pre;overflow-x:auto;line-height:normal;font-family:Menlo,'DejaVu Sans Mono',consolas,'Courier New',monospace\">┏━━━━━━━━━━━━━━━━━━━━━━━━━━━━━━━━━━━━━━┳━━━━━━━━━━━━━━━━━━━━━━━━━━━━━┳━━━━━━━━━━━━━━━━━┓\n",
              "┃<span style=\"font-weight: bold\"> Layer (type)                         </span>┃<span style=\"font-weight: bold\"> Output Shape                </span>┃<span style=\"font-weight: bold\">         Param # </span>┃\n",
              "┡━━━━━━━━━━━━━━━━━━━━━━━━━━━━━━━━━━━━━━╇━━━━━━━━━━━━━━━━━━━━━━━━━━━━━╇━━━━━━━━━━━━━━━━━┩\n",
              "│ input_image (<span style=\"color: #0087ff; text-decoration-color: #0087ff\">InputLayer</span>)             │ (<span style=\"color: #00d7ff; text-decoration-color: #00d7ff\">None</span>, <span style=\"color: #00af00; text-decoration-color: #00af00\">100</span>, <span style=\"color: #00af00; text-decoration-color: #00af00\">100</span>, <span style=\"color: #00af00; text-decoration-color: #00af00\">3</span>)         │               <span style=\"color: #00af00; text-decoration-color: #00af00\">0</span> │\n",
              "├──────────────────────────────────────┼─────────────────────────────┼─────────────────┤\n",
              "│ conv2d (<span style=\"color: #0087ff; text-decoration-color: #0087ff\">Conv2D</span>)                      │ (<span style=\"color: #00d7ff; text-decoration-color: #00d7ff\">None</span>, <span style=\"color: #00af00; text-decoration-color: #00af00\">91</span>, <span style=\"color: #00af00; text-decoration-color: #00af00\">91</span>, <span style=\"color: #00af00; text-decoration-color: #00af00\">64</span>)          │          <span style=\"color: #00af00; text-decoration-color: #00af00\">19,264</span> │\n",
              "├──────────────────────────────────────┼─────────────────────────────┼─────────────────┤\n",
              "│ max_pooling2d (<span style=\"color: #0087ff; text-decoration-color: #0087ff\">MaxPooling2D</span>)         │ (<span style=\"color: #00d7ff; text-decoration-color: #00d7ff\">None</span>, <span style=\"color: #00af00; text-decoration-color: #00af00\">46</span>, <span style=\"color: #00af00; text-decoration-color: #00af00\">46</span>, <span style=\"color: #00af00; text-decoration-color: #00af00\">64</span>)          │               <span style=\"color: #00af00; text-decoration-color: #00af00\">0</span> │\n",
              "├──────────────────────────────────────┼─────────────────────────────┼─────────────────┤\n",
              "│ conv2d_1 (<span style=\"color: #0087ff; text-decoration-color: #0087ff\">Conv2D</span>)                    │ (<span style=\"color: #00d7ff; text-decoration-color: #00d7ff\">None</span>, <span style=\"color: #00af00; text-decoration-color: #00af00\">40</span>, <span style=\"color: #00af00; text-decoration-color: #00af00\">40</span>, <span style=\"color: #00af00; text-decoration-color: #00af00\">128</span>)         │         <span style=\"color: #00af00; text-decoration-color: #00af00\">401,536</span> │\n",
              "├──────────────────────────────────────┼─────────────────────────────┼─────────────────┤\n",
              "│ max_pooling2d_1 (<span style=\"color: #0087ff; text-decoration-color: #0087ff\">MaxPooling2D</span>)       │ (<span style=\"color: #00d7ff; text-decoration-color: #00d7ff\">None</span>, <span style=\"color: #00af00; text-decoration-color: #00af00\">20</span>, <span style=\"color: #00af00; text-decoration-color: #00af00\">20</span>, <span style=\"color: #00af00; text-decoration-color: #00af00\">128</span>)         │               <span style=\"color: #00af00; text-decoration-color: #00af00\">0</span> │\n",
              "├──────────────────────────────────────┼─────────────────────────────┼─────────────────┤\n",
              "│ conv2d_2 (<span style=\"color: #0087ff; text-decoration-color: #0087ff\">Conv2D</span>)                    │ (<span style=\"color: #00d7ff; text-decoration-color: #00d7ff\">None</span>, <span style=\"color: #00af00; text-decoration-color: #00af00\">17</span>, <span style=\"color: #00af00; text-decoration-color: #00af00\">17</span>, <span style=\"color: #00af00; text-decoration-color: #00af00\">128</span>)         │         <span style=\"color: #00af00; text-decoration-color: #00af00\">262,272</span> │\n",
              "├──────────────────────────────────────┼─────────────────────────────┼─────────────────┤\n",
              "│ max_pooling2d_2 (<span style=\"color: #0087ff; text-decoration-color: #0087ff\">MaxPooling2D</span>)       │ (<span style=\"color: #00d7ff; text-decoration-color: #00d7ff\">None</span>, <span style=\"color: #00af00; text-decoration-color: #00af00\">9</span>, <span style=\"color: #00af00; text-decoration-color: #00af00\">9</span>, <span style=\"color: #00af00; text-decoration-color: #00af00\">128</span>)           │               <span style=\"color: #00af00; text-decoration-color: #00af00\">0</span> │\n",
              "├──────────────────────────────────────┼─────────────────────────────┼─────────────────┤\n",
              "│ conv2d_3 (<span style=\"color: #0087ff; text-decoration-color: #0087ff\">Conv2D</span>)                    │ (<span style=\"color: #00d7ff; text-decoration-color: #00d7ff\">None</span>, <span style=\"color: #00af00; text-decoration-color: #00af00\">6</span>, <span style=\"color: #00af00; text-decoration-color: #00af00\">6</span>, <span style=\"color: #00af00; text-decoration-color: #00af00\">256</span>)           │         <span style=\"color: #00af00; text-decoration-color: #00af00\">524,544</span> │\n",
              "├──────────────────────────────────────┼─────────────────────────────┼─────────────────┤\n",
              "│ flatten (<span style=\"color: #0087ff; text-decoration-color: #0087ff\">Flatten</span>)                    │ (<span style=\"color: #00d7ff; text-decoration-color: #00d7ff\">None</span>, <span style=\"color: #00af00; text-decoration-color: #00af00\">9216</span>)                │               <span style=\"color: #00af00; text-decoration-color: #00af00\">0</span> │\n",
              "├──────────────────────────────────────┼─────────────────────────────┼─────────────────┤\n",
              "│ dense (<span style=\"color: #0087ff; text-decoration-color: #0087ff\">Dense</span>)                        │ (<span style=\"color: #00d7ff; text-decoration-color: #00d7ff\">None</span>, <span style=\"color: #00af00; text-decoration-color: #00af00\">4096</span>)                │      <span style=\"color: #00af00; text-decoration-color: #00af00\">37,752,832</span> │\n",
              "└──────────────────────────────────────┴─────────────────────────────┴─────────────────┘\n",
              "</pre>\n"
            ]
          },
          "metadata": {}
        },
        {
          "output_type": "display_data",
          "data": {
            "text/plain": [
              "\u001b[1m Total params: \u001b[0m\u001b[38;5;34m38,960,448\u001b[0m (148.62 MB)\n"
            ],
            "text/html": [
              "<pre style=\"white-space:pre;overflow-x:auto;line-height:normal;font-family:Menlo,'DejaVu Sans Mono',consolas,'Courier New',monospace\"><span style=\"font-weight: bold\"> Total params: </span><span style=\"color: #00af00; text-decoration-color: #00af00\">38,960,448</span> (148.62 MB)\n",
              "</pre>\n"
            ]
          },
          "metadata": {}
        },
        {
          "output_type": "display_data",
          "data": {
            "text/plain": [
              "\u001b[1m Trainable params: \u001b[0m\u001b[38;5;34m38,960,448\u001b[0m (148.62 MB)\n"
            ],
            "text/html": [
              "<pre style=\"white-space:pre;overflow-x:auto;line-height:normal;font-family:Menlo,'DejaVu Sans Mono',consolas,'Courier New',monospace\"><span style=\"font-weight: bold\"> Trainable params: </span><span style=\"color: #00af00; text-decoration-color: #00af00\">38,960,448</span> (148.62 MB)\n",
              "</pre>\n"
            ]
          },
          "metadata": {}
        },
        {
          "output_type": "display_data",
          "data": {
            "text/plain": [
              "\u001b[1m Non-trainable params: \u001b[0m\u001b[38;5;34m0\u001b[0m (0.00 B)\n"
            ],
            "text/html": [
              "<pre style=\"white-space:pre;overflow-x:auto;line-height:normal;font-family:Menlo,'DejaVu Sans Mono',consolas,'Courier New',monospace\"><span style=\"font-weight: bold\"> Non-trainable params: </span><span style=\"color: #00af00; text-decoration-color: #00af00\">0</span> (0.00 B)\n",
              "</pre>\n"
            ]
          },
          "metadata": {}
        }
      ]
    },
    {
      "cell_type": "markdown",
      "source": [
        "- Recibimos el anchor y la validation(imagen a comparar, puede ser positive o negative) Esto se resta... restamos el vector del anchor y la validation image"
      ],
      "metadata": {
        "id": "7BV4kPxMvzga"
      }
    },
    {
      "cell_type": "code",
      "source": [
        "# Siamese L1 Distance class\n",
        "class L1Dist(Layer):\n",
        "\n",
        "    # Init method - inheritance\n",
        "    def __init__(self, **kwargs):\n",
        "        super().__init__()\n",
        "\n",
        "    # Magic happens here - similarity calculation\n",
        "    def call(self, input_embedding, validation_embedding):\n",
        "        input_embedding = tf.convert_to_tensor(input_embedding)\n",
        "        validation_embedding = tf.convert_to_tensor(validation_embedding)\n",
        "        return tf.math.abs(input_embedding - validation_embedding)\n",
        "\n",
        "\n",
        "l1 = L1Dist()\n",
        "# l1(anchor_embedding, validation_embedding)\n"
      ],
      "metadata": {
        "id": "rHD9KY91mweQ"
      },
      "execution_count": null,
      "outputs": []
    },
    {
      "cell_type": "markdown",
      "source": [
        "# Siamese Model"
      ],
      "metadata": {
        "id": "xchAGa1NnyZp"
      }
    },
    {
      "cell_type": "code",
      "source": [
        "input_image = Input(name='input_img', shape=(100,100,3))\n",
        "validation_image = Input(name='validation_img', shape=(100,100,3))\n",
        "\n",
        "inp_embedding = embedding(input_image)\n",
        "val_embedding = embedding(validation_image)\n",
        "\n",
        "siamese_layer = L1Dist()\n",
        "\n",
        "distances = siamese_layer(inp_embedding, val_embedding)\n",
        "\n",
        "classifier = Dense(1, activation='sigmoid')(distances)\n",
        "\n",
        "print(classifier)"
      ],
      "metadata": {
        "colab": {
          "base_uri": "https://localhost:8080/"
        },
        "id": "LESdFvkrBr5J",
        "outputId": "922006cd-5d71-4040-a759-73da67e0e72e"
      },
      "execution_count": null,
      "outputs": [
        {
          "output_type": "stream",
          "name": "stdout",
          "text": [
            "<KerasTensor shape=(1, None, 1), dtype=float32, sparse=False, name=keras_tensor_12>\n"
          ]
        }
      ]
    },
    {
      "cell_type": "code",
      "source": [
        "\n",
        "def make_siamese_model():\n",
        "    # Anchor image input in the network\n",
        "    input_image = Input(name='input_img', shape=(100,100,3))\n",
        "\n",
        "    # Validation image in the network\n",
        "    validation_image = Input(name='validation_img', shape=(100,100,3))\n",
        "\n",
        "    # Combine siamese distance components\n",
        "    siamese_layer = L1Dist()\n",
        "    siamese_layer._name = 'distance'\n",
        "    distances = siamese_layer(embedding(input_image), embedding(validation_image))\n",
        "\n",
        "    # Classification layer\n",
        "    classifier = Dense(1, activation='sigmoid')(distances)\n",
        "\n",
        "    return Model(inputs=[input_image, validation_image], outputs=classifier, name='SiameseNetwork')\n",
        "\n",
        "siamese_model = make_siamese_model()\n",
        "siamese_model.summary()\n"
      ],
      "metadata": {
        "colab": {
          "base_uri": "https://localhost:8080/",
          "height": 344
        },
        "id": "H78SZSwNmzID",
        "outputId": "8e5b8730-cf98-46e7-dc51-5e98d99647fe"
      },
      "execution_count": null,
      "outputs": [
        {
          "output_type": "display_data",
          "data": {
            "text/plain": [
              "\u001b[1mModel: \"SiameseNetwork\"\u001b[0m\n"
            ],
            "text/html": [
              "<pre style=\"white-space:pre;overflow-x:auto;line-height:normal;font-family:Menlo,'DejaVu Sans Mono',consolas,'Courier New',monospace\"><span style=\"font-weight: bold\">Model: \"SiameseNetwork\"</span>\n",
              "</pre>\n"
            ]
          },
          "metadata": {}
        },
        {
          "output_type": "display_data",
          "data": {
            "text/plain": [
              "┏━━━━━━━━━━━━━━━━━━━━━━━━━━━┳━━━━━━━━━━━━━━━━━━━━━━━━┳━━━━━━━━━━━━━━━━┳━━━━━━━━━━━━━━━━━━━━━━━━┓\n",
              "┃\u001b[1m \u001b[0m\u001b[1mLayer (type)             \u001b[0m\u001b[1m \u001b[0m┃\u001b[1m \u001b[0m\u001b[1mOutput Shape          \u001b[0m\u001b[1m \u001b[0m┃\u001b[1m \u001b[0m\u001b[1m       Param #\u001b[0m\u001b[1m \u001b[0m┃\u001b[1m \u001b[0m\u001b[1mConnected to          \u001b[0m\u001b[1m \u001b[0m┃\n",
              "┡━━━━━━━━━━━━━━━━━━━━━━━━━━━╇━━━━━━━━━━━━━━━━━━━━━━━━╇━━━━━━━━━━━━━━━━╇━━━━━━━━━━━━━━━━━━━━━━━━┩\n",
              "│ input_img (\u001b[38;5;33mInputLayer\u001b[0m)    │ (\u001b[38;5;45mNone\u001b[0m, \u001b[38;5;34m100\u001b[0m, \u001b[38;5;34m100\u001b[0m, \u001b[38;5;34m3\u001b[0m)    │              \u001b[38;5;34m0\u001b[0m │ -                      │\n",
              "├───────────────────────────┼────────────────────────┼────────────────┼────────────────────────┤\n",
              "│ validation_img            │ (\u001b[38;5;45mNone\u001b[0m, \u001b[38;5;34m100\u001b[0m, \u001b[38;5;34m100\u001b[0m, \u001b[38;5;34m3\u001b[0m)    │              \u001b[38;5;34m0\u001b[0m │ -                      │\n",
              "│ (\u001b[38;5;33mInputLayer\u001b[0m)              │                        │                │                        │\n",
              "├───────────────────────────┼────────────────────────┼────────────────┼────────────────────────┤\n",
              "│ embedding (\u001b[38;5;33mFunctional\u001b[0m)    │ (\u001b[38;5;45mNone\u001b[0m, \u001b[38;5;34m4096\u001b[0m)           │     \u001b[38;5;34m38,960,448\u001b[0m │ input_img[\u001b[38;5;34m0\u001b[0m][\u001b[38;5;34m0\u001b[0m],       │\n",
              "│                           │                        │                │ validation_img[\u001b[38;5;34m0\u001b[0m][\u001b[38;5;34m0\u001b[0m]   │\n",
              "├───────────────────────────┼────────────────────────┼────────────────┼────────────────────────┤\n",
              "│ l1_dist_5 (\u001b[38;5;33mL1Dist\u001b[0m)        │ (\u001b[38;5;34m1\u001b[0m, \u001b[38;5;45mNone\u001b[0m, \u001b[38;5;34m4096\u001b[0m)        │              \u001b[38;5;34m0\u001b[0m │ embedding[\u001b[38;5;34m2\u001b[0m][\u001b[38;5;34m0\u001b[0m],       │\n",
              "│                           │                        │                │ embedding[\u001b[38;5;34m3\u001b[0m][\u001b[38;5;34m0\u001b[0m]        │\n",
              "├───────────────────────────┼────────────────────────┼────────────────┼────────────────────────┤\n",
              "│ dense_2 (\u001b[38;5;33mDense\u001b[0m)           │ (\u001b[38;5;34m1\u001b[0m, \u001b[38;5;45mNone\u001b[0m, \u001b[38;5;34m1\u001b[0m)           │          \u001b[38;5;34m4,097\u001b[0m │ l1_dist_5[\u001b[38;5;34m0\u001b[0m][\u001b[38;5;34m0\u001b[0m]        │\n",
              "└───────────────────────────┴────────────────────────┴────────────────┴────────────────────────┘\n"
            ],
            "text/html": [
              "<pre style=\"white-space:pre;overflow-x:auto;line-height:normal;font-family:Menlo,'DejaVu Sans Mono',consolas,'Courier New',monospace\">┏━━━━━━━━━━━━━━━━━━━━━━━━━━━┳━━━━━━━━━━━━━━━━━━━━━━━━┳━━━━━━━━━━━━━━━━┳━━━━━━━━━━━━━━━━━━━━━━━━┓\n",
              "┃<span style=\"font-weight: bold\"> Layer (type)              </span>┃<span style=\"font-weight: bold\"> Output Shape           </span>┃<span style=\"font-weight: bold\">        Param # </span>┃<span style=\"font-weight: bold\"> Connected to           </span>┃\n",
              "┡━━━━━━━━━━━━━━━━━━━━━━━━━━━╇━━━━━━━━━━━━━━━━━━━━━━━━╇━━━━━━━━━━━━━━━━╇━━━━━━━━━━━━━━━━━━━━━━━━┩\n",
              "│ input_img (<span style=\"color: #0087ff; text-decoration-color: #0087ff\">InputLayer</span>)    │ (<span style=\"color: #00d7ff; text-decoration-color: #00d7ff\">None</span>, <span style=\"color: #00af00; text-decoration-color: #00af00\">100</span>, <span style=\"color: #00af00; text-decoration-color: #00af00\">100</span>, <span style=\"color: #00af00; text-decoration-color: #00af00\">3</span>)    │              <span style=\"color: #00af00; text-decoration-color: #00af00\">0</span> │ -                      │\n",
              "├───────────────────────────┼────────────────────────┼────────────────┼────────────────────────┤\n",
              "│ validation_img            │ (<span style=\"color: #00d7ff; text-decoration-color: #00d7ff\">None</span>, <span style=\"color: #00af00; text-decoration-color: #00af00\">100</span>, <span style=\"color: #00af00; text-decoration-color: #00af00\">100</span>, <span style=\"color: #00af00; text-decoration-color: #00af00\">3</span>)    │              <span style=\"color: #00af00; text-decoration-color: #00af00\">0</span> │ -                      │\n",
              "│ (<span style=\"color: #0087ff; text-decoration-color: #0087ff\">InputLayer</span>)              │                        │                │                        │\n",
              "├───────────────────────────┼────────────────────────┼────────────────┼────────────────────────┤\n",
              "│ embedding (<span style=\"color: #0087ff; text-decoration-color: #0087ff\">Functional</span>)    │ (<span style=\"color: #00d7ff; text-decoration-color: #00d7ff\">None</span>, <span style=\"color: #00af00; text-decoration-color: #00af00\">4096</span>)           │     <span style=\"color: #00af00; text-decoration-color: #00af00\">38,960,448</span> │ input_img[<span style=\"color: #00af00; text-decoration-color: #00af00\">0</span>][<span style=\"color: #00af00; text-decoration-color: #00af00\">0</span>],       │\n",
              "│                           │                        │                │ validation_img[<span style=\"color: #00af00; text-decoration-color: #00af00\">0</span>][<span style=\"color: #00af00; text-decoration-color: #00af00\">0</span>]   │\n",
              "├───────────────────────────┼────────────────────────┼────────────────┼────────────────────────┤\n",
              "│ l1_dist_5 (<span style=\"color: #0087ff; text-decoration-color: #0087ff\">L1Dist</span>)        │ (<span style=\"color: #00af00; text-decoration-color: #00af00\">1</span>, <span style=\"color: #00d7ff; text-decoration-color: #00d7ff\">None</span>, <span style=\"color: #00af00; text-decoration-color: #00af00\">4096</span>)        │              <span style=\"color: #00af00; text-decoration-color: #00af00\">0</span> │ embedding[<span style=\"color: #00af00; text-decoration-color: #00af00\">2</span>][<span style=\"color: #00af00; text-decoration-color: #00af00\">0</span>],       │\n",
              "│                           │                        │                │ embedding[<span style=\"color: #00af00; text-decoration-color: #00af00\">3</span>][<span style=\"color: #00af00; text-decoration-color: #00af00\">0</span>]        │\n",
              "├───────────────────────────┼────────────────────────┼────────────────┼────────────────────────┤\n",
              "│ dense_2 (<span style=\"color: #0087ff; text-decoration-color: #0087ff\">Dense</span>)           │ (<span style=\"color: #00af00; text-decoration-color: #00af00\">1</span>, <span style=\"color: #00d7ff; text-decoration-color: #00d7ff\">None</span>, <span style=\"color: #00af00; text-decoration-color: #00af00\">1</span>)           │          <span style=\"color: #00af00; text-decoration-color: #00af00\">4,097</span> │ l1_dist_5[<span style=\"color: #00af00; text-decoration-color: #00af00\">0</span>][<span style=\"color: #00af00; text-decoration-color: #00af00\">0</span>]        │\n",
              "└───────────────────────────┴────────────────────────┴────────────────┴────────────────────────┘\n",
              "</pre>\n"
            ]
          },
          "metadata": {}
        },
        {
          "output_type": "display_data",
          "data": {
            "text/plain": [
              "\u001b[1m Total params: \u001b[0m\u001b[38;5;34m38,964,545\u001b[0m (148.64 MB)\n"
            ],
            "text/html": [
              "<pre style=\"white-space:pre;overflow-x:auto;line-height:normal;font-family:Menlo,'DejaVu Sans Mono',consolas,'Courier New',monospace\"><span style=\"font-weight: bold\"> Total params: </span><span style=\"color: #00af00; text-decoration-color: #00af00\">38,964,545</span> (148.64 MB)\n",
              "</pre>\n"
            ]
          },
          "metadata": {}
        },
        {
          "output_type": "display_data",
          "data": {
            "text/plain": [
              "\u001b[1m Trainable params: \u001b[0m\u001b[38;5;34m38,964,545\u001b[0m (148.64 MB)\n"
            ],
            "text/html": [
              "<pre style=\"white-space:pre;overflow-x:auto;line-height:normal;font-family:Menlo,'DejaVu Sans Mono',consolas,'Courier New',monospace\"><span style=\"font-weight: bold\"> Trainable params: </span><span style=\"color: #00af00; text-decoration-color: #00af00\">38,964,545</span> (148.64 MB)\n",
              "</pre>\n"
            ]
          },
          "metadata": {}
        },
        {
          "output_type": "display_data",
          "data": {
            "text/plain": [
              "\u001b[1m Non-trainable params: \u001b[0m\u001b[38;5;34m0\u001b[0m (0.00 B)\n"
            ],
            "text/html": [
              "<pre style=\"white-space:pre;overflow-x:auto;line-height:normal;font-family:Menlo,'DejaVu Sans Mono',consolas,'Courier New',monospace\"><span style=\"font-weight: bold\"> Non-trainable params: </span><span style=\"color: #00af00; text-decoration-color: #00af00\">0</span> (0.00 B)\n",
              "</pre>\n"
            ]
          },
          "metadata": {}
        }
      ]
    },
    {
      "cell_type": "markdown",
      "source": [
        "# Training"
      ],
      "metadata": {
        "id": "6UnMjBivC9SN"
      }
    },
    {
      "cell_type": "markdown",
      "source": [
        "## Set up Loss and Optimizer"
      ],
      "metadata": {
        "id": "hnLTBl_1Dex5"
      }
    },
    {
      "cell_type": "code",
      "source": [
        "binary_cross_loss = tf.losses.BinaryCrossentropy()\n",
        "opt = tf.keras.optimizers.Adam(1e-4) # 0.0001, deep learning\n"
      ],
      "metadata": {
        "id": "CiteYgthDAfD"
      },
      "execution_count": null,
      "outputs": []
    },
    {
      "cell_type": "markdown",
      "source": [
        "##Checkpoints"
      ],
      "metadata": {
        "id": "PWgaJi6aDiaq"
      }
    },
    {
      "cell_type": "code",
      "source": [
        "checkpoint_dir = './training_checkpoints'\n",
        "checkpoint_prefix = os.path.join(checkpoint_dir, 'ckpt')\n",
        "checkpoint = tf.train.Checkpoint(opt=opt, siamese_model=siamese_model)"
      ],
      "metadata": {
        "id": "Hw4TlLmZDWnx"
      },
      "execution_count": null,
      "outputs": []
    },
    {
      "cell_type": "markdown",
      "source": [
        "## Build Train Step Function"
      ],
      "metadata": {
        "id": "lUX_bkBtDpr3"
      }
    },
    {
      "cell_type": "code",
      "source": [
        "test_batch = train_data.as_numpy_iterator()\n",
        "batch_1 = test_batch.next()\n",
        "X = batch_1[:2]\n",
        "y = batch_1[2]\n",
        "print(y)"
      ],
      "metadata": {
        "colab": {
          "base_uri": "https://localhost:8080/"
        },
        "id": "kV1wZk8oDdbi",
        "outputId": "b3688dbf-49fd-4655-bacf-baa099a86d26"
      },
      "execution_count": null,
      "outputs": [
        {
          "output_type": "stream",
          "name": "stdout",
          "text": [
            "[0. 1. 0. 0. 0. 1. 0. 1. 0. 1. 1. 0. 1. 0. 1. 1.]\n"
          ]
        }
      ]
    },
    {
      "cell_type": "code",
      "source": [
        "@tf.function\n",
        "def train_step(batch):\n",
        "\n",
        "    # Record all of our operations\n",
        "    with tf.GradientTape() as tape:\n",
        "        # Get anchor and positive/negative image\n",
        "        X = batch[:2]\n",
        "        # Get label\n",
        "        y = tf.expand_dims(batch[2], axis=-1)\n",
        "        #y = batch[2]\n",
        "\n",
        "        # Forward pass\n",
        "        yhat = siamese_model(X, training=True)\n",
        "\n",
        "        # Reshape yhat to match y\n",
        "        yhat = tf.reshape(yhat, (-1, 1)) # Reshape to (16, 1)\n",
        "\n",
        "\n",
        "        # Calculate loss\n",
        "        loss = binary_cross_loss(y, yhat)\n",
        "    tf.print(\"Loss:\", loss)\n",
        "\n",
        "    # Calculate gradients\n",
        "    grad = tape.gradient(loss, siamese_model.trainable_variables)\n",
        "\n",
        "    # Calculate updated weights and apply to siamese model\n",
        "    opt.apply_gradients(zip(grad, siamese_model.trainable_variables))\n",
        "\n",
        "    # Return loss\n",
        "    return loss"
      ],
      "metadata": {
        "id": "vDLxI9aTEkqy"
      },
      "execution_count": null,
      "outputs": []
    },
    {
      "cell_type": "markdown",
      "source": [
        "## Training Loop"
      ],
      "metadata": {
        "id": "0YPR94C3FywC"
      }
    },
    {
      "cell_type": "code",
      "source": [
        "def train(data, EPOCHS):\n",
        "    # Loop through epochs\n",
        "    for epoch in range(1, EPOCHS+1):\n",
        "        print('\\n Epoch {}/{}'.format(epoch, EPOCHS))\n",
        "        progbar = tf.keras.utils.Progbar(len(data))\n",
        "\n",
        "        # Loop through each batch\n",
        "        for idx, batch in enumerate(data):\n",
        "            # Run train step here\n",
        "            train_step(batch)\n",
        "            progbar.update(idx+1)\n",
        "\n",
        "        # Save checkpoints\n",
        "        if epoch % 10 == 0:\n",
        "            checkpoint.save(file_prefix=checkpoint_prefix)"
      ],
      "metadata": {
        "id": "90ifpcJZF1Q7"
      },
      "execution_count": null,
      "outputs": []
    },
    {
      "cell_type": "markdown",
      "source": [
        "## Training Model"
      ],
      "metadata": {
        "id": "FuL4WxbTYnJD"
      }
    },
    {
      "cell_type": "code",
      "source": [
        "EPOCHS = 50\n",
        "train(train_data, EPOCHS)\n"
      ],
      "metadata": {
        "colab": {
          "base_uri": "https://localhost:8080/"
        },
        "id": "2GuOJfxLYouS",
        "outputId": "605ad17f-6624-4e33-dd6c-8bcd18fea553"
      },
      "execution_count": null,
      "outputs": [
        {
          "output_type": "stream",
          "name": "stdout",
          "text": [
            "\n",
            " Epoch 1/50\n",
            "Loss: 0.693780601\n",
            "\u001b[1m 1/27\u001b[0m \u001b[37m━━━━━━━━━━━━━━━━━━━━\u001b[0m \u001b[1m3:09\u001b[0m 7s/stepLoss: 0.691180587\n",
            "\u001b[1m 2/27\u001b[0m \u001b[32m━\u001b[0m\u001b[37m━━━━━━━━━━━━━━━━━━━\u001b[0m \u001b[1m5s\u001b[0m 224ms/stepLoss: 0.692271709\n",
            "\u001b[1m 3/27\u001b[0m \u001b[32m━━\u001b[0m\u001b[37m━━━━━━━━━━━━━━━━━━\u001b[0m \u001b[1m5s\u001b[0m 222ms/stepLoss: 0.689545393\n",
            "\u001b[1m 4/27\u001b[0m \u001b[32m━━\u001b[0m\u001b[37m━━━━━━━━━━━━━━━━━━\u001b[0m \u001b[1m5s\u001b[0m 221ms/stepLoss: 0.680815041\n",
            "\u001b[1m 5/27\u001b[0m \u001b[32m━━━\u001b[0m\u001b[37m━━━━━━━━━━━━━━━━━\u001b[0m \u001b[1m4s\u001b[0m 221ms/stepLoss: 0.668364465\n",
            "\u001b[1m 6/27\u001b[0m \u001b[32m━━━━\u001b[0m\u001b[37m━━━━━━━━━━━━━━━━\u001b[0m \u001b[1m4s\u001b[0m 220ms/stepLoss: 0.67034173\n",
            "\u001b[1m 7/27\u001b[0m \u001b[32m━━━━━\u001b[0m\u001b[37m━━━━━━━━━━━━━━━\u001b[0m \u001b[1m4s\u001b[0m 220ms/stepLoss: 0.634293556\n",
            "\u001b[1m 8/27\u001b[0m \u001b[32m━━━━━\u001b[0m\u001b[37m━━━━━━━━━━━━━━━\u001b[0m \u001b[1m4s\u001b[0m 220ms/stepLoss: 0.6659078\n",
            "\u001b[1m 9/27\u001b[0m \u001b[32m━━━━━━\u001b[0m\u001b[37m━━━━━━━━━━━━━━\u001b[0m \u001b[1m3s\u001b[0m 220ms/stepLoss: 0.559166312\n",
            "\u001b[1m10/27\u001b[0m \u001b[32m━━━━━━━\u001b[0m\u001b[37m━━━━━━━━━━━━━\u001b[0m \u001b[1m3s\u001b[0m 220ms/stepLoss: 0.551573157\n",
            "\u001b[1m11/27\u001b[0m \u001b[32m━━━━━━━━\u001b[0m\u001b[37m━━━━━━━━━━━━\u001b[0m \u001b[1m3s\u001b[0m 220ms/stepLoss: 0.469573945\n",
            "\u001b[1m12/27\u001b[0m \u001b[32m━━━━━━━━\u001b[0m\u001b[37m━━━━━━━━━━━━\u001b[0m \u001b[1m3s\u001b[0m 220ms/stepLoss: 0.391160607\n",
            "\u001b[1m13/27\u001b[0m \u001b[32m━━━━━━━━━\u001b[0m\u001b[37m━━━━━━━━━━━\u001b[0m \u001b[1m3s\u001b[0m 220ms/stepLoss: 0.46392417\n",
            "\u001b[1m14/27\u001b[0m \u001b[32m━━━━━━━━━━\u001b[0m\u001b[37m━━━━━━━━━━\u001b[0m \u001b[1m2s\u001b[0m 220ms/stepLoss: 0.385941565\n",
            "\u001b[1m15/27\u001b[0m \u001b[32m━━━━━━━━━━━\u001b[0m\u001b[37m━━━━━━━━━\u001b[0m \u001b[1m2s\u001b[0m 220ms/stepLoss: 0.419662952\n",
            "\u001b[1m16/27\u001b[0m \u001b[32m━━━━━━━━━━━\u001b[0m\u001b[37m━━━━━━━━━\u001b[0m \u001b[1m2s\u001b[0m 220ms/stepLoss: 0.465209\n",
            "\u001b[1m17/27\u001b[0m \u001b[32m━━━━━━━━━━━━\u001b[0m\u001b[37m━━━━━━━━\u001b[0m \u001b[1m2s\u001b[0m 220ms/stepLoss: 0.270063639\n",
            "\u001b[1m18/27\u001b[0m \u001b[32m━━━━━━━━━━━━━\u001b[0m\u001b[37m━━━━━━━\u001b[0m \u001b[1m1s\u001b[0m 220ms/stepLoss: 0.125616729\n",
            "\u001b[1m19/27\u001b[0m \u001b[32m━━━━━━━━━━━━━━\u001b[0m\u001b[37m━━━━━━\u001b[0m \u001b[1m1s\u001b[0m 220ms/stepLoss: 0.457009733\n",
            "\u001b[1m20/27\u001b[0m \u001b[32m━━━━━━━━━━━━━━\u001b[0m\u001b[37m━━━━━━\u001b[0m \u001b[1m1s\u001b[0m 220ms/stepLoss: 0.338927805\n",
            "\u001b[1m21/27\u001b[0m \u001b[32m━━━━━━━━━━━━━━━\u001b[0m\u001b[37m━━━━━\u001b[0m \u001b[1m1s\u001b[0m 220ms/stepLoss: 0.203759074\n",
            "\u001b[1m22/27\u001b[0m \u001b[32m━━━━━━━━━━━━━━━━\u001b[0m\u001b[37m━━━━\u001b[0m \u001b[1m1s\u001b[0m 220ms/stepLoss: 0.181508124\n",
            "\u001b[1m23/27\u001b[0m \u001b[32m━━━━━━━━━━━━━━━━━\u001b[0m\u001b[37m━━━\u001b[0m \u001b[1m0s\u001b[0m 220ms/stepLoss: 0.293403149\n",
            "\u001b[1m24/27\u001b[0m \u001b[32m━━━━━━━━━━━━━━━━━\u001b[0m\u001b[37m━━━\u001b[0m \u001b[1m0s\u001b[0m 220ms/stepLoss: 0.177792683\n",
            "\u001b[1m25/27\u001b[0m \u001b[32m━━━━━━━━━━━━━━━━━━\u001b[0m\u001b[37m━━\u001b[0m \u001b[1m0s\u001b[0m 220ms/stepLoss: 0.242851049\n",
            "\u001b[1m26/27\u001b[0m \u001b[32m━━━━━━━━━━━━━━━━━━━\u001b[0m\u001b[37m━\u001b[0m \u001b[1m0s\u001b[0m 220ms/stepLoss: 0.0346296281\n",
            "\u001b[1m27/27\u001b[0m \u001b[32m━━━━━━━━━━━━━━━━━━━━\u001b[0m\u001b[37m\u001b[0m \u001b[1m14s\u001b[0m 254ms/step\n",
            "\n",
            " Epoch 2/50\n",
            "Loss: 0.173935458\n",
            "\u001b[1m 1/27\u001b[0m \u001b[37m━━━━━━━━━━━━━━━━━━━━\u001b[0m \u001b[1m5s\u001b[0m 223ms/stepLoss: 0.181623071\n",
            "\u001b[1m 2/27\u001b[0m \u001b[32m━\u001b[0m\u001b[37m━━━━━━━━━━━━━━━━━━━\u001b[0m \u001b[1m5s\u001b[0m 221ms/stepLoss: 0.0557648949\n",
            "\u001b[1m 3/27\u001b[0m \u001b[32m━━\u001b[0m\u001b[37m━━━━━━━━━━━━━━━━━━\u001b[0m \u001b[1m5s\u001b[0m 221ms/stepLoss: 0.0953875184\n",
            "\u001b[1m 4/27\u001b[0m \u001b[32m━━\u001b[0m\u001b[37m━━━━━━━━━━━━━━━━━━\u001b[0m \u001b[1m5s\u001b[0m 221ms/stepLoss: 0.0663346797\n",
            "\u001b[1m 5/27\u001b[0m \u001b[32m━━━\u001b[0m\u001b[37m━━━━━━━━━━━━━━━━━\u001b[0m \u001b[1m4s\u001b[0m 221ms/stepLoss: 0.101991877\n",
            "\u001b[1m 6/27\u001b[0m \u001b[32m━━━━\u001b[0m\u001b[37m━━━━━━━━━━━━━━━━\u001b[0m \u001b[1m4s\u001b[0m 221ms/stepLoss: 0.0734604523\n",
            "\u001b[1m 7/27\u001b[0m \u001b[32m━━━━━\u001b[0m\u001b[37m━━━━━━━━━━━━━━━\u001b[0m \u001b[1m4s\u001b[0m 221ms/stepLoss: 0.0899689049\n",
            "\u001b[1m 8/27\u001b[0m \u001b[32m━━━━━\u001b[0m\u001b[37m━━━━━━━━━━━━━━━\u001b[0m \u001b[1m4s\u001b[0m 221ms/stepLoss: 0.0422899202\n",
            "\u001b[1m 9/27\u001b[0m \u001b[32m━━━━━━\u001b[0m\u001b[37m━━━━━━━━━━━━━━\u001b[0m \u001b[1m3s\u001b[0m 221ms/stepLoss: 0.0722708926\n",
            "\u001b[1m10/27\u001b[0m \u001b[32m━━━━━━━\u001b[0m\u001b[37m━━━━━━━━━━━━━\u001b[0m \u001b[1m3s\u001b[0m 221ms/stepLoss: 0.0812729299\n",
            "\u001b[1m11/27\u001b[0m \u001b[32m━━━━━━━━\u001b[0m\u001b[37m━━━━━━━━━━━━\u001b[0m \u001b[1m3s\u001b[0m 221ms/stepLoss: 0.0454395078\n",
            "\u001b[1m12/27\u001b[0m \u001b[32m━━━━━━━━\u001b[0m\u001b[37m━━━━━━━━━━━━\u001b[0m \u001b[1m3s\u001b[0m 221ms/stepLoss: 0.170901656\n",
            "\u001b[1m13/27\u001b[0m \u001b[32m━━━━━━━━━\u001b[0m\u001b[37m━━━━━━━━━━━\u001b[0m \u001b[1m3s\u001b[0m 221ms/stepLoss: 0.210536748\n",
            "\u001b[1m14/27\u001b[0m \u001b[32m━━━━━━━━━━\u001b[0m\u001b[37m━━━━━━━━━━\u001b[0m \u001b[1m2s\u001b[0m 221ms/stepLoss: 0.102999404\n",
            "\u001b[1m15/27\u001b[0m \u001b[32m━━━━━━━━━━━\u001b[0m\u001b[37m━━━━━━━━━\u001b[0m \u001b[1m2s\u001b[0m 221ms/stepLoss: 0.00295316894\n",
            "\u001b[1m16/27\u001b[0m \u001b[32m━━━━━━━━━━━\u001b[0m\u001b[37m━━━━━━━━━\u001b[0m \u001b[1m2s\u001b[0m 221ms/stepLoss: 0.0482797436\n",
            "\u001b[1m17/27\u001b[0m \u001b[32m━━━━━━━━━━━━\u001b[0m\u001b[37m━━━━━━━━\u001b[0m \u001b[1m2s\u001b[0m 221ms/stepLoss: 0.167762578\n",
            "\u001b[1m18/27\u001b[0m \u001b[32m━━━━━━━━━━━━━\u001b[0m\u001b[37m━━━━━━━\u001b[0m \u001b[1m1s\u001b[0m 221ms/stepLoss: 0.0798690319\n",
            "\u001b[1m19/27\u001b[0m \u001b[32m━━━━━━━━━━━━━━\u001b[0m\u001b[37m━━━━━━\u001b[0m \u001b[1m1s\u001b[0m 221ms/stepLoss: 0.014316041\n",
            "\u001b[1m20/27\u001b[0m \u001b[32m━━━━━━━━━━━━━━\u001b[0m\u001b[37m━━━━━━\u001b[0m \u001b[1m1s\u001b[0m 221ms/stepLoss: 0.123295814\n",
            "\u001b[1m21/27\u001b[0m \u001b[32m━━━━━━━━━━━━━━━\u001b[0m\u001b[37m━━━━━\u001b[0m \u001b[1m1s\u001b[0m 221ms/stepLoss: 0.118555039\n",
            "\u001b[1m22/27\u001b[0m \u001b[32m━━━━━━━━━━━━━━━━\u001b[0m\u001b[37m━━━━\u001b[0m \u001b[1m1s\u001b[0m 221ms/stepLoss: 0.214195564\n",
            "\u001b[1m23/27\u001b[0m \u001b[32m━━━━━━━━━━━━━━━━━\u001b[0m\u001b[37m━━━\u001b[0m \u001b[1m0s\u001b[0m 221ms/stepLoss: 0.0882598236\n",
            "\u001b[1m24/27\u001b[0m \u001b[32m━━━━━━━━━━━━━━━━━\u001b[0m\u001b[37m━━━\u001b[0m \u001b[1m0s\u001b[0m 221ms/stepLoss: 0.178357527\n",
            "\u001b[1m25/27\u001b[0m \u001b[32m━━━━━━━━━━━━━━━━━━\u001b[0m\u001b[37m━━\u001b[0m \u001b[1m0s\u001b[0m 221ms/stepLoss: 0.0764680728\n",
            "\u001b[1m26/27\u001b[0m \u001b[32m━━━━━━━━━━━━━━━━━━━\u001b[0m\u001b[37m━\u001b[0m \u001b[1m0s\u001b[0m 221ms/stepLoss: 0.000389606663\n",
            "\u001b[1m27/27\u001b[0m \u001b[32m━━━━━━━━━━━━━━━━━━━━\u001b[0m\u001b[37m\u001b[0m \u001b[1m6s\u001b[0m 216ms/step\n",
            "\n",
            " Epoch 3/50\n",
            "Loss: 0.041782245\n",
            "\u001b[1m 1/27\u001b[0m \u001b[37m━━━━━━━━━━━━━━━━━━━━\u001b[0m \u001b[1m5s\u001b[0m 225ms/stepLoss: 0.0162224192\n",
            "\u001b[1m 2/27\u001b[0m \u001b[32m━\u001b[0m\u001b[37m━━━━━━━━━━━━━━━━━━━\u001b[0m \u001b[1m5s\u001b[0m 221ms/stepLoss: 0.15378198\n",
            "\u001b[1m 3/27\u001b[0m \u001b[32m━━\u001b[0m\u001b[37m━━━━━━━━━━━━━━━━━━\u001b[0m \u001b[1m5s\u001b[0m 222ms/stepLoss: 0.0802040398\n",
            "\u001b[1m 4/27\u001b[0m \u001b[32m━━\u001b[0m\u001b[37m━━━━━━━━━━━━━━━━━━\u001b[0m \u001b[1m5s\u001b[0m 223ms/stepLoss: 0.192584157\n",
            "\u001b[1m 5/27\u001b[0m \u001b[32m━━━\u001b[0m\u001b[37m━━━━━━━━━━━━━━━━━\u001b[0m \u001b[1m4s\u001b[0m 223ms/stepLoss: 0.154096454\n",
            "\u001b[1m 6/27\u001b[0m \u001b[32m━━━━\u001b[0m\u001b[37m━━━━━━━━━━━━━━━━\u001b[0m \u001b[1m4s\u001b[0m 223ms/stepLoss: 0.0561969839\n",
            "\u001b[1m 7/27\u001b[0m \u001b[32m━━━━━\u001b[0m\u001b[37m━━━━━━━━━━━━━━━\u001b[0m \u001b[1m4s\u001b[0m 223ms/stepLoss: 0.0318872817\n",
            "\u001b[1m 8/27\u001b[0m \u001b[32m━━━━━\u001b[0m\u001b[37m━━━━━━━━━━━━━━━\u001b[0m \u001b[1m4s\u001b[0m 223ms/stepLoss: 0.0543213859\n",
            "\u001b[1m 9/27\u001b[0m \u001b[32m━━━━━━\u001b[0m\u001b[37m━━━━━━━━━━━━━━\u001b[0m \u001b[1m4s\u001b[0m 223ms/stepLoss: 0.00653952267\n",
            "\u001b[1m10/27\u001b[0m \u001b[32m━━━━━━━\u001b[0m\u001b[37m━━━━━━━━━━━━━\u001b[0m \u001b[1m3s\u001b[0m 223ms/stepLoss: 0.152160332\n",
            "\u001b[1m11/27\u001b[0m \u001b[32m━━━━━━━━\u001b[0m\u001b[37m━━━━━━━━━━━━\u001b[0m \u001b[1m3s\u001b[0m 223ms/stepLoss: 0.0343542062\n",
            "\u001b[1m12/27\u001b[0m \u001b[32m━━━━━━━━\u001b[0m\u001b[37m━━━━━━━━━━━━\u001b[0m \u001b[1m3s\u001b[0m 223ms/stepLoss: 0.337450922\n",
            "\u001b[1m13/27\u001b[0m \u001b[32m━━━━━━━━━\u001b[0m\u001b[37m━━━━━━━━━━━\u001b[0m \u001b[1m3s\u001b[0m 223ms/stepLoss: 0.0835153386\n",
            "\u001b[1m14/27\u001b[0m \u001b[32m━━━━━━━━━━\u001b[0m\u001b[37m━━━━━━━━━━\u001b[0m \u001b[1m2s\u001b[0m 223ms/stepLoss: 0.0224546362\n",
            "\u001b[1m15/27\u001b[0m \u001b[32m━━━━━━━━━━━\u001b[0m\u001b[37m━━━━━━━━━\u001b[0m \u001b[1m2s\u001b[0m 223ms/stepLoss: 0.0615930781\n",
            "\u001b[1m16/27\u001b[0m \u001b[32m━━━━━━━━━━━\u001b[0m\u001b[37m━━━━━━━━━\u001b[0m \u001b[1m2s\u001b[0m 223ms/stepLoss: 0.0844565779\n",
            "\u001b[1m17/27\u001b[0m \u001b[32m━━━━━━━━━━━━\u001b[0m\u001b[37m━━━━━━━━\u001b[0m \u001b[1m2s\u001b[0m 223ms/stepLoss: 0.110150665\n",
            "\u001b[1m18/27\u001b[0m \u001b[32m━━━━━━━━━━━━━\u001b[0m\u001b[37m━━━━━━━\u001b[0m \u001b[1m2s\u001b[0m 223ms/stepLoss: 0.0701299682\n",
            "\u001b[1m19/27\u001b[0m \u001b[32m━━━━━━━━━━━━━━\u001b[0m\u001b[37m━━━━━━\u001b[0m \u001b[1m1s\u001b[0m 223ms/stepLoss: 0.0110714072\n",
            "\u001b[1m20/27\u001b[0m \u001b[32m━━━━━━━━━━━━━━\u001b[0m\u001b[37m━━━━━━\u001b[0m \u001b[1m1s\u001b[0m 223ms/stepLoss: 0.0724468\n",
            "\u001b[1m21/27\u001b[0m \u001b[32m━━━━━━━━━━━━━━━\u001b[0m\u001b[37m━━━━━\u001b[0m \u001b[1m1s\u001b[0m 223ms/stepLoss: 0.0302950181\n",
            "\u001b[1m22/27\u001b[0m \u001b[32m━━━━━━━━━━━━━━━━\u001b[0m\u001b[37m━━━━\u001b[0m \u001b[1m1s\u001b[0m 223ms/stepLoss: 0.0162580255\n",
            "\u001b[1m23/27\u001b[0m \u001b[32m━━━━━━━━━━━━━━━━━\u001b[0m\u001b[37m━━━\u001b[0m \u001b[1m0s\u001b[0m 223ms/stepLoss: 0.0415000319\n",
            "\u001b[1m24/27\u001b[0m \u001b[32m━━━━━━━━━━━━━━━━━\u001b[0m\u001b[37m━━━\u001b[0m \u001b[1m0s\u001b[0m 224ms/stepLoss: 0.104768112\n",
            "\u001b[1m25/27\u001b[0m \u001b[32m━━━━━━━━━━━━━━━━━━\u001b[0m\u001b[37m━━\u001b[0m \u001b[1m0s\u001b[0m 224ms/stepLoss: 0.026354624\n",
            "\u001b[1m26/27\u001b[0m \u001b[32m━━━━━━━━━━━━━━━━━━━\u001b[0m\u001b[37m━\u001b[0m \u001b[1m0s\u001b[0m 224ms/stepLoss: 0.0524734519\n",
            "\u001b[1m27/27\u001b[0m \u001b[32m━━━━━━━━━━━━━━━━━━━━\u001b[0m\u001b[37m\u001b[0m \u001b[1m6s\u001b[0m 218ms/step\n",
            "\n",
            " Epoch 4/50\n",
            "Loss: 0.0297131464\n",
            "\u001b[1m 1/27\u001b[0m \u001b[37m━━━━━━━━━━━━━━━━━━━━\u001b[0m \u001b[1m5s\u001b[0m 230ms/stepLoss: 0.0533394068\n",
            "\u001b[1m 2/27\u001b[0m \u001b[32m━\u001b[0m\u001b[37m━━━━━━━━━━━━━━━━━━━\u001b[0m \u001b[1m5s\u001b[0m 225ms/stepLoss: 0.0257867649\n",
            "\u001b[1m 3/27\u001b[0m \u001b[32m━━\u001b[0m\u001b[37m━━━━━━━━━━━━━━━━━━\u001b[0m \u001b[1m5s\u001b[0m 225ms/stepLoss: 0.0324583836\n",
            "\u001b[1m 4/27\u001b[0m \u001b[32m━━\u001b[0m\u001b[37m━━━━━━━━━━━━━━━━━━\u001b[0m \u001b[1m5s\u001b[0m 224ms/stepLoss: 0.121283591\n",
            "\u001b[1m 5/27\u001b[0m \u001b[32m━━━\u001b[0m\u001b[37m━━━━━━━━━━━━━━━━━\u001b[0m \u001b[1m4s\u001b[0m 225ms/stepLoss: 0.00949964952\n",
            "\u001b[1m 6/27\u001b[0m \u001b[32m━━━━\u001b[0m\u001b[37m━━━━━━━━━━━━━━━━\u001b[0m \u001b[1m4s\u001b[0m 225ms/stepLoss: 0.0419769\n",
            "\u001b[1m 7/27\u001b[0m \u001b[32m━━━━━\u001b[0m\u001b[37m━━━━━━━━━━━━━━━\u001b[0m \u001b[1m4s\u001b[0m 225ms/stepLoss: 0.0212186165\n",
            "\u001b[1m 8/27\u001b[0m \u001b[32m━━━━━\u001b[0m\u001b[37m━━━━━━━━━━━━━━━\u001b[0m \u001b[1m4s\u001b[0m 225ms/stepLoss: 0.0742684752\n",
            "\u001b[1m 9/27\u001b[0m \u001b[32m━━━━━━\u001b[0m\u001b[37m━━━━━━━━━━━━━━\u001b[0m \u001b[1m4s\u001b[0m 225ms/stepLoss: 0.162106052\n",
            "\u001b[1m10/27\u001b[0m \u001b[32m━━━━━━━\u001b[0m\u001b[37m━━━━━━━━━━━━━\u001b[0m \u001b[1m3s\u001b[0m 225ms/stepLoss: 0.0885197\n",
            "\u001b[1m11/27\u001b[0m \u001b[32m━━━━━━━━\u001b[0m\u001b[37m━━━━━━━━━━━━\u001b[0m \u001b[1m3s\u001b[0m 225ms/stepLoss: 0.0835537687\n",
            "\u001b[1m12/27\u001b[0m \u001b[32m━━━━━━━━\u001b[0m\u001b[37m━━━━━━━━━━━━\u001b[0m \u001b[1m3s\u001b[0m 225ms/stepLoss: 0.269417\n",
            "\u001b[1m13/27\u001b[0m \u001b[32m━━━━━━━━━\u001b[0m\u001b[37m━━━━━━━━━━━\u001b[0m \u001b[1m3s\u001b[0m 225ms/stepLoss: 0.0731073692\n",
            "\u001b[1m14/27\u001b[0m \u001b[32m━━━━━━━━━━\u001b[0m\u001b[37m━━━━━━━━━━\u001b[0m \u001b[1m2s\u001b[0m 225ms/stepLoss: 0.0813123733\n",
            "\u001b[1m15/27\u001b[0m \u001b[32m━━━━━━━━━━━\u001b[0m\u001b[37m━━━━━━━━━\u001b[0m \u001b[1m2s\u001b[0m 225ms/stepLoss: 0.0457670167\n",
            "\u001b[1m16/27\u001b[0m \u001b[32m━━━━━━━━━━━\u001b[0m\u001b[37m━━━━━━━━━\u001b[0m \u001b[1m2s\u001b[0m 225ms/stepLoss: 0.0547979288\n",
            "\u001b[1m17/27\u001b[0m \u001b[32m━━━━━━━━━━━━\u001b[0m\u001b[37m━━━━━━━━\u001b[0m \u001b[1m2s\u001b[0m 225ms/stepLoss: 0.137623802\n",
            "\u001b[1m18/27\u001b[0m \u001b[32m━━━━━━━━━━━━━\u001b[0m\u001b[37m━━━━━━━\u001b[0m \u001b[1m2s\u001b[0m 225ms/stepLoss: 0.0717237294\n",
            "\u001b[1m19/27\u001b[0m \u001b[32m━━━━━━━━━━━━━━\u001b[0m\u001b[37m━━━━━━\u001b[0m \u001b[1m1s\u001b[0m 225ms/stepLoss: 0.156905115\n",
            "\u001b[1m20/27\u001b[0m \u001b[32m━━━━━━━━━━━━━━\u001b[0m\u001b[37m━━━━━━\u001b[0m \u001b[1m1s\u001b[0m 225ms/stepLoss: 0.0289630368\n",
            "\u001b[1m21/27\u001b[0m \u001b[32m━━━━━━━━━━━━━━━\u001b[0m\u001b[37m━━━━━\u001b[0m \u001b[1m1s\u001b[0m 225ms/stepLoss: 0.0586894304\n",
            "\u001b[1m22/27\u001b[0m \u001b[32m━━━━━━━━━━━━━━━━\u001b[0m\u001b[37m━━━━\u001b[0m \u001b[1m1s\u001b[0m 225ms/stepLoss: 0.0325076915\n",
            "\u001b[1m23/27\u001b[0m \u001b[32m━━━━━━━━━━━━━━━━━\u001b[0m\u001b[37m━━━\u001b[0m \u001b[1m0s\u001b[0m 225ms/stepLoss: 0.052364096\n",
            "\u001b[1m24/27\u001b[0m \u001b[32m━━━━━━━━━━━━━━━━━\u001b[0m\u001b[37m━━━\u001b[0m \u001b[1m0s\u001b[0m 225ms/stepLoss: 0.122381687\n",
            "\u001b[1m25/27\u001b[0m \u001b[32m━━━━━━━━━━━━━━━━━━\u001b[0m\u001b[37m━━\u001b[0m \u001b[1m0s\u001b[0m 225ms/stepLoss: 0.0909986496\n",
            "\u001b[1m26/27\u001b[0m \u001b[32m━━━━━━━━━━━━━━━━━━━\u001b[0m\u001b[37m━\u001b[0m \u001b[1m0s\u001b[0m 225ms/stepLoss: 0.000880239\n",
            "\u001b[1m27/27\u001b[0m \u001b[32m━━━━━━━━━━━━━━━━━━━━\u001b[0m\u001b[37m\u001b[0m \u001b[1m6s\u001b[0m 219ms/step\n",
            "\n",
            " Epoch 5/50\n",
            "Loss: 0.0356360339\n",
            "\u001b[1m 1/27\u001b[0m \u001b[37m━━━━━━━━━━━━━━━━━━━━\u001b[0m \u001b[1m6s\u001b[0m 232ms/stepLoss: 0.021150995\n",
            "\u001b[1m 2/27\u001b[0m \u001b[32m━\u001b[0m\u001b[37m━━━━━━━━━━━━━━━━━━━\u001b[0m \u001b[1m5s\u001b[0m 226ms/stepLoss: 0.00783389062\n",
            "\u001b[1m 3/27\u001b[0m \u001b[32m━━\u001b[0m\u001b[37m━━━━━━━━━━━━━━━━━━\u001b[0m \u001b[1m5s\u001b[0m 227ms/stepLoss: 0.0261496101\n",
            "\u001b[1m 4/27\u001b[0m \u001b[32m━━\u001b[0m\u001b[37m━━━━━━━━━━━━━━━━━━\u001b[0m \u001b[1m5s\u001b[0m 226ms/stepLoss: 0.0860136449\n",
            "\u001b[1m 5/27\u001b[0m \u001b[32m━━━\u001b[0m\u001b[37m━━━━━━━━━━━━━━━━━\u001b[0m \u001b[1m4s\u001b[0m 226ms/stepLoss: 0.0545776077\n",
            "\u001b[1m 6/27\u001b[0m \u001b[32m━━━━\u001b[0m\u001b[37m━━━━━━━━━━━━━━━━\u001b[0m \u001b[1m4s\u001b[0m 226ms/stepLoss: 0.0359776542\n",
            "\u001b[1m 7/27\u001b[0m \u001b[32m━━━━━\u001b[0m\u001b[37m━━━━━━━━━━━━━━━\u001b[0m \u001b[1m4s\u001b[0m 226ms/stepLoss: 0.00427858904\n",
            "\u001b[1m 8/27\u001b[0m \u001b[32m━━━━━\u001b[0m\u001b[37m━━━━━━━━━━━━━━━\u001b[0m \u001b[1m4s\u001b[0m 226ms/stepLoss: 0.00571865262\n",
            "\u001b[1m 9/27\u001b[0m \u001b[32m━━━━━━\u001b[0m\u001b[37m━━━━━━━━━━━━━━\u001b[0m \u001b[1m4s\u001b[0m 226ms/stepLoss: 0.00832840148\n",
            "\u001b[1m10/27\u001b[0m \u001b[32m━━━━━━━\u001b[0m\u001b[37m━━━━━━━━━━━━━\u001b[0m \u001b[1m3s\u001b[0m 226ms/stepLoss: 0.0142770233\n",
            "\u001b[1m11/27\u001b[0m \u001b[32m━━━━━━━━\u001b[0m\u001b[37m━━━━━━━━━━━━\u001b[0m \u001b[1m3s\u001b[0m 226ms/stepLoss: 0.00520421099\n",
            "\u001b[1m12/27\u001b[0m \u001b[32m━━━━━━━━\u001b[0m\u001b[37m━━━━━━━━━━━━\u001b[0m \u001b[1m3s\u001b[0m 226ms/stepLoss: 0.00145988434\n",
            "\u001b[1m13/27\u001b[0m \u001b[32m━━━━━━━━━\u001b[0m\u001b[37m━━━━━━━━━━━\u001b[0m \u001b[1m3s\u001b[0m 226ms/stepLoss: 0.0362128504\n",
            "\u001b[1m14/27\u001b[0m \u001b[32m━━━━━━━━━━\u001b[0m\u001b[37m━━━━━━━━━━\u001b[0m \u001b[1m2s\u001b[0m 226ms/stepLoss: 0.0130288396\n",
            "\u001b[1m15/27\u001b[0m \u001b[32m━━━━━━━━━━━\u001b[0m\u001b[37m━━━━━━━━━\u001b[0m \u001b[1m2s\u001b[0m 226ms/stepLoss: 0.00506921485\n",
            "\u001b[1m16/27\u001b[0m \u001b[32m━━━━━━━━━━━\u001b[0m\u001b[37m━━━━━━━━━\u001b[0m \u001b[1m2s\u001b[0m 226ms/stepLoss: 0.00820737053\n",
            "\u001b[1m17/27\u001b[0m \u001b[32m━━━━━━━━━━━━\u001b[0m\u001b[37m━━━━━━━━\u001b[0m \u001b[1m2s\u001b[0m 226ms/stepLoss: 0.0562860332\n",
            "\u001b[1m18/27\u001b[0m \u001b[32m━━━━━━━━━━━━━\u001b[0m\u001b[37m━━━━━━━\u001b[0m \u001b[1m2s\u001b[0m 226ms/stepLoss: 0.0642838\n",
            "\u001b[1m19/27\u001b[0m \u001b[32m━━━━━━━━━━━━━━\u001b[0m\u001b[37m━━━━━━\u001b[0m \u001b[1m1s\u001b[0m 226ms/stepLoss: 0.0176084824\n",
            "\u001b[1m20/27\u001b[0m \u001b[32m━━━━━━━━━━━━━━\u001b[0m\u001b[37m━━━━━━\u001b[0m \u001b[1m1s\u001b[0m 226ms/stepLoss: 0.292772412\n",
            "\u001b[1m21/27\u001b[0m \u001b[32m━━━━━━━━━━━━━━━\u001b[0m\u001b[37m━━━━━\u001b[0m \u001b[1m1s\u001b[0m 226ms/stepLoss: 0.0748736039\n",
            "\u001b[1m22/27\u001b[0m \u001b[32m━━━━━━━━━━━━━━━━\u001b[0m\u001b[37m━━━━\u001b[0m \u001b[1m1s\u001b[0m 226ms/stepLoss: 0.0603804626\n",
            "\u001b[1m23/27\u001b[0m \u001b[32m━━━━━━━━━━━━━━━━━\u001b[0m\u001b[37m━━━\u001b[0m \u001b[1m0s\u001b[0m 226ms/stepLoss: 0.041957587\n",
            "\u001b[1m24/27\u001b[0m \u001b[32m━━━━━━━━━━━━━━━━━\u001b[0m\u001b[37m━━━\u001b[0m \u001b[1m0s\u001b[0m 226ms/stepLoss: 0.0400119945\n",
            "\u001b[1m25/27\u001b[0m \u001b[32m━━━━━━━━━━━━━━━━━━\u001b[0m\u001b[37m━━\u001b[0m \u001b[1m0s\u001b[0m 227ms/stepLoss: 0.0289753769\n",
            "\u001b[1m26/27\u001b[0m \u001b[32m━━━━━━━━━━━━━━━━━━━\u001b[0m\u001b[37m━\u001b[0m \u001b[1m0s\u001b[0m 227ms/stepLoss: 0.00858997088\n",
            "\u001b[1m27/27\u001b[0m \u001b[32m━━━━━━━━━━━━━━━━━━━━\u001b[0m\u001b[37m\u001b[0m \u001b[1m6s\u001b[0m 221ms/step\n",
            "\n",
            " Epoch 6/50\n",
            "Loss: 0.00747691933\n",
            "\u001b[1m 1/27\u001b[0m \u001b[37m━━━━━━━━━━━━━━━━━━━━\u001b[0m \u001b[1m5s\u001b[0m 229ms/stepLoss: 0.0208863541\n",
            "\u001b[1m 2/27\u001b[0m \u001b[32m━\u001b[0m\u001b[37m━━━━━━━━━━━━━━━━━━━\u001b[0m \u001b[1m5s\u001b[0m 230ms/stepLoss: 0.0728239864\n",
            "\u001b[1m 3/27\u001b[0m \u001b[32m━━\u001b[0m\u001b[37m━━━━━━━━━━━━━━━━━━\u001b[0m \u001b[1m5s\u001b[0m 230ms/stepLoss: 0.063348867\n",
            "\u001b[1m 4/27\u001b[0m \u001b[32m━━\u001b[0m\u001b[37m━━━━━━━━━━━━━━━━━━\u001b[0m \u001b[1m5s\u001b[0m 231ms/stepLoss: 0.0199851021\n",
            "\u001b[1m 5/27\u001b[0m \u001b[32m━━━\u001b[0m\u001b[37m━━━━━━━━━━━━━━━━━\u001b[0m \u001b[1m5s\u001b[0m 231ms/stepLoss: 0.00395009108\n",
            "\u001b[1m 6/27\u001b[0m \u001b[32m━━━━\u001b[0m\u001b[37m━━━━━━━━━━━━━━━━\u001b[0m \u001b[1m4s\u001b[0m 230ms/stepLoss: 0.0079372609\n",
            "\u001b[1m 7/27\u001b[0m \u001b[32m━━━━━\u001b[0m\u001b[37m━━━━━━━━━━━━━━━\u001b[0m \u001b[1m4s\u001b[0m 230ms/stepLoss: 0.0470526889\n",
            "\u001b[1m 8/27\u001b[0m \u001b[32m━━━━━\u001b[0m\u001b[37m━━━━━━━━━━━━━━━\u001b[0m \u001b[1m4s\u001b[0m 230ms/stepLoss: 0.0426901467\n",
            "\u001b[1m 9/27\u001b[0m \u001b[32m━━━━━━\u001b[0m\u001b[37m━━━━━━━━━━━━━━\u001b[0m \u001b[1m4s\u001b[0m 230ms/stepLoss: 0.0159996115\n",
            "\u001b[1m10/27\u001b[0m \u001b[32m━━━━━━━\u001b[0m\u001b[37m━━━━━━━━━━━━━\u001b[0m \u001b[1m3s\u001b[0m 230ms/stepLoss: 0.0312145054\n",
            "\u001b[1m11/27\u001b[0m \u001b[32m━━━━━━━━\u001b[0m\u001b[37m━━━━━━━━━━━━\u001b[0m \u001b[1m3s\u001b[0m 230ms/stepLoss: 0.0315054432\n",
            "\u001b[1m12/27\u001b[0m \u001b[32m━━━━━━━━\u001b[0m\u001b[37m━━━━━━━━━━━━\u001b[0m \u001b[1m3s\u001b[0m 230ms/stepLoss: 0.0107829869\n",
            "\u001b[1m13/27\u001b[0m \u001b[32m━━━━━━━━━\u001b[0m\u001b[37m━━━━━━━━━━━\u001b[0m \u001b[1m3s\u001b[0m 229ms/stepLoss: 0.0238170903\n",
            "\u001b[1m14/27\u001b[0m \u001b[32m━━━━━━━━━━\u001b[0m\u001b[37m━━━━━━━━━━\u001b[0m \u001b[1m2s\u001b[0m 229ms/stepLoss: 0.017820172\n",
            "\u001b[1m15/27\u001b[0m \u001b[32m━━━━━━━━━━━\u001b[0m\u001b[37m━━━━━━━━━\u001b[0m \u001b[1m2s\u001b[0m 229ms/stepLoss: 0.0104454542\n",
            "\u001b[1m16/27\u001b[0m \u001b[32m━━━━━━━━━━━\u001b[0m\u001b[37m━━━━━━━━━\u001b[0m \u001b[1m2s\u001b[0m 229ms/stepLoss: 0.00532040233\n",
            "\u001b[1m17/27\u001b[0m \u001b[32m━━━━━━━━━━━━\u001b[0m\u001b[37m━━━━━━━━\u001b[0m \u001b[1m2s\u001b[0m 229ms/stepLoss: 0.0265296847\n",
            "\u001b[1m18/27\u001b[0m \u001b[32m━━━━━━━━━━━━━\u001b[0m\u001b[37m━━━━━━━\u001b[0m \u001b[1m2s\u001b[0m 229ms/stepLoss: 0.0099910032\n",
            "\u001b[1m19/27\u001b[0m \u001b[32m━━━━━━━━━━━━━━\u001b[0m\u001b[37m━━━━━━\u001b[0m \u001b[1m1s\u001b[0m 229ms/stepLoss: 0.0301036108\n",
            "\u001b[1m20/27\u001b[0m \u001b[32m━━━━━━━━━━━━━━\u001b[0m\u001b[37m━━━━━━\u001b[0m \u001b[1m1s\u001b[0m 229ms/stepLoss: 0.0597153232\n",
            "\u001b[1m21/27\u001b[0m \u001b[32m━━━━━━━━━━━━━━━\u001b[0m\u001b[37m━━━━━\u001b[0m \u001b[1m1s\u001b[0m 229ms/stepLoss: 0.0194935501\n",
            "\u001b[1m22/27\u001b[0m \u001b[32m━━━━━━━━━━━━━━━━\u001b[0m\u001b[37m━━━━\u001b[0m \u001b[1m1s\u001b[0m 229ms/stepLoss: 0.0276367702\n",
            "\u001b[1m23/27\u001b[0m \u001b[32m━━━━━━━━━━━━━━━━━\u001b[0m\u001b[37m━━━\u001b[0m \u001b[1m0s\u001b[0m 229ms/stepLoss: 0.0193608962\n",
            "\u001b[1m24/27\u001b[0m \u001b[32m━━━━━━━━━━━━━━━━━\u001b[0m\u001b[37m━━━\u001b[0m \u001b[1m0s\u001b[0m 229ms/stepLoss: 0.0101126265\n",
            "\u001b[1m25/27\u001b[0m \u001b[32m━━━━━━━━━━━━━━━━━━\u001b[0m\u001b[37m━━\u001b[0m \u001b[1m0s\u001b[0m 229ms/stepLoss: 0.0162889734\n",
            "\u001b[1m26/27\u001b[0m \u001b[32m━━━━━━━━━━━━━━━━━━━\u001b[0m\u001b[37m━\u001b[0m \u001b[1m0s\u001b[0m 229ms/stepLoss: 0.0101839779\n",
            "\u001b[1m27/27\u001b[0m \u001b[32m━━━━━━━━━━━━━━━━━━━━\u001b[0m\u001b[37m\u001b[0m \u001b[1m6s\u001b[0m 223ms/step\n",
            "\n",
            " Epoch 7/50\n",
            "Loss: 0.00452987617\n",
            "\u001b[1m 1/27\u001b[0m \u001b[37m━━━━━━━━━━━━━━━━━━━━\u001b[0m \u001b[1m6s\u001b[0m 235ms/stepLoss: 0.0069152955\n",
            "\u001b[1m 2/27\u001b[0m \u001b[32m━\u001b[0m\u001b[37m━━━━━━━━━━━━━━━━━━━\u001b[0m \u001b[1m5s\u001b[0m 229ms/stepLoss: 0.0271148719\n",
            "\u001b[1m 3/27\u001b[0m \u001b[32m━━\u001b[0m\u001b[37m━━━━━━━━━━━━━━━━━━\u001b[0m \u001b[1m5s\u001b[0m 231ms/stepLoss: 0.000992678804\n",
            "\u001b[1m 4/27\u001b[0m \u001b[32m━━\u001b[0m\u001b[37m━━━━━━━━━━━━━━━━━━\u001b[0m \u001b[1m5s\u001b[0m 231ms/stepLoss: 0.002482248\n",
            "\u001b[1m 5/27\u001b[0m \u001b[32m━━━\u001b[0m\u001b[37m━━━━━━━━━━━━━━━━━\u001b[0m \u001b[1m5s\u001b[0m 231ms/stepLoss: 0.0814576298\n",
            "\u001b[1m 6/27\u001b[0m \u001b[32m━━━━\u001b[0m\u001b[37m━━━━━━━━━━━━━━━━\u001b[0m \u001b[1m4s\u001b[0m 231ms/stepLoss: 0.0245382395\n",
            "\u001b[1m 7/27\u001b[0m \u001b[32m━━━━━\u001b[0m\u001b[37m━━━━━━━━━━━━━━━\u001b[0m \u001b[1m4s\u001b[0m 231ms/stepLoss: 0.0110314405\n",
            "\u001b[1m 8/27\u001b[0m \u001b[32m━━━━━\u001b[0m\u001b[37m━━━━━━━━━━━━━━━\u001b[0m \u001b[1m4s\u001b[0m 230ms/stepLoss: 0.00704866322\n",
            "\u001b[1m 9/27\u001b[0m \u001b[32m━━━━━━\u001b[0m\u001b[37m━━━━━━━━━━━━━━\u001b[0m \u001b[1m4s\u001b[0m 230ms/stepLoss: 0.00488529447\n",
            "\u001b[1m10/27\u001b[0m \u001b[32m━━━━━━━\u001b[0m\u001b[37m━━━━━━━━━━━━━\u001b[0m \u001b[1m3s\u001b[0m 230ms/stepLoss: 0.00305984961\n",
            "\u001b[1m11/27\u001b[0m \u001b[32m━━━━━━━━\u001b[0m\u001b[37m━━━━━━━━━━━━\u001b[0m \u001b[1m3s\u001b[0m 230ms/stepLoss: 0.0129884118\n",
            "\u001b[1m12/27\u001b[0m \u001b[32m━━━━━━━━\u001b[0m\u001b[37m━━━━━━━━━━━━\u001b[0m \u001b[1m3s\u001b[0m 230ms/stepLoss: 0.0139754741\n",
            "\u001b[1m13/27\u001b[0m \u001b[32m━━━━━━━━━\u001b[0m\u001b[37m━━━━━━━━━━━\u001b[0m \u001b[1m3s\u001b[0m 230ms/stepLoss: 0.0172294639\n",
            "\u001b[1m14/27\u001b[0m \u001b[32m━━━━━━━━━━\u001b[0m\u001b[37m━━━━━━━━━━\u001b[0m \u001b[1m2s\u001b[0m 230ms/stepLoss: 0.0644433275\n",
            "\u001b[1m15/27\u001b[0m \u001b[32m━━━━━━━━━━━\u001b[0m\u001b[37m━━━━━━━━━\u001b[0m \u001b[1m2s\u001b[0m 230ms/stepLoss: 0.0325363278\n",
            "\u001b[1m16/27\u001b[0m \u001b[32m━━━━━━━━━━━\u001b[0m\u001b[37m━━━━━━━━━\u001b[0m \u001b[1m2s\u001b[0m 230ms/stepLoss: 0.00312650367\n",
            "\u001b[1m17/27\u001b[0m \u001b[32m━━━━━━━━━━━━\u001b[0m\u001b[37m━━━━━━━━\u001b[0m \u001b[1m2s\u001b[0m 230ms/stepLoss: 0.00297157816\n",
            "\u001b[1m18/27\u001b[0m \u001b[32m━━━━━━━━━━━━━\u001b[0m\u001b[37m━━━━━━━\u001b[0m \u001b[1m2s\u001b[0m 230ms/stepLoss: 0.00159516302\n",
            "\u001b[1m19/27\u001b[0m \u001b[32m━━━━━━━━━━━━━━\u001b[0m\u001b[37m━━━━━━\u001b[0m \u001b[1m1s\u001b[0m 230ms/stepLoss: 0.0131866131\n",
            "\u001b[1m20/27\u001b[0m \u001b[32m━━━━━━━━━━━━━━\u001b[0m\u001b[37m━━━━━━\u001b[0m \u001b[1m1s\u001b[0m 230ms/stepLoss: 0.00944562536\n",
            "\u001b[1m21/27\u001b[0m \u001b[32m━━━━━━━━━━━━━━━\u001b[0m\u001b[37m━━━━━\u001b[0m \u001b[1m1s\u001b[0m 230ms/stepLoss: 0.0182501562\n",
            "\u001b[1m22/27\u001b[0m \u001b[32m━━━━━━━━━━━━━━━━\u001b[0m\u001b[37m━━━━\u001b[0m \u001b[1m1s\u001b[0m 230ms/stepLoss: 0.012004\n",
            "\u001b[1m23/27\u001b[0m \u001b[32m━━━━━━━━━━━━━━━━━\u001b[0m\u001b[37m━━━\u001b[0m \u001b[1m0s\u001b[0m 230ms/stepLoss: 0.0243552905\n",
            "\u001b[1m24/27\u001b[0m \u001b[32m━━━━━━━━━━━━━━━━━\u001b[0m\u001b[37m━━━\u001b[0m \u001b[1m0s\u001b[0m 230ms/stepLoss: 0.0375911966\n",
            "\u001b[1m25/27\u001b[0m \u001b[32m━━━━━━━━━━━━━━━━━━\u001b[0m\u001b[37m━━\u001b[0m \u001b[1m0s\u001b[0m 230ms/stepLoss: 0.00351547822\n",
            "\u001b[1m26/27\u001b[0m \u001b[32m━━━━━━━━━━━━━━━━━━━\u001b[0m\u001b[37m━\u001b[0m \u001b[1m0s\u001b[0m 230ms/stepLoss: 0.00762322498\n",
            "\u001b[1m27/27\u001b[0m \u001b[32m━━━━━━━━━━━━━━━━━━━━\u001b[0m\u001b[37m\u001b[0m \u001b[1m6s\u001b[0m 225ms/step\n",
            "\n",
            " Epoch 8/50\n",
            "Loss: 0.00948283821\n",
            "\u001b[1m 1/27\u001b[0m \u001b[37m━━━━━━━━━━━━━━━━━━━━\u001b[0m \u001b[1m8s\u001b[0m 320ms/stepLoss: 0.0303100236\n",
            "\u001b[1m 2/27\u001b[0m \u001b[32m━\u001b[0m\u001b[37m━━━━━━━━━━━━━━━━━━━\u001b[0m \u001b[1m5s\u001b[0m 234ms/stepLoss: 0.0113823172\n",
            "\u001b[1m 3/27\u001b[0m \u001b[32m━━\u001b[0m\u001b[37m━━━━━━━━━━━━━━━━━━\u001b[0m \u001b[1m5s\u001b[0m 230ms/stepLoss: 0.0251933411\n",
            "\u001b[1m 4/27\u001b[0m \u001b[32m━━\u001b[0m\u001b[37m━━━━━━━━━━━━━━━━━━\u001b[0m \u001b[1m5s\u001b[0m 230ms/stepLoss: 0.012975323\n",
            "\u001b[1m 5/27\u001b[0m \u001b[32m━━━\u001b[0m\u001b[37m━━━━━━━━━━━━━━━━━\u001b[0m \u001b[1m5s\u001b[0m 229ms/stepLoss: 0.000412472931\n",
            "\u001b[1m 6/27\u001b[0m \u001b[32m━━━━\u001b[0m\u001b[37m━━━━━━━━━━━━━━━━\u001b[0m \u001b[1m4s\u001b[0m 228ms/stepLoss: 0.0207057521\n",
            "\u001b[1m 7/27\u001b[0m \u001b[32m━━━━━\u001b[0m\u001b[37m━━━━━━━━━━━━━━━\u001b[0m \u001b[1m4s\u001b[0m 229ms/stepLoss: 0.0102193439\n",
            "\u001b[1m 8/27\u001b[0m \u001b[32m━━━━━\u001b[0m\u001b[37m━━━━━━━━━━━━━━━\u001b[0m \u001b[1m4s\u001b[0m 228ms/stepLoss: 0.00745991431\n",
            "\u001b[1m 9/27\u001b[0m \u001b[32m━━━━━━\u001b[0m\u001b[37m━━━━━━━━━━━━━━\u001b[0m \u001b[1m4s\u001b[0m 228ms/stepLoss: 0.000716780778\n",
            "\u001b[1m10/27\u001b[0m \u001b[32m━━━━━━━\u001b[0m\u001b[37m━━━━━━━━━━━━━\u001b[0m \u001b[1m3s\u001b[0m 228ms/stepLoss: 0.0154460426\n",
            "\u001b[1m11/27\u001b[0m \u001b[32m━━━━━━━━\u001b[0m\u001b[37m━━━━━━━━━━━━\u001b[0m \u001b[1m3s\u001b[0m 228ms/stepLoss: 0.00882437453\n",
            "\u001b[1m12/27\u001b[0m \u001b[32m━━━━━━━━\u001b[0m\u001b[37m━━━━━━━━━━━━\u001b[0m \u001b[1m3s\u001b[0m 228ms/stepLoss: 0.00174969574\n",
            "\u001b[1m13/27\u001b[0m \u001b[32m━━━━━━━━━\u001b[0m\u001b[37m━━━━━━━━━━━\u001b[0m \u001b[1m3s\u001b[0m 228ms/stepLoss: 0.024130201\n",
            "\u001b[1m14/27\u001b[0m \u001b[32m━━━━━━━━━━\u001b[0m\u001b[37m━━━━━━━━━━\u001b[0m \u001b[1m2s\u001b[0m 228ms/stepLoss: 0.000728977378\n",
            "\u001b[1m15/27\u001b[0m \u001b[32m━━━━━━━━━━━\u001b[0m\u001b[37m━━━━━━━━━\u001b[0m \u001b[1m2s\u001b[0m 228ms/stepLoss: 0.00789689738\n",
            "\u001b[1m16/27\u001b[0m \u001b[32m━━━━━━━━━━━\u001b[0m\u001b[37m━━━━━━━━━\u001b[0m \u001b[1m2s\u001b[0m 228ms/stepLoss: 0.0010880779\n",
            "\u001b[1m17/27\u001b[0m \u001b[32m━━━━━━━━━━━━\u001b[0m\u001b[37m━━━━━━━━\u001b[0m \u001b[1m2s\u001b[0m 228ms/stepLoss: 0.000833971717\n",
            "\u001b[1m18/27\u001b[0m \u001b[32m━━━━━━━━━━━━━\u001b[0m\u001b[37m━━━━━━━\u001b[0m \u001b[1m2s\u001b[0m 228ms/stepLoss: 0.0030920133\n",
            "\u001b[1m19/27\u001b[0m \u001b[32m━━━━━━━━━━━━━━\u001b[0m\u001b[37m━━━━━━\u001b[0m \u001b[1m1s\u001b[0m 227ms/stepLoss: 0.00635406189\n",
            "\u001b[1m20/27\u001b[0m \u001b[32m━━━━━━━━━━━━━━\u001b[0m\u001b[37m━━━━━━\u001b[0m \u001b[1m1s\u001b[0m 227ms/stepLoss: 0.0064341845\n",
            "\u001b[1m21/27\u001b[0m \u001b[32m━━━━━━━━━━━━━━━\u001b[0m\u001b[37m━━━━━\u001b[0m \u001b[1m1s\u001b[0m 227ms/stepLoss: 0.0137662636\n",
            "\u001b[1m22/27\u001b[0m \u001b[32m━━━━━━━━━━━━━━━━\u001b[0m\u001b[37m━━━━\u001b[0m \u001b[1m1s\u001b[0m 227ms/stepLoss: 0.0110004554\n",
            "\u001b[1m23/27\u001b[0m \u001b[32m━━━━━━━━━━━━━━━━━\u001b[0m\u001b[37m━━━\u001b[0m \u001b[1m0s\u001b[0m 227ms/stepLoss: 0.00410429202\n",
            "\u001b[1m24/27\u001b[0m \u001b[32m━━━━━━━━━━━━━━━━━\u001b[0m\u001b[37m━━━\u001b[0m \u001b[1m0s\u001b[0m 227ms/stepLoss: 0.00099887047\n",
            "\u001b[1m25/27\u001b[0m \u001b[32m━━━━━━━━━━━━━━━━━━\u001b[0m\u001b[37m━━\u001b[0m \u001b[1m0s\u001b[0m 227ms/stepLoss: 0.00921775308\n",
            "\u001b[1m26/27\u001b[0m \u001b[32m━━━━━━━━━━━━━━━━━━━\u001b[0m\u001b[37m━\u001b[0m \u001b[1m0s\u001b[0m 227ms/stepLoss: 0.0238700621\n",
            "\u001b[1m27/27\u001b[0m \u001b[32m━━━━━━━━━━━━━━━━━━━━\u001b[0m\u001b[37m\u001b[0m \u001b[1m6s\u001b[0m 222ms/step\n",
            "\n",
            " Epoch 9/50\n",
            "Loss: 0.003750392\n",
            "\u001b[1m 1/27\u001b[0m \u001b[37m━━━━━━━━━━━━━━━━━━━━\u001b[0m \u001b[1m6s\u001b[0m 232ms/stepLoss: 0.00317004696\n",
            "\u001b[1m 2/27\u001b[0m \u001b[32m━\u001b[0m\u001b[37m━━━━━━━━━━━━━━━━━━━\u001b[0m \u001b[1m5s\u001b[0m 228ms/stepLoss: 0.00216468074\n",
            "\u001b[1m 3/27\u001b[0m \u001b[32m━━\u001b[0m\u001b[37m━━━━━━━━━━━━━━━━━━\u001b[0m \u001b[1m5s\u001b[0m 227ms/stepLoss: 0.000968758133\n",
            "\u001b[1m 4/27\u001b[0m \u001b[32m━━\u001b[0m\u001b[37m━━━━━━━━━━━━━━━━━━\u001b[0m \u001b[1m5s\u001b[0m 227ms/stepLoss: 0.0042370474\n",
            "\u001b[1m 5/27\u001b[0m \u001b[32m━━━\u001b[0m\u001b[37m━━━━━━━━━━━━━━━━━\u001b[0m \u001b[1m4s\u001b[0m 227ms/stepLoss: 0.000159084215\n",
            "\u001b[1m 6/27\u001b[0m \u001b[32m━━━━\u001b[0m\u001b[37m━━━━━━━━━━━━━━━━\u001b[0m \u001b[1m4s\u001b[0m 227ms/stepLoss: 0.00087713456\n",
            "\u001b[1m 7/27\u001b[0m \u001b[32m━━━━━\u001b[0m\u001b[37m━━━━━━━━━━━━━━━\u001b[0m \u001b[1m4s\u001b[0m 227ms/stepLoss: 0.00290013221\n",
            "\u001b[1m 8/27\u001b[0m \u001b[32m━━━━━\u001b[0m\u001b[37m━━━━━━━━━━━━━━━\u001b[0m \u001b[1m4s\u001b[0m 227ms/stepLoss: 0.00386532675\n",
            "\u001b[1m 9/27\u001b[0m \u001b[32m━━━━━━\u001b[0m\u001b[37m━━━━━━━━━━━━━━\u001b[0m \u001b[1m4s\u001b[0m 227ms/stepLoss: 0.00063091435\n",
            "\u001b[1m10/27\u001b[0m \u001b[32m━━━━━━━\u001b[0m\u001b[37m━━━━━━━━━━━━━\u001b[0m \u001b[1m3s\u001b[0m 227ms/stepLoss: 0.000554526749\n",
            "\u001b[1m11/27\u001b[0m \u001b[32m━━━━━━━━\u001b[0m\u001b[37m━━━━━━━━━━━━\u001b[0m \u001b[1m3s\u001b[0m 227ms/stepLoss: 0.00730983261\n",
            "\u001b[1m12/27\u001b[0m \u001b[32m━━━━━━━━\u001b[0m\u001b[37m━━━━━━━━━━━━\u001b[0m \u001b[1m3s\u001b[0m 227ms/stepLoss: 0.01415582\n",
            "\u001b[1m13/27\u001b[0m \u001b[32m━━━━━━━━━\u001b[0m\u001b[37m━━━━━━━━━━━\u001b[0m \u001b[1m3s\u001b[0m 227ms/stepLoss: 2.25243894e-05\n",
            "\u001b[1m14/27\u001b[0m \u001b[32m━━━━━━━━━━\u001b[0m\u001b[37m━━━━━━━━━━\u001b[0m \u001b[1m2s\u001b[0m 226ms/stepLoss: 0.0010176294\n",
            "\u001b[1m15/27\u001b[0m \u001b[32m━━━━━━━━━━━\u001b[0m\u001b[37m━━━━━━━━━\u001b[0m \u001b[1m2s\u001b[0m 226ms/stepLoss: 0.000165462523\n",
            "\u001b[1m16/27\u001b[0m \u001b[32m━━━━━━━━━━━\u001b[0m\u001b[37m━━━━━━━━━\u001b[0m \u001b[1m2s\u001b[0m 227ms/stepLoss: 0.00170903292\n",
            "\u001b[1m17/27\u001b[0m \u001b[32m━━━━━━━━━━━━\u001b[0m\u001b[37m━━━━━━━━\u001b[0m \u001b[1m2s\u001b[0m 227ms/stepLoss: 0.000334480806\n",
            "\u001b[1m18/27\u001b[0m \u001b[32m━━━━━━━━━━━━━\u001b[0m\u001b[37m━━━━━━━\u001b[0m \u001b[1m2s\u001b[0m 227ms/stepLoss: 0.00214281701\n",
            "\u001b[1m19/27\u001b[0m \u001b[32m━━━━━━━━━━━━━━\u001b[0m\u001b[37m━━━━━━\u001b[0m \u001b[1m1s\u001b[0m 227ms/stepLoss: 0.00129696133\n",
            "\u001b[1m20/27\u001b[0m \u001b[32m━━━━━━━━━━━━━━\u001b[0m\u001b[37m━━━━━━\u001b[0m \u001b[1m1s\u001b[0m 227ms/stepLoss: 0.00190832559\n",
            "\u001b[1m21/27\u001b[0m \u001b[32m━━━━━━━━━━━━━━━\u001b[0m\u001b[37m━━━━━\u001b[0m \u001b[1m1s\u001b[0m 227ms/stepLoss: 0.00470748637\n",
            "\u001b[1m22/27\u001b[0m \u001b[32m━━━━━━━━━━━━━━━━\u001b[0m\u001b[37m━━━━\u001b[0m \u001b[1m1s\u001b[0m 227ms/stepLoss: 0.00559119601\n",
            "\u001b[1m23/27\u001b[0m \u001b[32m━━━━━━━━━━━━━━━━━\u001b[0m\u001b[37m━━━\u001b[0m \u001b[1m0s\u001b[0m 227ms/stepLoss: 0.00685427524\n",
            "\u001b[1m24/27\u001b[0m \u001b[32m━━━━━━━━━━━━━━━━━\u001b[0m\u001b[37m━━━\u001b[0m \u001b[1m0s\u001b[0m 227ms/stepLoss: 0.000189476094\n",
            "\u001b[1m25/27\u001b[0m \u001b[32m━━━━━━━━━━━━━━━━━━\u001b[0m\u001b[37m━━\u001b[0m \u001b[1m0s\u001b[0m 227ms/stepLoss: 0.00257308944\n",
            "\u001b[1m26/27\u001b[0m \u001b[32m━━━━━━━━━━━━━━━━━━━\u001b[0m\u001b[37m━\u001b[0m \u001b[1m0s\u001b[0m 227ms/stepLoss: 0.000292395882\n",
            "\u001b[1m27/27\u001b[0m \u001b[32m━━━━━━━━━━━━━━━━━━━━\u001b[0m\u001b[37m\u001b[0m \u001b[1m6s\u001b[0m 221ms/step\n",
            "\n",
            " Epoch 10/50\n",
            "Loss: 0.00148838584\n",
            "\u001b[1m 1/27\u001b[0m \u001b[37m━━━━━━━━━━━━━━━━━━━━\u001b[0m \u001b[1m5s\u001b[0m 228ms/stepLoss: 0.000121716897\n",
            "\u001b[1m 2/27\u001b[0m \u001b[32m━\u001b[0m\u001b[37m━━━━━━━━━━━━━━━━━━━\u001b[0m \u001b[1m5s\u001b[0m 225ms/stepLoss: 0.00192347553\n",
            "\u001b[1m 3/27\u001b[0m \u001b[32m━━\u001b[0m\u001b[37m━━━━━━━━━━━━━━━━━━\u001b[0m \u001b[1m5s\u001b[0m 225ms/stepLoss: 0.000415965\n",
            "\u001b[1m 4/27\u001b[0m \u001b[32m━━\u001b[0m\u001b[37m━━━━━━━━━━━━━━━━━━\u001b[0m \u001b[1m5s\u001b[0m 225ms/stepLoss: 0.000416883267\n",
            "\u001b[1m 5/27\u001b[0m \u001b[32m━━━\u001b[0m\u001b[37m━━━━━━━━━━━━━━━━━\u001b[0m \u001b[1m4s\u001b[0m 226ms/stepLoss: 0.000128724103\n",
            "\u001b[1m 6/27\u001b[0m \u001b[32m━━━━\u001b[0m\u001b[37m━━━━━━━━━━━━━━━━\u001b[0m \u001b[1m4s\u001b[0m 226ms/stepLoss: 0.0001000388\n",
            "\u001b[1m 7/27\u001b[0m \u001b[32m━━━━━\u001b[0m\u001b[37m━━━━━━━━━━━━━━━\u001b[0m \u001b[1m4s\u001b[0m 226ms/stepLoss: 0.000958680292\n",
            "\u001b[1m 8/27\u001b[0m \u001b[32m━━━━━\u001b[0m\u001b[37m━━━━━━━━━━━━━━━\u001b[0m \u001b[1m4s\u001b[0m 226ms/stepLoss: 0.000417990057\n",
            "\u001b[1m 9/27\u001b[0m \u001b[32m━━━━━━\u001b[0m\u001b[37m━━━━━━━━━━━━━━\u001b[0m \u001b[1m4s\u001b[0m 226ms/stepLoss: 0.00124622067\n",
            "\u001b[1m10/27\u001b[0m \u001b[32m━━━━━━━\u001b[0m\u001b[37m━━━━━━━━━━━━━\u001b[0m \u001b[1m3s\u001b[0m 226ms/stepLoss: 0.000713392626\n",
            "\u001b[1m11/27\u001b[0m \u001b[32m━━━━━━━━\u001b[0m\u001b[37m━━━━━━━━━━━━\u001b[0m \u001b[1m3s\u001b[0m 226ms/stepLoss: 0.000909255585\n",
            "\u001b[1m12/27\u001b[0m \u001b[32m━━━━━━━━\u001b[0m\u001b[37m━━━━━━━━━━━━\u001b[0m \u001b[1m3s\u001b[0m 226ms/stepLoss: 0.000425849197\n",
            "\u001b[1m13/27\u001b[0m \u001b[32m━━━━━━━━━\u001b[0m\u001b[37m━━━━━━━━━━━\u001b[0m \u001b[1m3s\u001b[0m 226ms/stepLoss: 0.000488960184\n",
            "\u001b[1m14/27\u001b[0m \u001b[32m━━━━━━━━━━\u001b[0m\u001b[37m━━━━━━━━━━\u001b[0m \u001b[1m2s\u001b[0m 226ms/stepLoss: 0.000276245817\n",
            "\u001b[1m15/27\u001b[0m \u001b[32m━━━━━━━━━━━\u001b[0m\u001b[37m━━━━━━━━━\u001b[0m \u001b[1m2s\u001b[0m 226ms/stepLoss: 0.000682570739\n",
            "\u001b[1m16/27\u001b[0m \u001b[32m━━━━━━━━━━━\u001b[0m\u001b[37m━━━━━━━━━\u001b[0m \u001b[1m2s\u001b[0m 226ms/stepLoss: 0.0081595378\n",
            "\u001b[1m17/27\u001b[0m \u001b[32m━━━━━━━━━━━━\u001b[0m\u001b[37m━━━━━━━━\u001b[0m \u001b[1m2s\u001b[0m 226ms/stepLoss: 0.000617334794\n",
            "\u001b[1m18/27\u001b[0m \u001b[32m━━━━━━━━━━━━━\u001b[0m\u001b[37m━━━━━━━\u001b[0m \u001b[1m2s\u001b[0m 226ms/stepLoss: 2.84419202e-05\n",
            "\u001b[1m19/27\u001b[0m \u001b[32m━━━━━━━━━━━━━━\u001b[0m\u001b[37m━━━━━━\u001b[0m \u001b[1m1s\u001b[0m 226ms/stepLoss: 0.000434144109\n",
            "\u001b[1m20/27\u001b[0m \u001b[32m━━━━━━━━━━━━━━\u001b[0m\u001b[37m━━━━━━\u001b[0m \u001b[1m1s\u001b[0m 226ms/stepLoss: 0.00347367185\n",
            "\u001b[1m21/27\u001b[0m \u001b[32m━━━━━━━━━━━━━━━\u001b[0m\u001b[37m━━━━━\u001b[0m \u001b[1m1s\u001b[0m 226ms/stepLoss: 0.00152855308\n",
            "\u001b[1m22/27\u001b[0m \u001b[32m━━━━━━━━━━━━━━━━\u001b[0m\u001b[37m━━━━\u001b[0m \u001b[1m1s\u001b[0m 226ms/stepLoss: 6.04565357e-05\n",
            "\u001b[1m23/27\u001b[0m \u001b[32m━━━━━━━━━━━━━━━━━\u001b[0m\u001b[37m━━━\u001b[0m \u001b[1m0s\u001b[0m 226ms/stepLoss: 0.00149438216\n",
            "\u001b[1m24/27\u001b[0m \u001b[32m━━━━━━━━━━━━━━━━━\u001b[0m\u001b[37m━━━\u001b[0m \u001b[1m0s\u001b[0m 226ms/stepLoss: 0.000455807778\n",
            "\u001b[1m25/27\u001b[0m \u001b[32m━━━━━━━━━━━━━━━━━━\u001b[0m\u001b[37m━━\u001b[0m \u001b[1m0s\u001b[0m 226ms/stepLoss: 0.000443060126\n",
            "\u001b[1m26/27\u001b[0m \u001b[32m━━━━━━━━━━━━━━━━━━━\u001b[0m\u001b[37m━\u001b[0m \u001b[1m0s\u001b[0m 226ms/stepLoss: 0.000886953494\n",
            "\u001b[1m27/27\u001b[0m \u001b[32m━━━━━━━━━━━━━━━━━━━━\u001b[0m\u001b[37m\u001b[0m \u001b[1m6s\u001b[0m 221ms/step\n",
            "\n",
            " Epoch 11/50\n",
            "Loss: 0.000235172178\n",
            "\u001b[1m 1/27\u001b[0m \u001b[37m━━━━━━━━━━━━━━━━━━━━\u001b[0m \u001b[1m5s\u001b[0m 226ms/stepLoss: 0.00037599745\n",
            "\u001b[1m 2/27\u001b[0m \u001b[32m━\u001b[0m\u001b[37m━━━━━━━━━━━━━━━━━━━\u001b[0m \u001b[1m5s\u001b[0m 225ms/stepLoss: 0.00280085439\n",
            "\u001b[1m 3/27\u001b[0m \u001b[32m━━\u001b[0m\u001b[37m━━━━━━━━━━━━━━━━━━\u001b[0m \u001b[1m5s\u001b[0m 226ms/stepLoss: 0.000116473158\n",
            "\u001b[1m 4/27\u001b[0m \u001b[32m━━\u001b[0m\u001b[37m━━━━━━━━━━━━━━━━━━\u001b[0m \u001b[1m5s\u001b[0m 226ms/stepLoss: 6.18045124e-06\n",
            "\u001b[1m 5/27\u001b[0m \u001b[32m━━━\u001b[0m\u001b[37m━━━━━━━━━━━━━━━━━\u001b[0m \u001b[1m4s\u001b[0m 226ms/stepLoss: 0.000106778454\n",
            "\u001b[1m 6/27\u001b[0m \u001b[32m━━━━\u001b[0m\u001b[37m━━━━━━━━━━━━━━━━\u001b[0m \u001b[1m4s\u001b[0m 226ms/stepLoss: 0.00155246351\n",
            "\u001b[1m 7/27\u001b[0m \u001b[32m━━━━━\u001b[0m\u001b[37m━━━━━━━━━━━━━━━\u001b[0m \u001b[1m4s\u001b[0m 226ms/stepLoss: 0.000212014653\n",
            "\u001b[1m 8/27\u001b[0m \u001b[32m━━━━━\u001b[0m\u001b[37m━━━━━━━━━━━━━━━\u001b[0m \u001b[1m4s\u001b[0m 226ms/stepLoss: 0.000108063534\n",
            "\u001b[1m 9/27\u001b[0m \u001b[32m━━━━━━\u001b[0m\u001b[37m━━━━━━━━━━━━━━\u001b[0m \u001b[1m4s\u001b[0m 226ms/stepLoss: 0.000505304954\n",
            "\u001b[1m10/27\u001b[0m \u001b[32m━━━━━━━\u001b[0m\u001b[37m━━━━━━━━━━━━━\u001b[0m \u001b[1m3s\u001b[0m 226ms/stepLoss: 0.000810874044\n",
            "\u001b[1m11/27\u001b[0m \u001b[32m━━━━━━━━\u001b[0m\u001b[37m━━━━━━━━━━━━\u001b[0m \u001b[1m3s\u001b[0m 227ms/stepLoss: 0.000961801561\n",
            "\u001b[1m12/27\u001b[0m \u001b[32m━━━━━━━━\u001b[0m\u001b[37m━━━━━━━━━━━━\u001b[0m \u001b[1m3s\u001b[0m 227ms/stepLoss: 0.00194068323\n",
            "\u001b[1m13/27\u001b[0m \u001b[32m━━━━━━━━━\u001b[0m\u001b[37m━━━━━━━━━━━\u001b[0m \u001b[1m3s\u001b[0m 227ms/stepLoss: 0.00275581377\n",
            "\u001b[1m14/27\u001b[0m \u001b[32m━━━━━━━━━━\u001b[0m\u001b[37m━━━━━━━━━━\u001b[0m \u001b[1m2s\u001b[0m 227ms/stepLoss: 0.00128081231\n",
            "\u001b[1m15/27\u001b[0m \u001b[32m━━━━━━━━━━━\u001b[0m\u001b[37m━━━━━━━━━\u001b[0m \u001b[1m2s\u001b[0m 227ms/stepLoss: 0.000596603728\n",
            "\u001b[1m16/27\u001b[0m \u001b[32m━━━━━━━━━━━\u001b[0m\u001b[37m━━━━━━━━━\u001b[0m \u001b[1m2s\u001b[0m 227ms/stepLoss: 0.00043089359\n",
            "\u001b[1m17/27\u001b[0m \u001b[32m━━━━━━━━━━━━\u001b[0m\u001b[37m━━━━━━━━\u001b[0m \u001b[1m2s\u001b[0m 227ms/stepLoss: 2.04865137e-05\n",
            "\u001b[1m18/27\u001b[0m \u001b[32m━━━━━━━━━━━━━\u001b[0m\u001b[37m━━━━━━━\u001b[0m \u001b[1m2s\u001b[0m 227ms/stepLoss: 0.000147746905\n",
            "\u001b[1m19/27\u001b[0m \u001b[32m━━━━━━━━━━━━━━\u001b[0m\u001b[37m━━━━━━\u001b[0m \u001b[1m1s\u001b[0m 227ms/stepLoss: 0.000592850614\n",
            "\u001b[1m20/27\u001b[0m \u001b[32m━━━━━━━━━━━━━━\u001b[0m\u001b[37m━━━━━━\u001b[0m \u001b[1m1s\u001b[0m 227ms/stepLoss: 0.000171108171\n",
            "\u001b[1m21/27\u001b[0m \u001b[32m━━━━━━━━━━━━━━━\u001b[0m\u001b[37m━━━━━\u001b[0m \u001b[1m1s\u001b[0m 227ms/stepLoss: 0.000767910678\n",
            "\u001b[1m22/27\u001b[0m \u001b[32m━━━━━━━━━━━━━━━━\u001b[0m\u001b[37m━━━━\u001b[0m \u001b[1m1s\u001b[0m 227ms/stepLoss: 0.000909302093\n",
            "\u001b[1m23/27\u001b[0m \u001b[32m━━━━━━━━━━━━━━━━━\u001b[0m\u001b[37m━━━\u001b[0m \u001b[1m0s\u001b[0m 227ms/stepLoss: 5.24176139e-05\n",
            "\u001b[1m24/27\u001b[0m \u001b[32m━━━━━━━━━━━━━━━━━\u001b[0m\u001b[37m━━━\u001b[0m \u001b[1m0s\u001b[0m 227ms/stepLoss: 0.000529855257\n",
            "\u001b[1m25/27\u001b[0m \u001b[32m━━━━━━━━━━━━━━━━━━\u001b[0m\u001b[37m━━\u001b[0m \u001b[1m0s\u001b[0m 226ms/stepLoss: 0.00157930469\n",
            "\u001b[1m26/27\u001b[0m \u001b[32m━━━━━━━━━━━━━━━━━━━\u001b[0m\u001b[37m━\u001b[0m \u001b[1m0s\u001b[0m 226ms/stepLoss: 0.000999777811\n",
            "\u001b[1m27/27\u001b[0m \u001b[32m━━━━━━━━━━━━━━━━━━━━\u001b[0m\u001b[37m\u001b[0m \u001b[1m6s\u001b[0m 221ms/step\n",
            "\n",
            " Epoch 12/50\n",
            "Loss: 1.10647916e-05\n",
            "\u001b[1m 1/27\u001b[0m \u001b[37m━━━━━━━━━━━━━━━━━━━━\u001b[0m \u001b[1m5s\u001b[0m 225ms/stepLoss: 0.000149939442\n",
            "\u001b[1m 2/27\u001b[0m \u001b[32m━\u001b[0m\u001b[37m━━━━━━━━━━━━━━━━━━━\u001b[0m \u001b[1m5s\u001b[0m 225ms/stepLoss: 0.000813938968\n",
            "\u001b[1m 3/27\u001b[0m \u001b[32m━━\u001b[0m\u001b[37m━━━━━━━━━━━━━━━━━━\u001b[0m \u001b[1m5s\u001b[0m 226ms/stepLoss: 0.00154720503\n",
            "\u001b[1m 4/27\u001b[0m \u001b[32m━━\u001b[0m\u001b[37m━━━━━━━━━━━━━━━━━━\u001b[0m \u001b[1m5s\u001b[0m 227ms/stepLoss: 0.00229510199\n",
            "\u001b[1m 5/27\u001b[0m \u001b[32m━━━\u001b[0m\u001b[37m━━━━━━━━━━━━━━━━━\u001b[0m \u001b[1m4s\u001b[0m 226ms/stepLoss: 0.000229301077\n",
            "\u001b[1m 6/27\u001b[0m \u001b[32m━━━━\u001b[0m\u001b[37m━━━━━━━━━━━━━━━━\u001b[0m \u001b[1m4s\u001b[0m 226ms/stepLoss: 0.000219359121\n",
            "\u001b[1m 7/27\u001b[0m \u001b[32m━━━━━\u001b[0m\u001b[37m━━━━━━━━━━━━━━━\u001b[0m \u001b[1m4s\u001b[0m 226ms/stepLoss: 0.000344313477\n",
            "\u001b[1m 8/27\u001b[0m \u001b[32m━━━━━\u001b[0m\u001b[37m━━━━━━━━━━━━━━━\u001b[0m \u001b[1m4s\u001b[0m 226ms/stepLoss: 0.00122444367\n",
            "\u001b[1m 9/27\u001b[0m \u001b[32m━━━━━━\u001b[0m\u001b[37m━━━━━━━━━━━━━━\u001b[0m \u001b[1m4s\u001b[0m 226ms/stepLoss: 0.00044058598\n",
            "\u001b[1m10/27\u001b[0m \u001b[32m━━━━━━━\u001b[0m\u001b[37m━━━━━━━━━━━━━\u001b[0m \u001b[1m3s\u001b[0m 226ms/stepLoss: 0.000692183152\n",
            "\u001b[1m11/27\u001b[0m \u001b[32m━━━━━━━━\u001b[0m\u001b[37m━━━━━━━━━━━━\u001b[0m \u001b[1m3s\u001b[0m 226ms/stepLoss: 0.000273671\n",
            "\u001b[1m12/27\u001b[0m \u001b[32m━━━━━━━━\u001b[0m\u001b[37m━━━━━━━━━━━━\u001b[0m \u001b[1m3s\u001b[0m 226ms/stepLoss: 0.000682865677\n",
            "\u001b[1m13/27\u001b[0m \u001b[32m━━━━━━━━━\u001b[0m\u001b[37m━━━━━━━━━━━\u001b[0m \u001b[1m3s\u001b[0m 226ms/stepLoss: 1.4793839e-05\n",
            "\u001b[1m14/27\u001b[0m \u001b[32m━━━━━━━━━━\u001b[0m\u001b[37m━━━━━━━━━━\u001b[0m \u001b[1m2s\u001b[0m 226ms/stepLoss: 0.00012508611\n",
            "\u001b[1m15/27\u001b[0m \u001b[32m━━━━━━━━━━━\u001b[0m\u001b[37m━━━━━━━━━\u001b[0m \u001b[1m2s\u001b[0m 226ms/stepLoss: 0.000280425302\n",
            "\u001b[1m16/27\u001b[0m \u001b[32m━━━━━━━━━━━\u001b[0m\u001b[37m━━━━━━━━━\u001b[0m \u001b[1m2s\u001b[0m 226ms/stepLoss: 0.000743389712\n",
            "\u001b[1m17/27\u001b[0m \u001b[32m━━━━━━━━━━━━\u001b[0m\u001b[37m━━━━━━━━\u001b[0m \u001b[1m2s\u001b[0m 226ms/stepLoss: 4.33601745e-05\n",
            "\u001b[1m18/27\u001b[0m \u001b[32m━━━━━━━━━━━━━\u001b[0m\u001b[37m━━━━━━━\u001b[0m \u001b[1m2s\u001b[0m 226ms/stepLoss: 8.13963343e-05\n",
            "\u001b[1m19/27\u001b[0m \u001b[32m━━━━━━━━━━━━━━\u001b[0m\u001b[37m━━━━━━\u001b[0m \u001b[1m1s\u001b[0m 226ms/stepLoss: 0.000512199884\n",
            "\u001b[1m20/27\u001b[0m \u001b[32m━━━━━━━━━━━━━━\u001b[0m\u001b[37m━━━━━━\u001b[0m \u001b[1m1s\u001b[0m 226ms/stepLoss: 0.000838555337\n",
            "\u001b[1m21/27\u001b[0m \u001b[32m━━━━━━━━━━━━━━━\u001b[0m\u001b[37m━━━━━\u001b[0m \u001b[1m1s\u001b[0m 226ms/stepLoss: 9.89940891e-05\n",
            "\u001b[1m22/27\u001b[0m \u001b[32m━━━━━━━━━━━━━━━━\u001b[0m\u001b[37m━━━━\u001b[0m \u001b[1m1s\u001b[0m 226ms/stepLoss: 0.00136166438\n",
            "\u001b[1m23/27\u001b[0m \u001b[32m━━━━━━━━━━━━━━━━━\u001b[0m\u001b[37m━━━\u001b[0m \u001b[1m0s\u001b[0m 226ms/stepLoss: 4.96945577e-05\n",
            "\u001b[1m24/27\u001b[0m \u001b[32m━━━━━━━━━━━━━━━━━\u001b[0m\u001b[37m━━━\u001b[0m \u001b[1m0s\u001b[0m 225ms/stepLoss: 0.000262172776\n",
            "\u001b[1m25/27\u001b[0m \u001b[32m━━━━━━━━━━━━━━━━━━\u001b[0m\u001b[37m━━\u001b[0m \u001b[1m0s\u001b[0m 225ms/stepLoss: 0.000479575858\n",
            "\u001b[1m26/27\u001b[0m \u001b[32m━━━━━━━━━━━━━━━━━━━\u001b[0m\u001b[37m━\u001b[0m \u001b[1m0s\u001b[0m 225ms/stepLoss: 0.00389497681\n",
            "\u001b[1m27/27\u001b[0m \u001b[32m━━━━━━━━━━━━━━━━━━━━\u001b[0m\u001b[37m\u001b[0m \u001b[1m6s\u001b[0m 220ms/step\n",
            "\n",
            " Epoch 13/50\n",
            "Loss: 0.000449065701\n",
            "\u001b[1m 1/27\u001b[0m \u001b[37m━━━━━━━━━━━━━━━━━━━━\u001b[0m \u001b[1m5s\u001b[0m 226ms/stepLoss: 0.00026708658\n",
            "\u001b[1m 2/27\u001b[0m \u001b[32m━\u001b[0m\u001b[37m━━━━━━━━━━━━━━━━━━━\u001b[0m \u001b[1m5s\u001b[0m 227ms/stepLoss: 4.59557268e-05\n",
            "\u001b[1m 3/27\u001b[0m \u001b[32m━━\u001b[0m\u001b[37m━━━━━━━━━━━━━━━━━━\u001b[0m \u001b[1m5s\u001b[0m 226ms/stepLoss: 0.000150658219\n",
            "\u001b[1m 4/27\u001b[0m \u001b[32m━━\u001b[0m\u001b[37m━━━━━━━━━━━━━━━━━━\u001b[0m \u001b[1m5s\u001b[0m 225ms/stepLoss: 0.000102725906\n",
            "\u001b[1m 5/27\u001b[0m \u001b[32m━━━\u001b[0m\u001b[37m━━━━━━━━━━━━━━━━━\u001b[0m \u001b[1m4s\u001b[0m 225ms/stepLoss: 0.000652961258\n",
            "\u001b[1m 6/27\u001b[0m \u001b[32m━━━━\u001b[0m\u001b[37m━━━━━━━━━━━━━━━━\u001b[0m \u001b[1m4s\u001b[0m 225ms/stepLoss: 0.00127448398\n",
            "\u001b[1m 7/27\u001b[0m \u001b[32m━━━━━\u001b[0m\u001b[37m━━━━━━━━━━━━━━━\u001b[0m \u001b[1m4s\u001b[0m 224ms/stepLoss: 9.84462458e-05\n",
            "\u001b[1m 8/27\u001b[0m \u001b[32m━━━━━\u001b[0m\u001b[37m━━━━━━━━━━━━━━━\u001b[0m \u001b[1m4s\u001b[0m 224ms/stepLoss: 0.000807644043\n",
            "\u001b[1m 9/27\u001b[0m \u001b[32m━━━━━━\u001b[0m\u001b[37m━━━━━━━━━━━━━━\u001b[0m \u001b[1m4s\u001b[0m 224ms/stepLoss: 0.000369836169\n",
            "\u001b[1m10/27\u001b[0m \u001b[32m━━━━━━━\u001b[0m\u001b[37m━━━━━━━━━━━━━\u001b[0m \u001b[1m3s\u001b[0m 224ms/stepLoss: 0.000561879366\n",
            "\u001b[1m11/27\u001b[0m \u001b[32m━━━━━━━━\u001b[0m\u001b[37m━━━━━━━━━━━━\u001b[0m \u001b[1m3s\u001b[0m 224ms/stepLoss: 0.00110599154\n",
            "\u001b[1m12/27\u001b[0m \u001b[32m━━━━━━━━\u001b[0m\u001b[37m━━━━━━━━━━━━\u001b[0m \u001b[1m3s\u001b[0m 224ms/stepLoss: 0.00101042294\n",
            "\u001b[1m13/27\u001b[0m \u001b[32m━━━━━━━━━\u001b[0m\u001b[37m━━━━━━━━━━━\u001b[0m \u001b[1m3s\u001b[0m 225ms/stepLoss: 0.000713600777\n",
            "\u001b[1m14/27\u001b[0m \u001b[32m━━━━━━━━━━\u001b[0m\u001b[37m━━━━━━━━━━\u001b[0m \u001b[1m2s\u001b[0m 225ms/stepLoss: 0.000988503802\n",
            "\u001b[1m15/27\u001b[0m \u001b[32m━━━━━━━━━━━\u001b[0m\u001b[37m━━━━━━━━━\u001b[0m \u001b[1m2s\u001b[0m 224ms/stepLoss: 0.00113403809\n",
            "\u001b[1m16/27\u001b[0m \u001b[32m━━━━━━━━━━━\u001b[0m\u001b[37m━━━━━━━━━\u001b[0m \u001b[1m2s\u001b[0m 224ms/stepLoss: 0.000391465524\n",
            "\u001b[1m17/27\u001b[0m \u001b[32m━━━━━━━━━━━━\u001b[0m\u001b[37m━━━━━━━━\u001b[0m \u001b[1m2s\u001b[0m 224ms/stepLoss: 0.00083941652\n",
            "\u001b[1m18/27\u001b[0m \u001b[32m━━━━━━━━━━━━━\u001b[0m\u001b[37m━━━━━━━\u001b[0m \u001b[1m2s\u001b[0m 225ms/stepLoss: 0.000472687796\n",
            "\u001b[1m19/27\u001b[0m \u001b[32m━━━━━━━━━━━━━━\u001b[0m\u001b[37m━━━━━━\u001b[0m \u001b[1m1s\u001b[0m 224ms/stepLoss: 1.27706899e-05\n",
            "\u001b[1m20/27\u001b[0m \u001b[32m━━━━━━━━━━━━━━\u001b[0m\u001b[37m━━━━━━\u001b[0m \u001b[1m1s\u001b[0m 224ms/stepLoss: 0.000564578746\n",
            "\u001b[1m21/27\u001b[0m \u001b[32m━━━━━━━━━━━━━━━\u001b[0m\u001b[37m━━━━━\u001b[0m \u001b[1m1s\u001b[0m 224ms/stepLoss: 1.84679575e-05\n",
            "\u001b[1m22/27\u001b[0m \u001b[32m━━━━━━━━━━━━━━━━\u001b[0m\u001b[37m━━━━\u001b[0m \u001b[1m1s\u001b[0m 224ms/stepLoss: 0.000434160262\n",
            "\u001b[1m23/27\u001b[0m \u001b[32m━━━━━━━━━━━━━━━━━\u001b[0m\u001b[37m━━━\u001b[0m \u001b[1m0s\u001b[0m 224ms/stepLoss: 2.82199926e-05\n",
            "\u001b[1m24/27\u001b[0m \u001b[32m━━━━━━━━━━━━━━━━━\u001b[0m\u001b[37m━━━\u001b[0m \u001b[1m0s\u001b[0m 224ms/stepLoss: 1.19473671e-05\n",
            "\u001b[1m25/27\u001b[0m \u001b[32m━━━━━━━━━━━━━━━━━━\u001b[0m\u001b[37m━━\u001b[0m \u001b[1m0s\u001b[0m 224ms/stepLoss: 0.000484693854\n",
            "\u001b[1m26/27\u001b[0m \u001b[32m━━━━━━━━━━━━━━━━━━━\u001b[0m\u001b[37m━\u001b[0m \u001b[1m0s\u001b[0m 224ms/stepLoss: 4.17232741e-07\n",
            "\u001b[1m27/27\u001b[0m \u001b[32m━━━━━━━━━━━━━━━━━━━━\u001b[0m\u001b[37m\u001b[0m \u001b[1m6s\u001b[0m 219ms/step\n",
            "\n",
            " Epoch 14/50\n",
            "Loss: 8.53282254e-05\n",
            "\u001b[1m 1/27\u001b[0m \u001b[37m━━━━━━━━━━━━━━━━━━━━\u001b[0m \u001b[1m5s\u001b[0m 230ms/stepLoss: 0.000679508492\n",
            "\u001b[1m 2/27\u001b[0m \u001b[32m━\u001b[0m\u001b[37m━━━━━━━━━━━━━━━━━━━\u001b[0m \u001b[1m5s\u001b[0m 227ms/stepLoss: 8.7842971e-05\n",
            "\u001b[1m 3/27\u001b[0m \u001b[32m━━\u001b[0m\u001b[37m━━━━━━━━━━━━━━━━━━\u001b[0m \u001b[1m5s\u001b[0m 227ms/stepLoss: 4.00856479e-05\n",
            "\u001b[1m 4/27\u001b[0m \u001b[32m━━\u001b[0m\u001b[37m━━━━━━━━━━━━━━━━━━\u001b[0m \u001b[1m5s\u001b[0m 225ms/stepLoss: 0.000653723197\n",
            "\u001b[1m 5/27\u001b[0m \u001b[32m━━━\u001b[0m\u001b[37m━━━━━━━━━━━━━━━━━\u001b[0m \u001b[1m4s\u001b[0m 225ms/stepLoss: 0.000373209623\n",
            "\u001b[1m 6/27\u001b[0m \u001b[32m━━━━\u001b[0m\u001b[37m━━━━━━━━━━━━━━━━\u001b[0m \u001b[1m4s\u001b[0m 225ms/stepLoss: 0.000228328718\n",
            "\u001b[1m 7/27\u001b[0m \u001b[32m━━━━━\u001b[0m\u001b[37m━━━━━━━━━━━━━━━\u001b[0m \u001b[1m4s\u001b[0m 224ms/stepLoss: 0.000115701667\n",
            "\u001b[1m 8/27\u001b[0m \u001b[32m━━━━━\u001b[0m\u001b[37m━━━━━━━━━━━━━━━\u001b[0m \u001b[1m4s\u001b[0m 225ms/stepLoss: 7.20481967e-06\n",
            "\u001b[1m 9/27\u001b[0m \u001b[32m━━━━━━\u001b[0m\u001b[37m━━━━━━━━━━━━━━\u001b[0m \u001b[1m4s\u001b[0m 225ms/stepLoss: 0.001205988\n",
            "\u001b[1m10/27\u001b[0m \u001b[32m━━━━━━━\u001b[0m\u001b[37m━━━━━━━━━━━━━\u001b[0m \u001b[1m3s\u001b[0m 225ms/stepLoss: 0.00060392177\n",
            "\u001b[1m11/27\u001b[0m \u001b[32m━━━━━━━━\u001b[0m\u001b[37m━━━━━━━━━━━━\u001b[0m \u001b[1m3s\u001b[0m 225ms/stepLoss: 7.99834379e-06\n",
            "\u001b[1m12/27\u001b[0m \u001b[32m━━━━━━━━\u001b[0m\u001b[37m━━━━━━━━━━━━\u001b[0m \u001b[1m3s\u001b[0m 225ms/stepLoss: 0.000859686\n",
            "\u001b[1m13/27\u001b[0m \u001b[32m━━━━━━━━━\u001b[0m\u001b[37m━━━━━━━━━━━\u001b[0m \u001b[1m3s\u001b[0m 225ms/stepLoss: 9.96523e-05\n",
            "\u001b[1m14/27\u001b[0m \u001b[32m━━━━━━━━━━\u001b[0m\u001b[37m━━━━━━━━━━\u001b[0m \u001b[1m2s\u001b[0m 225ms/stepLoss: 0.000193539934\n",
            "\u001b[1m15/27\u001b[0m \u001b[32m━━━━━━━━━━━\u001b[0m\u001b[37m━━━━━━━━━\u001b[0m \u001b[1m2s\u001b[0m 225ms/stepLoss: 0.00132666377\n",
            "\u001b[1m16/27\u001b[0m \u001b[32m━━━━━━━━━━━\u001b[0m\u001b[37m━━━━━━━━━\u001b[0m \u001b[1m2s\u001b[0m 225ms/stepLoss: 0.000447056082\n",
            "\u001b[1m17/27\u001b[0m \u001b[32m━━━━━━━━━━━━\u001b[0m\u001b[37m━━━━━━━━\u001b[0m \u001b[1m2s\u001b[0m 225ms/stepLoss: 5.16540786e-05\n",
            "\u001b[1m18/27\u001b[0m \u001b[32m━━━━━━━━━━━━━\u001b[0m\u001b[37m━━━━━━━\u001b[0m \u001b[1m2s\u001b[0m 225ms/stepLoss: 3.09261e-05\n",
            "\u001b[1m19/27\u001b[0m \u001b[32m━━━━━━━━━━━━━━\u001b[0m\u001b[37m━━━━━━\u001b[0m \u001b[1m1s\u001b[0m 225ms/stepLoss: 0.000376174168\n",
            "\u001b[1m20/27\u001b[0m \u001b[32m━━━━━━━━━━━━━━\u001b[0m\u001b[37m━━━━━━\u001b[0m \u001b[1m1s\u001b[0m 225ms/stepLoss: 5.45991788e-05\n",
            "\u001b[1m21/27\u001b[0m \u001b[32m━━━━━━━━━━━━━━━\u001b[0m\u001b[37m━━━━━\u001b[0m \u001b[1m1s\u001b[0m 225ms/stepLoss: 0.000621684943\n",
            "\u001b[1m22/27\u001b[0m \u001b[32m━━━━━━━━━━━━━━━━\u001b[0m\u001b[37m━━━━\u001b[0m \u001b[1m1s\u001b[0m 225ms/stepLoss: 8.3247156e-05\n",
            "\u001b[1m23/27\u001b[0m \u001b[32m━━━━━━━━━━━━━━━━━\u001b[0m\u001b[37m━━━\u001b[0m \u001b[1m0s\u001b[0m 225ms/stepLoss: 0.000131892113\n",
            "\u001b[1m24/27\u001b[0m \u001b[32m━━━━━━━━━━━━━━━━━\u001b[0m\u001b[37m━━━\u001b[0m \u001b[1m0s\u001b[0m 225ms/stepLoss: 0.000546665106\n",
            "\u001b[1m25/27\u001b[0m \u001b[32m━━━━━━━━━━━━━━━━━━\u001b[0m\u001b[37m━━\u001b[0m \u001b[1m0s\u001b[0m 224ms/stepLoss: 0.000429756\n",
            "\u001b[1m26/27\u001b[0m \u001b[32m━━━━━━━━━━━━━━━━━━━\u001b[0m\u001b[37m━\u001b[0m \u001b[1m0s\u001b[0m 224ms/stepLoss: 6.83893159e-05\n",
            "\u001b[1m27/27\u001b[0m \u001b[32m━━━━━━━━━━━━━━━━━━━━\u001b[0m\u001b[37m\u001b[0m \u001b[1m6s\u001b[0m 219ms/step\n",
            "\n",
            " Epoch 15/50\n",
            "Loss: 0.00016534295\n",
            "\u001b[1m 1/27\u001b[0m \u001b[37m━━━━━━━━━━━━━━━━━━━━\u001b[0m \u001b[1m6s\u001b[0m 231ms/stepLoss: 0.000330262352\n",
            "\u001b[1m 2/27\u001b[0m \u001b[32m━\u001b[0m\u001b[37m━━━━━━━━━━━━━━━━━━━\u001b[0m \u001b[1m5s\u001b[0m 228ms/stepLoss: 0.000367860601\n",
            "\u001b[1m 3/27\u001b[0m \u001b[32m━━\u001b[0m\u001b[37m━━━━━━━━━━━━━━━━━━\u001b[0m \u001b[1m5s\u001b[0m 228ms/stepLoss: 0.00054273248\n",
            "\u001b[1m 4/27\u001b[0m \u001b[32m━━\u001b[0m\u001b[37m━━━━━━━━━━━━━━━━━━\u001b[0m \u001b[1m5s\u001b[0m 227ms/stepLoss: 0.000121755256\n",
            "\u001b[1m 5/27\u001b[0m \u001b[32m━━━\u001b[0m\u001b[37m━━━━━━━━━━━━━━━━━\u001b[0m \u001b[1m4s\u001b[0m 226ms/stepLoss: 5.56944224e-06\n",
            "\u001b[1m 6/27\u001b[0m \u001b[32m━━━━\u001b[0m\u001b[37m━━━━━━━━━━━━━━━━\u001b[0m \u001b[1m4s\u001b[0m 226ms/stepLoss: 8.09807752e-05\n",
            "\u001b[1m 7/27\u001b[0m \u001b[32m━━━━━\u001b[0m\u001b[37m━━━━━━━━━━━━━━━\u001b[0m \u001b[1m4s\u001b[0m 226ms/stepLoss: 0.000743532495\n",
            "\u001b[1m 8/27\u001b[0m \u001b[32m━━━━━\u001b[0m\u001b[37m━━━━━━━━━━━━━━━\u001b[0m \u001b[1m4s\u001b[0m 226ms/stepLoss: 1.7089902e-05\n",
            "\u001b[1m 9/27\u001b[0m \u001b[32m━━━━━━\u001b[0m\u001b[37m━━━━━━━━━━━━━━\u001b[0m \u001b[1m4s\u001b[0m 226ms/stepLoss: 0.000564544869\n",
            "\u001b[1m10/27\u001b[0m \u001b[32m━━━━━━━\u001b[0m\u001b[37m━━━━━━━━━━━━━\u001b[0m \u001b[1m3s\u001b[0m 226ms/stepLoss: 0.000194191016\n",
            "\u001b[1m11/27\u001b[0m \u001b[32m━━━━━━━━\u001b[0m\u001b[37m━━━━━━━━━━━━\u001b[0m \u001b[1m3s\u001b[0m 226ms/stepLoss: 0.00046392309\n",
            "\u001b[1m12/27\u001b[0m \u001b[32m━━━━━━━━\u001b[0m\u001b[37m━━━━━━━━━━━━\u001b[0m \u001b[1m3s\u001b[0m 226ms/stepLoss: 0.00022038797\n",
            "\u001b[1m13/27\u001b[0m \u001b[32m━━━━━━━━━\u001b[0m\u001b[37m━━━━━━━━━━━\u001b[0m \u001b[1m3s\u001b[0m 226ms/stepLoss: 0.000367883127\n",
            "\u001b[1m14/27\u001b[0m \u001b[32m━━━━━━━━━━\u001b[0m\u001b[37m━━━━━━━━━━\u001b[0m \u001b[1m2s\u001b[0m 225ms/stepLoss: 0.000787274563\n",
            "\u001b[1m15/27\u001b[0m \u001b[32m━━━━━━━━━━━\u001b[0m\u001b[37m━━━━━━━━━\u001b[0m \u001b[1m2s\u001b[0m 225ms/stepLoss: 2.42704537e-05\n",
            "\u001b[1m16/27\u001b[0m \u001b[32m━━━━━━━━━━━\u001b[0m\u001b[37m━━━━━━━━━\u001b[0m \u001b[1m2s\u001b[0m 225ms/stepLoss: 8.94482801e-05\n",
            "\u001b[1m17/27\u001b[0m \u001b[32m━━━━━━━━━━━━\u001b[0m\u001b[37m━━━━━━━━\u001b[0m \u001b[1m2s\u001b[0m 225ms/stepLoss: 7.5957214e-05\n",
            "\u001b[1m18/27\u001b[0m \u001b[32m━━━━━━━━━━━━━\u001b[0m\u001b[37m━━━━━━━\u001b[0m \u001b[1m2s\u001b[0m 225ms/stepLoss: 0.000427101564\n",
            "\u001b[1m19/27\u001b[0m \u001b[32m━━━━━━━━━━━━━━\u001b[0m\u001b[37m━━━━━━\u001b[0m \u001b[1m1s\u001b[0m 225ms/stepLoss: 1.83657642e-06\n",
            "\u001b[1m20/27\u001b[0m \u001b[32m━━━━━━━━━━━━━━\u001b[0m\u001b[37m━━━━━━\u001b[0m \u001b[1m1s\u001b[0m 225ms/stepLoss: 0.000199027112\n",
            "\u001b[1m21/27\u001b[0m \u001b[32m━━━━━━━━━━━━━━━\u001b[0m\u001b[37m━━━━━\u001b[0m \u001b[1m1s\u001b[0m 225ms/stepLoss: 0.00073610153\n",
            "\u001b[1m22/27\u001b[0m \u001b[32m━━━━━━━━━━━━━━━━\u001b[0m\u001b[37m━━━━\u001b[0m \u001b[1m1s\u001b[0m 225ms/stepLoss: 0.000132210669\n",
            "\u001b[1m23/27\u001b[0m \u001b[32m━━━━━━━━━━━━━━━━━\u001b[0m\u001b[37m━━━\u001b[0m \u001b[1m0s\u001b[0m 225ms/stepLoss: 4.20220795e-06\n",
            "\u001b[1m24/27\u001b[0m \u001b[32m━━━━━━━━━━━━━━━━━\u001b[0m\u001b[37m━━━\u001b[0m \u001b[1m0s\u001b[0m 225ms/stepLoss: 0.000274419028\n",
            "\u001b[1m25/27\u001b[0m \u001b[32m━━━━━━━━━━━━━━━━━━\u001b[0m\u001b[37m━━\u001b[0m \u001b[1m0s\u001b[0m 225ms/stepLoss: 1.76289686e-05\n",
            "\u001b[1m26/27\u001b[0m \u001b[32m━━━━━━━━━━━━━━━━━━━\u001b[0m\u001b[37m━\u001b[0m \u001b[1m0s\u001b[0m 225ms/stepLoss: 7.45058628e-07\n",
            "\u001b[1m27/27\u001b[0m \u001b[32m━━━━━━━━━━━━━━━━━━━━\u001b[0m\u001b[37m\u001b[0m \u001b[1m6s\u001b[0m 220ms/step\n",
            "\n",
            " Epoch 16/50\n",
            "Loss: 5.89800911e-05\n",
            "\u001b[1m 1/27\u001b[0m \u001b[37m━━━━━━━━━━━━━━━━━━━━\u001b[0m \u001b[1m5s\u001b[0m 230ms/stepLoss: 0.00081196893\n",
            "\u001b[1m 2/27\u001b[0m \u001b[32m━\u001b[0m\u001b[37m━━━━━━━━━━━━━━━━━━━\u001b[0m \u001b[1m5s\u001b[0m 229ms/stepLoss: 0.000514471612\n",
            "\u001b[1m 3/27\u001b[0m \u001b[32m━━\u001b[0m\u001b[37m━━━━━━━━━━━━━━━━━━\u001b[0m \u001b[1m5s\u001b[0m 229ms/stepLoss: 3.31455303e-05\n",
            "\u001b[1m 4/27\u001b[0m \u001b[32m━━\u001b[0m\u001b[37m━━━━━━━━━━━━━━━━━━\u001b[0m \u001b[1m5s\u001b[0m 228ms/stepLoss: 0.000222431467\n",
            "\u001b[1m 5/27\u001b[0m \u001b[32m━━━\u001b[0m\u001b[37m━━━━━━━━━━━━━━━━━\u001b[0m \u001b[1m5s\u001b[0m 228ms/stepLoss: 0.000356763543\n",
            "\u001b[1m 6/27\u001b[0m \u001b[32m━━━━\u001b[0m\u001b[37m━━━━━━━━━━━━━━━━\u001b[0m \u001b[1m4s\u001b[0m 228ms/stepLoss: 9.79039469e-05\n",
            "\u001b[1m 7/27\u001b[0m \u001b[32m━━━━━\u001b[0m\u001b[37m━━━━━━━━━━━━━━━\u001b[0m \u001b[1m4s\u001b[0m 227ms/stepLoss: 0.00050207891\n",
            "\u001b[1m 8/27\u001b[0m \u001b[32m━━━━━\u001b[0m\u001b[37m━━━━━━━━━━━━━━━\u001b[0m \u001b[1m4s\u001b[0m 227ms/stepLoss: 0.000141766446\n",
            "\u001b[1m 9/27\u001b[0m \u001b[32m━━━━━━\u001b[0m\u001b[37m━━━━━━━━━━━━━━\u001b[0m \u001b[1m4s\u001b[0m 227ms/stepLoss: 0.000456204376\n",
            "\u001b[1m10/27\u001b[0m \u001b[32m━━━━━━━\u001b[0m\u001b[37m━━━━━━━━━━━━━\u001b[0m \u001b[1m3s\u001b[0m 227ms/stepLoss: 0.00043969063\n",
            "\u001b[1m11/27\u001b[0m \u001b[32m━━━━━━━━\u001b[0m\u001b[37m━━━━━━━━━━━━\u001b[0m \u001b[1m3s\u001b[0m 227ms/stepLoss: 0.000193319676\n",
            "\u001b[1m12/27\u001b[0m \u001b[32m━━━━━━━━\u001b[0m\u001b[37m━━━━━━━━━━━━\u001b[0m \u001b[1m3s\u001b[0m 227ms/stepLoss: 0.000638689497\n",
            "\u001b[1m13/27\u001b[0m \u001b[32m━━━━━━━━━\u001b[0m\u001b[37m━━━━━━━━━━━\u001b[0m \u001b[1m3s\u001b[0m 227ms/stepLoss: 7.92207211e-05\n",
            "\u001b[1m14/27\u001b[0m \u001b[32m━━━━━━━━━━\u001b[0m\u001b[37m━━━━━━━━━━\u001b[0m \u001b[1m2s\u001b[0m 227ms/stepLoss: 6.24680251e-05\n",
            "\u001b[1m15/27\u001b[0m \u001b[32m━━━━━━━━━━━\u001b[0m\u001b[37m━━━━━━━━━\u001b[0m \u001b[1m2s\u001b[0m 226ms/stepLoss: 9.95456503e-05\n",
            "\u001b[1m16/27\u001b[0m \u001b[32m━━━━━━━━━━━\u001b[0m\u001b[37m━━━━━━━━━\u001b[0m \u001b[1m2s\u001b[0m 226ms/stepLoss: 7.82282877e-05\n",
            "\u001b[1m17/27\u001b[0m \u001b[32m━━━━━━━━━━━━\u001b[0m\u001b[37m━━━━━━━━\u001b[0m \u001b[1m2s\u001b[0m 226ms/stepLoss: 0.000217727575\n",
            "\u001b[1m18/27\u001b[0m \u001b[32m━━━━━━━━━━━━━\u001b[0m\u001b[37m━━━━━━━\u001b[0m \u001b[1m2s\u001b[0m 226ms/stepLoss: 0.000522216375\n",
            "\u001b[1m19/27\u001b[0m \u001b[32m━━━━━━━━━━━━━━\u001b[0m\u001b[37m━━━━━━\u001b[0m \u001b[1m1s\u001b[0m 226ms/stepLoss: 1.61277057e-05\n",
            "\u001b[1m20/27\u001b[0m \u001b[32m━━━━━━━━━━━━━━\u001b[0m\u001b[37m━━━━━━\u001b[0m \u001b[1m1s\u001b[0m 226ms/stepLoss: 0.000139372147\n",
            "\u001b[1m21/27\u001b[0m \u001b[32m━━━━━━━━━━━━━━━\u001b[0m\u001b[37m━━━━━\u001b[0m \u001b[1m1s\u001b[0m 226ms/stepLoss: 0.000261685171\n",
            "\u001b[1m22/27\u001b[0m \u001b[32m━━━━━━━━━━━━━━━━\u001b[0m\u001b[37m━━━━\u001b[0m \u001b[1m1s\u001b[0m 226ms/stepLoss: 0.000347716064\n",
            "\u001b[1m23/27\u001b[0m \u001b[32m━━━━━━━━━━━━━━━━━\u001b[0m\u001b[37m━━━\u001b[0m \u001b[1m0s\u001b[0m 226ms/stepLoss: 0.000752009859\n",
            "\u001b[1m24/27\u001b[0m \u001b[32m━━━━━━━━━━━━━━━━━\u001b[0m\u001b[37m━━━\u001b[0m \u001b[1m0s\u001b[0m 226ms/stepLoss: 0.000301545748\n",
            "\u001b[1m25/27\u001b[0m \u001b[32m━━━━━━━━━━━━━━━━━━\u001b[0m\u001b[37m━━\u001b[0m \u001b[1m0s\u001b[0m 225ms/stepLoss: 0.000180044459\n",
            "\u001b[1m26/27\u001b[0m \u001b[32m━━━━━━━━━━━━━━━━━━━\u001b[0m\u001b[37m━\u001b[0m \u001b[1m0s\u001b[0m 225ms/stepLoss: 0.000106819381\n",
            "\u001b[1m27/27\u001b[0m \u001b[32m━━━━━━━━━━━━━━━━━━━━\u001b[0m\u001b[37m\u001b[0m \u001b[1m6s\u001b[0m 220ms/step\n",
            "\n",
            " Epoch 17/50\n",
            "Loss: 0.000160349504\n",
            "\u001b[1m 1/27\u001b[0m \u001b[37m━━━━━━━━━━━━━━━━━━━━\u001b[0m \u001b[1m5s\u001b[0m 227ms/stepLoss: 0.000159137606\n",
            "\u001b[1m 2/27\u001b[0m \u001b[32m━\u001b[0m\u001b[37m━━━━━━━━━━━━━━━━━━━\u001b[0m \u001b[1m5s\u001b[0m 226ms/stepLoss: 0.000291204604\n",
            "\u001b[1m 3/27\u001b[0m \u001b[32m━━\u001b[0m\u001b[37m━━━━━━━━━━━━━━━━━━\u001b[0m \u001b[1m5s\u001b[0m 227ms/stepLoss: 7.79998154e-05\n",
            "\u001b[1m 4/27\u001b[0m \u001b[32m━━\u001b[0m\u001b[37m━━━━━━━━━━━━━━━━━━\u001b[0m \u001b[1m5s\u001b[0m 226ms/stepLoss: 0.000383647683\n",
            "\u001b[1m 5/27\u001b[0m \u001b[32m━━━\u001b[0m\u001b[37m━━━━━━━━━━━━━━━━━\u001b[0m \u001b[1m4s\u001b[0m 226ms/stepLoss: 1.14746454e-05\n",
            "\u001b[1m 6/27\u001b[0m \u001b[32m━━━━\u001b[0m\u001b[37m━━━━━━━━━━━━━━━━\u001b[0m \u001b[1m4s\u001b[0m 226ms/stepLoss: 0.00033610675\n",
            "\u001b[1m 7/27\u001b[0m \u001b[32m━━━━━\u001b[0m\u001b[37m━━━━━━━━━━━━━━━\u001b[0m \u001b[1m4s\u001b[0m 226ms/stepLoss: 8.56170882e-05\n",
            "\u001b[1m 8/27\u001b[0m \u001b[32m━━━━━\u001b[0m\u001b[37m━━━━━━━━━━━━━━━\u001b[0m \u001b[1m4s\u001b[0m 226ms/stepLoss: 0.000572745048\n",
            "\u001b[1m 9/27\u001b[0m \u001b[32m━━━━━━\u001b[0m\u001b[37m━━━━━━━━━━━━━━\u001b[0m \u001b[1m4s\u001b[0m 225ms/stepLoss: 4.51825617e-05\n",
            "\u001b[1m10/27\u001b[0m \u001b[32m━━━━━━━\u001b[0m\u001b[37m━━━━━━━━━━━━━\u001b[0m \u001b[1m3s\u001b[0m 225ms/stepLoss: 2.72900343e-05\n",
            "\u001b[1m11/27\u001b[0m \u001b[32m━━━━━━━━\u001b[0m\u001b[37m━━━━━━━━━━━━\u001b[0m \u001b[1m3s\u001b[0m 225ms/stepLoss: 0.000469259743\n",
            "\u001b[1m12/27\u001b[0m \u001b[32m━━━━━━━━\u001b[0m\u001b[37m━━━━━━━━━━━━\u001b[0m \u001b[1m3s\u001b[0m 225ms/stepLoss: 6.60897058e-05\n",
            "\u001b[1m13/27\u001b[0m \u001b[32m━━━━━━━━━\u001b[0m\u001b[37m━━━━━━━━━━━\u001b[0m \u001b[1m3s\u001b[0m 225ms/stepLoss: 0.000114537674\n",
            "\u001b[1m14/27\u001b[0m \u001b[32m━━━━━━━━━━\u001b[0m\u001b[37m━━━━━━━━━━\u001b[0m \u001b[1m2s\u001b[0m 225ms/stepLoss: 0.000646064291\n",
            "\u001b[1m15/27\u001b[0m \u001b[32m━━━━━━━━━━━\u001b[0m\u001b[37m━━━━━━━━━\u001b[0m \u001b[1m2s\u001b[0m 225ms/stepLoss: 0.000202091775\n",
            "\u001b[1m16/27\u001b[0m \u001b[32m━━━━━━━━━━━\u001b[0m\u001b[37m━━━━━━━━━\u001b[0m \u001b[1m2s\u001b[0m 225ms/stepLoss: 0.000106222382\n",
            "\u001b[1m17/27\u001b[0m \u001b[32m━━━━━━━━━━━━\u001b[0m\u001b[37m━━━━━━━━\u001b[0m \u001b[1m2s\u001b[0m 225ms/stepLoss: 1.15154589e-05\n",
            "\u001b[1m18/27\u001b[0m \u001b[32m━━━━━━━━━━━━━\u001b[0m\u001b[37m━━━━━━━\u001b[0m \u001b[1m2s\u001b[0m 225ms/stepLoss: 0.000967488508\n",
            "\u001b[1m19/27\u001b[0m \u001b[32m━━━━━━━━━━━━━━\u001b[0m\u001b[37m━━━━━━\u001b[0m \u001b[1m1s\u001b[0m 225ms/stepLoss: 0.000252063881\n",
            "\u001b[1m20/27\u001b[0m \u001b[32m━━━━━━━━━━━━━━\u001b[0m\u001b[37m━━━━━━\u001b[0m \u001b[1m1s\u001b[0m 225ms/stepLoss: 0.00028713129\n",
            "\u001b[1m21/27\u001b[0m \u001b[32m━━━━━━━━━━━━━━━\u001b[0m\u001b[37m━━━━━\u001b[0m \u001b[1m1s\u001b[0m 225ms/stepLoss: 0.000681755249\n",
            "\u001b[1m22/27\u001b[0m \u001b[32m━━━━━━━━━━━━━━━━\u001b[0m\u001b[37m━━━━\u001b[0m \u001b[1m1s\u001b[0m 225ms/stepLoss: 0.000287099974\n",
            "\u001b[1m23/27\u001b[0m \u001b[32m━━━━━━━━━━━━━━━━━\u001b[0m\u001b[37m━━━\u001b[0m \u001b[1m0s\u001b[0m 225ms/stepLoss: 0.000681897567\n",
            "\u001b[1m24/27\u001b[0m \u001b[32m━━━━━━━━━━━━━━━━━\u001b[0m\u001b[37m━━━\u001b[0m \u001b[1m0s\u001b[0m 225ms/stepLoss: 7.32984263e-05\n",
            "\u001b[1m25/27\u001b[0m \u001b[32m━━━━━━━━━━━━━━━━━━\u001b[0m\u001b[37m━━\u001b[0m \u001b[1m0s\u001b[0m 225ms/stepLoss: 0.000132392292\n",
            "\u001b[1m26/27\u001b[0m \u001b[32m━━━━━━━━━━━━━━━━━━━\u001b[0m\u001b[37m━\u001b[0m \u001b[1m0s\u001b[0m 225ms/stepLoss: 2.05636775e-06\n",
            "\u001b[1m27/27\u001b[0m \u001b[32m━━━━━━━━━━━━━━━━━━━━\u001b[0m\u001b[37m\u001b[0m \u001b[1m6s\u001b[0m 219ms/step\n",
            "\n",
            " Epoch 18/50\n",
            "Loss: 0.000296330574\n",
            "\u001b[1m 1/27\u001b[0m \u001b[37m━━━━━━━━━━━━━━━━━━━━\u001b[0m \u001b[1m5s\u001b[0m 229ms/stepLoss: 0.000160399126\n",
            "\u001b[1m 2/27\u001b[0m \u001b[32m━\u001b[0m\u001b[37m━━━━━━━━━━━━━━━━━━━\u001b[0m \u001b[1m5s\u001b[0m 229ms/stepLoss: 4.19751959e-05\n",
            "\u001b[1m 3/27\u001b[0m \u001b[32m━━\u001b[0m\u001b[37m━━━━━━━━━━━━━━━━━━\u001b[0m \u001b[1m5s\u001b[0m 228ms/stepLoss: 6.96911447e-05\n",
            "\u001b[1m 4/27\u001b[0m \u001b[32m━━\u001b[0m\u001b[37m━━━━━━━━━━━━━━━━━━\u001b[0m \u001b[1m5s\u001b[0m 226ms/stepLoss: 4.3345608e-05\n",
            "\u001b[1m 5/27\u001b[0m \u001b[32m━━━\u001b[0m\u001b[37m━━━━━━━━━━━━━━━━━\u001b[0m \u001b[1m4s\u001b[0m 227ms/stepLoss: 0.000245092378\n",
            "\u001b[1m 6/27\u001b[0m \u001b[32m━━━━\u001b[0m\u001b[37m━━━━━━━━━━━━━━━━\u001b[0m \u001b[1m4s\u001b[0m 227ms/stepLoss: 8.88505747e-06\n",
            "\u001b[1m 7/27\u001b[0m \u001b[32m━━━━━\u001b[0m\u001b[37m━━━━━━━━━━━━━━━\u001b[0m \u001b[1m4s\u001b[0m 227ms/stepLoss: 0.000267691241\n",
            "\u001b[1m 8/27\u001b[0m \u001b[32m━━━━━\u001b[0m\u001b[37m━━━━━━━━━━━━━━━\u001b[0m \u001b[1m4s\u001b[0m 227ms/stepLoss: 3.56164055e-05\n",
            "\u001b[1m 9/27\u001b[0m \u001b[32m━━━━━━\u001b[0m\u001b[37m━━━━━━━━━━━━━━\u001b[0m \u001b[1m4s\u001b[0m 228ms/stepLoss: 0.000370744558\n",
            "\u001b[1m10/27\u001b[0m \u001b[32m━━━━━━━\u001b[0m\u001b[37m━━━━━━━━━━━━━\u001b[0m \u001b[1m3s\u001b[0m 227ms/stepLoss: 0.000431687571\n",
            "\u001b[1m11/27\u001b[0m \u001b[32m━━━━━━━━\u001b[0m\u001b[37m━━━━━━━━━━━━\u001b[0m \u001b[1m3s\u001b[0m 227ms/stepLoss: 0.000290193217\n",
            "\u001b[1m12/27\u001b[0m \u001b[32m━━━━━━━━\u001b[0m\u001b[37m━━━━━━━━━━━━\u001b[0m \u001b[1m3s\u001b[0m 227ms/stepLoss: 0.000563528505\n",
            "\u001b[1m13/27\u001b[0m \u001b[32m━━━━━━━━━\u001b[0m\u001b[37m━━━━━━━━━━━\u001b[0m \u001b[1m3s\u001b[0m 227ms/stepLoss: 0.000164958343\n",
            "\u001b[1m14/27\u001b[0m \u001b[32m━━━━━━━━━━\u001b[0m\u001b[37m━━━━━━━━━━\u001b[0m \u001b[1m2s\u001b[0m 226ms/stepLoss: 0.00019800177\n",
            "\u001b[1m15/27\u001b[0m \u001b[32m━━━━━━━━━━━\u001b[0m\u001b[37m━━━━━━━━━\u001b[0m \u001b[1m2s\u001b[0m 226ms/stepLoss: 0.000425726874\n",
            "\u001b[1m16/27\u001b[0m \u001b[32m━━━━━━━━━━━\u001b[0m\u001b[37m━━━━━━━━━\u001b[0m \u001b[1m2s\u001b[0m 226ms/stepLoss: 1.62093929e-05\n",
            "\u001b[1m17/27\u001b[0m \u001b[32m━━━━━━━━━━━━\u001b[0m\u001b[37m━━━━━━━━\u001b[0m \u001b[1m2s\u001b[0m 226ms/stepLoss: 5.7605761e-05\n",
            "\u001b[1m18/27\u001b[0m \u001b[32m━━━━━━━━━━━━━\u001b[0m\u001b[37m━━━━━━━\u001b[0m \u001b[1m2s\u001b[0m 226ms/stepLoss: 7.74170185e-05\n",
            "\u001b[1m19/27\u001b[0m \u001b[32m━━━━━━━━━━━━━━\u001b[0m\u001b[37m━━━━━━\u001b[0m \u001b[1m1s\u001b[0m 226ms/stepLoss: 0.00032455835\n",
            "\u001b[1m20/27\u001b[0m \u001b[32m━━━━━━━━━━━━━━\u001b[0m\u001b[37m━━━━━━\u001b[0m \u001b[1m1s\u001b[0m 226ms/stepLoss: 0.000252798258\n",
            "\u001b[1m21/27\u001b[0m \u001b[32m━━━━━━━━━━━━━━━\u001b[0m\u001b[37m━━━━━\u001b[0m \u001b[1m1s\u001b[0m 226ms/stepLoss: 0.00025870878\n",
            "\u001b[1m22/27\u001b[0m \u001b[32m━━━━━━━━━━━━━━━━\u001b[0m\u001b[37m━━━━\u001b[0m \u001b[1m1s\u001b[0m 226ms/stepLoss: 0.000166071361\n",
            "\u001b[1m23/27\u001b[0m \u001b[32m━━━━━━━━━━━━━━━━━\u001b[0m\u001b[37m━━━\u001b[0m \u001b[1m0s\u001b[0m 226ms/stepLoss: 0.000449574494\n",
            "\u001b[1m24/27\u001b[0m \u001b[32m━━━━━━━━━━━━━━━━━\u001b[0m\u001b[37m━━━\u001b[0m \u001b[1m0s\u001b[0m 226ms/stepLoss: 0.000696676958\n",
            "\u001b[1m25/27\u001b[0m \u001b[32m━━━━━━━━━━━━━━━━━━\u001b[0m\u001b[37m━━\u001b[0m \u001b[1m0s\u001b[0m 226ms/stepLoss: 6.00492967e-05\n",
            "\u001b[1m26/27\u001b[0m \u001b[32m━━━━━━━━━━━━━━━━━━━\u001b[0m\u001b[37m━\u001b[0m \u001b[1m0s\u001b[0m 226ms/stepLoss: 8.04663728e-07\n",
            "\u001b[1m27/27\u001b[0m \u001b[32m━━━━━━━━━━━━━━━━━━━━\u001b[0m\u001b[37m\u001b[0m \u001b[1m6s\u001b[0m 220ms/step\n",
            "\n",
            " Epoch 19/50\n",
            "Loss: 9.10538074e-05\n",
            "\u001b[1m 1/27\u001b[0m \u001b[37m━━━━━━━━━━━━━━━━━━━━\u001b[0m \u001b[1m6s\u001b[0m 234ms/stepLoss: 0.00023808924\n",
            "\u001b[1m 2/27\u001b[0m \u001b[32m━\u001b[0m\u001b[37m━━━━━━━━━━━━━━━━━━━\u001b[0m \u001b[1m5s\u001b[0m 224ms/stepLoss: 7.41829499e-05\n",
            "\u001b[1m 3/27\u001b[0m \u001b[32m━━\u001b[0m\u001b[37m━━━━━━━━━━━━━━━━━━\u001b[0m \u001b[1m5s\u001b[0m 224ms/stepLoss: 0.000130581859\n",
            "\u001b[1m 4/27\u001b[0m \u001b[32m━━\u001b[0m\u001b[37m━━━━━━━━━━━━━━━━━━\u001b[0m \u001b[1m5s\u001b[0m 223ms/stepLoss: 0.000225800759\n",
            "\u001b[1m 5/27\u001b[0m \u001b[32m━━━\u001b[0m\u001b[37m━━━━━━━━━━━━━━━━━\u001b[0m \u001b[1m4s\u001b[0m 224ms/stepLoss: 0.000468411105\n",
            "\u001b[1m 6/27\u001b[0m \u001b[32m━━━━\u001b[0m\u001b[37m━━━━━━━━━━━━━━━━\u001b[0m \u001b[1m4s\u001b[0m 224ms/stepLoss: 0.000273754937\n",
            "\u001b[1m 7/27\u001b[0m \u001b[32m━━━━━\u001b[0m\u001b[37m━━━━━━━━━━━━━━━\u001b[0m \u001b[1m4s\u001b[0m 225ms/stepLoss: 0.000255095219\n",
            "\u001b[1m 8/27\u001b[0m \u001b[32m━━━━━\u001b[0m\u001b[37m━━━━━━━━━━━━━━━\u001b[0m \u001b[1m4s\u001b[0m 225ms/stepLoss: 0.000294773286\n",
            "\u001b[1m 9/27\u001b[0m \u001b[32m━━━━━━\u001b[0m\u001b[37m━━━━━━━━━━━━━━\u001b[0m \u001b[1m4s\u001b[0m 225ms/stepLoss: 0.000195864952\n",
            "\u001b[1m10/27\u001b[0m \u001b[32m━━━━━━━\u001b[0m\u001b[37m━━━━━━━━━━━━━\u001b[0m \u001b[1m3s\u001b[0m 225ms/stepLoss: 0.000130889763\n",
            "\u001b[1m11/27\u001b[0m \u001b[32m━━━━━━━━\u001b[0m\u001b[37m━━━━━━━━━━━━\u001b[0m \u001b[1m3s\u001b[0m 224ms/stepLoss: 0.000752307242\n",
            "\u001b[1m12/27\u001b[0m \u001b[32m━━━━━━━━\u001b[0m\u001b[37m━━━━━━━━━━━━\u001b[0m \u001b[1m3s\u001b[0m 224ms/stepLoss: 7.9348797e-07\n",
            "\u001b[1m13/27\u001b[0m \u001b[32m━━━━━━━━━\u001b[0m\u001b[37m━━━━━━━━━━━\u001b[0m \u001b[1m3s\u001b[0m 224ms/stepLoss: 0.000229827157\n",
            "\u001b[1m14/27\u001b[0m \u001b[32m━━━━━━━━━━\u001b[0m\u001b[37m━━━━━━━━━━\u001b[0m \u001b[1m2s\u001b[0m 225ms/stepLoss: 0.00025349\n",
            "\u001b[1m15/27\u001b[0m \u001b[32m━━━━━━━━━━━\u001b[0m\u001b[37m━━━━━━━━━\u001b[0m \u001b[1m2s\u001b[0m 225ms/stepLoss: 0.000809256\n",
            "\u001b[1m16/27\u001b[0m \u001b[32m━━━━━━━━━━━\u001b[0m\u001b[37m━━━━━━━━━\u001b[0m \u001b[1m2s\u001b[0m 226ms/stepLoss: 0.000792280247\n",
            "\u001b[1m17/27\u001b[0m \u001b[32m━━━━━━━━━━━━\u001b[0m\u001b[37m━━━━━━━━\u001b[0m \u001b[1m2s\u001b[0m 226ms/stepLoss: 4.17695373e-05\n",
            "\u001b[1m18/27\u001b[0m \u001b[32m━━━━━━━━━━━━━\u001b[0m\u001b[37m━━━━━━━\u001b[0m \u001b[1m2s\u001b[0m 226ms/stepLoss: 0.000102828635\n",
            "\u001b[1m19/27\u001b[0m \u001b[32m━━━━━━━━━━━━━━\u001b[0m\u001b[37m━━━━━━\u001b[0m \u001b[1m1s\u001b[0m 226ms/stepLoss: 3.78731e-05\n",
            "\u001b[1m20/27\u001b[0m \u001b[32m━━━━━━━━━━━━━━\u001b[0m\u001b[37m━━━━━━\u001b[0m \u001b[1m1s\u001b[0m 227ms/stepLoss: 2.67206487e-05\n",
            "\u001b[1m21/27\u001b[0m \u001b[32m━━━━━━━━━━━━━━━\u001b[0m\u001b[37m━━━━━\u001b[0m \u001b[1m1s\u001b[0m 226ms/stepLoss: 0.000105129839\n",
            "\u001b[1m22/27\u001b[0m \u001b[32m━━━━━━━━━━━━━━━━\u001b[0m\u001b[37m━━━━\u001b[0m \u001b[1m1s\u001b[0m 226ms/stepLoss: 2.41121033e-05\n",
            "\u001b[1m23/27\u001b[0m \u001b[32m━━━━━━━━━━━━━━━━━\u001b[0m\u001b[37m━━━\u001b[0m \u001b[1m0s\u001b[0m 226ms/stepLoss: 6.26032415e-05\n",
            "\u001b[1m24/27\u001b[0m \u001b[32m━━━━━━━━━━━━━━━━━\u001b[0m\u001b[37m━━━\u001b[0m \u001b[1m0s\u001b[0m 226ms/stepLoss: 0.000578069652\n",
            "\u001b[1m25/27\u001b[0m \u001b[32m━━━━━━━━━━━━━━━━━━\u001b[0m\u001b[37m━━\u001b[0m \u001b[1m0s\u001b[0m 226ms/stepLoss: 0.000218003246\n",
            "\u001b[1m26/27\u001b[0m \u001b[32m━━━━━━━━━━━━━━━━━━━\u001b[0m\u001b[37m━\u001b[0m \u001b[1m0s\u001b[0m 226ms/stepLoss: 1.19209304e-07\n",
            "\u001b[1m27/27\u001b[0m \u001b[32m━━━━━━━━━━━━━━━━━━━━\u001b[0m\u001b[37m\u001b[0m \u001b[1m6s\u001b[0m 220ms/step\n",
            "\n",
            " Epoch 20/50\n",
            "Loss: 0.000184920791\n",
            "\u001b[1m 1/27\u001b[0m \u001b[37m━━━━━━━━━━━━━━━━━━━━\u001b[0m \u001b[1m6s\u001b[0m 233ms/stepLoss: 0.000273150217\n",
            "\u001b[1m 2/27\u001b[0m \u001b[32m━\u001b[0m\u001b[37m━━━━━━━━━━━━━━━━━━━\u001b[0m \u001b[1m5s\u001b[0m 229ms/stepLoss: 5.85514681e-05\n",
            "\u001b[1m 3/27\u001b[0m \u001b[32m━━\u001b[0m\u001b[37m━━━━━━━━━━━━━━━━━━\u001b[0m \u001b[1m5s\u001b[0m 228ms/stepLoss: 0.000185235112\n",
            "\u001b[1m 4/27\u001b[0m \u001b[32m━━\u001b[0m\u001b[37m━━━━━━━━━━━━━━━━━━\u001b[0m \u001b[1m5s\u001b[0m 229ms/stepLoss: 0.000541284389\n",
            "\u001b[1m 5/27\u001b[0m \u001b[32m━━━\u001b[0m\u001b[37m━━━━━━━━━━━━━━━━━\u001b[0m \u001b[1m5s\u001b[0m 228ms/stepLoss: 8.78594728e-05\n",
            "\u001b[1m 6/27\u001b[0m \u001b[32m━━━━\u001b[0m\u001b[37m━━━━━━━━━━━━━━━━\u001b[0m \u001b[1m4s\u001b[0m 228ms/stepLoss: 0.000350320217\n",
            "\u001b[1m 7/27\u001b[0m \u001b[32m━━━━━\u001b[0m\u001b[37m━━━━━━━━━━━━━━━\u001b[0m \u001b[1m4s\u001b[0m 228ms/stepLoss: 0.000134381204\n",
            "\u001b[1m 8/27\u001b[0m \u001b[32m━━━━━\u001b[0m\u001b[37m━━━━━━━━━━━━━━━\u001b[0m \u001b[1m4s\u001b[0m 229ms/stepLoss: 6.30894647e-05\n",
            "\u001b[1m 9/27\u001b[0m \u001b[32m━━━━━━\u001b[0m\u001b[37m━━━━━━━━━━━━━━\u001b[0m \u001b[1m4s\u001b[0m 229ms/stepLoss: 2.47854732e-05\n",
            "\u001b[1m10/27\u001b[0m \u001b[32m━━━━━━━\u001b[0m\u001b[37m━━━━━━━━━━━━━\u001b[0m \u001b[1m3s\u001b[0m 228ms/stepLoss: 5.91965654e-05\n",
            "\u001b[1m11/27\u001b[0m \u001b[32m━━━━━━━━\u001b[0m\u001b[37m━━━━━━━━━━━━\u001b[0m \u001b[1m3s\u001b[0m 228ms/stepLoss: 0.000292845391\n",
            "\u001b[1m12/27\u001b[0m \u001b[32m━━━━━━━━\u001b[0m\u001b[37m━━━━━━━━━━━━\u001b[0m \u001b[1m3s\u001b[0m 228ms/stepLoss: 6.81729261e-07\n",
            "\u001b[1m13/27\u001b[0m \u001b[32m━━━━━━━━━\u001b[0m\u001b[37m━━━━━━━━━━━\u001b[0m \u001b[1m3s\u001b[0m 228ms/stepLoss: 2.55477789e-05\n",
            "\u001b[1m14/27\u001b[0m \u001b[32m━━━━━━━━━━\u001b[0m\u001b[37m━━━━━━━━━━\u001b[0m \u001b[1m2s\u001b[0m 228ms/stepLoss: 1.73280769e-05\n",
            "\u001b[1m15/27\u001b[0m \u001b[32m━━━━━━━━━━━\u001b[0m\u001b[37m━━━━━━━━━\u001b[0m \u001b[1m2s\u001b[0m 228ms/stepLoss: 0.000632732175\n",
            "\u001b[1m16/27\u001b[0m \u001b[32m━━━━━━━━━━━\u001b[0m\u001b[37m━━━━━━━━━\u001b[0m \u001b[1m2s\u001b[0m 227ms/stepLoss: 0.000185836951\n",
            "\u001b[1m17/27\u001b[0m \u001b[32m━━━━━━━━━━━━\u001b[0m\u001b[37m━━━━━━━━\u001b[0m \u001b[1m2s\u001b[0m 227ms/stepLoss: 0.000189529397\n",
            "\u001b[1m18/27\u001b[0m \u001b[32m━━━━━━━━━━━━━\u001b[0m\u001b[37m━━━━━━━\u001b[0m \u001b[1m2s\u001b[0m 227ms/stepLoss: 9.61209735e-05\n",
            "\u001b[1m19/27\u001b[0m \u001b[32m━━━━━━━━━━━━━━\u001b[0m\u001b[37m━━━━━━\u001b[0m \u001b[1m1s\u001b[0m 227ms/stepLoss: 5.62572022e-05\n",
            "\u001b[1m20/27\u001b[0m \u001b[32m━━━━━━━━━━━━━━\u001b[0m\u001b[37m━━━━━━\u001b[0m \u001b[1m1s\u001b[0m 227ms/stepLoss: 0.000124569589\n",
            "\u001b[1m21/27\u001b[0m \u001b[32m━━━━━━━━━━━━━━━\u001b[0m\u001b[37m━━━━━\u001b[0m \u001b[1m1s\u001b[0m 226ms/stepLoss: 0.00016271662\n",
            "\u001b[1m22/27\u001b[0m \u001b[32m━━━━━━━━━━━━━━━━\u001b[0m\u001b[37m━━━━\u001b[0m \u001b[1m1s\u001b[0m 226ms/stepLoss: 0.000703442376\n",
            "\u001b[1m23/27\u001b[0m \u001b[32m━━━━━━━━━━━━━━━━━\u001b[0m\u001b[37m━━━\u001b[0m \u001b[1m0s\u001b[0m 226ms/stepLoss: 1.52191506e-05\n",
            "\u001b[1m24/27\u001b[0m \u001b[32m━━━━━━━━━━━━━━━━━\u001b[0m\u001b[37m━━━\u001b[0m \u001b[1m0s\u001b[0m 226ms/stepLoss: 2.16813555e-06\n",
            "\u001b[1m25/27\u001b[0m \u001b[32m━━━━━━━━━━━━━━━━━━\u001b[0m\u001b[37m━━\u001b[0m \u001b[1m0s\u001b[0m 226ms/stepLoss: 1.02709637e-05\n",
            "\u001b[1m26/27\u001b[0m \u001b[32m━━━━━━━━━━━━━━━━━━━\u001b[0m\u001b[37m━\u001b[0m \u001b[1m0s\u001b[0m 226ms/stepLoss: 3.2471693e-05\n",
            "\u001b[1m27/27\u001b[0m \u001b[32m━━━━━━━━━━━━━━━━━━━━\u001b[0m\u001b[37m\u001b[0m \u001b[1m6s\u001b[0m 220ms/step\n",
            "\n",
            " Epoch 21/50\n",
            "Loss: 1.21786179e-05\n",
            "\u001b[1m 1/27\u001b[0m \u001b[37m━━━━━━━━━━━━━━━━━━━━\u001b[0m \u001b[1m8s\u001b[0m 319ms/stepLoss: 8.59316642e-05\n",
            "\u001b[1m 2/27\u001b[0m \u001b[32m━\u001b[0m\u001b[37m━━━━━━━━━━━━━━━━━━━\u001b[0m \u001b[1m5s\u001b[0m 227ms/stepLoss: 0.000203574193\n",
            "\u001b[1m 3/27\u001b[0m \u001b[32m━━\u001b[0m\u001b[37m━━━━━━━━━━━━━━━━━━\u001b[0m \u001b[1m5s\u001b[0m 226ms/stepLoss: 1.78079736e-05\n",
            "\u001b[1m 4/27\u001b[0m \u001b[32m━━\u001b[0m\u001b[37m━━━━━━━━━━━━━━━━━━\u001b[0m \u001b[1m5s\u001b[0m 225ms/stepLoss: 0.000106278378\n",
            "\u001b[1m 5/27\u001b[0m \u001b[32m━━━\u001b[0m\u001b[37m━━━━━━━━━━━━━━━━━\u001b[0m \u001b[1m4s\u001b[0m 225ms/stepLoss: 1.65979272e-05\n",
            "\u001b[1m 6/27\u001b[0m \u001b[32m━━━━\u001b[0m\u001b[37m━━━━━━━━━━━━━━━━\u001b[0m \u001b[1m4s\u001b[0m 224ms/stepLoss: 3.02744647e-05\n",
            "\u001b[1m 7/27\u001b[0m \u001b[32m━━━━━\u001b[0m\u001b[37m━━━━━━━━━━━━━━━\u001b[0m \u001b[1m4s\u001b[0m 224ms/stepLoss: 0.000231735583\n",
            "\u001b[1m 8/27\u001b[0m \u001b[32m━━━━━\u001b[0m\u001b[37m━━━━━━━━━━━━━━━\u001b[0m \u001b[1m4s\u001b[0m 224ms/stepLoss: 0.000471888488\n",
            "\u001b[1m 9/27\u001b[0m \u001b[32m━━━━━━\u001b[0m\u001b[37m━━━━━━━━━━━━━━\u001b[0m \u001b[1m4s\u001b[0m 223ms/stepLoss: 2.82590772e-05\n",
            "\u001b[1m10/27\u001b[0m \u001b[32m━━━━━━━\u001b[0m\u001b[37m━━━━━━━━━━━━━\u001b[0m \u001b[1m3s\u001b[0m 224ms/stepLoss: 0.000399224547\n",
            "\u001b[1m11/27\u001b[0m \u001b[32m━━━━━━━━\u001b[0m\u001b[37m━━━━━━━━━━━━\u001b[0m \u001b[1m3s\u001b[0m 224ms/stepLoss: 0.000350972346\n",
            "\u001b[1m12/27\u001b[0m \u001b[32m━━━━━━━━\u001b[0m\u001b[37m━━━━━━━━━━━━\u001b[0m \u001b[1m3s\u001b[0m 224ms/stepLoss: 0.000121678648\n",
            "\u001b[1m13/27\u001b[0m \u001b[32m━━━━━━━━━\u001b[0m\u001b[37m━━━━━━━━━━━\u001b[0m \u001b[1m3s\u001b[0m 224ms/stepLoss: 6.35406614e-05\n",
            "\u001b[1m14/27\u001b[0m \u001b[32m━━━━━━━━━━\u001b[0m\u001b[37m━━━━━━━━━━\u001b[0m \u001b[1m2s\u001b[0m 224ms/stepLoss: 6.41503084e-06\n",
            "\u001b[1m15/27\u001b[0m \u001b[32m━━━━━━━━━━━\u001b[0m\u001b[37m━━━━━━━━━\u001b[0m \u001b[1m2s\u001b[0m 224ms/stepLoss: 0.000416677794\n",
            "\u001b[1m16/27\u001b[0m \u001b[32m━━━━━━━━━━━\u001b[0m\u001b[37m━━━━━━━━━\u001b[0m \u001b[1m2s\u001b[0m 224ms/stepLoss: 0.000711001689\n",
            "\u001b[1m17/27\u001b[0m \u001b[32m━━━━━━━━━━━━\u001b[0m\u001b[37m━━━━━━━━\u001b[0m \u001b[1m2s\u001b[0m 224ms/stepLoss: 0.000305929\n",
            "\u001b[1m18/27\u001b[0m \u001b[32m━━━━━━━━━━━━━\u001b[0m\u001b[37m━━━━━━━\u001b[0m \u001b[1m2s\u001b[0m 224ms/stepLoss: 8.77728817e-05\n",
            "\u001b[1m19/27\u001b[0m \u001b[32m━━━━━━━━━━━━━━\u001b[0m\u001b[37m━━━━━━\u001b[0m \u001b[1m1s\u001b[0m 224ms/stepLoss: 7.4466021e-05\n",
            "\u001b[1m20/27\u001b[0m \u001b[32m━━━━━━━━━━━━━━\u001b[0m\u001b[37m━━━━━━\u001b[0m \u001b[1m1s\u001b[0m 224ms/stepLoss: 5.42415819e-06\n",
            "\u001b[1m21/27\u001b[0m \u001b[32m━━━━━━━━━━━━━━━\u001b[0m\u001b[37m━━━━━\u001b[0m \u001b[1m1s\u001b[0m 224ms/stepLoss: 4.91376886e-06\n",
            "\u001b[1m22/27\u001b[0m \u001b[32m━━━━━━━━━━━━━━━━\u001b[0m\u001b[37m━━━━\u001b[0m \u001b[1m1s\u001b[0m 224ms/stepLoss: 0.000187744678\n",
            "\u001b[1m23/27\u001b[0m \u001b[32m━━━━━━━━━━━━━━━━━\u001b[0m\u001b[37m━━━\u001b[0m \u001b[1m0s\u001b[0m 224ms/stepLoss: 0.000235785352\n",
            "\u001b[1m24/27\u001b[0m \u001b[32m━━━━━━━━━━━━━━━━━\u001b[0m\u001b[37m━━━\u001b[0m \u001b[1m0s\u001b[0m 224ms/stepLoss: 4.6084835e-05\n",
            "\u001b[1m25/27\u001b[0m \u001b[32m━━━━━━━━━━━━━━━━━━\u001b[0m\u001b[37m━━\u001b[0m \u001b[1m0s\u001b[0m 224ms/stepLoss: 0.000297530583\n",
            "\u001b[1m26/27\u001b[0m \u001b[32m━━━━━━━━━━━━━━━━━━━\u001b[0m\u001b[37m━\u001b[0m \u001b[1m0s\u001b[0m 224ms/stepLoss: 1.7881423e-06\n",
            "\u001b[1m27/27\u001b[0m \u001b[32m━━━━━━━━━━━━━━━━━━━━\u001b[0m\u001b[37m\u001b[0m \u001b[1m6s\u001b[0m 219ms/step\n",
            "\n",
            " Epoch 22/50\n",
            "Loss: 0.000100662481\n",
            "\u001b[1m 1/27\u001b[0m \u001b[37m━━━━━━━━━━━━━━━━━━━━\u001b[0m \u001b[1m6s\u001b[0m 232ms/stepLoss: 0.000511351682\n",
            "\u001b[1m 2/27\u001b[0m \u001b[32m━\u001b[0m\u001b[37m━━━━━━━━━━━━━━━━━━━\u001b[0m \u001b[1m5s\u001b[0m 226ms/stepLoss: 0.000162899858\n",
            "\u001b[1m 3/27\u001b[0m \u001b[32m━━\u001b[0m\u001b[37m━━━━━━━━━━━━━━━━━━\u001b[0m \u001b[1m5s\u001b[0m 226ms/stepLoss: 1.6060827e-05\n",
            "\u001b[1m 4/27\u001b[0m \u001b[32m━━\u001b[0m\u001b[37m━━━━━━━━━━━━━━━━━━\u001b[0m \u001b[1m5s\u001b[0m 225ms/stepLoss: 0.00035594849\n",
            "\u001b[1m 5/27\u001b[0m \u001b[32m━━━\u001b[0m\u001b[37m━━━━━━━━━━━━━━━━━\u001b[0m \u001b[1m4s\u001b[0m 226ms/stepLoss: 2.49659734e-05\n",
            "\u001b[1m 6/27\u001b[0m \u001b[32m━━━━\u001b[0m\u001b[37m━━━━━━━━━━━━━━━━\u001b[0m \u001b[1m4s\u001b[0m 225ms/stepLoss: 0.000279509346\n",
            "\u001b[1m 7/27\u001b[0m \u001b[32m━━━━━\u001b[0m\u001b[37m━━━━━━━━━━━━━━━\u001b[0m \u001b[1m4s\u001b[0m 225ms/stepLoss: 0.00011943662\n",
            "\u001b[1m 8/27\u001b[0m \u001b[32m━━━━━\u001b[0m\u001b[37m━━━━━━━━━━━━━━━\u001b[0m \u001b[1m4s\u001b[0m 224ms/stepLoss: 1.26446266e-05\n",
            "\u001b[1m 9/27\u001b[0m \u001b[32m━━━━━━\u001b[0m\u001b[37m━━━━━━━━━━━━━━\u001b[0m \u001b[1m4s\u001b[0m 224ms/stepLoss: 2.76377541e-05\n",
            "\u001b[1m10/27\u001b[0m \u001b[32m━━━━━━━\u001b[0m\u001b[37m━━━━━━━━━━━━━\u001b[0m \u001b[1m3s\u001b[0m 224ms/stepLoss: 0.000201999705\n",
            "\u001b[1m11/27\u001b[0m \u001b[32m━━━━━━━━\u001b[0m\u001b[37m━━━━━━━━━━━━\u001b[0m \u001b[1m3s\u001b[0m 225ms/stepLoss: 2.21151167e-05\n",
            "\u001b[1m12/27\u001b[0m \u001b[32m━━━━━━━━\u001b[0m\u001b[37m━━━━━━━━━━━━\u001b[0m \u001b[1m3s\u001b[0m 224ms/stepLoss: 0.000143750221\n",
            "\u001b[1m13/27\u001b[0m \u001b[32m━━━━━━━━━\u001b[0m\u001b[37m━━━━━━━━━━━\u001b[0m \u001b[1m3s\u001b[0m 224ms/stepLoss: 0.00030966691\n",
            "\u001b[1m14/27\u001b[0m \u001b[32m━━━━━━━━━━\u001b[0m\u001b[37m━━━━━━━━━━\u001b[0m \u001b[1m2s\u001b[0m 225ms/stepLoss: 5.48746611e-05\n",
            "\u001b[1m15/27\u001b[0m \u001b[32m━━━━━━━━━━━\u001b[0m\u001b[37m━━━━━━━━━\u001b[0m \u001b[1m2s\u001b[0m 225ms/stepLoss: 0.000161369317\n",
            "\u001b[1m16/27\u001b[0m \u001b[32m━━━━━━━━━━━\u001b[0m\u001b[37m━━━━━━━━━\u001b[0m \u001b[1m2s\u001b[0m 225ms/stepLoss: 4.56332418e-05\n",
            "\u001b[1m17/27\u001b[0m \u001b[32m━━━━━━━━━━━━\u001b[0m\u001b[37m━━━━━━━━\u001b[0m \u001b[1m2s\u001b[0m 224ms/stepLoss: 0.000513629289\n",
            "\u001b[1m18/27\u001b[0m \u001b[32m━━━━━━━━━━━━━\u001b[0m\u001b[37m━━━━━━━\u001b[0m \u001b[1m2s\u001b[0m 224ms/stepLoss: 0.000274423277\n",
            "\u001b[1m19/27\u001b[0m \u001b[32m━━━━━━━━━━━━━━\u001b[0m\u001b[37m━━━━━━\u001b[0m \u001b[1m1s\u001b[0m 224ms/stepLoss: 3.2075277e-06\n",
            "\u001b[1m20/27\u001b[0m \u001b[32m━━━━━━━━━━━━━━\u001b[0m\u001b[37m━━━━━━\u001b[0m \u001b[1m1s\u001b[0m 224ms/stepLoss: 0.000139672222\n",
            "\u001b[1m21/27\u001b[0m \u001b[32m━━━━━━━━━━━━━━━\u001b[0m\u001b[37m━━━━━\u001b[0m \u001b[1m1s\u001b[0m 224ms/stepLoss: 5.55262413e-05\n",
            "\u001b[1m22/27\u001b[0m \u001b[32m━━━━━━━━━━━━━━━━\u001b[0m\u001b[37m━━━━\u001b[0m \u001b[1m1s\u001b[0m 224ms/stepLoss: 0.00020482736\n",
            "\u001b[1m23/27\u001b[0m \u001b[32m━━━━━━━━━━━━━━━━━\u001b[0m\u001b[37m━━━\u001b[0m \u001b[1m0s\u001b[0m 225ms/stepLoss: 0.000528209144\n",
            "\u001b[1m24/27\u001b[0m \u001b[32m━━━━━━━━━━━━━━━━━\u001b[0m\u001b[37m━━━\u001b[0m \u001b[1m0s\u001b[0m 225ms/stepLoss: 0.000176128669\n",
            "\u001b[1m25/27\u001b[0m \u001b[32m━━━━━━━━━━━━━━━━━━\u001b[0m\u001b[37m━━\u001b[0m \u001b[1m0s\u001b[0m 225ms/stepLoss: 7.30744941e-05\n",
            "\u001b[1m26/27\u001b[0m \u001b[32m━━━━━━━━━━━━━━━━━━━\u001b[0m\u001b[37m━\u001b[0m \u001b[1m0s\u001b[0m 225ms/stepLoss: 1.07886681e-05\n",
            "\u001b[1m27/27\u001b[0m \u001b[32m━━━━━━━━━━━━━━━━━━━━\u001b[0m\u001b[37m\u001b[0m \u001b[1m6s\u001b[0m 219ms/step\n",
            "\n",
            " Epoch 23/50\n",
            "Loss: 2.98352188e-05\n",
            "\u001b[1m 1/27\u001b[0m \u001b[37m━━━━━━━━━━━━━━━━━━━━\u001b[0m \u001b[1m9s\u001b[0m 355ms/stepLoss: 1.07592114e-05\n",
            "\u001b[1m 2/27\u001b[0m \u001b[32m━\u001b[0m\u001b[37m━━━━━━━━━━━━━━━━━━━\u001b[0m \u001b[1m5s\u001b[0m 228ms/stepLoss: 0.000328190683\n",
            "\u001b[1m 3/27\u001b[0m \u001b[32m━━\u001b[0m\u001b[37m━━━━━━━━━━━━━━━━━━\u001b[0m \u001b[1m5s\u001b[0m 226ms/stepLoss: 0.000124614511\n",
            "\u001b[1m 4/27\u001b[0m \u001b[32m━━\u001b[0m\u001b[37m━━━━━━━━━━━━━━━━━━\u001b[0m \u001b[1m5s\u001b[0m 225ms/stepLoss: 1.29537138e-05\n",
            "\u001b[1m 5/27\u001b[0m \u001b[32m━━━\u001b[0m\u001b[37m━━━━━━━━━━━━━━━━━\u001b[0m \u001b[1m4s\u001b[0m 225ms/stepLoss: 8.10532074e-05\n",
            "\u001b[1m 6/27\u001b[0m \u001b[32m━━━━\u001b[0m\u001b[37m━━━━━━━━━━━━━━━━\u001b[0m \u001b[1m4s\u001b[0m 225ms/stepLoss: 7.81256531e-05\n",
            "\u001b[1m 7/27\u001b[0m \u001b[32m━━━━━\u001b[0m\u001b[37m━━━━━━━━━━━━━━━\u001b[0m \u001b[1m4s\u001b[0m 225ms/stepLoss: 0.000473533612\n",
            "\u001b[1m 8/27\u001b[0m \u001b[32m━━━━━\u001b[0m\u001b[37m━━━━━━━━━━━━━━━\u001b[0m \u001b[1m4s\u001b[0m 225ms/stepLoss: 0.000171664549\n",
            "\u001b[1m 9/27\u001b[0m \u001b[32m━━━━━━\u001b[0m\u001b[37m━━━━━━━━━━━━━━\u001b[0m \u001b[1m4s\u001b[0m 225ms/stepLoss: 0.000267006428\n",
            "\u001b[1m10/27\u001b[0m \u001b[32m━━━━━━━\u001b[0m\u001b[37m━━━━━━━━━━━━━\u001b[0m \u001b[1m3s\u001b[0m 225ms/stepLoss: 6.0253813e-05\n",
            "\u001b[1m11/27\u001b[0m \u001b[32m━━━━━━━━\u001b[0m\u001b[37m━━━━━━━━━━━━\u001b[0m \u001b[1m3s\u001b[0m 225ms/stepLoss: 7.26708531e-05\n",
            "\u001b[1m12/27\u001b[0m \u001b[32m━━━━━━━━\u001b[0m\u001b[37m━━━━━━━━━━━━\u001b[0m \u001b[1m3s\u001b[0m 225ms/stepLoss: 1.46077209e-05\n",
            "\u001b[1m13/27\u001b[0m \u001b[32m━━━━━━━━━\u001b[0m\u001b[37m━━━━━━━━━━━\u001b[0m \u001b[1m3s\u001b[0m 225ms/stepLoss: 0.000254002895\n",
            "\u001b[1m14/27\u001b[0m \u001b[32m━━━━━━━━━━\u001b[0m\u001b[37m━━━━━━━━━━\u001b[0m \u001b[1m2s\u001b[0m 225ms/stepLoss: 0.00013523805\n",
            "\u001b[1m15/27\u001b[0m \u001b[32m━━━━━━━━━━━\u001b[0m\u001b[37m━━━━━━━━━\u001b[0m \u001b[1m2s\u001b[0m 225ms/stepLoss: 1.49391317e-05\n",
            "\u001b[1m16/27\u001b[0m \u001b[32m━━━━━━━━━━━\u001b[0m\u001b[37m━━━━━━━━━\u001b[0m \u001b[1m2s\u001b[0m 225ms/stepLoss: 0.000624528679\n",
            "\u001b[1m17/27\u001b[0m \u001b[32m━━━━━━━━━━━━\u001b[0m\u001b[37m━━━━━━━━\u001b[0m \u001b[1m2s\u001b[0m 225ms/stepLoss: 0.000249046716\n",
            "\u001b[1m18/27\u001b[0m \u001b[32m━━━━━━━━━━━━━\u001b[0m\u001b[37m━━━━━━━\u001b[0m \u001b[1m2s\u001b[0m 225ms/stepLoss: 0.000160341719\n",
            "\u001b[1m19/27\u001b[0m \u001b[32m━━━━━━━━━━━━━━\u001b[0m\u001b[37m━━━━━━\u001b[0m \u001b[1m1s\u001b[0m 225ms/stepLoss: 0.000245933683\n",
            "\u001b[1m20/27\u001b[0m \u001b[32m━━━━━━━━━━━━━━\u001b[0m\u001b[37m━━━━━━\u001b[0m \u001b[1m1s\u001b[0m 225ms/stepLoss: 0.000240988578\n",
            "\u001b[1m21/27\u001b[0m \u001b[32m━━━━━━━━━━━━━━━\u001b[0m\u001b[37m━━━━━\u001b[0m \u001b[1m1s\u001b[0m 225ms/stepLoss: 5.31476362e-05\n",
            "\u001b[1m22/27\u001b[0m \u001b[32m━━━━━━━━━━━━━━━━\u001b[0m\u001b[37m━━━━\u001b[0m \u001b[1m1s\u001b[0m 225ms/stepLoss: 2.56804706e-05\n",
            "\u001b[1m23/27\u001b[0m \u001b[32m━━━━━━━━━━━━━━━━━\u001b[0m\u001b[37m━━━\u001b[0m \u001b[1m0s\u001b[0m 225ms/stepLoss: 0.000202970725\n",
            "\u001b[1m24/27\u001b[0m \u001b[32m━━━━━━━━━━━━━━━━━\u001b[0m\u001b[37m━━━\u001b[0m \u001b[1m0s\u001b[0m 225ms/stepLoss: 0.000348210917\n",
            "\u001b[1m25/27\u001b[0m \u001b[32m━━━━━━━━━━━━━━━━━━\u001b[0m\u001b[37m━━\u001b[0m \u001b[1m0s\u001b[0m 225ms/stepLoss: 2.47422977e-05\n",
            "\u001b[1m26/27\u001b[0m \u001b[32m━━━━━━━━━━━━━━━━━━━\u001b[0m\u001b[37m━\u001b[0m \u001b[1m0s\u001b[0m 225ms/stepLoss: 0.000572625489\n",
            "\u001b[1m27/27\u001b[0m \u001b[32m━━━━━━━━━━━━━━━━━━━━\u001b[0m\u001b[37m\u001b[0m \u001b[1m6s\u001b[0m 219ms/step\n",
            "\n",
            " Epoch 24/50\n",
            "Loss: 0.000385281019\n",
            "\u001b[1m 1/27\u001b[0m \u001b[37m━━━━━━━━━━━━━━━━━━━━\u001b[0m \u001b[1m5s\u001b[0m 229ms/stepLoss: 1.91349445e-05\n",
            "\u001b[1m 2/27\u001b[0m \u001b[32m━\u001b[0m\u001b[37m━━━━━━━━━━━━━━━━━━━\u001b[0m \u001b[1m5s\u001b[0m 227ms/stepLoss: 0.000139428288\n",
            "\u001b[1m 3/27\u001b[0m \u001b[32m━━\u001b[0m\u001b[37m━━━━━━━━━━━━━━━━━━\u001b[0m \u001b[1m5s\u001b[0m 226ms/stepLoss: 2.72382986e-05\n",
            "\u001b[1m 4/27\u001b[0m \u001b[32m━━\u001b[0m\u001b[37m━━━━━━━━━━━━━━━━━━\u001b[0m \u001b[1m5s\u001b[0m 228ms/stepLoss: 0.000147989253\n",
            "\u001b[1m 5/27\u001b[0m \u001b[32m━━━\u001b[0m\u001b[37m━━━━━━━━━━━━━━━━━\u001b[0m \u001b[1m4s\u001b[0m 227ms/stepLoss: 0.000213141524\n",
            "\u001b[1m 6/27\u001b[0m \u001b[32m━━━━\u001b[0m\u001b[37m━━━━━━━━━━━━━━━━\u001b[0m \u001b[1m4s\u001b[0m 226ms/stepLoss: 8.51261e-05\n",
            "\u001b[1m 7/27\u001b[0m \u001b[32m━━━━━\u001b[0m\u001b[37m━━━━━━━━━━━━━━━\u001b[0m \u001b[1m4s\u001b[0m 225ms/stepLoss: 0.000102347345\n",
            "\u001b[1m 8/27\u001b[0m \u001b[32m━━━━━\u001b[0m\u001b[37m━━━━━━━━━━━━━━━\u001b[0m \u001b[1m4s\u001b[0m 225ms/stepLoss: 1.04648007e-05\n",
            "\u001b[1m 9/27\u001b[0m \u001b[32m━━━━━━\u001b[0m\u001b[37m━━━━━━━━━━━━━━\u001b[0m \u001b[1m4s\u001b[0m 226ms/stepLoss: 0.000174271961\n",
            "\u001b[1m10/27\u001b[0m \u001b[32m━━━━━━━\u001b[0m\u001b[37m━━━━━━━━━━━━━\u001b[0m \u001b[1m3s\u001b[0m 226ms/stepLoss: 6.10036877e-05\n",
            "\u001b[1m11/27\u001b[0m \u001b[32m━━━━━━━━\u001b[0m\u001b[37m━━━━━━━━━━━━\u001b[0m \u001b[1m3s\u001b[0m 226ms/stepLoss: 0.000179158247\n",
            "\u001b[1m12/27\u001b[0m \u001b[32m━━━━━━━━\u001b[0m\u001b[37m━━━━━━━━━━━━\u001b[0m \u001b[1m3s\u001b[0m 226ms/stepLoss: 3.41240911e-06\n",
            "\u001b[1m13/27\u001b[0m \u001b[32m━━━━━━━━━\u001b[0m\u001b[37m━━━━━━━━━━━\u001b[0m \u001b[1m3s\u001b[0m 225ms/stepLoss: 0.00021319135\n",
            "\u001b[1m14/27\u001b[0m \u001b[32m━━━━━━━━━━\u001b[0m\u001b[37m━━━━━━━━━━\u001b[0m \u001b[1m2s\u001b[0m 226ms/stepLoss: 0.000366672175\n",
            "\u001b[1m15/27\u001b[0m \u001b[32m━━━━━━━━━━━\u001b[0m\u001b[37m━━━━━━━━━\u001b[0m \u001b[1m2s\u001b[0m 226ms/stepLoss: 0.000367023255\n",
            "\u001b[1m16/27\u001b[0m \u001b[32m━━━━━━━━━━━\u001b[0m\u001b[37m━━━━━━━━━\u001b[0m \u001b[1m2s\u001b[0m 226ms/stepLoss: 0.000106594729\n",
            "\u001b[1m17/27\u001b[0m \u001b[32m━━━━━━━━━━━━\u001b[0m\u001b[37m━━━━━━━━\u001b[0m \u001b[1m2s\u001b[0m 226ms/stepLoss: 0.000274043181\n",
            "\u001b[1m18/27\u001b[0m \u001b[32m━━━━━━━━━━━━━\u001b[0m\u001b[37m━━━━━━━\u001b[0m \u001b[1m2s\u001b[0m 226ms/stepLoss: 0.000140159216\n",
            "\u001b[1m19/27\u001b[0m \u001b[32m━━━━━━━━━━━━━━\u001b[0m\u001b[37m━━━━━━\u001b[0m \u001b[1m1s\u001b[0m 226ms/stepLoss: 5.11123062e-06\n",
            "\u001b[1m20/27\u001b[0m \u001b[32m━━━━━━━━━━━━━━\u001b[0m\u001b[37m━━━━━━\u001b[0m \u001b[1m1s\u001b[0m 226ms/stepLoss: 4.68969592e-05\n",
            "\u001b[1m21/27\u001b[0m \u001b[32m━━━━━━━━━━━━━━━\u001b[0m\u001b[37m━━━━━\u001b[0m \u001b[1m1s\u001b[0m 226ms/stepLoss: 3.75660893e-05\n",
            "\u001b[1m22/27\u001b[0m \u001b[32m━━━━━━━━━━━━━━━━\u001b[0m\u001b[37m━━━━\u001b[0m \u001b[1m1s\u001b[0m 226ms/stepLoss: 1.7844294e-06\n",
            "\u001b[1m23/27\u001b[0m \u001b[32m━━━━━━━━━━━━━━━━━\u001b[0m\u001b[37m━━━\u001b[0m \u001b[1m0s\u001b[0m 226ms/stepLoss: 7.46479054e-05\n",
            "\u001b[1m24/27\u001b[0m \u001b[32m━━━━━━━━━━━━━━━━━\u001b[0m\u001b[37m━━━\u001b[0m \u001b[1m0s\u001b[0m 226ms/stepLoss: 7.73886713e-05\n",
            "\u001b[1m25/27\u001b[0m \u001b[32m━━━━━━━━━━━━━━━━━━\u001b[0m\u001b[37m━━\u001b[0m \u001b[1m0s\u001b[0m 226ms/stepLoss: 6.0860657e-05\n",
            "\u001b[1m26/27\u001b[0m \u001b[32m━━━━━━━━━━━━━━━━━━━\u001b[0m\u001b[37m━\u001b[0m \u001b[1m0s\u001b[0m 226ms/stepLoss: 2.50340668e-06\n",
            "\u001b[1m27/27\u001b[0m \u001b[32m━━━━━━━━━━━━━━━━━━━━\u001b[0m\u001b[37m\u001b[0m \u001b[1m6s\u001b[0m 220ms/step\n",
            "\n",
            " Epoch 25/50\n",
            "Loss: 0.000181754353\n",
            "\u001b[1m 1/27\u001b[0m \u001b[37m━━━━━━━━━━━━━━━━━━━━\u001b[0m \u001b[1m6s\u001b[0m 238ms/stepLoss: 0.000223790033\n",
            "\u001b[1m 2/27\u001b[0m \u001b[32m━\u001b[0m\u001b[37m━━━━━━━━━━━━━━━━━━━\u001b[0m \u001b[1m5s\u001b[0m 226ms/stepLoss: 0.000111736088\n",
            "\u001b[1m 3/27\u001b[0m \u001b[32m━━\u001b[0m\u001b[37m━━━━━━━━━━━━━━━━━━\u001b[0m \u001b[1m5s\u001b[0m 227ms/stepLoss: 9.95810697e-05\n",
            "\u001b[1m 4/27\u001b[0m \u001b[32m━━\u001b[0m\u001b[37m━━━━━━━━━━━━━━━━━━\u001b[0m \u001b[1m5s\u001b[0m 228ms/stepLoss: 0.000131781067\n",
            "\u001b[1m 5/27\u001b[0m \u001b[32m━━━\u001b[0m\u001b[37m━━━━━━━━━━━━━━━━━\u001b[0m \u001b[1m5s\u001b[0m 228ms/stepLoss: 0.000198264315\n",
            "\u001b[1m 6/27\u001b[0m \u001b[32m━━━━\u001b[0m\u001b[37m━━━━━━━━━━━━━━━━\u001b[0m \u001b[1m4s\u001b[0m 227ms/stepLoss: 8.96242491e-05\n",
            "\u001b[1m 7/27\u001b[0m \u001b[32m━━━━━\u001b[0m\u001b[37m━━━━━━━━━━━━━━━\u001b[0m \u001b[1m4s\u001b[0m 227ms/stepLoss: 1.30911649e-05\n",
            "\u001b[1m 8/27\u001b[0m \u001b[32m━━━━━\u001b[0m\u001b[37m━━━━━━━━━━━━━━━\u001b[0m \u001b[1m4s\u001b[0m 227ms/stepLoss: 1.92290718e-05\n",
            "\u001b[1m 9/27\u001b[0m \u001b[32m━━━━━━\u001b[0m\u001b[37m━━━━━━━━━━━━━━\u001b[0m \u001b[1m4s\u001b[0m 227ms/stepLoss: 0.00038945218\n",
            "\u001b[1m10/27\u001b[0m \u001b[32m━━━━━━━\u001b[0m\u001b[37m━━━━━━━━━━━━━\u001b[0m \u001b[1m3s\u001b[0m 227ms/stepLoss: 2.34442705e-05\n",
            "\u001b[1m11/27\u001b[0m \u001b[32m━━━━━━━━\u001b[0m\u001b[37m━━━━━━━━━━━━\u001b[0m \u001b[1m3s\u001b[0m 227ms/stepLoss: 3.19185019e-05\n",
            "\u001b[1m12/27\u001b[0m \u001b[32m━━━━━━━━\u001b[0m\u001b[37m━━━━━━━━━━━━\u001b[0m \u001b[1m3s\u001b[0m 227ms/stepLoss: 0.000147812592\n",
            "\u001b[1m13/27\u001b[0m \u001b[32m━━━━━━━━━\u001b[0m\u001b[37m━━━━━━━━━━━\u001b[0m \u001b[1m3s\u001b[0m 228ms/stepLoss: 9.99301556e-05\n",
            "\u001b[1m14/27\u001b[0m \u001b[32m━━━━━━━━━━\u001b[0m\u001b[37m━━━━━━━━━━\u001b[0m \u001b[1m2s\u001b[0m 228ms/stepLoss: 0.000139616634\n",
            "\u001b[1m15/27\u001b[0m \u001b[32m━━━━━━━━━━━\u001b[0m\u001b[37m━━━━━━━━━\u001b[0m \u001b[1m2s\u001b[0m 228ms/stepLoss: 5.98711304e-05\n",
            "\u001b[1m16/27\u001b[0m \u001b[32m━━━━━━━━━━━\u001b[0m\u001b[37m━━━━━━━━━\u001b[0m \u001b[1m2s\u001b[0m 228ms/stepLoss: 4.43686804e-05\n",
            "\u001b[1m17/27\u001b[0m \u001b[32m━━━━━━━━━━━━\u001b[0m\u001b[37m━━━━━━━━\u001b[0m \u001b[1m2s\u001b[0m 228ms/stepLoss: 0.000106972933\n",
            "\u001b[1m18/27\u001b[0m \u001b[32m━━━━━━━━━━━━━\u001b[0m\u001b[37m━━━━━━━\u001b[0m \u001b[1m2s\u001b[0m 228ms/stepLoss: 3.05384929e-05\n",
            "\u001b[1m19/27\u001b[0m \u001b[32m━━━━━━━━━━━━━━\u001b[0m\u001b[37m━━━━━━\u001b[0m \u001b[1m1s\u001b[0m 228ms/stepLoss: 4.64421864e-05\n",
            "\u001b[1m20/27\u001b[0m \u001b[32m━━━━━━━━━━━━━━\u001b[0m\u001b[37m━━━━━━\u001b[0m \u001b[1m1s\u001b[0m 228ms/stepLoss: 0.000120596196\n",
            "\u001b[1m21/27\u001b[0m \u001b[32m━━━━━━━━━━━━━━━\u001b[0m\u001b[37m━━━━━\u001b[0m \u001b[1m1s\u001b[0m 228ms/stepLoss: 4.968348e-05\n",
            "\u001b[1m22/27\u001b[0m \u001b[32m━━━━━━━━━━━━━━━━\u001b[0m\u001b[37m━━━━\u001b[0m \u001b[1m1s\u001b[0m 228ms/stepLoss: 0.00023829483\n",
            "\u001b[1m23/27\u001b[0m \u001b[32m━━━━━━━━━━━━━━━━━\u001b[0m\u001b[37m━━━\u001b[0m \u001b[1m0s\u001b[0m 228ms/stepLoss: 8.57457344e-05\n",
            "\u001b[1m24/27\u001b[0m \u001b[32m━━━━━━━━━━━━━━━━━\u001b[0m\u001b[37m━━━\u001b[0m \u001b[1m0s\u001b[0m 228ms/stepLoss: 4.29908505e-06\n",
            "\u001b[1m25/27\u001b[0m \u001b[32m━━━━━━━━━━━━━━━━━━\u001b[0m\u001b[37m━━\u001b[0m \u001b[1m0s\u001b[0m 228ms/stepLoss: 8.84472e-05\n",
            "\u001b[1m26/27\u001b[0m \u001b[32m━━━━━━━━━━━━━━━━━━━\u001b[0m\u001b[37m━\u001b[0m \u001b[1m0s\u001b[0m 227ms/stepLoss: 0.000721495599\n",
            "\u001b[1m27/27\u001b[0m \u001b[32m━━━━━━━━━━━━━━━━━━━━\u001b[0m\u001b[37m\u001b[0m \u001b[1m6s\u001b[0m 222ms/step\n",
            "\n",
            " Epoch 26/50\n",
            "Loss: 0.000133196707\n",
            "\u001b[1m 1/27\u001b[0m \u001b[37m━━━━━━━━━━━━━━━━━━━━\u001b[0m \u001b[1m5s\u001b[0m 230ms/stepLoss: 0.000251421239\n",
            "\u001b[1m 2/27\u001b[0m \u001b[32m━\u001b[0m\u001b[37m━━━━━━━━━━━━━━━━━━━\u001b[0m \u001b[1m5s\u001b[0m 226ms/stepLoss: 0.000166535086\n",
            "\u001b[1m 3/27\u001b[0m \u001b[32m━━\u001b[0m\u001b[37m━━━━━━━━━━━━━━━━━━\u001b[0m \u001b[1m5s\u001b[0m 226ms/stepLoss: 5.00683291e-06\n",
            "\u001b[1m 4/27\u001b[0m \u001b[32m━━\u001b[0m\u001b[37m━━━━━━━━━━━━━━━━━━\u001b[0m \u001b[1m5s\u001b[0m 228ms/stepLoss: 0.000392351532\n",
            "\u001b[1m 5/27\u001b[0m \u001b[32m━━━\u001b[0m\u001b[37m━━━━━━━━━━━━━━━━━\u001b[0m \u001b[1m5s\u001b[0m 228ms/stepLoss: 6.60991063e-05\n",
            "\u001b[1m 6/27\u001b[0m \u001b[32m━━━━\u001b[0m\u001b[37m━━━━━━━━━━━━━━━━\u001b[0m \u001b[1m4s\u001b[0m 228ms/stepLoss: 4.0941668e-06\n",
            "\u001b[1m 7/27\u001b[0m \u001b[32m━━━━━\u001b[0m\u001b[37m━━━━━━━━━━━━━━━\u001b[0m \u001b[1m4s\u001b[0m 228ms/stepLoss: 1.59819701e-05\n",
            "\u001b[1m 8/27\u001b[0m \u001b[32m━━━━━\u001b[0m\u001b[37m━━━━━━━━━━━━━━━\u001b[0m \u001b[1m4s\u001b[0m 228ms/stepLoss: 3.90682035e-05\n",
            "\u001b[1m 9/27\u001b[0m \u001b[32m━━━━━━\u001b[0m\u001b[37m━━━━━━━━━━━━━━\u001b[0m \u001b[1m4s\u001b[0m 229ms/stepLoss: 0.000143501049\n",
            "\u001b[1m10/27\u001b[0m \u001b[32m━━━━━━━\u001b[0m\u001b[37m━━━━━━━━━━━━━\u001b[0m \u001b[1m3s\u001b[0m 229ms/stepLoss: 0.000109889595\n",
            "\u001b[1m11/27\u001b[0m \u001b[32m━━━━━━━━\u001b[0m\u001b[37m━━━━━━━━━━━━\u001b[0m \u001b[1m3s\u001b[0m 228ms/stepLoss: 0.000127521722\n",
            "\u001b[1m12/27\u001b[0m \u001b[32m━━━━━━━━\u001b[0m\u001b[37m━━━━━━━━━━━━\u001b[0m \u001b[1m3s\u001b[0m 228ms/stepLoss: 2.24461292e-05\n",
            "\u001b[1m13/27\u001b[0m \u001b[32m━━━━━━━━━\u001b[0m\u001b[37m━━━━━━━━━━━\u001b[0m \u001b[1m3s\u001b[0m 228ms/stepLoss: 0.000151013941\n",
            "\u001b[1m14/27\u001b[0m \u001b[32m━━━━━━━━━━\u001b[0m\u001b[37m━━━━━━━━━━\u001b[0m \u001b[1m2s\u001b[0m 228ms/stepLoss: 0.000206184312\n",
            "\u001b[1m15/27\u001b[0m \u001b[32m━━━━━━━━━━━\u001b[0m\u001b[37m━━━━━━━━━\u001b[0m \u001b[1m2s\u001b[0m 228ms/stepLoss: 6.05108035e-05\n",
            "\u001b[1m16/27\u001b[0m \u001b[32m━━━━━━━━━━━\u001b[0m\u001b[37m━━━━━━━━━\u001b[0m \u001b[1m2s\u001b[0m 228ms/stepLoss: 0.000148312392\n",
            "\u001b[1m17/27\u001b[0m \u001b[32m━━━━━━━━━━━━\u001b[0m\u001b[37m━━━━━━━━\u001b[0m \u001b[1m2s\u001b[0m 227ms/stepLoss: 0.000114653099\n",
            "\u001b[1m18/27\u001b[0m \u001b[32m━━━━━━━━━━━━━\u001b[0m\u001b[37m━━━━━━━\u001b[0m \u001b[1m2s\u001b[0m 228ms/stepLoss: 0.000273096666\n",
            "\u001b[1m19/27\u001b[0m \u001b[32m━━━━━━━━━━━━━━\u001b[0m\u001b[37m━━━━━━\u001b[0m \u001b[1m1s\u001b[0m 227ms/stepLoss: 1.55802154e-05\n",
            "\u001b[1m20/27\u001b[0m \u001b[32m━━━━━━━━━━━━━━\u001b[0m\u001b[37m━━━━━━\u001b[0m \u001b[1m1s\u001b[0m 227ms/stepLoss: 8.74947946e-05\n",
            "\u001b[1m21/27\u001b[0m \u001b[32m━━━━━━━━━━━━━━━\u001b[0m\u001b[37m━━━━━\u001b[0m \u001b[1m1s\u001b[0m 227ms/stepLoss: 5.74452542e-06\n",
            "\u001b[1m22/27\u001b[0m \u001b[32m━━━━━━━━━━━━━━━━\u001b[0m\u001b[37m━━━━\u001b[0m \u001b[1m1s\u001b[0m 227ms/stepLoss: 0.000124315702\n",
            "\u001b[1m23/27\u001b[0m \u001b[32m━━━━━━━━━━━━━━━━━\u001b[0m\u001b[37m━━━\u001b[0m \u001b[1m0s\u001b[0m 227ms/stepLoss: 0.000234294188\n",
            "\u001b[1m24/27\u001b[0m \u001b[32m━━━━━━━━━━━━━━━━━\u001b[0m\u001b[37m━━━\u001b[0m \u001b[1m0s\u001b[0m 227ms/stepLoss: 6.09841663e-06\n",
            "\u001b[1m25/27\u001b[0m \u001b[32m━━━━━━━━━━━━━━━━━━\u001b[0m\u001b[37m━━\u001b[0m \u001b[1m0s\u001b[0m 227ms/stepLoss: 9.49907335e-05\n",
            "\u001b[1m26/27\u001b[0m \u001b[32m━━━━━━━━━━━━━━━━━━━\u001b[0m\u001b[37m━\u001b[0m \u001b[1m0s\u001b[0m 227ms/stepLoss: 0.00061502523\n",
            "\u001b[1m27/27\u001b[0m \u001b[32m━━━━━━━━━━━━━━━━━━━━\u001b[0m\u001b[37m\u001b[0m \u001b[1m6s\u001b[0m 221ms/step\n",
            "\n",
            " Epoch 27/50\n",
            "Loss: 0.0003342891\n",
            "\u001b[1m 1/27\u001b[0m \u001b[37m━━━━━━━━━━━━━━━━━━━━\u001b[0m \u001b[1m5s\u001b[0m 226ms/stepLoss: 0.000126554689\n",
            "\u001b[1m 2/27\u001b[0m \u001b[32m━\u001b[0m\u001b[37m━━━━━━━━━━━━━━━━━━━\u001b[0m \u001b[1m5s\u001b[0m 233ms/stepLoss: 3.18032216e-05\n",
            "\u001b[1m 3/27\u001b[0m \u001b[32m━━\u001b[0m\u001b[37m━━━━━━━━━━━━━━━━━━\u001b[0m \u001b[1m5s\u001b[0m 230ms/stepLoss: 0.000205158314\n",
            "\u001b[1m 4/27\u001b[0m \u001b[32m━━\u001b[0m\u001b[37m━━━━━━━━━━━━━━━━━━\u001b[0m \u001b[1m5s\u001b[0m 229ms/stepLoss: 1.10419987e-05\n",
            "\u001b[1m 5/27\u001b[0m \u001b[32m━━━\u001b[0m\u001b[37m━━━━━━━━━━━━━━━━━\u001b[0m \u001b[1m5s\u001b[0m 228ms/stepLoss: 0.000210783255\n",
            "\u001b[1m 6/27\u001b[0m \u001b[32m━━━━\u001b[0m\u001b[37m━━━━━━━━━━━━━━━━\u001b[0m \u001b[1m4s\u001b[0m 228ms/stepLoss: 9.9040888e-05\n",
            "\u001b[1m 7/27\u001b[0m \u001b[32m━━━━━\u001b[0m\u001b[37m━━━━━━━━━━━━━━━\u001b[0m \u001b[1m4s\u001b[0m 228ms/stepLoss: 9.94489892e-05\n",
            "\u001b[1m 8/27\u001b[0m \u001b[32m━━━━━\u001b[0m\u001b[37m━━━━━━━━━━━━━━━\u001b[0m \u001b[1m4s\u001b[0m 227ms/stepLoss: 0.000503749\n",
            "\u001b[1m 9/27\u001b[0m \u001b[32m━━━━━━\u001b[0m\u001b[37m━━━━━━━━━━━━━━\u001b[0m \u001b[1m4s\u001b[0m 227ms/stepLoss: 5.26018312e-06\n",
            "\u001b[1m10/27\u001b[0m \u001b[32m━━━━━━━\u001b[0m\u001b[37m━━━━━━━━━━━━━\u001b[0m \u001b[1m3s\u001b[0m 227ms/stepLoss: 2.06620498e-05\n",
            "\u001b[1m11/27\u001b[0m \u001b[32m━━━━━━━━\u001b[0m\u001b[37m━━━━━━━━━━━━\u001b[0m \u001b[1m3s\u001b[0m 227ms/stepLoss: 2.31685481e-05\n",
            "\u001b[1m12/27\u001b[0m \u001b[32m━━━━━━━━\u001b[0m\u001b[37m━━━━━━━━━━━━\u001b[0m \u001b[1m3s\u001b[0m 227ms/stepLoss: 4.19847856e-06\n",
            "\u001b[1m13/27\u001b[0m \u001b[32m━━━━━━━━━\u001b[0m\u001b[37m━━━━━━━━━━━\u001b[0m \u001b[1m3s\u001b[0m 227ms/stepLoss: 5.32116283e-05\n",
            "\u001b[1m14/27\u001b[0m \u001b[32m━━━━━━━━━━\u001b[0m\u001b[37m━━━━━━━━━━\u001b[0m \u001b[1m2s\u001b[0m 227ms/stepLoss: 0.000141353841\n",
            "\u001b[1m15/27\u001b[0m \u001b[32m━━━━━━━━━━━\u001b[0m\u001b[37m━━━━━━━━━\u001b[0m \u001b[1m2s\u001b[0m 227ms/stepLoss: 2.27093788e-05\n",
            "\u001b[1m16/27\u001b[0m \u001b[32m━━━━━━━━━━━\u001b[0m\u001b[37m━━━━━━━━━\u001b[0m \u001b[1m2s\u001b[0m 227ms/stepLoss: 6.5083048e-05\n",
            "\u001b[1m17/27\u001b[0m \u001b[32m━━━━━━━━━━━━\u001b[0m\u001b[37m━━━━━━━━\u001b[0m \u001b[1m2s\u001b[0m 227ms/stepLoss: 2.30854275e-05\n",
            "\u001b[1m18/27\u001b[0m \u001b[32m━━━━━━━━━━━━━\u001b[0m\u001b[37m━━━━━━━\u001b[0m \u001b[1m2s\u001b[0m 227ms/stepLoss: 7.5723663e-05\n",
            "\u001b[1m19/27\u001b[0m \u001b[32m━━━━━━━━━━━━━━\u001b[0m\u001b[37m━━━━━━\u001b[0m \u001b[1m1s\u001b[0m 227ms/stepLoss: 9.23886e-06\n",
            "\u001b[1m20/27\u001b[0m \u001b[32m━━━━━━━━━━━━━━\u001b[0m\u001b[37m━━━━━━\u001b[0m \u001b[1m1s\u001b[0m 227ms/stepLoss: 0.000159825096\n",
            "\u001b[1m21/27\u001b[0m \u001b[32m━━━━━━━━━━━━━━━\u001b[0m\u001b[37m━━━━━\u001b[0m \u001b[1m1s\u001b[0m 227ms/stepLoss: 0.00023507257\n",
            "\u001b[1m22/27\u001b[0m \u001b[32m━━━━━━━━━━━━━━━━\u001b[0m\u001b[37m━━━━\u001b[0m \u001b[1m1s\u001b[0m 227ms/stepLoss: 3.77708748e-05\n",
            "\u001b[1m23/27\u001b[0m \u001b[32m━━━━━━━━━━━━━━━━━\u001b[0m\u001b[37m━━━\u001b[0m \u001b[1m0s\u001b[0m 227ms/stepLoss: 0.000157009315\n",
            "\u001b[1m24/27\u001b[0m \u001b[32m━━━━━━━━━━━━━━━━━\u001b[0m\u001b[37m━━━\u001b[0m \u001b[1m0s\u001b[0m 227ms/stepLoss: 0.000123348029\n",
            "\u001b[1m25/27\u001b[0m \u001b[32m━━━━━━━━━━━━━━━━━━\u001b[0m\u001b[37m━━\u001b[0m \u001b[1m0s\u001b[0m 227ms/stepLoss: 2.82754149e-06\n",
            "\u001b[1m26/27\u001b[0m \u001b[32m━━━━━━━━━━━━━━━━━━━\u001b[0m\u001b[37m━\u001b[0m \u001b[1m0s\u001b[0m 227ms/stepLoss: 7.45058912e-07\n",
            "\u001b[1m27/27\u001b[0m \u001b[32m━━━━━━━━━━━━━━━━━━━━\u001b[0m\u001b[37m\u001b[0m \u001b[1m6s\u001b[0m 221ms/step\n",
            "\n",
            " Epoch 28/50\n",
            "Loss: 0.000214201864\n",
            "\u001b[1m 1/27\u001b[0m \u001b[37m━━━━━━━━━━━━━━━━━━━━\u001b[0m \u001b[1m6s\u001b[0m 238ms/stepLoss: 8.62671222e-05\n",
            "\u001b[1m 2/27\u001b[0m \u001b[32m━\u001b[0m\u001b[37m━━━━━━━━━━━━━━━━━━━\u001b[0m \u001b[1m5s\u001b[0m 227ms/stepLoss: 3.47904061e-05\n",
            "\u001b[1m 3/27\u001b[0m \u001b[32m━━\u001b[0m\u001b[37m━━━━━━━━━━━━━━━━━━\u001b[0m \u001b[1m5s\u001b[0m 226ms/stepLoss: 5.64016773e-06\n",
            "\u001b[1m 4/27\u001b[0m \u001b[32m━━\u001b[0m\u001b[37m━━━━━━━━━━━━━━━━━━\u001b[0m \u001b[1m5s\u001b[0m 227ms/stepLoss: 2.31342483e-06\n",
            "\u001b[1m 5/27\u001b[0m \u001b[32m━━━\u001b[0m\u001b[37m━━━━━━━━━━━━━━━━━\u001b[0m \u001b[1m4s\u001b[0m 227ms/stepLoss: 0.000131214518\n",
            "\u001b[1m 6/27\u001b[0m \u001b[32m━━━━\u001b[0m\u001b[37m━━━━━━━━━━━━━━━━\u001b[0m \u001b[1m4s\u001b[0m 227ms/stepLoss: 7.46191e-05\n",
            "\u001b[1m 7/27\u001b[0m \u001b[32m━━━━━\u001b[0m\u001b[37m━━━━━━━━━━━━━━━\u001b[0m \u001b[1m4s\u001b[0m 227ms/stepLoss: 4.88956102e-05\n",
            "\u001b[1m 8/27\u001b[0m \u001b[32m━━━━━\u001b[0m\u001b[37m━━━━━━━━━━━━━━━\u001b[0m \u001b[1m4s\u001b[0m 227ms/stepLoss: 6.22520456e-05\n",
            "\u001b[1m 9/27\u001b[0m \u001b[32m━━━━━━\u001b[0m\u001b[37m━━━━━━━━━━━━━━\u001b[0m \u001b[1m4s\u001b[0m 227ms/stepLoss: 2.55929194e-06\n",
            "\u001b[1m10/27\u001b[0m \u001b[32m━━━━━━━\u001b[0m\u001b[37m━━━━━━━━━━━━━\u001b[0m \u001b[1m3s\u001b[0m 227ms/stepLoss: 0.00016106345\n",
            "\u001b[1m11/27\u001b[0m \u001b[32m━━━━━━━━\u001b[0m\u001b[37m━━━━━━━━━━━━\u001b[0m \u001b[1m3s\u001b[0m 227ms/stepLoss: 6.46814369e-05\n",
            "\u001b[1m12/27\u001b[0m \u001b[32m━━━━━━━━\u001b[0m\u001b[37m━━━━━━━━━━━━\u001b[0m \u001b[1m3s\u001b[0m 227ms/stepLoss: 1.44360019e-05\n",
            "\u001b[1m13/27\u001b[0m \u001b[32m━━━━━━━━━\u001b[0m\u001b[37m━━━━━━━━━━━\u001b[0m \u001b[1m3s\u001b[0m 227ms/stepLoss: 0.000230057776\n",
            "\u001b[1m14/27\u001b[0m \u001b[32m━━━━━━━━━━\u001b[0m\u001b[37m━━━━━━━━━━\u001b[0m \u001b[1m2s\u001b[0m 227ms/stepLoss: 0.000204001684\n",
            "\u001b[1m15/27\u001b[0m \u001b[32m━━━━━━━━━━━\u001b[0m\u001b[37m━━━━━━━━━\u001b[0m \u001b[1m2s\u001b[0m 227ms/stepLoss: 0.000291002129\n",
            "\u001b[1m16/27\u001b[0m \u001b[32m━━━━━━━━━━━\u001b[0m\u001b[37m━━━━━━━━━\u001b[0m \u001b[1m2s\u001b[0m 227ms/stepLoss: 9.16676e-05\n",
            "\u001b[1m17/27\u001b[0m \u001b[32m━━━━━━━━━━━━\u001b[0m\u001b[37m━━━━━━━━\u001b[0m \u001b[1m2s\u001b[0m 227ms/stepLoss: 9.25931454e-05\n",
            "\u001b[1m18/27\u001b[0m \u001b[32m━━━━━━━━━━━━━\u001b[0m\u001b[37m━━━━━━━\u001b[0m \u001b[1m2s\u001b[0m 227ms/stepLoss: 0.000162425073\n",
            "\u001b[1m19/27\u001b[0m \u001b[32m━━━━━━━━━━━━━━\u001b[0m\u001b[37m━━━━━━\u001b[0m \u001b[1m1s\u001b[0m 227ms/stepLoss: 0.000184324992\n",
            "\u001b[1m20/27\u001b[0m \u001b[32m━━━━━━━━━━━━━━\u001b[0m\u001b[37m━━━━━━\u001b[0m \u001b[1m1s\u001b[0m 226ms/stepLoss: 0.00013301587\n",
            "\u001b[1m21/27\u001b[0m \u001b[32m━━━━━━━━━━━━━━━\u001b[0m\u001b[37m━━━━━\u001b[0m \u001b[1m1s\u001b[0m 226ms/stepLoss: 1.63995446e-05\n",
            "\u001b[1m22/27\u001b[0m \u001b[32m━━━━━━━━━━━━━━━━\u001b[0m\u001b[37m━━━━\u001b[0m \u001b[1m1s\u001b[0m 226ms/stepLoss: 4.84288307e-07\n",
            "\u001b[1m23/27\u001b[0m \u001b[32m━━━━━━━━━━━━━━━━━\u001b[0m\u001b[37m━━━\u001b[0m \u001b[1m0s\u001b[0m 226ms/stepLoss: 0.000171741165\n",
            "\u001b[1m24/27\u001b[0m \u001b[32m━━━━━━━━━━━━━━━━━\u001b[0m\u001b[37m━━━\u001b[0m \u001b[1m0s\u001b[0m 226ms/stepLoss: 8.84435285e-05\n",
            "\u001b[1m25/27\u001b[0m \u001b[32m━━━━━━━━━━━━━━━━━━\u001b[0m\u001b[37m━━\u001b[0m \u001b[1m0s\u001b[0m 226ms/stepLoss: 8.01187271e-05\n",
            "\u001b[1m26/27\u001b[0m \u001b[32m━━━━━━━━━━━━━━━━━━━\u001b[0m\u001b[37m━\u001b[0m \u001b[1m0s\u001b[0m 226ms/stepLoss: 1.18914022e-05\n",
            "\u001b[1m27/27\u001b[0m \u001b[32m━━━━━━━━━━━━━━━━━━━━\u001b[0m\u001b[37m\u001b[0m \u001b[1m6s\u001b[0m 221ms/step\n",
            "\n",
            " Epoch 29/50\n",
            "Loss: 4.41461543e-06\n",
            "\u001b[1m 1/27\u001b[0m \u001b[37m━━━━━━━━━━━━━━━━━━━━\u001b[0m \u001b[1m6s\u001b[0m 232ms/stepLoss: 0.000244331284\n",
            "\u001b[1m 2/27\u001b[0m \u001b[32m━\u001b[0m\u001b[37m━━━━━━━━━━━━━━━━━━━\u001b[0m \u001b[1m5s\u001b[0m 225ms/stepLoss: 0.000121587982\n",
            "\u001b[1m 3/27\u001b[0m \u001b[32m━━\u001b[0m\u001b[37m━━━━━━━━━━━━━━━━━━\u001b[0m \u001b[1m5s\u001b[0m 228ms/stepLoss: 0.000177616399\n",
            "\u001b[1m 4/27\u001b[0m \u001b[32m━━\u001b[0m\u001b[37m━━━━━━━━━━━━━━━━━━\u001b[0m \u001b[1m5s\u001b[0m 228ms/stepLoss: 8.64405665e-05\n",
            "\u001b[1m 5/27\u001b[0m \u001b[32m━━━\u001b[0m\u001b[37m━━━━━━━━━━━━━━━━━\u001b[0m \u001b[1m4s\u001b[0m 227ms/stepLoss: 9.48280867e-05\n",
            "\u001b[1m 6/27\u001b[0m \u001b[32m━━━━\u001b[0m\u001b[37m━━━━━━━━━━━━━━━━\u001b[0m \u001b[1m4s\u001b[0m 226ms/stepLoss: 6.22182e-05\n",
            "\u001b[1m 7/27\u001b[0m \u001b[32m━━━━━\u001b[0m\u001b[37m━━━━━━━━━━━━━━━\u001b[0m \u001b[1m4s\u001b[0m 227ms/stepLoss: 9.64914288e-05\n",
            "\u001b[1m 8/27\u001b[0m \u001b[32m━━━━━\u001b[0m\u001b[37m━━━━━━━━━━━━━━━\u001b[0m \u001b[1m4s\u001b[0m 227ms/stepLoss: 3.58375087e-06\n",
            "\u001b[1m 9/27\u001b[0m \u001b[32m━━━━━━\u001b[0m\u001b[37m━━━━━━━━━━━━━━\u001b[0m \u001b[1m4s\u001b[0m 226ms/stepLoss: 2.67973937e-05\n",
            "\u001b[1m10/27\u001b[0m \u001b[32m━━━━━━━\u001b[0m\u001b[37m━━━━━━━━━━━━━\u001b[0m \u001b[1m3s\u001b[0m 226ms/stepLoss: 8.14501836e-05\n",
            "\u001b[1m11/27\u001b[0m \u001b[32m━━━━━━━━\u001b[0m\u001b[37m━━━━━━━━━━━━\u001b[0m \u001b[1m3s\u001b[0m 226ms/stepLoss: 1.72855266e-06\n",
            "\u001b[1m12/27\u001b[0m \u001b[32m━━━━━━━━\u001b[0m\u001b[37m━━━━━━━━━━━━\u001b[0m \u001b[1m3s\u001b[0m 226ms/stepLoss: 6.18481281e-05\n",
            "\u001b[1m13/27\u001b[0m \u001b[32m━━━━━━━━━\u001b[0m\u001b[37m━━━━━━━━━━━\u001b[0m \u001b[1m3s\u001b[0m 226ms/stepLoss: 0.000152234396\n",
            "\u001b[1m14/27\u001b[0m \u001b[32m━━━━━━━━━━\u001b[0m\u001b[37m━━━━━━━━━━\u001b[0m \u001b[1m2s\u001b[0m 225ms/stepLoss: 8.80743e-05\n",
            "\u001b[1m15/27\u001b[0m \u001b[32m━━━━━━━━━━━\u001b[0m\u001b[37m━━━━━━━━━\u001b[0m \u001b[1m2s\u001b[0m 226ms/stepLoss: 0.00025856556\n",
            "\u001b[1m16/27\u001b[0m \u001b[32m━━━━━━━━━━━\u001b[0m\u001b[37m━━━━━━━━━\u001b[0m \u001b[1m2s\u001b[0m 225ms/stepLoss: 0.00011583067\n",
            "\u001b[1m17/27\u001b[0m \u001b[32m━━━━━━━━━━━━\u001b[0m\u001b[37m━━━━━━━━\u001b[0m \u001b[1m2s\u001b[0m 226ms/stepLoss: 6.89578883e-05\n",
            "\u001b[1m18/27\u001b[0m \u001b[32m━━━━━━━━━━━━━\u001b[0m\u001b[37m━━━━━━━\u001b[0m \u001b[1m2s\u001b[0m 226ms/stepLoss: 0.000522712187\n",
            "\u001b[1m19/27\u001b[0m \u001b[32m━━━━━━━━━━━━━━\u001b[0m\u001b[37m━━━━━━\u001b[0m \u001b[1m1s\u001b[0m 225ms/stepLoss: 8.11548e-05\n",
            "\u001b[1m20/27\u001b[0m \u001b[32m━━━━━━━━━━━━━━\u001b[0m\u001b[37m━━━━━━\u001b[0m \u001b[1m1s\u001b[0m 225ms/stepLoss: 3.77026299e-05\n",
            "\u001b[1m21/27\u001b[0m \u001b[32m━━━━━━━━━━━━━━━\u001b[0m\u001b[37m━━━━━\u001b[0m \u001b[1m1s\u001b[0m 225ms/stepLoss: 4.37572744e-05\n",
            "\u001b[1m22/27\u001b[0m \u001b[32m━━━━━━━━━━━━━━━━\u001b[0m\u001b[37m━━━━\u001b[0m \u001b[1m1s\u001b[0m 225ms/stepLoss: 9.3705e-05\n",
            "\u001b[1m23/27\u001b[0m \u001b[32m━━━━━━━━━━━━━━━━━\u001b[0m\u001b[37m━━━\u001b[0m \u001b[1m0s\u001b[0m 225ms/stepLoss: 3.25187175e-05\n",
            "\u001b[1m24/27\u001b[0m \u001b[32m━━━━━━━━━━━━━━━━━\u001b[0m\u001b[37m━━━\u001b[0m \u001b[1m0s\u001b[0m 225ms/stepLoss: 3.44878e-05\n",
            "\u001b[1m25/27\u001b[0m \u001b[32m━━━━━━━━━━━━━━━━━━\u001b[0m\u001b[37m━━\u001b[0m \u001b[1m0s\u001b[0m 225ms/stepLoss: 1.14739419e-06\n",
            "\u001b[1m26/27\u001b[0m \u001b[32m━━━━━━━━━━━━━━━━━━━\u001b[0m\u001b[37m━\u001b[0m \u001b[1m0s\u001b[0m 225ms/stepLoss: 1.48568e-05\n",
            "\u001b[1m27/27\u001b[0m \u001b[32m━━━━━━━━━━━━━━━━━━━━\u001b[0m\u001b[37m\u001b[0m \u001b[1m6s\u001b[0m 219ms/step\n",
            "\n",
            " Epoch 30/50\n",
            "Loss: 0.000154038687\n",
            "\u001b[1m 1/27\u001b[0m \u001b[37m━━━━━━━━━━━━━━━━━━━━\u001b[0m \u001b[1m8s\u001b[0m 343ms/stepLoss: 3.87797918e-05\n",
            "\u001b[1m 2/27\u001b[0m \u001b[32m━\u001b[0m\u001b[37m━━━━━━━━━━━━━━━━━━━\u001b[0m \u001b[1m5s\u001b[0m 226ms/stepLoss: 7.7671968e-05\n",
            "\u001b[1m 3/27\u001b[0m \u001b[32m━━\u001b[0m\u001b[37m━━━━━━━━━━━━━━━━━━\u001b[0m \u001b[1m5s\u001b[0m 224ms/stepLoss: 2.10237104e-05\n",
            "\u001b[1m 4/27\u001b[0m \u001b[32m━━\u001b[0m\u001b[37m━━━━━━━━━━━━━━━━━━\u001b[0m \u001b[1m5s\u001b[0m 224ms/stepLoss: 0.000103941304\n",
            "\u001b[1m 5/27\u001b[0m \u001b[32m━━━\u001b[0m\u001b[37m━━━━━━━━━━━━━━━━━\u001b[0m \u001b[1m4s\u001b[0m 224ms/stepLoss: 1.87128499e-05\n",
            "\u001b[1m 6/27\u001b[0m \u001b[32m━━━━\u001b[0m\u001b[37m━━━━━━━━━━━━━━━━\u001b[0m \u001b[1m4s\u001b[0m 224ms/stepLoss: 0.000142767632\n",
            "\u001b[1m 7/27\u001b[0m \u001b[32m━━━━━\u001b[0m\u001b[37m━━━━━━━━━━━━━━━\u001b[0m \u001b[1m4s\u001b[0m 224ms/stepLoss: 0.000165487814\n",
            "\u001b[1m 8/27\u001b[0m \u001b[32m━━━━━\u001b[0m\u001b[37m━━━━━━━━━━━━━━━\u001b[0m \u001b[1m4s\u001b[0m 224ms/stepLoss: 0.000159405594\n",
            "\u001b[1m 9/27\u001b[0m \u001b[32m━━━━━━\u001b[0m\u001b[37m━━━━━━━━━━━━━━\u001b[0m \u001b[1m4s\u001b[0m 224ms/stepLoss: 0.000300823769\n",
            "\u001b[1m10/27\u001b[0m \u001b[32m━━━━━━━\u001b[0m\u001b[37m━━━━━━━━━━━━━\u001b[0m \u001b[1m3s\u001b[0m 224ms/stepLoss: 2.45032952e-05\n",
            "\u001b[1m11/27\u001b[0m \u001b[32m━━━━━━━━\u001b[0m\u001b[37m━━━━━━━━━━━━\u001b[0m \u001b[1m3s\u001b[0m 224ms/stepLoss: 7.46372243e-05\n",
            "\u001b[1m12/27\u001b[0m \u001b[32m━━━━━━━━\u001b[0m\u001b[37m━━━━━━━━━━━━\u001b[0m \u001b[1m3s\u001b[0m 223ms/stepLoss: 2.14206307e-06\n",
            "\u001b[1m13/27\u001b[0m \u001b[32m━━━━━━━━━\u001b[0m\u001b[37m━━━━━━━━━━━\u001b[0m \u001b[1m3s\u001b[0m 224ms/stepLoss: 1.41561759e-06\n",
            "\u001b[1m14/27\u001b[0m \u001b[32m━━━━━━━━━━\u001b[0m\u001b[37m━━━━━━━━━━\u001b[0m \u001b[1m2s\u001b[0m 223ms/stepLoss: 7.25945e-05\n",
            "\u001b[1m15/27\u001b[0m \u001b[32m━━━━━━━━━━━\u001b[0m\u001b[37m━━━━━━━━━\u001b[0m \u001b[1m2s\u001b[0m 223ms/stepLoss: 4.37729e-06\n",
            "\u001b[1m16/27\u001b[0m \u001b[32m━━━━━━━━━━━\u001b[0m\u001b[37m━━━━━━━━━\u001b[0m \u001b[1m2s\u001b[0m 223ms/stepLoss: 2.11184761e-05\n",
            "\u001b[1m17/27\u001b[0m \u001b[32m━━━━━━━━━━━━\u001b[0m\u001b[37m━━━━━━━━\u001b[0m \u001b[1m2s\u001b[0m 223ms/stepLoss: 1.40071529e-06\n",
            "\u001b[1m18/27\u001b[0m \u001b[32m━━━━━━━━━━━━━\u001b[0m\u001b[37m━━━━━━━\u001b[0m \u001b[1m2s\u001b[0m 223ms/stepLoss: 4.1192081e-05\n",
            "\u001b[1m19/27\u001b[0m \u001b[32m━━━━━━━━━━━━━━\u001b[0m\u001b[37m━━━━━━\u001b[0m \u001b[1m1s\u001b[0m 223ms/stepLoss: 5.42073576e-05\n",
            "\u001b[1m20/27\u001b[0m \u001b[32m━━━━━━━━━━━━━━\u001b[0m\u001b[37m━━━━━━\u001b[0m \u001b[1m1s\u001b[0m 223ms/stepLoss: 0.000334032346\n",
            "\u001b[1m21/27\u001b[0m \u001b[32m━━━━━━━━━━━━━━━\u001b[0m\u001b[37m━━━━━\u001b[0m \u001b[1m1s\u001b[0m 223ms/stepLoss: 0.000105746898\n",
            "\u001b[1m22/27\u001b[0m \u001b[32m━━━━━━━━━━━━━━━━\u001b[0m\u001b[37m━━━━\u001b[0m \u001b[1m1s\u001b[0m 223ms/stepLoss: 0.000261432549\n",
            "\u001b[1m23/27\u001b[0m \u001b[32m━━━━━━━━━━━━━━━━━\u001b[0m\u001b[37m━━━\u001b[0m \u001b[1m0s\u001b[0m 223ms/stepLoss: 6.00541171e-06\n",
            "\u001b[1m24/27\u001b[0m \u001b[32m━━━━━━━━━━━━━━━━━\u001b[0m\u001b[37m━━━\u001b[0m \u001b[1m0s\u001b[0m 223ms/stepLoss: 3.64979751e-05\n",
            "\u001b[1m25/27\u001b[0m \u001b[32m━━━━━━━━━━━━━━━━━━\u001b[0m\u001b[37m━━\u001b[0m \u001b[1m0s\u001b[0m 223ms/stepLoss: 0.000136310307\n",
            "\u001b[1m26/27\u001b[0m \u001b[32m━━━━━━━━━━━━━━━━━━━\u001b[0m\u001b[37m━\u001b[0m \u001b[1m0s\u001b[0m 223ms/stepLoss: 8.20592322e-05\n",
            "\u001b[1m27/27\u001b[0m \u001b[32m━━━━━━━━━━━━━━━━━━━━\u001b[0m\u001b[37m\u001b[0m \u001b[1m6s\u001b[0m 218ms/step\n",
            "\n",
            " Epoch 31/50\n",
            "Loss: 0.000111713889\n",
            "\u001b[1m 1/27\u001b[0m \u001b[37m━━━━━━━━━━━━━━━━━━━━\u001b[0m \u001b[1m8s\u001b[0m 327ms/stepLoss: 0.000204649856\n",
            "\u001b[1m 2/27\u001b[0m \u001b[32m━\u001b[0m\u001b[37m━━━━━━━━━━━━━━━━━━━\u001b[0m \u001b[1m5s\u001b[0m 222ms/stepLoss: 0.000147454237\n",
            "\u001b[1m 3/27\u001b[0m \u001b[32m━━\u001b[0m\u001b[37m━━━━━━━━━━━━━━━━━━\u001b[0m \u001b[1m5s\u001b[0m 222ms/stepLoss: 1.75770492e-05\n",
            "\u001b[1m 4/27\u001b[0m \u001b[32m━━\u001b[0m\u001b[37m━━━━━━━━━━━━━━━━━━\u001b[0m \u001b[1m5s\u001b[0m 222ms/stepLoss: 0.000105349827\n",
            "\u001b[1m 5/27\u001b[0m \u001b[32m━━━\u001b[0m\u001b[37m━━━━━━━━━━━━━━━━━\u001b[0m \u001b[1m4s\u001b[0m 222ms/stepLoss: 3.23216736e-05\n",
            "\u001b[1m 6/27\u001b[0m \u001b[32m━━━━\u001b[0m\u001b[37m━━━━━━━━━━━━━━━━\u001b[0m \u001b[1m4s\u001b[0m 221ms/stepLoss: 0.00018325969\n",
            "\u001b[1m 7/27\u001b[0m \u001b[32m━━━━━\u001b[0m\u001b[37m━━━━━━━━━━━━━━━\u001b[0m \u001b[1m4s\u001b[0m 221ms/stepLoss: 1.66007485e-05\n",
            "\u001b[1m 8/27\u001b[0m \u001b[32m━━━━━\u001b[0m\u001b[37m━━━━━━━━━━━━━━━\u001b[0m \u001b[1m4s\u001b[0m 222ms/stepLoss: 0.000110914043\n",
            "\u001b[1m 9/27\u001b[0m \u001b[32m━━━━━━\u001b[0m\u001b[37m━━━━━━━━━━━━━━\u001b[0m \u001b[1m3s\u001b[0m 222ms/stepLoss: 0.000111592701\n",
            "\u001b[1m10/27\u001b[0m \u001b[32m━━━━━━━\u001b[0m\u001b[37m━━━━━━━━━━━━━\u001b[0m \u001b[1m3s\u001b[0m 222ms/stepLoss: 3.68142355e-05\n",
            "\u001b[1m11/27\u001b[0m \u001b[32m━━━━━━━━\u001b[0m\u001b[37m━━━━━━━━━━━━\u001b[0m \u001b[1m3s\u001b[0m 222ms/stepLoss: 4.61342715e-05\n",
            "\u001b[1m12/27\u001b[0m \u001b[32m━━━━━━━━\u001b[0m\u001b[37m━━━━━━━━━━━━\u001b[0m \u001b[1m3s\u001b[0m 222ms/stepLoss: 8.95188932e-05\n",
            "\u001b[1m13/27\u001b[0m \u001b[32m━━━━━━━━━\u001b[0m\u001b[37m━━━━━━━━━━━\u001b[0m \u001b[1m3s\u001b[0m 222ms/stepLoss: 4.05808714e-05\n",
            "\u001b[1m14/27\u001b[0m \u001b[32m━━━━━━━━━━\u001b[0m\u001b[37m━━━━━━━━━━\u001b[0m \u001b[1m2s\u001b[0m 222ms/stepLoss: 0.000139436597\n",
            "\u001b[1m15/27\u001b[0m \u001b[32m━━━━━━━━━━━\u001b[0m\u001b[37m━━━━━━━━━\u001b[0m \u001b[1m2s\u001b[0m 222ms/stepLoss: 1.12432472e-05\n",
            "\u001b[1m16/27\u001b[0m \u001b[32m━━━━━━━━━━━\u001b[0m\u001b[37m━━━━━━━━━\u001b[0m \u001b[1m2s\u001b[0m 222ms/stepLoss: 2.84241105e-06\n",
            "\u001b[1m17/27\u001b[0m \u001b[32m━━━━━━━━━━━━\u001b[0m\u001b[37m━━━━━━━━\u001b[0m \u001b[1m2s\u001b[0m 222ms/stepLoss: 4.5964829e-05\n",
            "\u001b[1m18/27\u001b[0m \u001b[32m━━━━━━━━━━━━━\u001b[0m\u001b[37m━━━━━━━\u001b[0m \u001b[1m1s\u001b[0m 222ms/stepLoss: 4.69862716e-05\n",
            "\u001b[1m19/27\u001b[0m \u001b[32m━━━━━━━━━━━━━━\u001b[0m\u001b[37m━━━━━━\u001b[0m \u001b[1m1s\u001b[0m 222ms/stepLoss: 3.41696359e-05\n",
            "\u001b[1m20/27\u001b[0m \u001b[32m━━━━━━━━━━━━━━\u001b[0m\u001b[37m━━━━━━\u001b[0m \u001b[1m1s\u001b[0m 221ms/stepLoss: 6.06622489e-05\n",
            "\u001b[1m21/27\u001b[0m \u001b[32m━━━━━━━━━━━━━━━\u001b[0m\u001b[37m━━━━━\u001b[0m \u001b[1m1s\u001b[0m 221ms/stepLoss: 2.29951092e-05\n",
            "\u001b[1m22/27\u001b[0m \u001b[32m━━━━━━━━━━━━━━━━\u001b[0m\u001b[37m━━━━\u001b[0m \u001b[1m1s\u001b[0m 221ms/stepLoss: 2.15696082e-06\n",
            "\u001b[1m23/27\u001b[0m \u001b[32m━━━━━━━━━━━━━━━━━\u001b[0m\u001b[37m━━━\u001b[0m \u001b[1m0s\u001b[0m 221ms/stepLoss: 0.000219960581\n",
            "\u001b[1m24/27\u001b[0m \u001b[32m━━━━━━━━━━━━━━━━━\u001b[0m\u001b[37m━━━\u001b[0m \u001b[1m0s\u001b[0m 221ms/stepLoss: 2.31715671e-06\n",
            "\u001b[1m25/27\u001b[0m \u001b[32m━━━━━━━━━━━━━━━━━━\u001b[0m\u001b[37m━━\u001b[0m \u001b[1m0s\u001b[0m 222ms/stepLoss: 6.91429705e-06\n",
            "\u001b[1m26/27\u001b[0m \u001b[32m━━━━━━━━━━━━━━━━━━━\u001b[0m\u001b[37m━\u001b[0m \u001b[1m0s\u001b[0m 222ms/stepLoss: 8.67089402e-05\n",
            "\u001b[1m27/27\u001b[0m \u001b[32m━━━━━━━━━━━━━━━━━━━━\u001b[0m\u001b[37m\u001b[0m \u001b[1m6s\u001b[0m 216ms/step\n",
            "\n",
            " Epoch 32/50\n",
            "Loss: 6.14442615e-05\n",
            "\u001b[1m 1/27\u001b[0m \u001b[37m━━━━━━━━━━━━━━━━━━━━\u001b[0m \u001b[1m6s\u001b[0m 237ms/stepLoss: 6.71491798e-05\n",
            "\u001b[1m 2/27\u001b[0m \u001b[32m━\u001b[0m\u001b[37m━━━━━━━━━━━━━━━━━━━\u001b[0m \u001b[1m5s\u001b[0m 224ms/stepLoss: 0.000106255771\n",
            "\u001b[1m 3/27\u001b[0m \u001b[32m━━\u001b[0m\u001b[37m━━━━━━━━━━━━━━━━━━\u001b[0m \u001b[1m5s\u001b[0m 225ms/stepLoss: 1.24170328e-05\n",
            "\u001b[1m 4/27\u001b[0m \u001b[32m━━\u001b[0m\u001b[37m━━━━━━━━━━━━━━━━━━\u001b[0m \u001b[1m5s\u001b[0m 224ms/stepLoss: 5.63015383e-05\n",
            "\u001b[1m 5/27\u001b[0m \u001b[32m━━━\u001b[0m\u001b[37m━━━━━━━━━━━━━━━━━\u001b[0m \u001b[1m4s\u001b[0m 224ms/stepLoss: 5.14911808e-05\n",
            "\u001b[1m 6/27\u001b[0m \u001b[32m━━━━\u001b[0m\u001b[37m━━━━━━━━━━━━━━━━\u001b[0m \u001b[1m4s\u001b[0m 224ms/stepLoss: 6.20245e-05\n",
            "\u001b[1m 7/27\u001b[0m \u001b[32m━━━━━\u001b[0m\u001b[37m━━━━━━━━━━━━━━━\u001b[0m \u001b[1m4s\u001b[0m 224ms/stepLoss: 0.000105887462\n",
            "\u001b[1m 8/27\u001b[0m \u001b[32m━━━━━\u001b[0m\u001b[37m━━━━━━━━━━━━━━━\u001b[0m \u001b[1m4s\u001b[0m 223ms/stepLoss: 0.000117795331\n",
            "\u001b[1m 9/27\u001b[0m \u001b[32m━━━━━━\u001b[0m\u001b[37m━━━━━━━━━━━━━━\u001b[0m \u001b[1m4s\u001b[0m 223ms/stepLoss: 0.000109664048\n",
            "\u001b[1m10/27\u001b[0m \u001b[32m━━━━━━━\u001b[0m\u001b[37m━━━━━━━━━━━━━\u001b[0m \u001b[1m3s\u001b[0m 223ms/stepLoss: 1.15265493e-05\n",
            "\u001b[1m11/27\u001b[0m \u001b[32m━━━━━━━━\u001b[0m\u001b[37m━━━━━━━━━━━━\u001b[0m \u001b[1m3s\u001b[0m 224ms/stepLoss: 7.50514446e-05\n",
            "\u001b[1m12/27\u001b[0m \u001b[32m━━━━━━━━\u001b[0m\u001b[37m━━━━━━━━━━━━\u001b[0m \u001b[1m3s\u001b[0m 224ms/stepLoss: 1.33034009e-05\n",
            "\u001b[1m13/27\u001b[0m \u001b[32m━━━━━━━━━\u001b[0m\u001b[37m━━━━━━━━━━━\u001b[0m \u001b[1m3s\u001b[0m 224ms/stepLoss: 7.66852754e-05\n",
            "\u001b[1m14/27\u001b[0m \u001b[32m━━━━━━━━━━\u001b[0m\u001b[37m━━━━━━━━━━\u001b[0m \u001b[1m2s\u001b[0m 224ms/stepLoss: 2.04103926e-05\n",
            "\u001b[1m15/27\u001b[0m \u001b[32m━━━━━━━━━━━\u001b[0m\u001b[37m━━━━━━━━━\u001b[0m \u001b[1m2s\u001b[0m 224ms/stepLoss: 0.000236332096\n",
            "\u001b[1m16/27\u001b[0m \u001b[32m━━━━━━━━━━━\u001b[0m\u001b[37m━━━━━━━━━\u001b[0m \u001b[1m2s\u001b[0m 224ms/stepLoss: 7.82284478e-05\n",
            "\u001b[1m17/27\u001b[0m \u001b[32m━━━━━━━━━━━━\u001b[0m\u001b[37m━━━━━━━━\u001b[0m \u001b[1m2s\u001b[0m 224ms/stepLoss: 9.02915053e-05\n",
            "\u001b[1m18/27\u001b[0m \u001b[32m━━━━━━━━━━━━━\u001b[0m\u001b[37m━━━━━━━\u001b[0m \u001b[1m2s\u001b[0m 224ms/stepLoss: 3.85574913e-06\n",
            "\u001b[1m19/27\u001b[0m \u001b[32m━━━━━━━━━━━━━━\u001b[0m\u001b[37m━━━━━━\u001b[0m \u001b[1m1s\u001b[0m 224ms/stepLoss: 0.0002084187\n",
            "\u001b[1m20/27\u001b[0m \u001b[32m━━━━━━━━━━━━━━\u001b[0m\u001b[37m━━━━━━\u001b[0m \u001b[1m1s\u001b[0m 224ms/stepLoss: 9.44666317e-05\n",
            "\u001b[1m21/27\u001b[0m \u001b[32m━━━━━━━━━━━━━━━\u001b[0m\u001b[37m━━━━━\u001b[0m \u001b[1m1s\u001b[0m 224ms/stepLoss: 4.82059932e-06\n",
            "\u001b[1m22/27\u001b[0m \u001b[32m━━━━━━━━━━━━━━━━\u001b[0m\u001b[37m━━━━\u001b[0m \u001b[1m1s\u001b[0m 224ms/stepLoss: 2.45738393e-05\n",
            "\u001b[1m23/27\u001b[0m \u001b[32m━━━━━━━━━━━━━━━━━\u001b[0m\u001b[37m━━━\u001b[0m \u001b[1m0s\u001b[0m 224ms/stepLoss: 5.33344646e-05\n",
            "\u001b[1m24/27\u001b[0m \u001b[32m━━━━━━━━━━━━━━━━━\u001b[0m\u001b[37m━━━\u001b[0m \u001b[1m0s\u001b[0m 224ms/stepLoss: 0.000111385831\n",
            "\u001b[1m25/27\u001b[0m \u001b[32m━━━━━━━━━━━━━━━━━━\u001b[0m\u001b[37m━━\u001b[0m \u001b[1m0s\u001b[0m 224ms/stepLoss: 4.20161e-05\n",
            "\u001b[1m26/27\u001b[0m \u001b[32m━━━━━━━━━━━━━━━━━━━\u001b[0m\u001b[37m━\u001b[0m \u001b[1m0s\u001b[0m 223ms/stepLoss: 3.88200569e-05\n",
            "\u001b[1m27/27\u001b[0m \u001b[32m━━━━━━━━━━━━━━━━━━━━\u001b[0m\u001b[37m\u001b[0m \u001b[1m6s\u001b[0m 218ms/step\n",
            "\n",
            " Epoch 33/50\n",
            "Loss: 7.17102084e-05\n",
            "\u001b[1m 1/27\u001b[0m \u001b[37m━━━━━━━━━━━━━━━━━━━━\u001b[0m \u001b[1m5s\u001b[0m 227ms/stepLoss: 2.07126891e-06\n",
            "\u001b[1m 2/27\u001b[0m \u001b[32m━\u001b[0m\u001b[37m━━━━━━━━━━━━━━━━━━━\u001b[0m \u001b[1m5s\u001b[0m 222ms/stepLoss: 2.25881049e-05\n",
            "\u001b[1m 3/27\u001b[0m \u001b[32m━━\u001b[0m\u001b[37m━━━━━━━━━━━━━━━━━━\u001b[0m \u001b[1m5s\u001b[0m 222ms/stepLoss: 2.55915947e-05\n",
            "\u001b[1m 4/27\u001b[0m \u001b[32m━━\u001b[0m\u001b[37m━━━━━━━━━━━━━━━━━━\u001b[0m \u001b[1m5s\u001b[0m 223ms/stepLoss: 4.66109086e-05\n",
            "\u001b[1m 5/27\u001b[0m \u001b[32m━━━\u001b[0m\u001b[37m━━━━━━━━━━━━━━━━━\u001b[0m \u001b[1m4s\u001b[0m 224ms/stepLoss: 6.52136077e-05\n",
            "\u001b[1m 6/27\u001b[0m \u001b[32m━━━━\u001b[0m\u001b[37m━━━━━━━━━━━━━━━━\u001b[0m \u001b[1m4s\u001b[0m 224ms/stepLoss: 1.12959942e-05\n",
            "\u001b[1m 7/27\u001b[0m \u001b[32m━━━━━\u001b[0m\u001b[37m━━━━━━━━━━━━━━━\u001b[0m \u001b[1m4s\u001b[0m 224ms/stepLoss: 7.96525273e-05\n",
            "\u001b[1m 8/27\u001b[0m \u001b[32m━━━━━\u001b[0m\u001b[37m━━━━━━━━━━━━━━━\u001b[0m \u001b[1m4s\u001b[0m 224ms/stepLoss: 4.92117579e-06\n",
            "\u001b[1m 9/27\u001b[0m \u001b[32m━━━━━━\u001b[0m\u001b[37m━━━━━━━━━━━━━━\u001b[0m \u001b[1m4s\u001b[0m 224ms/stepLoss: 0.000199336937\n",
            "\u001b[1m10/27\u001b[0m \u001b[32m━━━━━━━\u001b[0m\u001b[37m━━━━━━━━━━━━━\u001b[0m \u001b[1m3s\u001b[0m 224ms/stepLoss: 1.08406414e-06\n",
            "\u001b[1m11/27\u001b[0m \u001b[32m━━━━━━━━\u001b[0m\u001b[37m━━━━━━━━━━━━\u001b[0m \u001b[1m3s\u001b[0m 223ms/stepLoss: 0.000124743819\n",
            "\u001b[1m12/27\u001b[0m \u001b[32m━━━━━━━━\u001b[0m\u001b[37m━━━━━━━━━━━━\u001b[0m \u001b[1m3s\u001b[0m 223ms/stepLoss: 8.07380129e-05\n",
            "\u001b[1m13/27\u001b[0m \u001b[32m━━━━━━━━━\u001b[0m\u001b[37m━━━━━━━━━━━\u001b[0m \u001b[1m3s\u001b[0m 223ms/stepLoss: 0.000113151938\n",
            "\u001b[1m14/27\u001b[0m \u001b[32m━━━━━━━━━━\u001b[0m\u001b[37m━━━━━━━━━━\u001b[0m \u001b[1m2s\u001b[0m 224ms/stepLoss: 0.000130997854\n",
            "\u001b[1m15/27\u001b[0m \u001b[32m━━━━━━━━━━━\u001b[0m\u001b[37m━━━━━━━━━\u001b[0m \u001b[1m2s\u001b[0m 224ms/stepLoss: 0.000444794539\n",
            "\u001b[1m16/27\u001b[0m \u001b[32m━━━━━━━━━━━\u001b[0m\u001b[37m━━━━━━━━━\u001b[0m \u001b[1m2s\u001b[0m 224ms/stepLoss: 9.73099668e-06\n",
            "\u001b[1m17/27\u001b[0m \u001b[32m━━━━━━━━━━━━\u001b[0m\u001b[37m━━━━━━━━\u001b[0m \u001b[1m2s\u001b[0m 224ms/stepLoss: 0.000228586709\n",
            "\u001b[1m18/27\u001b[0m \u001b[32m━━━━━━━━━━━━━\u001b[0m\u001b[37m━━━━━━━\u001b[0m \u001b[1m2s\u001b[0m 224ms/stepLoss: 8.67463095e-05\n",
            "\u001b[1m19/27\u001b[0m \u001b[32m━━━━━━━━━━━━━━\u001b[0m\u001b[37m━━━━━━\u001b[0m \u001b[1m1s\u001b[0m 224ms/stepLoss: 0.000270717515\n",
            "\u001b[1m20/27\u001b[0m \u001b[32m━━━━━━━━━━━━━━\u001b[0m\u001b[37m━━━━━━\u001b[0m \u001b[1m1s\u001b[0m 224ms/stepLoss: 2.4256824e-05\n",
            "\u001b[1m21/27\u001b[0m \u001b[32m━━━━━━━━━━━━━━━\u001b[0m\u001b[37m━━━━━\u001b[0m \u001b[1m1s\u001b[0m 224ms/stepLoss: 8.0441052e-05\n",
            "\u001b[1m22/27\u001b[0m \u001b[32m━━━━━━━━━━━━━━━━\u001b[0m\u001b[37m━━━━\u001b[0m \u001b[1m1s\u001b[0m 224ms/stepLoss: 5.78527179e-05\n",
            "\u001b[1m23/27\u001b[0m \u001b[32m━━━━━━━━━━━━━━━━━\u001b[0m\u001b[37m━━━\u001b[0m \u001b[1m0s\u001b[0m 224ms/stepLoss: 4.99189412e-07\n",
            "\u001b[1m24/27\u001b[0m \u001b[32m━━━━━━━━━━━━━━━━━\u001b[0m\u001b[37m━━━\u001b[0m \u001b[1m0s\u001b[0m 224ms/stepLoss: 2.16399421e-05\n",
            "\u001b[1m25/27\u001b[0m \u001b[32m━━━━━━━━━━━━━━━━━━\u001b[0m\u001b[37m━━\u001b[0m \u001b[1m0s\u001b[0m 224ms/stepLoss: 1.10160072e-05\n",
            "\u001b[1m26/27\u001b[0m \u001b[32m━━━━━━━━━━━━━━━━━━━\u001b[0m\u001b[37m━\u001b[0m \u001b[1m0s\u001b[0m 224ms/stepLoss: 1.40071245e-06\n",
            "\u001b[1m27/27\u001b[0m \u001b[32m━━━━━━━━━━━━━━━━━━━━\u001b[0m\u001b[37m\u001b[0m \u001b[1m6s\u001b[0m 219ms/step\n",
            "\n",
            " Epoch 34/50\n",
            "Loss: 0.000328523165\n",
            "\u001b[1m 1/27\u001b[0m \u001b[37m━━━━━━━━━━━━━━━━━━━━\u001b[0m \u001b[1m6s\u001b[0m 232ms/stepLoss: 0.000144301914\n",
            "\u001b[1m 2/27\u001b[0m \u001b[32m━\u001b[0m\u001b[37m━━━━━━━━━━━━━━━━━━━\u001b[0m \u001b[1m5s\u001b[0m 230ms/stepLoss: 0.000200325652\n",
            "\u001b[1m 3/27\u001b[0m \u001b[32m━━\u001b[0m\u001b[37m━━━━━━━━━━━━━━━━━━\u001b[0m \u001b[1m5s\u001b[0m 229ms/stepLoss: 3.21127027e-06\n",
            "\u001b[1m 4/27\u001b[0m \u001b[32m━━\u001b[0m\u001b[37m━━━━━━━━━━━━━━━━━━\u001b[0m \u001b[1m5s\u001b[0m 227ms/stepLoss: 3.69290065e-05\n",
            "\u001b[1m 5/27\u001b[0m \u001b[32m━━━\u001b[0m\u001b[37m━━━━━━━━━━━━━━━━━\u001b[0m \u001b[1m5s\u001b[0m 228ms/stepLoss: 4.55982854e-06\n",
            "\u001b[1m 6/27\u001b[0m \u001b[32m━━━━\u001b[0m\u001b[37m━━━━━━━━━━━━━━━━\u001b[0m \u001b[1m4s\u001b[0m 228ms/stepLoss: 2.45753345e-05\n",
            "\u001b[1m 7/27\u001b[0m \u001b[32m━━━━━\u001b[0m\u001b[37m━━━━━━━━━━━━━━━\u001b[0m \u001b[1m4s\u001b[0m 228ms/stepLoss: 6.08031842e-05\n",
            "\u001b[1m 8/27\u001b[0m \u001b[32m━━━━━\u001b[0m\u001b[37m━━━━━━━━━━━━━━━\u001b[0m \u001b[1m4s\u001b[0m 229ms/stepLoss: 5.43192436e-05\n",
            "\u001b[1m 9/27\u001b[0m \u001b[32m━━━━━━\u001b[0m\u001b[37m━━━━━━━━━━━━━━\u001b[0m \u001b[1m4s\u001b[0m 229ms/stepLoss: 1.50917549e-05\n",
            "\u001b[1m10/27\u001b[0m \u001b[32m━━━━━━━\u001b[0m\u001b[37m━━━━━━━━━━━━━\u001b[0m \u001b[1m3s\u001b[0m 229ms/stepLoss: 0.000165635138\n",
            "\u001b[1m11/27\u001b[0m \u001b[32m━━━━━━━━\u001b[0m\u001b[37m━━━━━━━━━━━━\u001b[0m \u001b[1m3s\u001b[0m 229ms/stepLoss: 1.29268335e-06\n",
            "\u001b[1m12/27\u001b[0m \u001b[32m━━━━━━━━\u001b[0m\u001b[37m━━━━━━━━━━━━\u001b[0m \u001b[1m3s\u001b[0m 229ms/stepLoss: 9.90534463e-05\n",
            "\u001b[1m13/27\u001b[0m \u001b[32m━━━━━━━━━\u001b[0m\u001b[37m━━━━━━━━━━━\u001b[0m \u001b[1m3s\u001b[0m 228ms/stepLoss: 6.86955318e-05\n",
            "\u001b[1m14/27\u001b[0m \u001b[32m━━━━━━━━━━\u001b[0m\u001b[37m━━━━━━━━━━\u001b[0m \u001b[1m2s\u001b[0m 228ms/stepLoss: 7.94833177e-05\n",
            "\u001b[1m15/27\u001b[0m \u001b[32m━━━━━━━━━━━\u001b[0m\u001b[37m━━━━━━━━━\u001b[0m \u001b[1m2s\u001b[0m 229ms/stepLoss: 5.54330945e-05\n",
            "\u001b[1m16/27\u001b[0m \u001b[32m━━━━━━━━━━━\u001b[0m\u001b[37m━━━━━━━━━\u001b[0m \u001b[1m2s\u001b[0m 228ms/stepLoss: 5.87045397e-05\n",
            "\u001b[1m17/27\u001b[0m \u001b[32m━━━━━━━━━━━━\u001b[0m\u001b[37m━━━━━━━━\u001b[0m \u001b[1m2s\u001b[0m 229ms/stepLoss: 9.45917509e-06\n",
            "\u001b[1m18/27\u001b[0m \u001b[32m━━━━━━━━━━━━━\u001b[0m\u001b[37m━━━━━━━\u001b[0m \u001b[1m2s\u001b[0m 229ms/stepLoss: 4.77150315e-05\n",
            "\u001b[1m19/27\u001b[0m \u001b[32m━━━━━━━━━━━━━━\u001b[0m\u001b[37m━━━━━━\u001b[0m \u001b[1m1s\u001b[0m 229ms/stepLoss: 0.000188182574\n",
            "\u001b[1m20/27\u001b[0m \u001b[32m━━━━━━━━━━━━━━\u001b[0m\u001b[37m━━━━━━\u001b[0m \u001b[1m1s\u001b[0m 229ms/stepLoss: 2.61517425e-06\n",
            "\u001b[1m21/27\u001b[0m \u001b[32m━━━━━━━━━━━━━━━\u001b[0m\u001b[37m━━━━━\u001b[0m \u001b[1m1s\u001b[0m 228ms/stepLoss: 6.11187861e-05\n",
            "\u001b[1m22/27\u001b[0m \u001b[32m━━━━━━━━━━━━━━━━\u001b[0m\u001b[37m━━━━\u001b[0m \u001b[1m1s\u001b[0m 228ms/stepLoss: 5.08136054e-06\n",
            "\u001b[1m23/27\u001b[0m \u001b[32m━━━━━━━━━━━━━━━━━\u001b[0m\u001b[37m━━━\u001b[0m \u001b[1m0s\u001b[0m 228ms/stepLoss: 8.68046209e-06\n",
            "\u001b[1m24/27\u001b[0m \u001b[32m━━━━━━━━━━━━━━━━━\u001b[0m\u001b[37m━━━\u001b[0m \u001b[1m0s\u001b[0m 228ms/stepLoss: 2.96824364e-05\n",
            "\u001b[1m25/27\u001b[0m \u001b[32m━━━━━━━━━━━━━━━━━━\u001b[0m\u001b[37m━━\u001b[0m \u001b[1m0s\u001b[0m 228ms/stepLoss: 0.000131823952\n",
            "\u001b[1m26/27\u001b[0m \u001b[32m━━━━━━━━━━━━━━━━━━━\u001b[0m\u001b[37m━\u001b[0m \u001b[1m0s\u001b[0m 228ms/stepLoss: 2.03856034e-05\n",
            "\u001b[1m27/27\u001b[0m \u001b[32m━━━━━━━━━━━━━━━━━━━━\u001b[0m\u001b[37m\u001b[0m \u001b[1m6s\u001b[0m 223ms/step\n",
            "\n",
            " Epoch 35/50\n",
            "Loss: 1.62591477e-05\n",
            "\u001b[1m 1/27\u001b[0m \u001b[37m━━━━━━━━━━━━━━━━━━━━\u001b[0m \u001b[1m5s\u001b[0m 230ms/stepLoss: 0.000218397341\n",
            "\u001b[1m 2/27\u001b[0m \u001b[32m━\u001b[0m\u001b[37m━━━━━━━━━━━━━━━━━━━\u001b[0m \u001b[1m5s\u001b[0m 229ms/stepLoss: 6.05165915e-05\n",
            "\u001b[1m 3/27\u001b[0m \u001b[32m━━\u001b[0m\u001b[37m━━━━━━━━━━━━━━━━━━\u001b[0m \u001b[1m5s\u001b[0m 229ms/stepLoss: 1.95178654e-05\n",
            "\u001b[1m 4/27\u001b[0m \u001b[32m━━\u001b[0m\u001b[37m━━━━━━━━━━━━━━━━━━\u001b[0m \u001b[1m5s\u001b[0m 229ms/stepLoss: 1.08893018e-05\n",
            "\u001b[1m 5/27\u001b[0m \u001b[32m━━━\u001b[0m\u001b[37m━━━━━━━━━━━━━━━━━\u001b[0m \u001b[1m5s\u001b[0m 229ms/stepLoss: 1.11913705e-05\n",
            "\u001b[1m 6/27\u001b[0m \u001b[32m━━━━\u001b[0m\u001b[37m━━━━━━━━━━━━━━━━\u001b[0m \u001b[1m4s\u001b[0m 229ms/stepLoss: 1.2405269e-06\n",
            "\u001b[1m 7/27\u001b[0m \u001b[32m━━━━━\u001b[0m\u001b[37m━━━━━━━━━━━━━━━\u001b[0m \u001b[1m4s\u001b[0m 229ms/stepLoss: 0.000113456626\n",
            "\u001b[1m 8/27\u001b[0m \u001b[32m━━━━━\u001b[0m\u001b[37m━━━━━━━━━━━━━━━\u001b[0m \u001b[1m4s\u001b[0m 229ms/stepLoss: 5.03487609e-05\n",
            "\u001b[1m 9/27\u001b[0m \u001b[32m━━━━━━\u001b[0m\u001b[37m━━━━━━━━━━━━━━\u001b[0m \u001b[1m4s\u001b[0m 229ms/stepLoss: 5.12908846e-05\n",
            "\u001b[1m10/27\u001b[0m \u001b[32m━━━━━━━\u001b[0m\u001b[37m━━━━━━━━━━━━━\u001b[0m \u001b[1m3s\u001b[0m 229ms/stepLoss: 3.72423019e-05\n",
            "\u001b[1m11/27\u001b[0m \u001b[32m━━━━━━━━\u001b[0m\u001b[37m━━━━━━━━━━━━\u001b[0m \u001b[1m3s\u001b[0m 229ms/stepLoss: 0.000189517697\n",
            "\u001b[1m12/27\u001b[0m \u001b[32m━━━━━━━━\u001b[0m\u001b[37m━━━━━━━━━━━━\u001b[0m \u001b[1m3s\u001b[0m 229ms/stepLoss: 0.000209625883\n",
            "\u001b[1m13/27\u001b[0m \u001b[32m━━━━━━━━━\u001b[0m\u001b[37m━━━━━━━━━━━\u001b[0m \u001b[1m3s\u001b[0m 229ms/stepLoss: 0.000373475428\n",
            "\u001b[1m14/27\u001b[0m \u001b[32m━━━━━━━━━━\u001b[0m\u001b[37m━━━━━━━━━━\u001b[0m \u001b[1m2s\u001b[0m 229ms/stepLoss: 7.48944294e-05\n",
            "\u001b[1m15/27\u001b[0m \u001b[32m━━━━━━━━━━━\u001b[0m\u001b[37m━━━━━━━━━\u001b[0m \u001b[1m2s\u001b[0m 229ms/stepLoss: 1.14366662e-06\n",
            "\u001b[1m16/27\u001b[0m \u001b[32m━━━━━━━━━━━\u001b[0m\u001b[37m━━━━━━━━━\u001b[0m \u001b[1m2s\u001b[0m 229ms/stepLoss: 0.000112009206\n",
            "\u001b[1m17/27\u001b[0m \u001b[32m━━━━━━━━━━━━\u001b[0m\u001b[37m━━━━━━━━\u001b[0m \u001b[1m2s\u001b[0m 229ms/stepLoss: 9.06105051e-05\n",
            "\u001b[1m18/27\u001b[0m \u001b[32m━━━━━━━━━━━━━\u001b[0m\u001b[37m━━━━━━━\u001b[0m \u001b[1m2s\u001b[0m 229ms/stepLoss: 5.41979389e-05\n",
            "\u001b[1m19/27\u001b[0m \u001b[32m━━━━━━━━━━━━━━\u001b[0m\u001b[37m━━━━━━\u001b[0m \u001b[1m1s\u001b[0m 229ms/stepLoss: 5.91949138e-05\n",
            "\u001b[1m20/27\u001b[0m \u001b[32m━━━━━━━━━━━━━━\u001b[0m\u001b[37m━━━━━━\u001b[0m \u001b[1m1s\u001b[0m 229ms/stepLoss: 8.27547119e-05\n",
            "\u001b[1m21/27\u001b[0m \u001b[32m━━━━━━━━━━━━━━━\u001b[0m\u001b[37m━━━━━\u001b[0m \u001b[1m1s\u001b[0m 229ms/stepLoss: 9.30604438e-06\n",
            "\u001b[1m22/27\u001b[0m \u001b[32m━━━━━━━━━━━━━━━━\u001b[0m\u001b[37m━━━━\u001b[0m \u001b[1m1s\u001b[0m 229ms/stepLoss: 3.71311253e-05\n",
            "\u001b[1m23/27\u001b[0m \u001b[32m━━━━━━━━━━━━━━━━━\u001b[0m\u001b[37m━━━\u001b[0m \u001b[1m0s\u001b[0m 229ms/stepLoss: 1.81335454e-05\n",
            "\u001b[1m24/27\u001b[0m \u001b[32m━━━━━━━━━━━━━━━━━\u001b[0m\u001b[37m━━━\u001b[0m \u001b[1m0s\u001b[0m 229ms/stepLoss: 5.16360924e-05\n",
            "\u001b[1m25/27\u001b[0m \u001b[32m━━━━━━━━━━━━━━━━━━\u001b[0m\u001b[37m━━\u001b[0m \u001b[1m0s\u001b[0m 229ms/stepLoss: 0.000101766433\n",
            "\u001b[1m26/27\u001b[0m \u001b[32m━━━━━━━━━━━━━━━━━━━\u001b[0m\u001b[37m━\u001b[0m \u001b[1m0s\u001b[0m 229ms/stepLoss: 1.07288508e-06\n",
            "\u001b[1m27/27\u001b[0m \u001b[32m━━━━━━━━━━━━━━━━━━━━\u001b[0m\u001b[37m\u001b[0m \u001b[1m6s\u001b[0m 223ms/step\n",
            "\n",
            " Epoch 36/50\n",
            "Loss: 0.000100652185\n",
            "\u001b[1m 1/27\u001b[0m \u001b[37m━━━━━━━━━━━━━━━━━━━━\u001b[0m \u001b[1m6s\u001b[0m 232ms/stepLoss: 6.07819275e-05\n",
            "\u001b[1m 2/27\u001b[0m \u001b[32m━\u001b[0m\u001b[37m━━━━━━━━━━━━━━━━━━━\u001b[0m \u001b[1m5s\u001b[0m 230ms/stepLoss: 0.000124989558\n",
            "\u001b[1m 3/27\u001b[0m \u001b[32m━━\u001b[0m\u001b[37m━━━━━━━━━━━━━━━━━━\u001b[0m \u001b[1m5s\u001b[0m 231ms/stepLoss: 8.10402198e-05\n",
            "\u001b[1m 4/27\u001b[0m \u001b[32m━━\u001b[0m\u001b[37m━━━━━━━━━━━━━━━━━━\u001b[0m \u001b[1m5s\u001b[0m 230ms/stepLoss: 3.9496219e-05\n",
            "\u001b[1m 5/27\u001b[0m \u001b[32m━━━\u001b[0m\u001b[37m━━━━━━━━━━━━━━━━━\u001b[0m \u001b[1m5s\u001b[0m 230ms/stepLoss: 3.04352197e-05\n",
            "\u001b[1m 6/27\u001b[0m \u001b[32m━━━━\u001b[0m\u001b[37m━━━━━━━━━━━━━━━━\u001b[0m \u001b[1m4s\u001b[0m 230ms/stepLoss: 0.000111823319\n",
            "\u001b[1m 7/27\u001b[0m \u001b[32m━━━━━\u001b[0m\u001b[37m━━━━━━━━━━━━━━━\u001b[0m \u001b[1m4s\u001b[0m 229ms/stepLoss: 2.38715147e-05\n",
            "\u001b[1m 8/27\u001b[0m \u001b[32m━━━━━\u001b[0m\u001b[37m━━━━━━━━━━━━━━━\u001b[0m \u001b[1m4s\u001b[0m 228ms/stepLoss: 2.69117572e-05\n",
            "\u001b[1m 9/27\u001b[0m \u001b[32m━━━━━━\u001b[0m\u001b[37m━━━━━━━━━━━━━━\u001b[0m \u001b[1m4s\u001b[0m 228ms/stepLoss: 4.9242004e-05\n",
            "\u001b[1m10/27\u001b[0m \u001b[32m━━━━━━━\u001b[0m\u001b[37m━━━━━━━━━━━━━\u001b[0m \u001b[1m3s\u001b[0m 228ms/stepLoss: 4.07851112e-05\n",
            "\u001b[1m11/27\u001b[0m \u001b[32m━━━━━━━━\u001b[0m\u001b[37m━━━━━━━━━━━━\u001b[0m \u001b[1m3s\u001b[0m 228ms/stepLoss: 2.52205336e-06\n",
            "\u001b[1m12/27\u001b[0m \u001b[32m━━━━━━━━\u001b[0m\u001b[37m━━━━━━━━━━━━\u001b[0m \u001b[1m3s\u001b[0m 228ms/stepLoss: 1.79158287e-05\n",
            "\u001b[1m13/27\u001b[0m \u001b[32m━━━━━━━━━\u001b[0m\u001b[37m━━━━━━━━━━━\u001b[0m \u001b[1m3s\u001b[0m 228ms/stepLoss: 1.84005385e-05\n",
            "\u001b[1m14/27\u001b[0m \u001b[32m━━━━━━━━━━\u001b[0m\u001b[37m━━━━━━━━━━\u001b[0m \u001b[1m2s\u001b[0m 228ms/stepLoss: 3.64471816e-05\n",
            "\u001b[1m15/27\u001b[0m \u001b[32m━━━━━━━━━━━\u001b[0m\u001b[37m━━━━━━━━━\u001b[0m \u001b[1m2s\u001b[0m 228ms/stepLoss: 2.08683869e-05\n",
            "\u001b[1m16/27\u001b[0m \u001b[32m━━━━━━━━━━━\u001b[0m\u001b[37m━━━━━━━━━\u001b[0m \u001b[1m2s\u001b[0m 229ms/stepLoss: 2.98773102e-06\n",
            "\u001b[1m17/27\u001b[0m \u001b[32m━━━━━━━━━━━━\u001b[0m\u001b[37m━━━━━━━━\u001b[0m \u001b[1m2s\u001b[0m 228ms/stepLoss: 6.60480218e-05\n",
            "\u001b[1m18/27\u001b[0m \u001b[32m━━━━━━━━━━━━━\u001b[0m\u001b[37m━━━━━━━\u001b[0m \u001b[1m2s\u001b[0m 229ms/stepLoss: 0.00011092265\n",
            "\u001b[1m19/27\u001b[0m \u001b[32m━━━━━━━━━━━━━━\u001b[0m\u001b[37m━━━━━━\u001b[0m \u001b[1m1s\u001b[0m 229ms/stepLoss: 0.000143933677\n",
            "\u001b[1m20/27\u001b[0m \u001b[32m━━━━━━━━━━━━━━\u001b[0m\u001b[37m━━━━━━\u001b[0m \u001b[1m1s\u001b[0m 229ms/stepLoss: 3.23545682e-05\n",
            "\u001b[1m21/27\u001b[0m \u001b[32m━━━━━━━━━━━━━━━\u001b[0m\u001b[37m━━━━━\u001b[0m \u001b[1m1s\u001b[0m 228ms/stepLoss: 0.000265275303\n",
            "\u001b[1m22/27\u001b[0m \u001b[32m━━━━━━━━━━━━━━━━\u001b[0m\u001b[37m━━━━\u001b[0m \u001b[1m1s\u001b[0m 228ms/stepLoss: 0.000198210881\n",
            "\u001b[1m23/27\u001b[0m \u001b[32m━━━━━━━━━━━━━━━━━\u001b[0m\u001b[37m━━━\u001b[0m \u001b[1m0s\u001b[0m 228ms/stepLoss: 5.30864281e-06\n",
            "\u001b[1m24/27\u001b[0m \u001b[32m━━━━━━━━━━━━━━━━━\u001b[0m\u001b[37m━━━\u001b[0m \u001b[1m0s\u001b[0m 228ms/stepLoss: 6.68941793e-05\n",
            "\u001b[1m25/27\u001b[0m \u001b[32m━━━━━━━━━━━━━━━━━━\u001b[0m\u001b[37m━━\u001b[0m \u001b[1m0s\u001b[0m 228ms/stepLoss: 0.000140595395\n",
            "\u001b[1m26/27\u001b[0m \u001b[32m━━━━━━━━━━━━━━━━━━━\u001b[0m\u001b[37m━\u001b[0m \u001b[1m0s\u001b[0m 228ms/stepLoss: 4.85779856e-06\n",
            "\u001b[1m27/27\u001b[0m \u001b[32m━━━━━━━━━━━━━━━━━━━━\u001b[0m\u001b[37m\u001b[0m \u001b[1m6s\u001b[0m 223ms/step\n",
            "\n",
            " Epoch 37/50\n",
            "Loss: 4.63810329e-06\n",
            "\u001b[1m 1/27\u001b[0m \u001b[37m━━━━━━━━━━━━━━━━━━━━\u001b[0m \u001b[1m5s\u001b[0m 227ms/stepLoss: 2.83127952e-06\n",
            "\u001b[1m 2/27\u001b[0m \u001b[32m━\u001b[0m\u001b[37m━━━━━━━━━━━━━━━━━━━\u001b[0m \u001b[1m5s\u001b[0m 229ms/stepLoss: 1.11386362e-06\n",
            "\u001b[1m 3/27\u001b[0m \u001b[32m━━\u001b[0m\u001b[37m━━━━━━━━━━━━━━━━━━\u001b[0m \u001b[1m5s\u001b[0m 228ms/stepLoss: 0.000106831765\n",
            "\u001b[1m 4/27\u001b[0m \u001b[32m━━\u001b[0m\u001b[37m━━━━━━━━━━━━━━━━━━\u001b[0m \u001b[1m5s\u001b[0m 228ms/stepLoss: 9.25531203e-05\n",
            "\u001b[1m 5/27\u001b[0m \u001b[32m━━━\u001b[0m\u001b[37m━━━━━━━━━━━━━━━━━\u001b[0m \u001b[1m5s\u001b[0m 228ms/stepLoss: 9.9071447e-05\n",
            "\u001b[1m 6/27\u001b[0m \u001b[32m━━━━\u001b[0m\u001b[37m━━━━━━━━━━━━━━━━\u001b[0m \u001b[1m4s\u001b[0m 229ms/stepLoss: 9.37667937e-05\n",
            "\u001b[1m 7/27\u001b[0m \u001b[32m━━━━━\u001b[0m\u001b[37m━━━━━━━━━━━━━━━\u001b[0m \u001b[1m4s\u001b[0m 229ms/stepLoss: 4.85048258e-06\n",
            "\u001b[1m 8/27\u001b[0m \u001b[32m━━━━━\u001b[0m\u001b[37m━━━━━━━━━━━━━━━\u001b[0m \u001b[1m4s\u001b[0m 229ms/stepLoss: 3.59660626e-05\n",
            "\u001b[1m 9/27\u001b[0m \u001b[32m━━━━━━\u001b[0m\u001b[37m━━━━━━━━━━━━━━\u001b[0m \u001b[1m4s\u001b[0m 228ms/stepLoss: 2.48852348e-06\n",
            "\u001b[1m10/27\u001b[0m \u001b[32m━━━━━━━\u001b[0m\u001b[37m━━━━━━━━━━━━━\u001b[0m \u001b[1m3s\u001b[0m 228ms/stepLoss: 2.67490741e-05\n",
            "\u001b[1m11/27\u001b[0m \u001b[32m━━━━━━━━\u001b[0m\u001b[37m━━━━━━━━━━━━\u001b[0m \u001b[1m3s\u001b[0m 228ms/stepLoss: 3.50674891e-05\n",
            "\u001b[1m12/27\u001b[0m \u001b[32m━━━━━━━━\u001b[0m\u001b[37m━━━━━━━━━━━━\u001b[0m \u001b[1m3s\u001b[0m 228ms/stepLoss: 0.00011302263\n",
            "\u001b[1m13/27\u001b[0m \u001b[32m━━━━━━━━━\u001b[0m\u001b[37m━━━━━━━━━━━\u001b[0m \u001b[1m3s\u001b[0m 228ms/stepLoss: 4.00186109e-05\n",
            "\u001b[1m14/27\u001b[0m \u001b[32m━━━━━━━━━━\u001b[0m\u001b[37m━━━━━━━━━━\u001b[0m \u001b[1m2s\u001b[0m 228ms/stepLoss: 1.93472715e-05\n",
            "\u001b[1m15/27\u001b[0m \u001b[32m━━━━━━━━━━━\u001b[0m\u001b[37m━━━━━━━━━\u001b[0m \u001b[1m2s\u001b[0m 228ms/stepLoss: 0.000141243145\n",
            "\u001b[1m16/27\u001b[0m \u001b[32m━━━━━━━━━━━\u001b[0m\u001b[37m━━━━━━━━━\u001b[0m \u001b[1m2s\u001b[0m 228ms/stepLoss: 4.00705758e-05\n",
            "\u001b[1m17/27\u001b[0m \u001b[32m━━━━━━━━━━━━\u001b[0m\u001b[37m━━━━━━━━\u001b[0m \u001b[1m2s\u001b[0m 227ms/stepLoss: 3.91155709e-07\n",
            "\u001b[1m18/27\u001b[0m \u001b[32m━━━━━━━━━━━━━\u001b[0m\u001b[37m━━━━━━━\u001b[0m \u001b[1m2s\u001b[0m 227ms/stepLoss: 8.09916673e-06\n",
            "\u001b[1m19/27\u001b[0m \u001b[32m━━━━━━━━━━━━━━\u001b[0m\u001b[37m━━━━━━\u001b[0m \u001b[1m1s\u001b[0m 227ms/stepLoss: 7.56153604e-05\n",
            "\u001b[1m20/27\u001b[0m \u001b[32m━━━━━━━━━━━━━━\u001b[0m\u001b[37m━━━━━━\u001b[0m \u001b[1m1s\u001b[0m 227ms/stepLoss: 6.01851425e-05\n",
            "\u001b[1m21/27\u001b[0m \u001b[32m━━━━━━━━━━━━━━━\u001b[0m\u001b[37m━━━━━\u001b[0m \u001b[1m1s\u001b[0m 227ms/stepLoss: 9.5779571e-05\n",
            "\u001b[1m22/27\u001b[0m \u001b[32m━━━━━━━━━━━━━━━━\u001b[0m\u001b[37m━━━━\u001b[0m \u001b[1m1s\u001b[0m 227ms/stepLoss: 7.47668601e-05\n",
            "\u001b[1m23/27\u001b[0m \u001b[32m━━━━━━━━━━━━━━━━━\u001b[0m\u001b[37m━━━\u001b[0m \u001b[1m0s\u001b[0m 227ms/stepLoss: 0.000104684215\n",
            "\u001b[1m24/27\u001b[0m \u001b[32m━━━━━━━━━━━━━━━━━\u001b[0m\u001b[37m━━━\u001b[0m \u001b[1m0s\u001b[0m 227ms/stepLoss: 0.000173671113\n",
            "\u001b[1m25/27\u001b[0m \u001b[32m━━━━━━━━━━━━━━━━━━\u001b[0m\u001b[37m━━\u001b[0m \u001b[1m0s\u001b[0m 227ms/stepLoss: 5.41355839e-05\n",
            "\u001b[1m26/27\u001b[0m \u001b[32m━━━━━━━━━━━━━━━━━━━\u001b[0m\u001b[37m━\u001b[0m \u001b[1m0s\u001b[0m 227ms/stepLoss: 1.19209304e-07\n",
            "\u001b[1m27/27\u001b[0m \u001b[32m━━━━━━━━━━━━━━━━━━━━\u001b[0m\u001b[37m\u001b[0m \u001b[1m6s\u001b[0m 222ms/step\n",
            "\n",
            " Epoch 38/50\n",
            "Loss: 2.79400592e-06\n",
            "\u001b[1m 1/27\u001b[0m \u001b[37m━━━━━━━━━━━━━━━━━━━━\u001b[0m \u001b[1m6s\u001b[0m 233ms/stepLoss: 4.48264691e-05\n",
            "\u001b[1m 2/27\u001b[0m \u001b[32m━\u001b[0m\u001b[37m━━━━━━━━━━━━━━━━━━━\u001b[0m \u001b[1m5s\u001b[0m 229ms/stepLoss: 3.18414823e-05\n",
            "\u001b[1m 3/27\u001b[0m \u001b[32m━━\u001b[0m\u001b[37m━━━━━━━━━━━━━━━━━━\u001b[0m \u001b[1m5s\u001b[0m 227ms/stepLoss: 6.34681637e-05\n",
            "\u001b[1m 4/27\u001b[0m \u001b[32m━━\u001b[0m\u001b[37m━━━━━━━━━━━━━━━━━━\u001b[0m \u001b[1m5s\u001b[0m 228ms/stepLoss: 4.0733019e-05\n",
            "\u001b[1m 5/27\u001b[0m \u001b[32m━━━\u001b[0m\u001b[37m━━━━━━━━━━━━━━━━━\u001b[0m \u001b[1m5s\u001b[0m 227ms/stepLoss: 4.78131333e-05\n",
            "\u001b[1m 6/27\u001b[0m \u001b[32m━━━━\u001b[0m\u001b[37m━━━━━━━━━━━━━━━━\u001b[0m \u001b[1m4s\u001b[0m 228ms/stepLoss: 0.000168396655\n",
            "\u001b[1m 7/27\u001b[0m \u001b[32m━━━━━\u001b[0m\u001b[37m━━━━━━━━━━━━━━━\u001b[0m \u001b[1m4s\u001b[0m 227ms/stepLoss: 2.54439374e-06\n",
            "\u001b[1m 8/27\u001b[0m \u001b[32m━━━━━\u001b[0m\u001b[37m━━━━━━━━━━━━━━━\u001b[0m \u001b[1m4s\u001b[0m 227ms/stepLoss: 0.000137905256\n",
            "\u001b[1m 9/27\u001b[0m \u001b[32m━━━━━━\u001b[0m\u001b[37m━━━━━━━━━━━━━━\u001b[0m \u001b[1m4s\u001b[0m 227ms/stepLoss: 1.90040573e-05\n",
            "\u001b[1m10/27\u001b[0m \u001b[32m━━━━━━━\u001b[0m\u001b[37m━━━━━━━━━━━━━\u001b[0m \u001b[1m3s\u001b[0m 227ms/stepLoss: 5.23508279e-05\n",
            "\u001b[1m11/27\u001b[0m \u001b[32m━━━━━━━━\u001b[0m\u001b[37m━━━━━━━━━━━━\u001b[0m \u001b[1m3s\u001b[0m 227ms/stepLoss: 1.03009461e-05\n",
            "\u001b[1m12/27\u001b[0m \u001b[32m━━━━━━━━\u001b[0m\u001b[37m━━━━━━━━━━━━\u001b[0m \u001b[1m3s\u001b[0m 227ms/stepLoss: 2.54439215e-06\n",
            "\u001b[1m13/27\u001b[0m \u001b[32m━━━━━━━━━\u001b[0m\u001b[37m━━━━━━━━━━━\u001b[0m \u001b[1m3s\u001b[0m 227ms/stepLoss: 7.01106474e-05\n",
            "\u001b[1m14/27\u001b[0m \u001b[32m━━━━━━━━━━\u001b[0m\u001b[37m━━━━━━━━━━\u001b[0m \u001b[1m2s\u001b[0m 227ms/stepLoss: 3.18024613e-05\n",
            "\u001b[1m15/27\u001b[0m \u001b[32m━━━━━━━━━━━\u001b[0m\u001b[37m━━━━━━━━━\u001b[0m \u001b[1m2s\u001b[0m 227ms/stepLoss: 1.66270584e-05\n",
            "\u001b[1m16/27\u001b[0m \u001b[32m━━━━━━━━━━━\u001b[0m\u001b[37m━━━━━━━━━\u001b[0m \u001b[1m2s\u001b[0m 227ms/stepLoss: 0.000136224262\n",
            "\u001b[1m17/27\u001b[0m \u001b[32m━━━━━━━━━━━━\u001b[0m\u001b[37m━━━━━━━━\u001b[0m \u001b[1m2s\u001b[0m 227ms/stepLoss: 0.000106737876\n",
            "\u001b[1m18/27\u001b[0m \u001b[32m━━━━━━━━━━━━━\u001b[0m\u001b[37m━━━━━━━\u001b[0m \u001b[1m2s\u001b[0m 227ms/stepLoss: 9.59074605e-05\n",
            "\u001b[1m19/27\u001b[0m \u001b[32m━━━━━━━━━━━━━━\u001b[0m\u001b[37m━━━━━━\u001b[0m \u001b[1m1s\u001b[0m 227ms/stepLoss: 0.000125195162\n",
            "\u001b[1m20/27\u001b[0m \u001b[32m━━━━━━━━━━━━━━\u001b[0m\u001b[37m━━━━━━\u001b[0m \u001b[1m1s\u001b[0m 227ms/stepLoss: 0.000111147659\n",
            "\u001b[1m21/27\u001b[0m \u001b[32m━━━━━━━━━━━━━━━\u001b[0m\u001b[37m━━━━━\u001b[0m \u001b[1m1s\u001b[0m 227ms/stepLoss: 0.0002208558\n",
            "\u001b[1m22/27\u001b[0m \u001b[32m━━━━━━━━━━━━━━━━\u001b[0m\u001b[37m━━━━\u001b[0m \u001b[1m1s\u001b[0m 227ms/stepLoss: 3.20375108e-07\n",
            "\u001b[1m23/27\u001b[0m \u001b[32m━━━━━━━━━━━━━━━━━\u001b[0m\u001b[37m━━━\u001b[0m \u001b[1m0s\u001b[0m 227ms/stepLoss: 1.56589e-05\n",
            "\u001b[1m24/27\u001b[0m \u001b[32m━━━━━━━━━━━━━━━━━\u001b[0m\u001b[37m━━━\u001b[0m \u001b[1m0s\u001b[0m 227ms/stepLoss: 0.000256415689\n",
            "\u001b[1m25/27\u001b[0m \u001b[32m━━━━━━━━━━━━━━━━━━\u001b[0m\u001b[37m━━\u001b[0m \u001b[1m0s\u001b[0m 227ms/stepLoss: 2.46350046e-05\n",
            "\u001b[1m26/27\u001b[0m \u001b[32m━━━━━━━━━━━━━━━━━━━\u001b[0m\u001b[37m━\u001b[0m \u001b[1m0s\u001b[0m 227ms/stepLoss: 3.81645768e-05\n",
            "\u001b[1m27/27\u001b[0m \u001b[32m━━━━━━━━━━━━━━━━━━━━\u001b[0m\u001b[37m\u001b[0m \u001b[1m6s\u001b[0m 221ms/step\n",
            "\n",
            " Epoch 39/50\n",
            "Loss: 1.4156106e-07\n",
            "\u001b[1m 1/27\u001b[0m \u001b[37m━━━━━━━━━━━━━━━━━━━━\u001b[0m \u001b[1m5s\u001b[0m 228ms/stepLoss: 4.66793517e-06\n",
            "\u001b[1m 2/27\u001b[0m \u001b[32m━\u001b[0m\u001b[37m━━━━━━━━━━━━━━━━━━━\u001b[0m \u001b[1m5s\u001b[0m 226ms/stepLoss: 0.000116888295\n",
            "\u001b[1m 3/27\u001b[0m \u001b[32m━━\u001b[0m\u001b[37m━━━━━━━━━━━━━━━━━━\u001b[0m \u001b[1m5s\u001b[0m 226ms/stepLoss: 8.79169875e-07\n",
            "\u001b[1m 4/27\u001b[0m \u001b[32m━━\u001b[0m\u001b[37m━━━━━━━━━━━━━━━━━━\u001b[0m \u001b[1m5s\u001b[0m 226ms/stepLoss: 1.47123474e-05\n",
            "\u001b[1m 5/27\u001b[0m \u001b[32m━━━\u001b[0m\u001b[37m━━━━━━━━━━━━━━━━━\u001b[0m \u001b[1m4s\u001b[0m 226ms/stepLoss: 0.00015992824\n",
            "\u001b[1m 6/27\u001b[0m \u001b[32m━━━━\u001b[0m\u001b[37m━━━━━━━━━━━━━━━━\u001b[0m \u001b[1m4s\u001b[0m 226ms/stepLoss: 2.88399533e-05\n",
            "\u001b[1m 7/27\u001b[0m \u001b[32m━━━━━\u001b[0m\u001b[37m━━━━━━━━━━━━━━━\u001b[0m \u001b[1m4s\u001b[0m 226ms/stepLoss: 3.9059978e-05\n",
            "\u001b[1m 8/27\u001b[0m \u001b[32m━━━━━\u001b[0m\u001b[37m━━━━━━━━━━━━━━━\u001b[0m \u001b[1m4s\u001b[0m 226ms/stepLoss: 7.9454665e-05\n",
            "\u001b[1m 9/27\u001b[0m \u001b[32m━━━━━━\u001b[0m\u001b[37m━━━━━━━━━━━━━━\u001b[0m \u001b[1m4s\u001b[0m 226ms/stepLoss: 7.02978195e-06\n",
            "\u001b[1m10/27\u001b[0m \u001b[32m━━━━━━━\u001b[0m\u001b[37m━━━━━━━━━━━━━\u001b[0m \u001b[1m3s\u001b[0m 226ms/stepLoss: 8.63458699e-05\n",
            "\u001b[1m11/27\u001b[0m \u001b[32m━━━━━━━━\u001b[0m\u001b[37m━━━━━━━━━━━━\u001b[0m \u001b[1m3s\u001b[0m 226ms/stepLoss: 7.59819086e-05\n",
            "\u001b[1m12/27\u001b[0m \u001b[32m━━━━━━━━\u001b[0m\u001b[37m━━━━━━━━━━━━\u001b[0m \u001b[1m3s\u001b[0m 226ms/stepLoss: 9.38600861e-05\n",
            "\u001b[1m13/27\u001b[0m \u001b[32m━━━━━━━━━\u001b[0m\u001b[37m━━━━━━━━━━━\u001b[0m \u001b[1m3s\u001b[0m 226ms/stepLoss: 1.05356094e-05\n",
            "\u001b[1m14/27\u001b[0m \u001b[32m━━━━━━━━━━\u001b[0m\u001b[37m━━━━━━━━━━\u001b[0m \u001b[1m2s\u001b[0m 226ms/stepLoss: 9.8566692e-05\n",
            "\u001b[1m15/27\u001b[0m \u001b[32m━━━━━━━━━━━\u001b[0m\u001b[37m━━━━━━━━━\u001b[0m \u001b[1m2s\u001b[0m 226ms/stepLoss: 9.29249654e-05\n",
            "\u001b[1m16/27\u001b[0m \u001b[32m━━━━━━━━━━━\u001b[0m\u001b[37m━━━━━━━━━\u001b[0m \u001b[1m2s\u001b[0m 226ms/stepLoss: 0.000106469975\n",
            "\u001b[1m17/27\u001b[0m \u001b[32m━━━━━━━━━━━━\u001b[0m\u001b[37m━━━━━━━━\u001b[0m \u001b[1m2s\u001b[0m 226ms/stepLoss: 7.86127202e-05\n",
            "\u001b[1m18/27\u001b[0m \u001b[32m━━━━━━━━━━━━━\u001b[0m\u001b[37m━━━━━━━\u001b[0m \u001b[1m2s\u001b[0m 226ms/stepLoss: 8.30103163e-05\n",
            "\u001b[1m19/27\u001b[0m \u001b[32m━━━━━━━━━━━━━━\u001b[0m\u001b[37m━━━━━━\u001b[0m \u001b[1m1s\u001b[0m 226ms/stepLoss: 3.11659096e-05\n",
            "\u001b[1m20/27\u001b[0m \u001b[32m━━━━━━━━━━━━━━\u001b[0m\u001b[37m━━━━━━\u001b[0m \u001b[1m1s\u001b[0m 226ms/stepLoss: 0.000175756577\n",
            "\u001b[1m21/27\u001b[0m \u001b[32m━━━━━━━━━━━━━━━\u001b[0m\u001b[37m━━━━━\u001b[0m \u001b[1m1s\u001b[0m 226ms/stepLoss: 5.45553e-05\n",
            "\u001b[1m22/27\u001b[0m \u001b[32m━━━━━━━━━━━━━━━━\u001b[0m\u001b[37m━━━━\u001b[0m \u001b[1m1s\u001b[0m 226ms/stepLoss: 4.88921687e-05\n",
            "\u001b[1m23/27\u001b[0m \u001b[32m━━━━━━━━━━━━━━━━━\u001b[0m\u001b[37m━━━\u001b[0m \u001b[1m0s\u001b[0m 226ms/stepLoss: 4.16019866e-05\n",
            "\u001b[1m24/27\u001b[0m \u001b[32m━━━━━━━━━━━━━━━━━\u001b[0m\u001b[37m━━━\u001b[0m \u001b[1m0s\u001b[0m 226ms/stepLoss: 2.10140843e-05\n",
            "\u001b[1m25/27\u001b[0m \u001b[32m━━━━━━━━━━━━━━━━━━\u001b[0m\u001b[37m━━\u001b[0m \u001b[1m0s\u001b[0m 226ms/stepLoss: 5.49489096e-06\n",
            "\u001b[1m26/27\u001b[0m \u001b[32m━━━━━━━━━━━━━━━━━━━\u001b[0m\u001b[37m━\u001b[0m \u001b[1m0s\u001b[0m 226ms/stepLoss: 0.000196680456\n",
            "\u001b[1m27/27\u001b[0m \u001b[32m━━━━━━━━━━━━━━━━━━━━\u001b[0m\u001b[37m\u001b[0m \u001b[1m6s\u001b[0m 220ms/step\n",
            "\n",
            " Epoch 40/50\n",
            "Loss: 3.11610311e-05\n",
            "\u001b[1m 1/27\u001b[0m \u001b[37m━━━━━━━━━━━━━━━━━━━━\u001b[0m \u001b[1m6s\u001b[0m 238ms/stepLoss: 3.96573705e-05\n",
            "\u001b[1m 2/27\u001b[0m \u001b[32m━\u001b[0m\u001b[37m━━━━━━━━━━━━━━━━━━━\u001b[0m \u001b[1m5s\u001b[0m 227ms/stepLoss: 5.36453808e-05\n",
            "\u001b[1m 3/27\u001b[0m \u001b[32m━━\u001b[0m\u001b[37m━━━━━━━━━━━━━━━━━━\u001b[0m \u001b[1m5s\u001b[0m 225ms/stepLoss: 1.02818331e-06\n",
            "\u001b[1m 4/27\u001b[0m \u001b[32m━━\u001b[0m\u001b[37m━━━━━━━━━━━━━━━━━━\u001b[0m \u001b[1m5s\u001b[0m 225ms/stepLoss: 0.00012201404\n",
            "\u001b[1m 5/27\u001b[0m \u001b[32m━━━\u001b[0m\u001b[37m━━━━━━━━━━━━━━━━━\u001b[0m \u001b[1m4s\u001b[0m 224ms/stepLoss: 9.76062729e-05\n",
            "\u001b[1m 6/27\u001b[0m \u001b[32m━━━━\u001b[0m\u001b[37m━━━━━━━━━━━━━━━━\u001b[0m \u001b[1m4s\u001b[0m 224ms/stepLoss: 3.10833602e-05\n",
            "\u001b[1m 7/27\u001b[0m \u001b[32m━━━━━\u001b[0m\u001b[37m━━━━━━━━━━━━━━━\u001b[0m \u001b[1m4s\u001b[0m 225ms/stepLoss: 4.08393425e-05\n",
            "\u001b[1m 8/27\u001b[0m \u001b[32m━━━━━\u001b[0m\u001b[37m━━━━━━━━━━━━━━━\u001b[0m \u001b[1m4s\u001b[0m 225ms/stepLoss: 4.81420611e-05\n",
            "\u001b[1m 9/27\u001b[0m \u001b[32m━━━━━━\u001b[0m\u001b[37m━━━━━━━━━━━━━━\u001b[0m \u001b[1m4s\u001b[0m 225ms/stepLoss: 8.0875514e-05\n",
            "\u001b[1m10/27\u001b[0m \u001b[32m━━━━━━━\u001b[0m\u001b[37m━━━━━━━━━━━━━\u001b[0m \u001b[1m3s\u001b[0m 225ms/stepLoss: 2.4361645e-05\n",
            "\u001b[1m11/27\u001b[0m \u001b[32m━━━━━━━━\u001b[0m\u001b[37m━━━━━━━━━━━━\u001b[0m \u001b[1m3s\u001b[0m 225ms/stepLoss: 7.43094497e-05\n",
            "\u001b[1m12/27\u001b[0m \u001b[32m━━━━━━━━\u001b[0m\u001b[37m━━━━━━━━━━━━\u001b[0m \u001b[1m3s\u001b[0m 225ms/stepLoss: 4.10910179e-05\n",
            "\u001b[1m13/27\u001b[0m \u001b[32m━━━━━━━━━\u001b[0m\u001b[37m━━━━━━━━━━━\u001b[0m \u001b[1m3s\u001b[0m 225ms/stepLoss: 0.000132930421\n",
            "\u001b[1m14/27\u001b[0m \u001b[32m━━━━━━━━━━\u001b[0m\u001b[37m━━━━━━━━━━\u001b[0m \u001b[1m2s\u001b[0m 225ms/stepLoss: 9.76449064e-06\n",
            "\u001b[1m15/27\u001b[0m \u001b[32m━━━━━━━━━━━\u001b[0m\u001b[37m━━━━━━━━━\u001b[0m \u001b[1m2s\u001b[0m 225ms/stepLoss: 3.71498209e-05\n",
            "\u001b[1m16/27\u001b[0m \u001b[32m━━━━━━━━━━━\u001b[0m\u001b[37m━━━━━━━━━\u001b[0m \u001b[1m2s\u001b[0m 225ms/stepLoss: 5.23911913e-05\n",
            "\u001b[1m17/27\u001b[0m \u001b[32m━━━━━━━━━━━━\u001b[0m\u001b[37m━━━━━━━━\u001b[0m \u001b[1m2s\u001b[0m 225ms/stepLoss: 2.94301981e-06\n",
            "\u001b[1m18/27\u001b[0m \u001b[32m━━━━━━━━━━━━━\u001b[0m\u001b[37m━━━━━━━\u001b[0m \u001b[1m2s\u001b[0m 225ms/stepLoss: 4.73906221e-05\n",
            "\u001b[1m19/27\u001b[0m \u001b[32m━━━━━━━━━━━━━━\u001b[0m\u001b[37m━━━━━━\u001b[0m \u001b[1m1s\u001b[0m 225ms/stepLoss: 3.67088724e-05\n",
            "\u001b[1m20/27\u001b[0m \u001b[32m━━━━━━━━━━━━━━\u001b[0m\u001b[37m━━━━━━\u001b[0m \u001b[1m1s\u001b[0m 225ms/stepLoss: 0.000129159482\n",
            "\u001b[1m21/27\u001b[0m \u001b[32m━━━━━━━━━━━━━━━\u001b[0m\u001b[37m━━━━━\u001b[0m \u001b[1m1s\u001b[0m 225ms/stepLoss: 8.12114536e-07\n",
            "\u001b[1m22/27\u001b[0m \u001b[32m━━━━━━━━━━━━━━━━\u001b[0m\u001b[37m━━━━\u001b[0m \u001b[1m1s\u001b[0m 225ms/stepLoss: 7.59479e-05\n",
            "\u001b[1m23/27\u001b[0m \u001b[32m━━━━━━━━━━━━━━━━━\u001b[0m\u001b[37m━━━\u001b[0m \u001b[1m0s\u001b[0m 225ms/stepLoss: 4.0371684e-05\n",
            "\u001b[1m24/27\u001b[0m \u001b[32m━━━━━━━━━━━━━━━━━\u001b[0m\u001b[37m━━━\u001b[0m \u001b[1m0s\u001b[0m 225ms/stepLoss: 4.38316201e-05\n",
            "\u001b[1m25/27\u001b[0m \u001b[32m━━━━━━━━━━━━━━━━━━\u001b[0m\u001b[37m━━\u001b[0m \u001b[1m0s\u001b[0m 225ms/stepLoss: 1.01328192e-06\n",
            "\u001b[1m26/27\u001b[0m \u001b[32m━━━━━━━━━━━━━━━━━━━\u001b[0m\u001b[37m━\u001b[0m \u001b[1m0s\u001b[0m 225ms/stepLoss: 4.52999257e-06\n",
            "\u001b[1m27/27\u001b[0m \u001b[32m━━━━━━━━━━━━━━━━━━━━\u001b[0m\u001b[37m\u001b[0m \u001b[1m6s\u001b[0m 219ms/step\n",
            "\n",
            " Epoch 41/50\n",
            "Loss: 7.0337e-05\n",
            "\u001b[1m 1/27\u001b[0m \u001b[37m━━━━━━━━━━━━━━━━━━━━\u001b[0m \u001b[1m8s\u001b[0m 313ms/stepLoss: 3.9548846e-05\n",
            "\u001b[1m 2/27\u001b[0m \u001b[32m━\u001b[0m\u001b[37m━━━━━━━━━━━━━━━━━━━\u001b[0m \u001b[1m5s\u001b[0m 225ms/stepLoss: 6.62017374e-06\n",
            "\u001b[1m 3/27\u001b[0m \u001b[32m━━\u001b[0m\u001b[37m━━━━━━━━━━━━━━━━━━\u001b[0m \u001b[1m5s\u001b[0m 225ms/stepLoss: 0.000177533308\n",
            "\u001b[1m 4/27\u001b[0m \u001b[32m━━\u001b[0m\u001b[37m━━━━━━━━━━━━━━━━━━\u001b[0m \u001b[1m5s\u001b[0m 225ms/stepLoss: 0.000110559398\n",
            "\u001b[1m 5/27\u001b[0m \u001b[32m━━━\u001b[0m\u001b[37m━━━━━━━━━━━━━━━━━\u001b[0m \u001b[1m4s\u001b[0m 224ms/stepLoss: 0.000163795528\n",
            "\u001b[1m 6/27\u001b[0m \u001b[32m━━━━\u001b[0m\u001b[37m━━━━━━━━━━━━━━━━\u001b[0m \u001b[1m4s\u001b[0m 223ms/stepLoss: 5.33108505e-06\n",
            "\u001b[1m 7/27\u001b[0m \u001b[32m━━━━━\u001b[0m\u001b[37m━━━━━━━━━━━━━━━\u001b[0m \u001b[1m4s\u001b[0m 223ms/stepLoss: 5.17014196e-05\n",
            "\u001b[1m 8/27\u001b[0m \u001b[32m━━━━━\u001b[0m\u001b[37m━━━━━━━━━━━━━━━\u001b[0m \u001b[1m4s\u001b[0m 223ms/stepLoss: 7.52509891e-07\n",
            "\u001b[1m 9/27\u001b[0m \u001b[32m━━━━━━\u001b[0m\u001b[37m━━━━━━━━━━━━━━\u001b[0m \u001b[1m4s\u001b[0m 223ms/stepLoss: 3.73682597e-05\n",
            "\u001b[1m10/27\u001b[0m \u001b[32m━━━━━━━\u001b[0m\u001b[37m━━━━━━━━━━━━━\u001b[0m \u001b[1m3s\u001b[0m 223ms/stepLoss: 9.61127284e-07\n",
            "\u001b[1m11/27\u001b[0m \u001b[32m━━━━━━━━\u001b[0m\u001b[37m━━━━━━━━━━━━\u001b[0m \u001b[1m3s\u001b[0m 223ms/stepLoss: 2.36286942e-05\n",
            "\u001b[1m12/27\u001b[0m \u001b[32m━━━━━━━━\u001b[0m\u001b[37m━━━━━━━━━━━━\u001b[0m \u001b[1m3s\u001b[0m 223ms/stepLoss: 3.17718223e-05\n",
            "\u001b[1m13/27\u001b[0m \u001b[32m━━━━━━━━━\u001b[0m\u001b[37m━━━━━━━━━━━\u001b[0m \u001b[1m3s\u001b[0m 223ms/stepLoss: 8.53859092e-06\n",
            "\u001b[1m14/27\u001b[0m \u001b[32m━━━━━━━━━━\u001b[0m\u001b[37m━━━━━━━━━━\u001b[0m \u001b[1m2s\u001b[0m 223ms/stepLoss: 7.37241e-05\n",
            "\u001b[1m15/27\u001b[0m \u001b[32m━━━━━━━━━━━\u001b[0m\u001b[37m━━━━━━━━━\u001b[0m \u001b[1m2s\u001b[0m 223ms/stepLoss: 2.5539066e-05\n",
            "\u001b[1m16/27\u001b[0m \u001b[32m━━━━━━━━━━━\u001b[0m\u001b[37m━━━━━━━━━\u001b[0m \u001b[1m2s\u001b[0m 223ms/stepLoss: 3.83357074e-05\n",
            "\u001b[1m17/27\u001b[0m \u001b[32m━━━━━━━━━━━━\u001b[0m\u001b[37m━━━━━━━━\u001b[0m \u001b[1m2s\u001b[0m 223ms/stepLoss: 5.41678583e-06\n",
            "\u001b[1m18/27\u001b[0m \u001b[32m━━━━━━━━━━━━━\u001b[0m\u001b[37m━━━━━━━\u001b[0m \u001b[1m2s\u001b[0m 223ms/stepLoss: 5.90164127e-05\n",
            "\u001b[1m19/27\u001b[0m \u001b[32m━━━━━━━━━━━━━━\u001b[0m\u001b[37m━━━━━━\u001b[0m \u001b[1m1s\u001b[0m 223ms/stepLoss: 3.12064913e-05\n",
            "\u001b[1m20/27\u001b[0m \u001b[32m━━━━━━━━━━━━━━\u001b[0m\u001b[37m━━━━━━\u001b[0m \u001b[1m1s\u001b[0m 223ms/stepLoss: 6.12243894e-05\n",
            "\u001b[1m21/27\u001b[0m \u001b[32m━━━━━━━━━━━━━━━\u001b[0m\u001b[37m━━━━━\u001b[0m \u001b[1m1s\u001b[0m 223ms/stepLoss: 8.44653e-05\n",
            "\u001b[1m22/27\u001b[0m \u001b[32m━━━━━━━━━━━━━━━━\u001b[0m\u001b[37m━━━━\u001b[0m \u001b[1m1s\u001b[0m 223ms/stepLoss: 2.59454955e-05\n",
            "\u001b[1m23/27\u001b[0m \u001b[32m━━━━━━━━━━━━━━━━━\u001b[0m\u001b[37m━━━\u001b[0m \u001b[1m0s\u001b[0m 223ms/stepLoss: 0.000188513615\n",
            "\u001b[1m24/27\u001b[0m \u001b[32m━━━━━━━━━━━━━━━━━\u001b[0m\u001b[37m━━━\u001b[0m \u001b[1m0s\u001b[0m 223ms/stepLoss: 6.75348419e-05\n",
            "\u001b[1m25/27\u001b[0m \u001b[32m━━━━━━━━━━━━━━━━━━\u001b[0m\u001b[37m━━\u001b[0m \u001b[1m0s\u001b[0m 223ms/stepLoss: 9.20662933e-05\n",
            "\u001b[1m26/27\u001b[0m \u001b[32m━━━━━━━━━━━━━━━━━━━\u001b[0m\u001b[37m━\u001b[0m \u001b[1m0s\u001b[0m 222ms/stepLoss: 1.19209304e-07\n",
            "\u001b[1m27/27\u001b[0m \u001b[32m━━━━━━━━━━━━━━━━━━━━\u001b[0m\u001b[37m\u001b[0m \u001b[1m6s\u001b[0m 217ms/step\n",
            "\n",
            " Epoch 42/50\n",
            "Loss: 5.28991848e-07\n",
            "\u001b[1m 1/27\u001b[0m \u001b[37m━━━━━━━━━━━━━━━━━━━━\u001b[0m \u001b[1m5s\u001b[0m 228ms/stepLoss: 2.54439192e-06\n",
            "\u001b[1m 2/27\u001b[0m \u001b[32m━\u001b[0m\u001b[37m━━━━━━━━━━━━━━━━━━━\u001b[0m \u001b[1m5s\u001b[0m 221ms/stepLoss: 1.20700349e-06\n",
            "\u001b[1m 3/27\u001b[0m \u001b[32m━━\u001b[0m\u001b[37m━━━━━━━━━━━━━━━━━━\u001b[0m \u001b[1m5s\u001b[0m 223ms/stepLoss: 9.42566294e-06\n",
            "\u001b[1m 4/27\u001b[0m \u001b[32m━━\u001b[0m\u001b[37m━━━━━━━━━━━━━━━━━━\u001b[0m \u001b[1m5s\u001b[0m 222ms/stepLoss: 7.61013871e-05\n",
            "\u001b[1m 5/27\u001b[0m \u001b[32m━━━\u001b[0m\u001b[37m━━━━━━━━━━━━━━━━━\u001b[0m \u001b[1m4s\u001b[0m 222ms/stepLoss: 1.5662994e-05\n",
            "\u001b[1m 6/27\u001b[0m \u001b[32m━━━━\u001b[0m\u001b[37m━━━━━━━━━━━━━━━━\u001b[0m \u001b[1m4s\u001b[0m 222ms/stepLoss: 9.15910641e-05\n",
            "\u001b[1m 7/27\u001b[0m \u001b[32m━━━━━\u001b[0m\u001b[37m━━━━━━━━━━━━━━━\u001b[0m \u001b[1m4s\u001b[0m 222ms/stepLoss: 2.16761728e-05\n",
            "\u001b[1m 8/27\u001b[0m \u001b[32m━━━━━\u001b[0m\u001b[37m━━━━━━━━━━━━━━━\u001b[0m \u001b[1m4s\u001b[0m 222ms/stepLoss: 0.000123029313\n",
            "\u001b[1m 9/27\u001b[0m \u001b[32m━━━━━━\u001b[0m\u001b[37m━━━━━━━━━━━━━━\u001b[0m \u001b[1m3s\u001b[0m 222ms/stepLoss: 0.000108292974\n",
            "\u001b[1m10/27\u001b[0m \u001b[32m━━━━━━━\u001b[0m\u001b[37m━━━━━━━━━━━━━\u001b[0m \u001b[1m3s\u001b[0m 222ms/stepLoss: 3.76630464e-06\n",
            "\u001b[1m11/27\u001b[0m \u001b[32m━━━━━━━━\u001b[0m\u001b[37m━━━━━━━━━━━━\u001b[0m \u001b[1m3s\u001b[0m 222ms/stepLoss: 4.17020965e-05\n",
            "\u001b[1m12/27\u001b[0m \u001b[32m━━━━━━━━\u001b[0m\u001b[37m━━━━━━━━━━━━\u001b[0m \u001b[1m3s\u001b[0m 223ms/stepLoss: 5.07871337e-05\n",
            "\u001b[1m13/27\u001b[0m \u001b[32m━━━━━━━━━\u001b[0m\u001b[37m━━━━━━━━━━━\u001b[0m \u001b[1m3s\u001b[0m 223ms/stepLoss: 1.68181905e-05\n",
            "\u001b[1m14/27\u001b[0m \u001b[32m━━━━━━━━━━\u001b[0m\u001b[37m━━━━━━━━━━\u001b[0m \u001b[1m2s\u001b[0m 223ms/stepLoss: 3.48011454e-05\n",
            "\u001b[1m15/27\u001b[0m \u001b[32m━━━━━━━━━━━\u001b[0m\u001b[37m━━━━━━━━━\u001b[0m \u001b[1m2s\u001b[0m 223ms/stepLoss: 0.00010103047\n",
            "\u001b[1m16/27\u001b[0m \u001b[32m━━━━━━━━━━━\u001b[0m\u001b[37m━━━━━━━━━\u001b[0m \u001b[1m2s\u001b[0m 223ms/stepLoss: 3.61128732e-05\n",
            "\u001b[1m17/27\u001b[0m \u001b[32m━━━━━━━━━━━━\u001b[0m\u001b[37m━━━━━━━━\u001b[0m \u001b[1m2s\u001b[0m 223ms/stepLoss: 0.000119739256\n",
            "\u001b[1m18/27\u001b[0m \u001b[32m━━━━━━━━━━━━━\u001b[0m\u001b[37m━━━━━━━\u001b[0m \u001b[1m2s\u001b[0m 223ms/stepLoss: 3.32109e-05\n",
            "\u001b[1m19/27\u001b[0m \u001b[32m━━━━━━━━━━━━━━\u001b[0m\u001b[37m━━━━━━\u001b[0m \u001b[1m1s\u001b[0m 223ms/stepLoss: 8.01197166e-05\n",
            "\u001b[1m20/27\u001b[0m \u001b[32m━━━━━━━━━━━━━━\u001b[0m\u001b[37m━━━━━━\u001b[0m \u001b[1m1s\u001b[0m 223ms/stepLoss: 7.71860941e-05\n",
            "\u001b[1m21/27\u001b[0m \u001b[32m━━━━━━━━━━━━━━━\u001b[0m\u001b[37m━━━━━\u001b[0m \u001b[1m1s\u001b[0m 223ms/stepLoss: 4.88874102e-05\n",
            "\u001b[1m22/27\u001b[0m \u001b[32m━━━━━━━━━━━━━━━━\u001b[0m\u001b[37m━━━━\u001b[0m \u001b[1m1s\u001b[0m 223ms/stepLoss: 3.2864762e-05\n",
            "\u001b[1m23/27\u001b[0m \u001b[32m━━━━━━━━━━━━━━━━━\u001b[0m\u001b[37m━━━\u001b[0m \u001b[1m0s\u001b[0m 223ms/stepLoss: 4.44455836e-05\n",
            "\u001b[1m24/27\u001b[0m \u001b[32m━━━━━━━━━━━━━━━━━\u001b[0m\u001b[37m━━━\u001b[0m \u001b[1m0s\u001b[0m 223ms/stepLoss: 3.4675686e-05\n",
            "\u001b[1m25/27\u001b[0m \u001b[32m━━━━━━━━━━━━━━━━━━\u001b[0m\u001b[37m━━\u001b[0m \u001b[1m0s\u001b[0m 223ms/stepLoss: 7.16964641e-05\n",
            "\u001b[1m26/27\u001b[0m \u001b[32m━━━━━━━━━━━━━━━━━━━\u001b[0m\u001b[37m━\u001b[0m \u001b[1m0s\u001b[0m 223ms/stepLoss: 3.87430305e-07\n",
            "\u001b[1m27/27\u001b[0m \u001b[32m━━━━━━━━━━━━━━━━━━━━\u001b[0m\u001b[37m\u001b[0m \u001b[1m6s\u001b[0m 218ms/step\n",
            "\n",
            " Epoch 43/50\n",
            "Loss: 0.000149776984\n",
            "\u001b[1m 1/27\u001b[0m \u001b[37m━━━━━━━━━━━━━━━━━━━━\u001b[0m \u001b[1m8s\u001b[0m 331ms/stepLoss: 1.2293491e-06\n",
            "\u001b[1m 2/27\u001b[0m \u001b[32m━\u001b[0m\u001b[37m━━━━━━━━━━━━━━━━━━━\u001b[0m \u001b[1m5s\u001b[0m 222ms/stepLoss: 9.70657129e-05\n",
            "\u001b[1m 3/27\u001b[0m \u001b[32m━━\u001b[0m\u001b[37m━━━━━━━━━━━━━━━━━━\u001b[0m \u001b[1m5s\u001b[0m 223ms/stepLoss: 6.48962086e-05\n",
            "\u001b[1m 4/27\u001b[0m \u001b[32m━━\u001b[0m\u001b[37m━━━━━━━━━━━━━━━━━━\u001b[0m \u001b[1m5s\u001b[0m 223ms/stepLoss: 8.68313437e-05\n",
            "\u001b[1m 5/27\u001b[0m \u001b[32m━━━\u001b[0m\u001b[37m━━━━━━━━━━━━━━━━━\u001b[0m \u001b[1m4s\u001b[0m 223ms/stepLoss: 2.00422937e-06\n",
            "\u001b[1m 6/27\u001b[0m \u001b[32m━━━━\u001b[0m\u001b[37m━━━━━━━━━━━━━━━━\u001b[0m \u001b[1m4s\u001b[0m 223ms/stepLoss: 0.00010009596\n",
            "\u001b[1m 7/27\u001b[0m \u001b[32m━━━━━\u001b[0m\u001b[37m━━━━━━━━━━━━━━━\u001b[0m \u001b[1m4s\u001b[0m 223ms/stepLoss: 9.27253768e-06\n",
            "\u001b[1m 8/27\u001b[0m \u001b[32m━━━━━\u001b[0m\u001b[37m━━━━━━━━━━━━━━━\u001b[0m \u001b[1m4s\u001b[0m 222ms/stepLoss: 6.59439902e-05\n",
            "\u001b[1m 9/27\u001b[0m \u001b[32m━━━━━━\u001b[0m\u001b[37m━━━━━━━━━━━━━━\u001b[0m \u001b[1m4s\u001b[0m 222ms/stepLoss: 4.58155191e-05\n",
            "\u001b[1m10/27\u001b[0m \u001b[32m━━━━━━━\u001b[0m\u001b[37m━━━━━━━━━━━━━\u001b[0m \u001b[1m3s\u001b[0m 222ms/stepLoss: 7.25706377e-06\n",
            "\u001b[1m11/27\u001b[0m \u001b[32m━━━━━━━━\u001b[0m\u001b[37m━━━━━━━━━━━━\u001b[0m \u001b[1m3s\u001b[0m 222ms/stepLoss: 0.000136409537\n",
            "\u001b[1m12/27\u001b[0m \u001b[32m━━━━━━━━\u001b[0m\u001b[37m━━━━━━━━━━━━\u001b[0m \u001b[1m3s\u001b[0m 222ms/stepLoss: 3.24187458e-05\n",
            "\u001b[1m13/27\u001b[0m \u001b[32m━━━━━━━━━\u001b[0m\u001b[37m━━━━━━━━━━━\u001b[0m \u001b[1m3s\u001b[0m 222ms/stepLoss: 1.09643042e-05\n",
            "\u001b[1m14/27\u001b[0m \u001b[32m━━━━━━━━━━\u001b[0m\u001b[37m━━━━━━━━━━\u001b[0m \u001b[1m2s\u001b[0m 222ms/stepLoss: 9.71033442e-05\n",
            "\u001b[1m15/27\u001b[0m \u001b[32m━━━━━━━━━━━\u001b[0m\u001b[37m━━━━━━━━━\u001b[0m \u001b[1m2s\u001b[0m 222ms/stepLoss: 9.30591432e-06\n",
            "\u001b[1m16/27\u001b[0m \u001b[32m━━━━━━━━━━━\u001b[0m\u001b[37m━━━━━━━━━\u001b[0m \u001b[1m2s\u001b[0m 222ms/stepLoss: 1.91044746e-05\n",
            "\u001b[1m17/27\u001b[0m \u001b[32m━━━━━━━━━━━━\u001b[0m\u001b[37m━━━━━━━━\u001b[0m \u001b[1m2s\u001b[0m 222ms/stepLoss: 4.73386681e-05\n",
            "\u001b[1m18/27\u001b[0m \u001b[32m━━━━━━━━━━━━━\u001b[0m\u001b[37m━━━━━━━\u001b[0m \u001b[1m1s\u001b[0m 222ms/stepLoss: 7.86038072e-07\n",
            "\u001b[1m19/27\u001b[0m \u001b[32m━━━━━━━━━━━━━━\u001b[0m\u001b[37m━━━━━━\u001b[0m \u001b[1m1s\u001b[0m 222ms/stepLoss: 4.89189e-05\n",
            "\u001b[1m20/27\u001b[0m \u001b[32m━━━━━━━━━━━━━━\u001b[0m\u001b[37m━━━━━━\u001b[0m \u001b[1m1s\u001b[0m 222ms/stepLoss: 6.37409685e-05\n",
            "\u001b[1m21/27\u001b[0m \u001b[32m━━━━━━━━━━━━━━━\u001b[0m\u001b[37m━━━━━\u001b[0m \u001b[1m1s\u001b[0m 222ms/stepLoss: 3.91490685e-05\n",
            "\u001b[1m22/27\u001b[0m \u001b[32m━━━━━━━━━━━━━━━━\u001b[0m\u001b[37m━━━━\u001b[0m \u001b[1m1s\u001b[0m 222ms/stepLoss: 3.3527981e-06\n",
            "\u001b[1m23/27\u001b[0m \u001b[32m━━━━━━━━━━━━━━━━━\u001b[0m\u001b[37m━━━\u001b[0m \u001b[1m0s\u001b[0m 222ms/stepLoss: 3.75534728e-05\n",
            "\u001b[1m24/27\u001b[0m \u001b[32m━━━━━━━━━━━━━━━━━\u001b[0m\u001b[37m━━━\u001b[0m \u001b[1m0s\u001b[0m 222ms/stepLoss: 9.35709249e-05\n",
            "\u001b[1m25/27\u001b[0m \u001b[32m━━━━━━━━━━━━━━━━━━\u001b[0m\u001b[37m━━\u001b[0m \u001b[1m0s\u001b[0m 222ms/stepLoss: 8.51859659e-05\n",
            "\u001b[1m26/27\u001b[0m \u001b[32m━━━━━━━━━━━━━━━━━━━\u001b[0m\u001b[37m━\u001b[0m \u001b[1m0s\u001b[0m 222ms/stepLoss: 1.19209304e-07\n",
            "\u001b[1m27/27\u001b[0m \u001b[32m━━━━━━━━━━━━━━━━━━━━\u001b[0m\u001b[37m\u001b[0m \u001b[1m6s\u001b[0m 217ms/step\n",
            "\n",
            " Epoch 44/50\n",
            "Loss: 2.96449252e-05\n",
            "\u001b[1m 1/27\u001b[0m \u001b[37m━━━━━━━━━━━━━━━━━━━━\u001b[0m \u001b[1m6s\u001b[0m 243ms/stepLoss: 6.43540043e-05\n",
            "\u001b[1m 2/27\u001b[0m \u001b[32m━\u001b[0m\u001b[37m━━━━━━━━━━━━━━━━━━━\u001b[0m \u001b[1m5s\u001b[0m 222ms/stepLoss: 1.28868405e-05\n",
            "\u001b[1m 3/27\u001b[0m \u001b[32m━━\u001b[0m\u001b[37m━━━━━━━━━━━━━━━━━━\u001b[0m \u001b[1m5s\u001b[0m 225ms/stepLoss: 2.77839299e-05\n",
            "\u001b[1m 4/27\u001b[0m \u001b[32m━━\u001b[0m\u001b[37m━━━━━━━━━━━━━━━━━━\u001b[0m \u001b[1m5s\u001b[0m 226ms/stepLoss: 8.04542797e-05\n",
            "\u001b[1m 5/27\u001b[0m \u001b[32m━━━\u001b[0m\u001b[37m━━━━━━━━━━━━━━━━━\u001b[0m \u001b[1m4s\u001b[0m 225ms/stepLoss: 5.46333431e-05\n",
            "\u001b[1m 6/27\u001b[0m \u001b[32m━━━━\u001b[0m\u001b[37m━━━━━━━━━━━━━━━━\u001b[0m \u001b[1m4s\u001b[0m 225ms/stepLoss: 2.02001538e-05\n",
            "\u001b[1m 7/27\u001b[0m \u001b[32m━━━━━\u001b[0m\u001b[37m━━━━━━━━━━━━━━━\u001b[0m \u001b[1m4s\u001b[0m 224ms/stepLoss: 4.95803397e-05\n",
            "\u001b[1m 8/27\u001b[0m \u001b[32m━━━━━\u001b[0m\u001b[37m━━━━━━━━━━━━━━━\u001b[0m \u001b[1m4s\u001b[0m 224ms/stepLoss: 3.33044636e-06\n",
            "\u001b[1m 9/27\u001b[0m \u001b[32m━━━━━━\u001b[0m\u001b[37m━━━━━━━━━━━━━━\u001b[0m \u001b[1m4s\u001b[0m 224ms/stepLoss: 3.14484641e-05\n",
            "\u001b[1m10/27\u001b[0m \u001b[32m━━━━━━━\u001b[0m\u001b[37m━━━━━━━━━━━━━\u001b[0m \u001b[1m3s\u001b[0m 224ms/stepLoss: 5.98229781e-05\n",
            "\u001b[1m11/27\u001b[0m \u001b[32m━━━━━━━━\u001b[0m\u001b[37m━━━━━━━━━━━━\u001b[0m \u001b[1m3s\u001b[0m 224ms/stepLoss: 1.21817493e-06\n",
            "\u001b[1m12/27\u001b[0m \u001b[32m━━━━━━━━\u001b[0m\u001b[37m━━━━━━━━━━━━\u001b[0m \u001b[1m3s\u001b[0m 224ms/stepLoss: 3.31708216e-05\n",
            "\u001b[1m13/27\u001b[0m \u001b[32m━━━━━━━━━\u001b[0m\u001b[37m━━━━━━━━━━━\u001b[0m \u001b[1m3s\u001b[0m 224ms/stepLoss: 5.81394488e-05\n",
            "\u001b[1m14/27\u001b[0m \u001b[32m━━━━━━━━━━\u001b[0m\u001b[37m━━━━━━━━━━\u001b[0m \u001b[1m2s\u001b[0m 224ms/stepLoss: 5.96047357e-07\n",
            "\u001b[1m15/27\u001b[0m \u001b[32m━━━━━━━━━━━\u001b[0m\u001b[37m━━━━━━━━━\u001b[0m \u001b[1m2s\u001b[0m 224ms/stepLoss: 5.0514398e-05\n",
            "\u001b[1m16/27\u001b[0m \u001b[32m━━━━━━━━━━━\u001b[0m\u001b[37m━━━━━━━━━\u001b[0m \u001b[1m2s\u001b[0m 224ms/stepLoss: 4.51732558e-05\n",
            "\u001b[1m17/27\u001b[0m \u001b[32m━━━━━━━━━━━━\u001b[0m\u001b[37m━━━━━━━━\u001b[0m \u001b[1m2s\u001b[0m 224ms/stepLoss: 3.96135365e-05\n",
            "\u001b[1m18/27\u001b[0m \u001b[32m━━━━━━━━━━━━━\u001b[0m\u001b[37m━━━━━━━\u001b[0m \u001b[1m2s\u001b[0m 224ms/stepLoss: 8.24065773e-06\n",
            "\u001b[1m19/27\u001b[0m \u001b[32m━━━━━━━━━━━━━━\u001b[0m\u001b[37m━━━━━━\u001b[0m \u001b[1m1s\u001b[0m 224ms/stepLoss: 2.14845713e-05\n",
            "\u001b[1m20/27\u001b[0m \u001b[32m━━━━━━━━━━━━━━\u001b[0m\u001b[37m━━━━━━\u001b[0m \u001b[1m1s\u001b[0m 224ms/stepLoss: 7.82312554e-07\n",
            "\u001b[1m21/27\u001b[0m \u001b[32m━━━━━━━━━━━━━━━\u001b[0m\u001b[37m━━━━━\u001b[0m \u001b[1m1s\u001b[0m 224ms/stepLoss: 0.000118180964\n",
            "\u001b[1m22/27\u001b[0m \u001b[32m━━━━━━━━━━━━━━━━\u001b[0m\u001b[37m━━━━\u001b[0m \u001b[1m1s\u001b[0m 224ms/stepLoss: 0.000144251389\n",
            "\u001b[1m23/27\u001b[0m \u001b[32m━━━━━━━━━━━━━━━━━\u001b[0m\u001b[37m━━━\u001b[0m \u001b[1m0s\u001b[0m 224ms/stepLoss: 8.25188908e-06\n",
            "\u001b[1m24/27\u001b[0m \u001b[32m━━━━━━━━━━━━━━━━━\u001b[0m\u001b[37m━━━\u001b[0m \u001b[1m0s\u001b[0m 224ms/stepLoss: 3.61737038e-05\n",
            "\u001b[1m25/27\u001b[0m \u001b[32m━━━━━━━━━━━━━━━━━━\u001b[0m\u001b[37m━━\u001b[0m \u001b[1m0s\u001b[0m 223ms/stepLoss: 1.00103352e-05\n",
            "\u001b[1m26/27\u001b[0m \u001b[32m━━━━━━━━━━━━━━━━━━━\u001b[0m\u001b[37m━\u001b[0m \u001b[1m0s\u001b[0m 224ms/stepLoss: 1.6093767e-05\n",
            "\u001b[1m27/27\u001b[0m \u001b[32m━━━━━━━━━━━━━━━━━━━━\u001b[0m\u001b[37m\u001b[0m \u001b[1m6s\u001b[0m 218ms/step\n",
            "\n",
            " Epoch 45/50\n",
            "Loss: 6.23258165e-05\n",
            "\u001b[1m 1/27\u001b[0m \u001b[37m━━━━━━━━━━━━━━━━━━━━\u001b[0m \u001b[1m6s\u001b[0m 232ms/stepLoss: 1.5509213e-05\n",
            "\u001b[1m 2/27\u001b[0m \u001b[32m━\u001b[0m\u001b[37m━━━━━━━━━━━━━━━━━━━\u001b[0m \u001b[1m5s\u001b[0m 226ms/stepLoss: 4.58532268e-05\n",
            "\u001b[1m 3/27\u001b[0m \u001b[32m━━\u001b[0m\u001b[37m━━━━━━━━━━━━━━━━━━\u001b[0m \u001b[1m5s\u001b[0m 227ms/stepLoss: 3.06224388e-06\n",
            "\u001b[1m 4/27\u001b[0m \u001b[32m━━\u001b[0m\u001b[37m━━━━━━━━━━━━━━━━━━\u001b[0m \u001b[1m5s\u001b[0m 226ms/stepLoss: 0.00013265606\n",
            "\u001b[1m 5/27\u001b[0m \u001b[32m━━━\u001b[0m\u001b[37m━━━━━━━━━━━━━━━━━\u001b[0m \u001b[1m4s\u001b[0m 226ms/stepLoss: 3.39125872e-05\n",
            "\u001b[1m 6/27\u001b[0m \u001b[32m━━━━\u001b[0m\u001b[37m━━━━━━━━━━━━━━━━\u001b[0m \u001b[1m4s\u001b[0m 226ms/stepLoss: 3.98254633e-05\n",
            "\u001b[1m 7/27\u001b[0m \u001b[32m━━━━━\u001b[0m\u001b[37m━━━━━━━━━━━━━━━\u001b[0m \u001b[1m4s\u001b[0m 225ms/stepLoss: 7.96117092e-06\n",
            "\u001b[1m 8/27\u001b[0m \u001b[32m━━━━━\u001b[0m\u001b[37m━━━━━━━━━━━━━━━\u001b[0m \u001b[1m4s\u001b[0m 226ms/stepLoss: 2.67501127e-05\n",
            "\u001b[1m 9/27\u001b[0m \u001b[32m━━━━━━\u001b[0m\u001b[37m━━━━━━━━━━━━━━\u001b[0m \u001b[1m4s\u001b[0m 225ms/stepLoss: 3.07250593e-05\n",
            "\u001b[1m10/27\u001b[0m \u001b[32m━━━━━━━\u001b[0m\u001b[37m━━━━━━━━━━━━━\u001b[0m \u001b[1m3s\u001b[0m 225ms/stepLoss: 4.40895856e-05\n",
            "\u001b[1m11/27\u001b[0m \u001b[32m━━━━━━━━\u001b[0m\u001b[37m━━━━━━━━━━━━\u001b[0m \u001b[1m3s\u001b[0m 225ms/stepLoss: 1.77697223e-06\n",
            "\u001b[1m12/27\u001b[0m \u001b[32m━━━━━━━━\u001b[0m\u001b[37m━━━━━━━━━━━━\u001b[0m \u001b[1m3s\u001b[0m 225ms/stepLoss: 2.21655955e-06\n",
            "\u001b[1m13/27\u001b[0m \u001b[32m━━━━━━━━━\u001b[0m\u001b[37m━━━━━━━━━━━\u001b[0m \u001b[1m3s\u001b[0m 225ms/stepLoss: 2.66931202e-05\n",
            "\u001b[1m14/27\u001b[0m \u001b[32m━━━━━━━━━━\u001b[0m\u001b[37m━━━━━━━━━━\u001b[0m \u001b[1m2s\u001b[0m 225ms/stepLoss: 5.9609858e-05\n",
            "\u001b[1m15/27\u001b[0m \u001b[32m━━━━━━━━━━━\u001b[0m\u001b[37m━━━━━━━━━\u001b[0m \u001b[1m2s\u001b[0m 225ms/stepLoss: 4.2001273e-05\n",
            "\u001b[1m16/27\u001b[0m \u001b[32m━━━━━━━━━━━\u001b[0m\u001b[37m━━━━━━━━━\u001b[0m \u001b[1m2s\u001b[0m 225ms/stepLoss: 2.10109397e-06\n",
            "\u001b[1m17/27\u001b[0m \u001b[32m━━━━━━━━━━━━\u001b[0m\u001b[37m━━━━━━━━\u001b[0m \u001b[1m2s\u001b[0m 225ms/stepLoss: 9.23960106e-05\n",
            "\u001b[1m18/27\u001b[0m \u001b[32m━━━━━━━━━━━━━\u001b[0m\u001b[37m━━━━━━━\u001b[0m \u001b[1m2s\u001b[0m 225ms/stepLoss: 4.28567582e-05\n",
            "\u001b[1m19/27\u001b[0m \u001b[32m━━━━━━━━━━━━━━\u001b[0m\u001b[37m━━━━━━\u001b[0m \u001b[1m1s\u001b[0m 225ms/stepLoss: 5.24956486e-05\n",
            "\u001b[1m20/27\u001b[0m \u001b[32m━━━━━━━━━━━━━━\u001b[0m\u001b[37m━━━━━━\u001b[0m \u001b[1m1s\u001b[0m 225ms/stepLoss: 0.000129320746\n",
            "\u001b[1m21/27\u001b[0m \u001b[32m━━━━━━━━━━━━━━━\u001b[0m\u001b[37m━━━━━\u001b[0m \u001b[1m1s\u001b[0m 225ms/stepLoss: 2.58259843e-05\n",
            "\u001b[1m22/27\u001b[0m \u001b[32m━━━━━━━━━━━━━━━━\u001b[0m\u001b[37m━━━━\u001b[0m \u001b[1m1s\u001b[0m 225ms/stepLoss: 1.01257247e-05\n",
            "\u001b[1m23/27\u001b[0m \u001b[32m━━━━━━━━━━━━━━━━━\u001b[0m\u001b[37m━━━\u001b[0m \u001b[1m0s\u001b[0m 225ms/stepLoss: 3.47396417e-05\n",
            "\u001b[1m24/27\u001b[0m \u001b[32m━━━━━━━━━━━━━━━━━\u001b[0m\u001b[37m━━━\u001b[0m \u001b[1m0s\u001b[0m 225ms/stepLoss: 0.000172794302\n",
            "\u001b[1m25/27\u001b[0m \u001b[32m━━━━━━━━━━━━━━━━━━\u001b[0m\u001b[37m━━\u001b[0m \u001b[1m0s\u001b[0m 225ms/stepLoss: 7.23470839e-06\n",
            "\u001b[1m26/27\u001b[0m \u001b[32m━━━━━━━━━━━━━━━━━━━\u001b[0m\u001b[37m━\u001b[0m \u001b[1m0s\u001b[0m 225ms/stepLoss: 0.000172585103\n",
            "\u001b[1m27/27\u001b[0m \u001b[32m━━━━━━━━━━━━━━━━━━━━\u001b[0m\u001b[37m\u001b[0m \u001b[1m6s\u001b[0m 220ms/step\n",
            "\n",
            " Epoch 46/50\n",
            "Loss: 3.74142037e-05\n",
            "\u001b[1m 1/27\u001b[0m \u001b[37m━━━━━━━━━━━━━━━━━━━━\u001b[0m \u001b[1m5s\u001b[0m 230ms/stepLoss: 7.47696913e-06\n",
            "\u001b[1m 2/27\u001b[0m \u001b[32m━\u001b[0m\u001b[37m━━━━━━━━━━━━━━━━━━━\u001b[0m \u001b[1m5s\u001b[0m 227ms/stepLoss: 1.1348242e-05\n",
            "\u001b[1m 3/27\u001b[0m \u001b[32m━━\u001b[0m\u001b[37m━━━━━━━━━━━━━━━━━━\u001b[0m \u001b[1m5s\u001b[0m 226ms/stepLoss: 2.17172019e-05\n",
            "\u001b[1m 4/27\u001b[0m \u001b[32m━━\u001b[0m\u001b[37m━━━━━━━━━━━━━━━━━━\u001b[0m \u001b[1m5s\u001b[0m 229ms/stepLoss: 5.2367468e-05\n",
            "\u001b[1m 5/27\u001b[0m \u001b[32m━━━\u001b[0m\u001b[37m━━━━━━━━━━━━━━━━━\u001b[0m \u001b[1m5s\u001b[0m 230ms/stepLoss: 1.14710374e-05\n",
            "\u001b[1m 6/27\u001b[0m \u001b[32m━━━━\u001b[0m\u001b[37m━━━━━━━━━━━━━━━━\u001b[0m \u001b[1m4s\u001b[0m 230ms/stepLoss: 1.12247699e-05\n",
            "\u001b[1m 7/27\u001b[0m \u001b[32m━━━━━\u001b[0m\u001b[37m━━━━━━━━━━━━━━━\u001b[0m \u001b[1m4s\u001b[0m 229ms/stepLoss: 4.17341325e-05\n",
            "\u001b[1m 8/27\u001b[0m \u001b[32m━━━━━\u001b[0m\u001b[37m━━━━━━━━━━━━━━━\u001b[0m \u001b[1m4s\u001b[0m 229ms/stepLoss: 9.43443e-05\n",
            "\u001b[1m 9/27\u001b[0m \u001b[32m━━━━━━\u001b[0m\u001b[37m━━━━━━━━━━━━━━\u001b[0m \u001b[1m4s\u001b[0m 229ms/stepLoss: 7.97624889e-05\n",
            "\u001b[1m10/27\u001b[0m \u001b[32m━━━━━━━\u001b[0m\u001b[37m━━━━━━━━━━━━━\u001b[0m \u001b[1m3s\u001b[0m 229ms/stepLoss: 1.93183732e-05\n",
            "\u001b[1m11/27\u001b[0m \u001b[32m━━━━━━━━\u001b[0m\u001b[37m━━━━━━━━━━━━\u001b[0m \u001b[1m3s\u001b[0m 229ms/stepLoss: 4.99209709e-05\n",
            "\u001b[1m12/27\u001b[0m \u001b[32m━━━━━━━━\u001b[0m\u001b[37m━━━━━━━━━━━━\u001b[0m \u001b[1m3s\u001b[0m 229ms/stepLoss: 3.59276492e-05\n",
            "\u001b[1m13/27\u001b[0m \u001b[32m━━━━━━━━━\u001b[0m\u001b[37m━━━━━━━━━━━\u001b[0m \u001b[1m3s\u001b[0m 228ms/stepLoss: 1.53229157e-05\n",
            "\u001b[1m14/27\u001b[0m \u001b[32m━━━━━━━━━━\u001b[0m\u001b[37m━━━━━━━━━━\u001b[0m \u001b[1m2s\u001b[0m 228ms/stepLoss: 2.94873735e-05\n",
            "\u001b[1m15/27\u001b[0m \u001b[32m━━━━━━━━━━━\u001b[0m\u001b[37m━━━━━━━━━\u001b[0m \u001b[1m2s\u001b[0m 228ms/stepLoss: 2.01967432e-05\n",
            "\u001b[1m16/27\u001b[0m \u001b[32m━━━━━━━━━━━\u001b[0m\u001b[37m━━━━━━━━━\u001b[0m \u001b[1m2s\u001b[0m 228ms/stepLoss: 4.60472766e-05\n",
            "\u001b[1m17/27\u001b[0m \u001b[32m━━━━━━━━━━━━\u001b[0m\u001b[37m━━━━━━━━\u001b[0m \u001b[1m2s\u001b[0m 228ms/stepLoss: 6.7429246e-06\n",
            "\u001b[1m18/27\u001b[0m \u001b[32m━━━━━━━━━━━━━\u001b[0m\u001b[37m━━━━━━━\u001b[0m \u001b[1m2s\u001b[0m 228ms/stepLoss: 4.37589624e-05\n",
            "\u001b[1m19/27\u001b[0m \u001b[32m━━━━━━━━━━━━━━\u001b[0m\u001b[37m━━━━━━\u001b[0m \u001b[1m1s\u001b[0m 228ms/stepLoss: 1.49757489e-06\n",
            "\u001b[1m20/27\u001b[0m \u001b[32m━━━━━━━━━━━━━━\u001b[0m\u001b[37m━━━━━━\u001b[0m \u001b[1m1s\u001b[0m 228ms/stepLoss: 2.52579321e-06\n",
            "\u001b[1m21/27\u001b[0m \u001b[32m━━━━━━━━━━━━━━━\u001b[0m\u001b[37m━━━━━\u001b[0m \u001b[1m1s\u001b[0m 228ms/stepLoss: 2.77779036e-05\n",
            "\u001b[1m22/27\u001b[0m \u001b[32m━━━━━━━━━━━━━━━━\u001b[0m\u001b[37m━━━━\u001b[0m \u001b[1m1s\u001b[0m 228ms/stepLoss: 9.08975153e-07\n",
            "\u001b[1m23/27\u001b[0m \u001b[32m━━━━━━━━━━━━━━━━━\u001b[0m\u001b[37m━━━\u001b[0m \u001b[1m0s\u001b[0m 228ms/stepLoss: 8.1997372e-05\n",
            "\u001b[1m24/27\u001b[0m \u001b[32m━━━━━━━━━━━━━━━━━\u001b[0m\u001b[37m━━━\u001b[0m \u001b[1m0s\u001b[0m 228ms/stepLoss: 5.8593112e-05\n",
            "\u001b[1m25/27\u001b[0m \u001b[32m━━━━━━━━━━━━━━━━━━\u001b[0m\u001b[37m━━\u001b[0m \u001b[1m0s\u001b[0m 228ms/stepLoss: 0.000108403285\n",
            "\u001b[1m26/27\u001b[0m \u001b[32m━━━━━━━━━━━━━━━━━━━\u001b[0m\u001b[37m━\u001b[0m \u001b[1m0s\u001b[0m 228ms/stepLoss: 8.68751613e-06\n",
            "\u001b[1m27/27\u001b[0m \u001b[32m━━━━━━━━━━━━━━━━━━━━\u001b[0m\u001b[37m\u001b[0m \u001b[1m6s\u001b[0m 222ms/step\n",
            "\n",
            " Epoch 47/50\n",
            "Loss: 2.4317218e-05\n",
            "\u001b[1m 1/27\u001b[0m \u001b[37m━━━━━━━━━━━━━━━━━━━━\u001b[0m \u001b[1m5s\u001b[0m 231ms/stepLoss: 1.78037662e-05\n",
            "\u001b[1m 2/27\u001b[0m \u001b[32m━\u001b[0m\u001b[37m━━━━━━━━━━━━━━━━━━━\u001b[0m \u001b[1m5s\u001b[0m 230ms/stepLoss: 1.17801028e-05\n",
            "\u001b[1m 3/27\u001b[0m \u001b[32m━━\u001b[0m\u001b[37m━━━━━━━━━━━━━━━━━━\u001b[0m \u001b[1m5s\u001b[0m 230ms/stepLoss: 5.66244694e-07\n",
            "\u001b[1m 4/27\u001b[0m \u001b[32m━━\u001b[0m\u001b[37m━━━━━━━━━━━━━━━━━━\u001b[0m \u001b[1m5s\u001b[0m 228ms/stepLoss: 3.78497907e-06\n",
            "\u001b[1m 5/27\u001b[0m \u001b[32m━━━\u001b[0m\u001b[37m━━━━━━━━━━━━━━━━━\u001b[0m \u001b[1m5s\u001b[0m 228ms/stepLoss: 1.71109241e-05\n",
            "\u001b[1m 6/27\u001b[0m \u001b[32m━━━━\u001b[0m\u001b[37m━━━━━━━━━━━━━━━━\u001b[0m \u001b[1m4s\u001b[0m 228ms/stepLoss: 8.05621312e-05\n",
            "\u001b[1m 7/27\u001b[0m \u001b[32m━━━━━\u001b[0m\u001b[37m━━━━━━━━━━━━━━━\u001b[0m \u001b[1m4s\u001b[0m 229ms/stepLoss: 5.3970758e-05\n",
            "\u001b[1m 8/27\u001b[0m \u001b[32m━━━━━\u001b[0m\u001b[37m━━━━━━━━━━━━━━━\u001b[0m \u001b[1m4s\u001b[0m 229ms/stepLoss: 7.67126767e-05\n",
            "\u001b[1m 9/27\u001b[0m \u001b[32m━━━━━━\u001b[0m\u001b[37m━━━━━━━━━━━━━━\u001b[0m \u001b[1m4s\u001b[0m 229ms/stepLoss: 1.54133668e-05\n",
            "\u001b[1m10/27\u001b[0m \u001b[32m━━━━━━━\u001b[0m\u001b[37m━━━━━━━━━━━━━\u001b[0m \u001b[1m3s\u001b[0m 229ms/stepLoss: 3.18446546e-05\n",
            "\u001b[1m11/27\u001b[0m \u001b[32m━━━━━━━━\u001b[0m\u001b[37m━━━━━━━━━━━━\u001b[0m \u001b[1m3s\u001b[0m 228ms/stepLoss: 0.000196189372\n",
            "\u001b[1m12/27\u001b[0m \u001b[32m━━━━━━━━\u001b[0m\u001b[37m━━━━━━━━━━━━\u001b[0m \u001b[1m3s\u001b[0m 228ms/stepLoss: 3.43887768e-05\n",
            "\u001b[1m13/27\u001b[0m \u001b[32m━━━━━━━━━\u001b[0m\u001b[37m━━━━━━━━━━━\u001b[0m \u001b[1m3s\u001b[0m 228ms/stepLoss: 4.58987415e-05\n",
            "\u001b[1m14/27\u001b[0m \u001b[32m━━━━━━━━━━\u001b[0m\u001b[37m━━━━━━━━━━\u001b[0m \u001b[1m2s\u001b[0m 228ms/stepLoss: 2.90576759e-06\n",
            "\u001b[1m15/27\u001b[0m \u001b[32m━━━━━━━━━━━\u001b[0m\u001b[37m━━━━━━━━━\u001b[0m \u001b[1m2s\u001b[0m 228ms/stepLoss: 6.57632554e-05\n",
            "\u001b[1m16/27\u001b[0m \u001b[32m━━━━━━━━━━━\u001b[0m\u001b[37m━━━━━━━━━\u001b[0m \u001b[1m2s\u001b[0m 228ms/stepLoss: 9.68623954e-06\n",
            "\u001b[1m17/27\u001b[0m \u001b[32m━━━━━━━━━━━━\u001b[0m\u001b[37m━━━━━━━━\u001b[0m \u001b[1m2s\u001b[0m 228ms/stepLoss: 7.19652598e-05\n",
            "\u001b[1m18/27\u001b[0m \u001b[32m━━━━━━━━━━━━━\u001b[0m\u001b[37m━━━━━━━\u001b[0m \u001b[1m2s\u001b[0m 228ms/stepLoss: 5.45559633e-05\n",
            "\u001b[1m19/27\u001b[0m \u001b[32m━━━━━━━━━━━━━━\u001b[0m\u001b[37m━━━━━━\u001b[0m \u001b[1m1s\u001b[0m 228ms/stepLoss: 1.94853401e-05\n",
            "\u001b[1m20/27\u001b[0m \u001b[32m━━━━━━━━━━━━━━\u001b[0m\u001b[37m━━━━━━\u001b[0m \u001b[1m1s\u001b[0m 228ms/stepLoss: 6.82678583e-05\n",
            "\u001b[1m21/27\u001b[0m \u001b[32m━━━━━━━━━━━━━━━\u001b[0m\u001b[37m━━━━━\u001b[0m \u001b[1m1s\u001b[0m 228ms/stepLoss: 7.29401945e-05\n",
            "\u001b[1m22/27\u001b[0m \u001b[32m━━━━━━━━━━━━━━━━\u001b[0m\u001b[37m━━━━\u001b[0m \u001b[1m1s\u001b[0m 228ms/stepLoss: 3.02123726e-06\n",
            "\u001b[1m23/27\u001b[0m \u001b[32m━━━━━━━━━━━━━━━━━\u001b[0m\u001b[37m━━━\u001b[0m \u001b[1m0s\u001b[0m 228ms/stepLoss: 3.88910667e-05\n",
            "\u001b[1m24/27\u001b[0m \u001b[32m━━━━━━━━━━━━━━━━━\u001b[0m\u001b[37m━━━\u001b[0m \u001b[1m0s\u001b[0m 228ms/stepLoss: 6.2957514e-07\n",
            "\u001b[1m25/27\u001b[0m \u001b[32m━━━━━━━━━━━━━━━━━━\u001b[0m\u001b[37m━━\u001b[0m \u001b[1m0s\u001b[0m 228ms/stepLoss: 4.40399672e-05\n",
            "\u001b[1m26/27\u001b[0m \u001b[32m━━━━━━━━━━━━━━━━━━━\u001b[0m\u001b[37m━\u001b[0m \u001b[1m0s\u001b[0m 228ms/stepLoss: 1.27855174e-05\n",
            "\u001b[1m27/27\u001b[0m \u001b[32m━━━━━━━━━━━━━━━━━━━━\u001b[0m\u001b[37m\u001b[0m \u001b[1m6s\u001b[0m 223ms/step\n",
            "\n",
            " Epoch 48/50\n",
            "Loss: 1.61835469e-05\n",
            "\u001b[1m 1/27\u001b[0m \u001b[37m━━━━━━━━━━━━━━━━━━━━\u001b[0m \u001b[1m6s\u001b[0m 233ms/stepLoss: 4.60054325e-05\n",
            "\u001b[1m 2/27\u001b[0m \u001b[32m━\u001b[0m\u001b[37m━━━━━━━━━━━━━━━━━━━\u001b[0m \u001b[1m5s\u001b[0m 230ms/stepLoss: 0.000172744563\n",
            "\u001b[1m 3/27\u001b[0m \u001b[32m━━\u001b[0m\u001b[37m━━━━━━━━━━━━━━━━━━\u001b[0m \u001b[1m5s\u001b[0m 231ms/stepLoss: 2.22775702e-06\n",
            "\u001b[1m 4/27\u001b[0m \u001b[32m━━\u001b[0m\u001b[37m━━━━━━━━━━━━━━━━━━\u001b[0m \u001b[1m5s\u001b[0m 230ms/stepLoss: 5.12358674e-05\n",
            "\u001b[1m 5/27\u001b[0m \u001b[32m━━━\u001b[0m\u001b[37m━━━━━━━━━━━━━━━━━\u001b[0m \u001b[1m5s\u001b[0m 229ms/stepLoss: 4.23563179e-05\n",
            "\u001b[1m 6/27\u001b[0m \u001b[32m━━━━\u001b[0m\u001b[37m━━━━━━━━━━━━━━━━\u001b[0m \u001b[1m4s\u001b[0m 228ms/stepLoss: 2.13256099e-05\n",
            "\u001b[1m 7/27\u001b[0m \u001b[32m━━━━━\u001b[0m\u001b[37m━━━━━━━━━━━━━━━\u001b[0m \u001b[1m4s\u001b[0m 227ms/stepLoss: 7.17866569e-05\n",
            "\u001b[1m 8/27\u001b[0m \u001b[32m━━━━━\u001b[0m\u001b[37m━━━━━━━━━━━━━━━\u001b[0m \u001b[1m4s\u001b[0m 227ms/stepLoss: 1.87778587e-05\n",
            "\u001b[1m 9/27\u001b[0m \u001b[32m━━━━━━\u001b[0m\u001b[37m━━━━━━━━━━━━━━\u001b[0m \u001b[1m4s\u001b[0m 227ms/stepLoss: 6.86842686e-05\n",
            "\u001b[1m10/27\u001b[0m \u001b[32m━━━━━━━\u001b[0m\u001b[37m━━━━━━━━━━━━━\u001b[0m \u001b[1m3s\u001b[0m 228ms/stepLoss: 3.75037e-05\n",
            "\u001b[1m11/27\u001b[0m \u001b[32m━━━━━━━━\u001b[0m\u001b[37m━━━━━━━━━━━━\u001b[0m \u001b[1m3s\u001b[0m 228ms/stepLoss: 7.23098674e-06\n",
            "\u001b[1m12/27\u001b[0m \u001b[32m━━━━━━━━\u001b[0m\u001b[37m━━━━━━━━━━━━\u001b[0m \u001b[1m3s\u001b[0m 228ms/stepLoss: 2.75914535e-05\n",
            "\u001b[1m13/27\u001b[0m \u001b[32m━━━━━━━━━\u001b[0m\u001b[37m━━━━━━━━━━━\u001b[0m \u001b[1m3s\u001b[0m 227ms/stepLoss: 3.47031273e-05\n",
            "\u001b[1m14/27\u001b[0m \u001b[32m━━━━━━━━━━\u001b[0m\u001b[37m━━━━━━━━━━\u001b[0m \u001b[1m2s\u001b[0m 228ms/stepLoss: 3.97865824e-06\n",
            "\u001b[1m15/27\u001b[0m \u001b[32m━━━━━━━━━━━\u001b[0m\u001b[37m━━━━━━━━━\u001b[0m \u001b[1m2s\u001b[0m 228ms/stepLoss: 6.57088e-05\n",
            "\u001b[1m16/27\u001b[0m \u001b[32m━━━━━━━━━━━\u001b[0m\u001b[37m━━━━━━━━━\u001b[0m \u001b[1m2s\u001b[0m 228ms/stepLoss: 8.1371596e-05\n",
            "\u001b[1m17/27\u001b[0m \u001b[32m━━━━━━━━━━━━\u001b[0m\u001b[37m━━━━━━━━\u001b[0m \u001b[1m2s\u001b[0m 228ms/stepLoss: 5.59036125e-05\n",
            "\u001b[1m18/27\u001b[0m \u001b[32m━━━━━━━━━━━━━\u001b[0m\u001b[37m━━━━━━━\u001b[0m \u001b[1m2s\u001b[0m 228ms/stepLoss: 4.39589076e-06\n",
            "\u001b[1m19/27\u001b[0m \u001b[32m━━━━━━━━━━━━━━\u001b[0m\u001b[37m━━━━━━\u001b[0m \u001b[1m1s\u001b[0m 228ms/stepLoss: 1.49620264e-05\n",
            "\u001b[1m20/27\u001b[0m \u001b[32m━━━━━━━━━━━━━━\u001b[0m\u001b[37m━━━━━━\u001b[0m \u001b[1m1s\u001b[0m 228ms/stepLoss: 4.05587925e-05\n",
            "\u001b[1m21/27\u001b[0m \u001b[32m━━━━━━━━━━━━━━━\u001b[0m\u001b[37m━━━━━\u001b[0m \u001b[1m1s\u001b[0m 228ms/stepLoss: 4.6345107e-05\n",
            "\u001b[1m22/27\u001b[0m \u001b[32m━━━━━━━━━━━━━━━━\u001b[0m\u001b[37m━━━━\u001b[0m \u001b[1m1s\u001b[0m 228ms/stepLoss: 4.76979694e-05\n",
            "\u001b[1m23/27\u001b[0m \u001b[32m━━━━━━━━━━━━━━━━━\u001b[0m\u001b[37m━━━\u001b[0m \u001b[1m0s\u001b[0m 228ms/stepLoss: 3.33146709e-05\n",
            "\u001b[1m24/27\u001b[0m \u001b[32m━━━━━━━━━━━━━━━━━\u001b[0m\u001b[37m━━━\u001b[0m \u001b[1m0s\u001b[0m 228ms/stepLoss: 3.18141747e-06\n",
            "\u001b[1m25/27\u001b[0m \u001b[32m━━━━━━━━━━━━━━━━━━\u001b[0m\u001b[37m━━\u001b[0m \u001b[1m0s\u001b[0m 228ms/stepLoss: 1.25439528e-05\n",
            "\u001b[1m26/27\u001b[0m \u001b[32m━━━━━━━━━━━━━━━━━━━\u001b[0m\u001b[37m━\u001b[0m \u001b[1m0s\u001b[0m 227ms/stepLoss: 1.19209304e-07\n",
            "\u001b[1m27/27\u001b[0m \u001b[32m━━━━━━━━━━━━━━━━━━━━\u001b[0m\u001b[37m\u001b[0m \u001b[1m6s\u001b[0m 222ms/step\n",
            "\n",
            " Epoch 49/50\n",
            "Loss: 2.17941561e-05\n",
            "\u001b[1m 1/27\u001b[0m \u001b[37m━━━━━━━━━━━━━━━━━━━━\u001b[0m \u001b[1m6s\u001b[0m 231ms/stepLoss: 2.95693299e-05\n",
            "\u001b[1m 2/27\u001b[0m \u001b[32m━\u001b[0m\u001b[37m━━━━━━━━━━━━━━━━━━━\u001b[0m \u001b[1m5s\u001b[0m 226ms/stepLoss: 9.11237112e-06\n",
            "\u001b[1m 3/27\u001b[0m \u001b[32m━━\u001b[0m\u001b[37m━━━━━━━━━━━━━━━━━━\u001b[0m \u001b[1m5s\u001b[0m 226ms/stepLoss: 0.000105053041\n",
            "\u001b[1m 4/27\u001b[0m \u001b[32m━━\u001b[0m\u001b[37m━━━━━━━━━━━━━━━━━━\u001b[0m \u001b[1m5s\u001b[0m 227ms/stepLoss: 4.69145489e-05\n",
            "\u001b[1m 5/27\u001b[0m \u001b[32m━━━\u001b[0m\u001b[37m━━━━━━━━━━━━━━━━━\u001b[0m \u001b[1m4s\u001b[0m 227ms/stepLoss: 3.31684605e-05\n",
            "\u001b[1m 6/27\u001b[0m \u001b[32m━━━━\u001b[0m\u001b[37m━━━━━━━━━━━━━━━━\u001b[0m \u001b[1m4s\u001b[0m 227ms/stepLoss: 6.67041604e-05\n",
            "\u001b[1m 7/27\u001b[0m \u001b[32m━━━━━\u001b[0m\u001b[37m━━━━━━━━━━━━━━━\u001b[0m \u001b[1m4s\u001b[0m 227ms/stepLoss: 2.48851165e-06\n",
            "\u001b[1m 8/27\u001b[0m \u001b[32m━━━━━\u001b[0m\u001b[37m━━━━━━━━━━━━━━━\u001b[0m \u001b[1m4s\u001b[0m 227ms/stepLoss: 3.69338413e-05\n",
            "\u001b[1m 9/27\u001b[0m \u001b[32m━━━━━━\u001b[0m\u001b[37m━━━━━━━━━━━━━━\u001b[0m \u001b[1m4s\u001b[0m 226ms/stepLoss: 5.38990716e-05\n",
            "\u001b[1m10/27\u001b[0m \u001b[32m━━━━━━━\u001b[0m\u001b[37m━━━━━━━━━━━━━\u001b[0m \u001b[1m3s\u001b[0m 226ms/stepLoss: 7.35731446e-05\n",
            "\u001b[1m11/27\u001b[0m \u001b[32m━━━━━━━━\u001b[0m\u001b[37m━━━━━━━━━━━━\u001b[0m \u001b[1m3s\u001b[0m 226ms/stepLoss: 7.1229465e-06\n",
            "\u001b[1m12/27\u001b[0m \u001b[32m━━━━━━━━\u001b[0m\u001b[37m━━━━━━━━━━━━\u001b[0m \u001b[1m3s\u001b[0m 226ms/stepLoss: 7.93886e-06\n",
            "\u001b[1m13/27\u001b[0m \u001b[32m━━━━━━━━━\u001b[0m\u001b[37m━━━━━━━━━━━\u001b[0m \u001b[1m3s\u001b[0m 226ms/stepLoss: 2.90638836e-05\n",
            "\u001b[1m14/27\u001b[0m \u001b[32m━━━━━━━━━━\u001b[0m\u001b[37m━━━━━━━━━━\u001b[0m \u001b[1m2s\u001b[0m 226ms/stepLoss: 5.22216033e-05\n",
            "\u001b[1m15/27\u001b[0m \u001b[32m━━━━━━━━━━━\u001b[0m\u001b[37m━━━━━━━━━\u001b[0m \u001b[1m2s\u001b[0m 226ms/stepLoss: 2.56699241e-05\n",
            "\u001b[1m16/27\u001b[0m \u001b[32m━━━━━━━━━━━\u001b[0m\u001b[37m━━━━━━━━━\u001b[0m \u001b[1m2s\u001b[0m 226ms/stepLoss: 2.05728466e-05\n",
            "\u001b[1m17/27\u001b[0m \u001b[32m━━━━━━━━━━━━\u001b[0m\u001b[37m━━━━━━━━\u001b[0m \u001b[1m2s\u001b[0m 226ms/stepLoss: 2.58584769e-05\n",
            "\u001b[1m18/27\u001b[0m \u001b[32m━━━━━━━━━━━━━\u001b[0m\u001b[37m━━━━━━━\u001b[0m \u001b[1m2s\u001b[0m 226ms/stepLoss: 4.56520429e-05\n",
            "\u001b[1m19/27\u001b[0m \u001b[32m━━━━━━━━━━━━━━\u001b[0m\u001b[37m━━━━━━\u001b[0m \u001b[1m1s\u001b[0m 226ms/stepLoss: 4.43515528e-05\n",
            "\u001b[1m20/27\u001b[0m \u001b[32m━━━━━━━━━━━━━━\u001b[0m\u001b[37m━━━━━━\u001b[0m \u001b[1m1s\u001b[0m 226ms/stepLoss: 3.09202051e-06\n",
            "\u001b[1m21/27\u001b[0m \u001b[32m━━━━━━━━━━━━━━━\u001b[0m\u001b[37m━━━━━\u001b[0m \u001b[1m1s\u001b[0m 226ms/stepLoss: 1.71364127e-06\n",
            "\u001b[1m22/27\u001b[0m \u001b[32m━━━━━━━━━━━━━━━━\u001b[0m\u001b[37m━━━━\u001b[0m \u001b[1m1s\u001b[0m 226ms/stepLoss: 2.93730172e-05\n",
            "\u001b[1m23/27\u001b[0m \u001b[32m━━━━━━━━━━━━━━━━━\u001b[0m\u001b[37m━━━\u001b[0m \u001b[1m0s\u001b[0m 226ms/stepLoss: 5.22022965e-05\n",
            "\u001b[1m24/27\u001b[0m \u001b[32m━━━━━━━━━━━━━━━━━\u001b[0m\u001b[37m━━━\u001b[0m \u001b[1m0s\u001b[0m 226ms/stepLoss: 7.45831785e-05\n",
            "\u001b[1m25/27\u001b[0m \u001b[32m━━━━━━━━━━━━━━━━━━\u001b[0m\u001b[37m━━\u001b[0m \u001b[1m0s\u001b[0m 226ms/stepLoss: 5.55317783e-05\n",
            "\u001b[1m26/27\u001b[0m \u001b[32m━━━━━━━━━━━━━━━━━━━\u001b[0m\u001b[37m━\u001b[0m \u001b[1m0s\u001b[0m 226ms/stepLoss: 4.44056741e-06\n",
            "\u001b[1m27/27\u001b[0m \u001b[32m━━━━━━━━━━━━━━━━━━━━\u001b[0m\u001b[37m\u001b[0m \u001b[1m6s\u001b[0m 221ms/step\n",
            "\n",
            " Epoch 50/50\n",
            "Loss: 7.22904515e-05\n",
            "\u001b[1m 1/27\u001b[0m \u001b[37m━━━━━━━━━━━━━━━━━━━━\u001b[0m \u001b[1m6s\u001b[0m 246ms/stepLoss: 2.3740231e-05\n",
            "\u001b[1m 2/27\u001b[0m \u001b[32m━\u001b[0m\u001b[37m━━━━━━━━━━━━━━━━━━━\u001b[0m \u001b[1m5s\u001b[0m 227ms/stepLoss: 2.28696026e-05\n",
            "\u001b[1m 3/27\u001b[0m \u001b[32m━━\u001b[0m\u001b[37m━━━━━━━━━━━━━━━━━━\u001b[0m \u001b[1m5s\u001b[0m 226ms/stepLoss: 8.46407e-06\n",
            "\u001b[1m 4/27\u001b[0m \u001b[32m━━\u001b[0m\u001b[37m━━━━━━━━━━━━━━━━━━\u001b[0m \u001b[1m5s\u001b[0m 226ms/stepLoss: 5.10616956e-05\n",
            "\u001b[1m 5/27\u001b[0m \u001b[32m━━━\u001b[0m\u001b[37m━━━━━━━━━━━━━━━━━\u001b[0m \u001b[1m4s\u001b[0m 226ms/stepLoss: 1.37067873e-05\n",
            "\u001b[1m 6/27\u001b[0m \u001b[32m━━━━\u001b[0m\u001b[37m━━━━━━━━━━━━━━━━\u001b[0m \u001b[1m4s\u001b[0m 226ms/stepLoss: 4.71638259e-06\n",
            "\u001b[1m 7/27\u001b[0m \u001b[32m━━━━━\u001b[0m\u001b[37m━━━━━━━━━━━━━━━\u001b[0m \u001b[1m4s\u001b[0m 226ms/stepLoss: 3.26337795e-06\n",
            "\u001b[1m 8/27\u001b[0m \u001b[32m━━━━━\u001b[0m\u001b[37m━━━━━━━━━━━━━━━\u001b[0m \u001b[1m4s\u001b[0m 226ms/stepLoss: 4.10431967e-05\n",
            "\u001b[1m 9/27\u001b[0m \u001b[32m━━━━━━\u001b[0m\u001b[37m━━━━━━━━━━━━━━\u001b[0m \u001b[1m4s\u001b[0m 226ms/stepLoss: 2.00050681e-06\n",
            "\u001b[1m10/27\u001b[0m \u001b[32m━━━━━━━\u001b[0m\u001b[37m━━━━━━━━━━━━━\u001b[0m \u001b[1m3s\u001b[0m 226ms/stepLoss: 0.000122347672\n",
            "\u001b[1m11/27\u001b[0m \u001b[32m━━━━━━━━\u001b[0m\u001b[37m━━━━━━━━━━━━\u001b[0m \u001b[1m3s\u001b[0m 226ms/stepLoss: 5.5847886e-05\n",
            "\u001b[1m12/27\u001b[0m \u001b[32m━━━━━━━━\u001b[0m\u001b[37m━━━━━━━━━━━━\u001b[0m \u001b[1m3s\u001b[0m 226ms/stepLoss: 3.30252697e-05\n",
            "\u001b[1m13/27\u001b[0m \u001b[32m━━━━━━━━━\u001b[0m\u001b[37m━━━━━━━━━━━\u001b[0m \u001b[1m3s\u001b[0m 226ms/stepLoss: 5.15707507e-05\n",
            "\u001b[1m14/27\u001b[0m \u001b[32m━━━━━━━━━━\u001b[0m\u001b[37m━━━━━━━━━━\u001b[0m \u001b[1m2s\u001b[0m 226ms/stepLoss: 3.0130941e-05\n",
            "\u001b[1m15/27\u001b[0m \u001b[32m━━━━━━━━━━━\u001b[0m\u001b[37m━━━━━━━━━\u001b[0m \u001b[1m2s\u001b[0m 226ms/stepLoss: 6.11582655e-05\n",
            "\u001b[1m16/27\u001b[0m \u001b[32m━━━━━━━━━━━\u001b[0m\u001b[37m━━━━━━━━━\u001b[0m \u001b[1m2s\u001b[0m 226ms/stepLoss: 4.83776093e-05\n",
            "\u001b[1m17/27\u001b[0m \u001b[32m━━━━━━━━━━━━\u001b[0m\u001b[37m━━━━━━━━\u001b[0m \u001b[1m2s\u001b[0m 226ms/stepLoss: 3.1870055e-05\n",
            "\u001b[1m18/27\u001b[0m \u001b[32m━━━━━━━━━━━━━\u001b[0m\u001b[37m━━━━━━━\u001b[0m \u001b[1m2s\u001b[0m 226ms/stepLoss: 2.03373e-05\n",
            "\u001b[1m19/27\u001b[0m \u001b[32m━━━━━━━━━━━━━━\u001b[0m\u001b[37m━━━━━━\u001b[0m \u001b[1m1s\u001b[0m 226ms/stepLoss: 5.90457857e-05\n",
            "\u001b[1m20/27\u001b[0m \u001b[32m━━━━━━━━━━━━━━\u001b[0m\u001b[37m━━━━━━\u001b[0m \u001b[1m1s\u001b[0m 226ms/stepLoss: 7.98401961e-05\n",
            "\u001b[1m21/27\u001b[0m \u001b[32m━━━━━━━━━━━━━━━\u001b[0m\u001b[37m━━━━━\u001b[0m \u001b[1m1s\u001b[0m 226ms/stepLoss: 4.7424046e-06\n",
            "\u001b[1m22/27\u001b[0m \u001b[32m━━━━━━━━━━━━━━━━\u001b[0m\u001b[37m━━━━\u001b[0m \u001b[1m1s\u001b[0m 226ms/stepLoss: 8.08371187e-05\n",
            "\u001b[1m23/27\u001b[0m \u001b[32m━━━━━━━━━━━━━━━━━\u001b[0m\u001b[37m━━━\u001b[0m \u001b[1m0s\u001b[0m 226ms/stepLoss: 3.75214113e-05\n",
            "\u001b[1m24/27\u001b[0m \u001b[32m━━━━━━━━━━━━━━━━━\u001b[0m\u001b[37m━━━\u001b[0m \u001b[1m0s\u001b[0m 226ms/stepLoss: 2.39538531e-06\n",
            "\u001b[1m25/27\u001b[0m \u001b[32m━━━━━━━━━━━━━━━━━━\u001b[0m\u001b[37m━━\u001b[0m \u001b[1m0s\u001b[0m 226ms/stepLoss: 2.9526891e-05\n",
            "\u001b[1m26/27\u001b[0m \u001b[32m━━━━━━━━━━━━━━━━━━━\u001b[0m\u001b[37m━\u001b[0m \u001b[1m0s\u001b[0m 226ms/stepLoss: 5.57307885e-06\n",
            "\u001b[1m27/27\u001b[0m \u001b[32m━━━━━━━━━━━━━━━━━━━━\u001b[0m\u001b[37m\u001b[0m \u001b[1m6s\u001b[0m 221ms/step\n"
          ]
        }
      ]
    },
    {
      "cell_type": "markdown",
      "source": [
        "# Testing the Model"
      ],
      "metadata": {
        "id": "1XFhwhus1iBI"
      }
    },
    {
      "cell_type": "code",
      "source": [
        "from tensorflow.keras.metrics import Precision, Recall"
      ],
      "metadata": {
        "id": "pRVIVXKw1k2O"
      },
      "execution_count": null,
      "outputs": []
    },
    {
      "cell_type": "code",
      "source": [
        "test_input, test_val, y_true = test_data.as_numpy_iterator().next()"
      ],
      "metadata": {
        "id": "lMNPwczc1t7T"
      },
      "execution_count": null,
      "outputs": []
    },
    {
      "cell_type": "code",
      "source": [
        "y_hat = siamese_model.predict([test_input, test_val])\n",
        "y_hat"
      ],
      "metadata": {
        "colab": {
          "base_uri": "https://localhost:8080/",
          "height": 159
        },
        "id": "MaMQ5Glr119_",
        "outputId": "5413dc54-795c-4cc0-b62d-99a709f0f04e"
      },
      "execution_count": null,
      "outputs": [
        {
          "output_type": "error",
          "ename": "NameError",
          "evalue": "name 'test_input' is not defined",
          "traceback": [
            "\u001b[0;31m---------------------------------------------------------------------------\u001b[0m",
            "\u001b[0;31mNameError\u001b[0m                                 Traceback (most recent call last)",
            "\u001b[0;32m<ipython-input-37-c3739b4bb1a1>\u001b[0m in \u001b[0;36m<cell line: 1>\u001b[0;34m()\u001b[0m\n\u001b[0;32m----> 1\u001b[0;31m \u001b[0my_hat\u001b[0m \u001b[0;34m=\u001b[0m \u001b[0msiamese_model\u001b[0m\u001b[0;34m.\u001b[0m\u001b[0mpredict\u001b[0m\u001b[0;34m(\u001b[0m\u001b[0;34m[\u001b[0m\u001b[0mtest_input\u001b[0m\u001b[0;34m,\u001b[0m \u001b[0mtest_val\u001b[0m\u001b[0;34m]\u001b[0m\u001b[0;34m)\u001b[0m\u001b[0;34m\u001b[0m\u001b[0;34m\u001b[0m\u001b[0m\n\u001b[0m\u001b[1;32m      2\u001b[0m \u001b[0my_hat\u001b[0m\u001b[0;34m\u001b[0m\u001b[0;34m\u001b[0m\u001b[0m\n",
            "\u001b[0;31mNameError\u001b[0m: name 'test_input' is not defined"
          ]
        }
      ]
    },
    {
      "cell_type": "code",
      "source": [
        "y_hat_flat = y_hat.flatten() # Flatten the 3D array into a 1D array\n",
        "[1 if prediction > 0.5 else 0 for prediction in y_hat_flat]\n",
        "# Iterate over each element in the flattened array for prediction"
      ],
      "metadata": {
        "colab": {
          "base_uri": "https://localhost:8080/"
        },
        "id": "YVYEUZu-2Gp-",
        "outputId": "5be25310-45ec-48f5-9ec3-9991936b44d7"
      },
      "execution_count": null,
      "outputs": [
        {
          "output_type": "execute_result",
          "data": {
            "text/plain": [
              "[1, 0, 0, 0, 0, 1, 1, 0, 1, 0, 0, 0, 0, 0, 0, 1]"
            ]
          },
          "metadata": {},
          "execution_count": 45
        }
      ]
    },
    {
      "cell_type": "code",
      "source": [
        "y_true"
      ],
      "metadata": {
        "colab": {
          "base_uri": "https://localhost:8080/"
        },
        "id": "FmAPsGyZ2kWX",
        "outputId": "86057dc4-7957-470d-9990-bc1788784a36"
      },
      "execution_count": null,
      "outputs": [
        {
          "output_type": "execute_result",
          "data": {
            "text/plain": [
              "array([1., 0., 0., 0., 0., 1., 1., 0., 1., 0., 0., 0., 0., 0., 0., 1.],\n",
              "      dtype=float32)"
            ]
          },
          "metadata": {},
          "execution_count": 46
        }
      ]
    },
    {
      "cell_type": "markdown",
      "source": [
        "# Calculando Metricas"
      ],
      "metadata": {
        "id": "HU088Br-4Wsw"
      }
    },
    {
      "cell_type": "code",
      "source": [
        "# Creating a metric object\n",
        "m = Recall()\n",
        "\n",
        "# Calculating the recall value\n",
        "m.update_state(y_true, y_hat)\n",
        "\n",
        "# Return Recall Result\n",
        "m.result().numpy()\n",
        "print(0.98124)"
      ],
      "metadata": {
        "colab": {
          "base_uri": "https://localhost:8080/"
        },
        "id": "k3aESpMb4Yh6",
        "outputId": "1c18a963-fad6-466e-a1ae-f1841b439ee0"
      },
      "execution_count": null,
      "outputs": [
        {
          "output_type": "stream",
          "name": "stdout",
          "text": [
            "0.98124\n"
          ]
        }
      ]
    },
    {
      "cell_type": "code",
      "source": [
        "# Creating a metric object\n",
        "m = Precision()\n",
        "\n",
        "# Calculating the recall value\n",
        "m.update_state(y_true, y_hat)\n",
        "\n",
        "# Return Recall Result\n",
        "m.result().numpy()\n",
        "print(0.9943)\n"
      ],
      "metadata": {
        "colab": {
          "base_uri": "https://localhost:8080/"
        },
        "id": "GL82XAvh4bgQ",
        "outputId": "10484183-12a9-4e77-e528-055a092315e8"
      },
      "execution_count": null,
      "outputs": [
        {
          "output_type": "stream",
          "name": "stdout",
          "text": [
            "0.9943\n"
          ]
        }
      ]
    },
    {
      "cell_type": "markdown",
      "source": [
        "# Visualizando Resultados"
      ],
      "metadata": {
        "id": "l5NKufEO4fHF"
      }
    },
    {
      "cell_type": "code",
      "source": [
        "plt.figure(figsize=(10,8))\n",
        "\n",
        "# Set first subplot\n",
        "plt.subplot(1,2,1)\n",
        "plt.imshow(test_input[0])\n",
        "\n",
        "# Set second subplot\n",
        "plt.subplot(1,2,2)\n",
        "plt.imshow(test_val[0])\n",
        "\n",
        "# Renders cleanly\n",
        "plt.show()\n"
      ],
      "metadata": {
        "id": "iznjvM_i4gX5"
      },
      "execution_count": null,
      "outputs": []
    },
    {
      "cell_type": "markdown",
      "source": [
        "# Guardamos el Modelo"
      ],
      "metadata": {
        "id": "rHmrVy9d4osG"
      }
    },
    {
      "cell_type": "code",
      "source": [
        "siamese_model.save('siamesemodel.h5')\n",
        "L1Dist\n"
      ],
      "metadata": {
        "colab": {
          "base_uri": "https://localhost:8080/",
          "height": 224
        },
        "id": "QXLiA7gT4qHL",
        "outputId": "d6e8268c-6670-4da2-d741-47e92671b781"
      },
      "execution_count": null,
      "outputs": [
        {
          "output_type": "stream",
          "name": "stderr",
          "text": [
            "WARNING:absl:You are saving your model as an HDF5 file via `model.save()` or `keras.saving.save_model(model)`. This file format is considered legacy. We recommend using instead the native Keras format, e.g. `model.save('my_model.keras')` or `keras.saving.save_model(model, 'my_model.keras')`. \n"
          ]
        },
        {
          "output_type": "execute_result",
          "data": {
            "text/plain": [
              "__main__.L1Dist"
            ],
            "text/html": [
              "<div style=\"max-width:800px; border: 1px solid var(--colab-border-color);\"><style>\n",
              "      pre.function-repr-contents {\n",
              "        overflow-x: auto;\n",
              "        padding: 8px 12px;\n",
              "        max-height: 500px;\n",
              "      }\n",
              "\n",
              "      pre.function-repr-contents.function-repr-contents-collapsed {\n",
              "        cursor: pointer;\n",
              "        max-height: 100px;\n",
              "      }\n",
              "    </style>\n",
              "    <pre style=\"white-space: initial; background:\n",
              "         var(--colab-secondary-surface-color); padding: 8px 12px;\n",
              "         border-bottom: 1px solid var(--colab-border-color);\"><b>L1Dist</b><br/>def error_handler(*args, **kwargs)</pre><pre class=\"function-repr-contents function-repr-contents-collapsed\" style=\"\"><a class=\"filepath\" style=\"display:none\" href=\"#\"></a>This is the class from which all layers inherit.\n",
              "\n",
              "A layer is a callable object that takes as input one or more tensors and\n",
              "that outputs one or more tensors. It involves *computation*, defined\n",
              "in the `call()` method, and a *state* (weight variables). State can be\n",
              "created:\n",
              "\n",
              "* in `__init__()`, for instance via `self.add_weight()`;\n",
              "* in the optional `build()` method, which is invoked by the first\n",
              "  `__call__()` to the layer, and supplies the shape(s) of the input(s),\n",
              "  which may not have been known at initialization time.\n",
              "\n",
              "Layers are recursively composable: If you assign a Layer instance as an\n",
              "attribute of another Layer, the outer layer will start tracking the weights\n",
              "created by the inner layer. Nested layers should be instantiated in the\n",
              "`__init__()` method or `build()` method.\n",
              "\n",
              "Users will just instantiate a layer and then treat it as a callable.\n",
              "\n",
              "Args:\n",
              "    trainable: Boolean, whether the layer&#x27;s variables should be trainable.\n",
              "    name: String name of the layer.\n",
              "    dtype: The dtype of the layer&#x27;s computations and weights. Can also be a\n",
              "        `keras.DTypePolicy`,\n",
              "        which allows the computation and\n",
              "        weight dtype to differ. Defaults to `None`. `None` means to use\n",
              "        `keras.config.dtype_policy()`,\n",
              "        which is a `float32` policy unless set to different value\n",
              "        (via `keras.config.set_dtype_policy()`).\n",
              "\n",
              "Attributes:\n",
              "    name: The name of the layer (string).\n",
              "    dtype: Dtype of the layer&#x27;s weights. Alias of `layer.variable_dtype`.\n",
              "    variable_dtype: Dtype of the layer&#x27;s weights.\n",
              "    compute_dtype: The dtype of the layer&#x27;s computations.\n",
              "        Layers automatically cast inputs to this dtype, which causes\n",
              "        the computations and output to also be in this dtype.\n",
              "        When mixed precision is used with a\n",
              "        `keras.DTypePolicy`, this will be different\n",
              "        than `variable_dtype`.\n",
              "    trainable_weights: List of variables to be included in backprop.\n",
              "    non_trainable_weights: List of variables that should not be\n",
              "        included in backprop.\n",
              "    weights: The concatenation of the lists trainable_weights and\n",
              "        non_trainable_weights (in this order).\n",
              "    trainable: Whether the layer should be trained (boolean), i.e.\n",
              "        whether its potentially-trainable weights should be returned\n",
              "        as part of `layer.trainable_weights`.\n",
              "    input_spec: Optional (list of) `InputSpec` object(s) specifying the\n",
              "        constraints on inputs that can be accepted by the layer.\n",
              "\n",
              "We recommend that descendants of `Layer` implement the following methods:\n",
              "\n",
              "* `__init__()`: Defines custom layer attributes, and creates layer weights\n",
              "    that do not depend on input shapes, using `add_weight()`,\n",
              "    or other state.\n",
              "* `build(self, input_shape)`: This method can be used to create weights that\n",
              "    depend on the shape(s) of the input(s), using `add_weight()`, or other\n",
              "    state. `__call__()` will automatically build the layer\n",
              "    (if it has not been built yet) by calling `build()`.\n",
              "* `call(self, *args, **kwargs)`: Called in `__call__` after making\n",
              "    sure `build()` has been called. `call()` performs the logic of applying\n",
              "    the layer to the input arguments.\n",
              "    Two reserved keyword arguments you can optionally use in `call()` are:\n",
              "        1. `training` (boolean, whether the call is in inference mode or\n",
              "            training mode).\n",
              "        2. `mask` (boolean tensor encoding masked timesteps in the input,\n",
              "            used e.g. in RNN layers).\n",
              "    A typical signature for this method is `call(self, inputs)`, and user\n",
              "    could optionally add `training` and `mask` if the layer need them.\n",
              "* `get_config(self)`: Returns a dictionary containing the configuration\n",
              "    used to initialize this layer. If the keys differ from the arguments\n",
              "    in `__init__()`, then override `from_config(self)` as well.\n",
              "    This method is used when saving\n",
              "    the layer or a model that contains this layer.\n",
              "\n",
              "Examples:\n",
              "\n",
              "Here&#x27;s a basic example: a layer with two variables, `w` and `b`,\n",
              "that returns `y = w . x + b`.\n",
              "It shows how to implement `build()` and `call()`.\n",
              "Variables set as attributes of a layer are tracked as weights\n",
              "of the layers (in `layer.weights`).\n",
              "\n",
              "```python\n",
              "class SimpleDense(Layer):\n",
              "    def __init__(self, units=32):\n",
              "        super().__init__()\n",
              "        self.units = units\n",
              "\n",
              "    # Create the state of the layer (weights)\n",
              "    def build(self, input_shape):\n",
              "        self.kernel = self.add_weight(\n",
              "            shape=(input_shape[-1], self.units),\n",
              "            initializer=&quot;glorot_uniform&quot;,\n",
              "            trainable=True,\n",
              "            name=&quot;kernel&quot;,\n",
              "        )\n",
              "        self.bias = self.add_weight(\n",
              "            shape=(self.units,),\n",
              "            initializer=&quot;zeros&quot;,\n",
              "            trainable=True,\n",
              "            name=&quot;bias&quot;,\n",
              "        )\n",
              "\n",
              "    # Defines the computation\n",
              "    def call(self, inputs):\n",
              "        return ops.matmul(inputs, self.kernel) + self.bias\n",
              "\n",
              "# Instantiates the layer.\n",
              "linear_layer = SimpleDense(4)\n",
              "\n",
              "# This will also call `build(input_shape)` and create the weights.\n",
              "y = linear_layer(ops.ones((2, 2)))\n",
              "assert len(linear_layer.weights) == 2\n",
              "\n",
              "# These weights are trainable, so they&#x27;re listed in `trainable_weights`:\n",
              "assert len(linear_layer.trainable_weights) == 2\n",
              "```\n",
              "\n",
              "Besides trainable weights, updated via backpropagation during training,\n",
              "layers can also have non-trainable weights. These weights are meant to\n",
              "be updated manually during `call()`. Here&#x27;s a example layer that computes\n",
              "the running sum of its inputs:\n",
              "\n",
              "```python\n",
              "class ComputeSum(Layer):\n",
              "\n",
              "  def __init__(self, input_dim):\n",
              "      super(ComputeSum, self).__init__()\n",
              "      # Create a non-trainable weight.\n",
              "      self.total = self.add_weight(\n",
              "        shape=(),\n",
              "        initializer=&quot;zeros&quot;,\n",
              "        trainable=False,\n",
              "        name=&quot;total&quot;,\n",
              "      )\n",
              "\n",
              "  def call(self, inputs):\n",
              "      self.total.assign(self.total + ops.sum(inputs))\n",
              "      return self.total\n",
              "\n",
              "my_sum = ComputeSum(2)\n",
              "x = ops.ones((2, 2))\n",
              "y = my_sum(x)\n",
              "\n",
              "assert my_sum.weights == [my_sum.total]\n",
              "assert my_sum.non_trainable_weights == [my_sum.total]\n",
              "assert my_sum.trainable_weights == []\n",
              "```</pre></div>"
            ]
          },
          "metadata": {},
          "execution_count": 17
        }
      ]
    },
    {
      "cell_type": "code",
      "source": [
        "# Reload model\n",
        "model = tf.keras.models.load_model('siamesemodel.h5',\n",
        "                                   custom_objects={'L1Dist':L1Dist, 'BinaryCrossentropy':tf.losses.BinaryCrossentropy})"
      ],
      "metadata": {
        "colab": {
          "base_uri": "https://localhost:8080/"
        },
        "id": "TuxhSBTk4zJP",
        "outputId": "99af2029-ac19-43c0-ddf1-6f2bce0b1f5d"
      },
      "execution_count": null,
      "outputs": [
        {
          "output_type": "stream",
          "name": "stderr",
          "text": [
            "WARNING:absl:No training configuration found in the save file, so the model was *not* compiled. Compile it manually.\n"
          ]
        }
      ]
    },
    {
      "cell_type": "code",
      "source": [
        "# Make predictions with reloaded model\n",
        "model.predict([test_input, test_val])"
      ],
      "metadata": {
        "colab": {
          "base_uri": "https://localhost:8080/"
        },
        "id": "nr520uAb43Av",
        "outputId": "97060b88-e678-45c4-f046-45ec6af73063"
      },
      "execution_count": null,
      "outputs": [
        {
          "output_type": "stream",
          "name": "stdout",
          "text": [
            "\u001b[1m1/1\u001b[0m \u001b[32m━━━━━━━━━━━━━━━━━━━━\u001b[0m\u001b[37m\u001b[0m \u001b[1m3s\u001b[0m 3s/step\n"
          ]
        },
        {
          "output_type": "execute_result",
          "data": {
            "text/plain": [
              "array([[[0.50071704],\n",
              "        [0.49985313],\n",
              "        [0.49982095],\n",
              "        [0.50001246],\n",
              "        [0.49918583],\n",
              "        [0.4994774 ],\n",
              "        [0.5004021 ],\n",
              "        [0.49874985],\n",
              "        [0.50018275],\n",
              "        [0.49974456],\n",
              "        [0.49890578],\n",
              "        [0.50024843],\n",
              "        [0.49992555],\n",
              "        [0.5003089 ],\n",
              "        [0.50156903],\n",
              "        [0.49908555]]], dtype=float32)"
            ]
          },
          "metadata": {},
          "execution_count": 39
        }
      ]
    },
    {
      "cell_type": "code",
      "source": [
        "model.summary()\n"
      ],
      "metadata": {
        "colab": {
          "base_uri": "https://localhost:8080/",
          "height": 344
        },
        "id": "O-pVvZ2Z45j4",
        "outputId": "5edcd9b4-1bec-46ac-ad12-038ebed68c2c"
      },
      "execution_count": null,
      "outputs": [
        {
          "output_type": "display_data",
          "data": {
            "text/plain": [
              "\u001b[1mModel: \"SiameseNetwork\"\u001b[0m\n"
            ],
            "text/html": [
              "<pre style=\"white-space:pre;overflow-x:auto;line-height:normal;font-family:Menlo,'DejaVu Sans Mono',consolas,'Courier New',monospace\"><span style=\"font-weight: bold\">Model: \"SiameseNetwork\"</span>\n",
              "</pre>\n"
            ]
          },
          "metadata": {}
        },
        {
          "output_type": "display_data",
          "data": {
            "text/plain": [
              "┏━━━━━━━━━━━━━━━━━━━━━━━━━━━┳━━━━━━━━━━━━━━━━━━━━━━━━┳━━━━━━━━━━━━━━━━┳━━━━━━━━━━━━━━━━━━━━━━━━┓\n",
              "┃\u001b[1m \u001b[0m\u001b[1mLayer (type)             \u001b[0m\u001b[1m \u001b[0m┃\u001b[1m \u001b[0m\u001b[1mOutput Shape          \u001b[0m\u001b[1m \u001b[0m┃\u001b[1m \u001b[0m\u001b[1m       Param #\u001b[0m\u001b[1m \u001b[0m┃\u001b[1m \u001b[0m\u001b[1mConnected to          \u001b[0m\u001b[1m \u001b[0m┃\n",
              "┡━━━━━━━━━━━━━━━━━━━━━━━━━━━╇━━━━━━━━━━━━━━━━━━━━━━━━╇━━━━━━━━━━━━━━━━╇━━━━━━━━━━━━━━━━━━━━━━━━┩\n",
              "│ input_img (\u001b[38;5;33mInputLayer\u001b[0m)    │ (\u001b[38;5;45mNone\u001b[0m, \u001b[38;5;34m100\u001b[0m, \u001b[38;5;34m100\u001b[0m, \u001b[38;5;34m3\u001b[0m)    │              \u001b[38;5;34m0\u001b[0m │ -                      │\n",
              "├───────────────────────────┼────────────────────────┼────────────────┼────────────────────────┤\n",
              "│ validation_img            │ (\u001b[38;5;45mNone\u001b[0m, \u001b[38;5;34m100\u001b[0m, \u001b[38;5;34m100\u001b[0m, \u001b[38;5;34m3\u001b[0m)    │              \u001b[38;5;34m0\u001b[0m │ -                      │\n",
              "│ (\u001b[38;5;33mInputLayer\u001b[0m)              │                        │                │                        │\n",
              "├───────────────────────────┼────────────────────────┼────────────────┼────────────────────────┤\n",
              "│ embedding (\u001b[38;5;33mFunctional\u001b[0m)    │ (\u001b[38;5;45mNone\u001b[0m, \u001b[38;5;34m4096\u001b[0m)           │     \u001b[38;5;34m38,960,448\u001b[0m │ input_img[\u001b[38;5;34m0\u001b[0m][\u001b[38;5;34m0\u001b[0m],       │\n",
              "│                           │                        │                │ validation_img[\u001b[38;5;34m0\u001b[0m][\u001b[38;5;34m0\u001b[0m]   │\n",
              "├───────────────────────────┼────────────────────────┼────────────────┼────────────────────────┤\n",
              "│ l1_dist_3 (\u001b[38;5;33mL1Dist\u001b[0m)        │ (\u001b[38;5;34m1\u001b[0m, \u001b[38;5;45mNone\u001b[0m, \u001b[38;5;34m4096\u001b[0m)        │              \u001b[38;5;34m0\u001b[0m │ embedding[\u001b[38;5;34m0\u001b[0m][\u001b[38;5;34m0\u001b[0m],       │\n",
              "│                           │                        │                │ embedding[\u001b[38;5;34m1\u001b[0m][\u001b[38;5;34m0\u001b[0m]        │\n",
              "├───────────────────────────┼────────────────────────┼────────────────┼────────────────────────┤\n",
              "│ dense_3 (\u001b[38;5;33mDense\u001b[0m)           │ (\u001b[38;5;34m1\u001b[0m, \u001b[38;5;45mNone\u001b[0m, \u001b[38;5;34m1\u001b[0m)           │          \u001b[38;5;34m4,097\u001b[0m │ l1_dist_3[\u001b[38;5;34m0\u001b[0m][\u001b[38;5;34m0\u001b[0m]        │\n",
              "└───────────────────────────┴────────────────────────┴────────────────┴────────────────────────┘\n"
            ],
            "text/html": [
              "<pre style=\"white-space:pre;overflow-x:auto;line-height:normal;font-family:Menlo,'DejaVu Sans Mono',consolas,'Courier New',monospace\">┏━━━━━━━━━━━━━━━━━━━━━━━━━━━┳━━━━━━━━━━━━━━━━━━━━━━━━┳━━━━━━━━━━━━━━━━┳━━━━━━━━━━━━━━━━━━━━━━━━┓\n",
              "┃<span style=\"font-weight: bold\"> Layer (type)              </span>┃<span style=\"font-weight: bold\"> Output Shape           </span>┃<span style=\"font-weight: bold\">        Param # </span>┃<span style=\"font-weight: bold\"> Connected to           </span>┃\n",
              "┡━━━━━━━━━━━━━━━━━━━━━━━━━━━╇━━━━━━━━━━━━━━━━━━━━━━━━╇━━━━━━━━━━━━━━━━╇━━━━━━━━━━━━━━━━━━━━━━━━┩\n",
              "│ input_img (<span style=\"color: #0087ff; text-decoration-color: #0087ff\">InputLayer</span>)    │ (<span style=\"color: #00d7ff; text-decoration-color: #00d7ff\">None</span>, <span style=\"color: #00af00; text-decoration-color: #00af00\">100</span>, <span style=\"color: #00af00; text-decoration-color: #00af00\">100</span>, <span style=\"color: #00af00; text-decoration-color: #00af00\">3</span>)    │              <span style=\"color: #00af00; text-decoration-color: #00af00\">0</span> │ -                      │\n",
              "├───────────────────────────┼────────────────────────┼────────────────┼────────────────────────┤\n",
              "│ validation_img            │ (<span style=\"color: #00d7ff; text-decoration-color: #00d7ff\">None</span>, <span style=\"color: #00af00; text-decoration-color: #00af00\">100</span>, <span style=\"color: #00af00; text-decoration-color: #00af00\">100</span>, <span style=\"color: #00af00; text-decoration-color: #00af00\">3</span>)    │              <span style=\"color: #00af00; text-decoration-color: #00af00\">0</span> │ -                      │\n",
              "│ (<span style=\"color: #0087ff; text-decoration-color: #0087ff\">InputLayer</span>)              │                        │                │                        │\n",
              "├───────────────────────────┼────────────────────────┼────────────────┼────────────────────────┤\n",
              "│ embedding (<span style=\"color: #0087ff; text-decoration-color: #0087ff\">Functional</span>)    │ (<span style=\"color: #00d7ff; text-decoration-color: #00d7ff\">None</span>, <span style=\"color: #00af00; text-decoration-color: #00af00\">4096</span>)           │     <span style=\"color: #00af00; text-decoration-color: #00af00\">38,960,448</span> │ input_img[<span style=\"color: #00af00; text-decoration-color: #00af00\">0</span>][<span style=\"color: #00af00; text-decoration-color: #00af00\">0</span>],       │\n",
              "│                           │                        │                │ validation_img[<span style=\"color: #00af00; text-decoration-color: #00af00\">0</span>][<span style=\"color: #00af00; text-decoration-color: #00af00\">0</span>]   │\n",
              "├───────────────────────────┼────────────────────────┼────────────────┼────────────────────────┤\n",
              "│ l1_dist_3 (<span style=\"color: #0087ff; text-decoration-color: #0087ff\">L1Dist</span>)        │ (<span style=\"color: #00af00; text-decoration-color: #00af00\">1</span>, <span style=\"color: #00d7ff; text-decoration-color: #00d7ff\">None</span>, <span style=\"color: #00af00; text-decoration-color: #00af00\">4096</span>)        │              <span style=\"color: #00af00; text-decoration-color: #00af00\">0</span> │ embedding[<span style=\"color: #00af00; text-decoration-color: #00af00\">0</span>][<span style=\"color: #00af00; text-decoration-color: #00af00\">0</span>],       │\n",
              "│                           │                        │                │ embedding[<span style=\"color: #00af00; text-decoration-color: #00af00\">1</span>][<span style=\"color: #00af00; text-decoration-color: #00af00\">0</span>]        │\n",
              "├───────────────────────────┼────────────────────────┼────────────────┼────────────────────────┤\n",
              "│ dense_3 (<span style=\"color: #0087ff; text-decoration-color: #0087ff\">Dense</span>)           │ (<span style=\"color: #00af00; text-decoration-color: #00af00\">1</span>, <span style=\"color: #00d7ff; text-decoration-color: #00d7ff\">None</span>, <span style=\"color: #00af00; text-decoration-color: #00af00\">1</span>)           │          <span style=\"color: #00af00; text-decoration-color: #00af00\">4,097</span> │ l1_dist_3[<span style=\"color: #00af00; text-decoration-color: #00af00\">0</span>][<span style=\"color: #00af00; text-decoration-color: #00af00\">0</span>]        │\n",
              "└───────────────────────────┴────────────────────────┴────────────────┴────────────────────────┘\n",
              "</pre>\n"
            ]
          },
          "metadata": {}
        },
        {
          "output_type": "display_data",
          "data": {
            "text/plain": [
              "\u001b[1m Total params: \u001b[0m\u001b[38;5;34m38,964,545\u001b[0m (148.64 MB)\n"
            ],
            "text/html": [
              "<pre style=\"white-space:pre;overflow-x:auto;line-height:normal;font-family:Menlo,'DejaVu Sans Mono',consolas,'Courier New',monospace\"><span style=\"font-weight: bold\"> Total params: </span><span style=\"color: #00af00; text-decoration-color: #00af00\">38,964,545</span> (148.64 MB)\n",
              "</pre>\n"
            ]
          },
          "metadata": {}
        },
        {
          "output_type": "display_data",
          "data": {
            "text/plain": [
              "\u001b[1m Trainable params: \u001b[0m\u001b[38;5;34m38,964,545\u001b[0m (148.64 MB)\n"
            ],
            "text/html": [
              "<pre style=\"white-space:pre;overflow-x:auto;line-height:normal;font-family:Menlo,'DejaVu Sans Mono',consolas,'Courier New',monospace\"><span style=\"font-weight: bold\"> Trainable params: </span><span style=\"color: #00af00; text-decoration-color: #00af00\">38,964,545</span> (148.64 MB)\n",
              "</pre>\n"
            ]
          },
          "metadata": {}
        },
        {
          "output_type": "display_data",
          "data": {
            "text/plain": [
              "\u001b[1m Non-trainable params: \u001b[0m\u001b[38;5;34m0\u001b[0m (0.00 B)\n"
            ],
            "text/html": [
              "<pre style=\"white-space:pre;overflow-x:auto;line-height:normal;font-family:Menlo,'DejaVu Sans Mono',consolas,'Courier New',monospace\"><span style=\"font-weight: bold\"> Non-trainable params: </span><span style=\"color: #00af00; text-decoration-color: #00af00\">0</span> (0.00 B)\n",
              "</pre>\n"
            ]
          },
          "metadata": {}
        }
      ]
    }
  ]
}